{
 "cells": [
  {
   "cell_type": "code",
   "execution_count": 1,
   "metadata": {},
   "outputs": [],
   "source": [
    "import os, sys, json\n",
    "import pandas as pd\n",
    "import numpy as np\n",
    "import h5py\n",
    "from pymongo import MongoClient\n",
    "import requests\n",
    "\n",
    "from cmapPy import pandasGEXpress as pdGEX\n",
    "from cmapPy.pandasGEXpress import write_gctx as write_gctx\n",
    "\n",
    "def file2list(fn, idx, sep='\\t', header=False):\n",
    "\t\"\"\"read a file into a list\"\"\"\n",
    "\tl = []\n",
    "\twith open (fn, 'r') as f:\n",
    "\t\tif header:\n",
    "\t\t\tnext(f)\n",
    "\t\tfor line in f:\n",
    "\t\t\tif not line.startswith('#'):\n",
    "\t\t\t\tsl = line.strip().split(sep)\n",
    "\t\t\t\tt = sl[idx]\n",
    "\t\t\t\tl.append(t)\n",
    "\treturn l\n",
    "RURL = 'http://146.203.54.239:31722/custom/SigineDMOA'\n",
    "MONGOURI = 'mongodb://146.203.54.131:27017/L1000FWD'\n",
    "\n",
    "client = MongoClient(MONGOURI)\n",
    "DB = client['L1000FWD']\n",
    "COLL_SIG = DB['sigs']"
   ]
  },
  {
   "cell_type": "code",
   "execution_count": 2,
   "metadata": {},
   "outputs": [
    {
     "name": "stdout",
     "output_type": "stream",
     "text": [
      "42809\n",
      "[u'AML001_CD34_6H:BRD-K43389675:10', u'AML001_PC3_6H:BRD-A19037878:0.37037', u'AML001_PC3_6H:BRD-A19037878:1.11111', u'AML001_PC3_6H:BRD-A19037878:10', u'AML001_PC3_6H:BRD-A19037878:3.33333', u'AML001_PC3_6H:BRD-A19500257:0.37037', u'AML001_PC3_6H:BRD-A19500257:1.11111', u'AML001_PC3_6H:BRD-A19500257:10', u'AML001_PC3_6H:BRD-A19500257:3.33333', u'AML001_PC3_6H:BRD-A45664787:10']\n"
     ]
    }
   ],
   "source": [
    "# Get the list of sig_ids from the API\n",
    "all_sig_ids = requests.get('http://amp.pharm.mssm.edu/L1000FWD/sig_ids')\n",
    "all_sig_ids = all_sig_ids.json()['sig_ids']\n",
    "print len(all_sig_ids)\n",
    "print all_sig_ids[:10]\n"
   ]
  },
  {
   "cell_type": "code",
   "execution_count": 8,
   "metadata": {
    "scrolled": true
   },
   "outputs": [
    {
     "name": "stdout",
     "output_type": "stream",
     "text": [
      "(42809, 8)\n"
     ]
    },
    {
     "data": {
      "text/html": [
       "<div>\n",
       "<style scoped>\n",
       "    .dataframe tbody tr th:only-of-type {\n",
       "        vertical-align: middle;\n",
       "    }\n",
       "\n",
       "    .dataframe tbody tr th {\n",
       "        vertical-align: top;\n",
       "    }\n",
       "\n",
       "    .dataframe thead th {\n",
       "        text-align: right;\n",
       "    }\n",
       "</style>\n",
       "<table border=\"1\" class=\"dataframe\">\n",
       "  <thead>\n",
       "    <tr style=\"text-align: right;\">\n",
       "      <th></th>\n",
       "      <th>SCS_centered_by_batch</th>\n",
       "      <th>batch</th>\n",
       "      <th>cell_id</th>\n",
       "      <th>mean_cosine_dist_centered_by_batch</th>\n",
       "      <th>pert_desc</th>\n",
       "      <th>pert_dose</th>\n",
       "      <th>pert_id</th>\n",
       "      <th>pert_time</th>\n",
       "    </tr>\n",
       "    <tr>\n",
       "      <th>sig_id</th>\n",
       "      <th></th>\n",
       "      <th></th>\n",
       "      <th></th>\n",
       "      <th></th>\n",
       "      <th></th>\n",
       "      <th></th>\n",
       "      <th></th>\n",
       "      <th></th>\n",
       "    </tr>\n",
       "  </thead>\n",
       "  <tbody>\n",
       "    <tr>\n",
       "      <th>AML001_CD34_6H:BRD-K43389675:10</th>\n",
       "      <td>0.0</td>\n",
       "      <td>AML001_CD34_6H</td>\n",
       "      <td>CD34</td>\n",
       "      <td>0.853471</td>\n",
       "      <td>DAUNORUBICIN</td>\n",
       "      <td>10.00000</td>\n",
       "      <td>BRD-K43389675</td>\n",
       "      <td>6.0</td>\n",
       "    </tr>\n",
       "    <tr>\n",
       "      <th>AML001_PC3_6H:BRD-A19037878:0.37037</th>\n",
       "      <td>0.0</td>\n",
       "      <td>AML001_PC3_6H</td>\n",
       "      <td>PC3</td>\n",
       "      <td>0.505995</td>\n",
       "      <td>TRICHOSTATIN_A</td>\n",
       "      <td>0.37037</td>\n",
       "      <td>BRD-A19037878</td>\n",
       "      <td>6.0</td>\n",
       "    </tr>\n",
       "    <tr>\n",
       "      <th>AML001_PC3_6H:BRD-A19037878:1.11111</th>\n",
       "      <td>0.0</td>\n",
       "      <td>AML001_PC3_6H</td>\n",
       "      <td>PC3</td>\n",
       "      <td>0.676204</td>\n",
       "      <td>TRICHOSTATIN_A</td>\n",
       "      <td>1.11111</td>\n",
       "      <td>BRD-A19037878</td>\n",
       "      <td>6.0</td>\n",
       "    </tr>\n",
       "    <tr>\n",
       "      <th>AML001_PC3_6H:BRD-A19037878:10</th>\n",
       "      <td>0.0</td>\n",
       "      <td>AML001_PC3_6H</td>\n",
       "      <td>PC3</td>\n",
       "      <td>0.747633</td>\n",
       "      <td>TRICHOSTATIN_A</td>\n",
       "      <td>10.00000</td>\n",
       "      <td>BRD-A19037878</td>\n",
       "      <td>6.0</td>\n",
       "    </tr>\n",
       "    <tr>\n",
       "      <th>AML001_PC3_6H:BRD-A19037878:3.33333</th>\n",
       "      <td>0.0</td>\n",
       "      <td>AML001_PC3_6H</td>\n",
       "      <td>PC3</td>\n",
       "      <td>0.659851</td>\n",
       "      <td>TRICHOSTATIN_A</td>\n",
       "      <td>3.33333</td>\n",
       "      <td>BRD-A19037878</td>\n",
       "      <td>6.0</td>\n",
       "    </tr>\n",
       "  </tbody>\n",
       "</table>\n",
       "</div>"
      ],
      "text/plain": [
       "                                     SCS_centered_by_batch           batch  \\\n",
       "sig_id                                                                       \n",
       "AML001_CD34_6H:BRD-K43389675:10                        0.0  AML001_CD34_6H   \n",
       "AML001_PC3_6H:BRD-A19037878:0.37037                    0.0   AML001_PC3_6H   \n",
       "AML001_PC3_6H:BRD-A19037878:1.11111                    0.0   AML001_PC3_6H   \n",
       "AML001_PC3_6H:BRD-A19037878:10                         0.0   AML001_PC3_6H   \n",
       "AML001_PC3_6H:BRD-A19037878:3.33333                    0.0   AML001_PC3_6H   \n",
       "\n",
       "                                    cell_id  \\\n",
       "sig_id                                        \n",
       "AML001_CD34_6H:BRD-K43389675:10        CD34   \n",
       "AML001_PC3_6H:BRD-A19037878:0.37037     PC3   \n",
       "AML001_PC3_6H:BRD-A19037878:1.11111     PC3   \n",
       "AML001_PC3_6H:BRD-A19037878:10          PC3   \n",
       "AML001_PC3_6H:BRD-A19037878:3.33333     PC3   \n",
       "\n",
       "                                     mean_cosine_dist_centered_by_batch  \\\n",
       "sig_id                                                                    \n",
       "AML001_CD34_6H:BRD-K43389675:10                                0.853471   \n",
       "AML001_PC3_6H:BRD-A19037878:0.37037                            0.505995   \n",
       "AML001_PC3_6H:BRD-A19037878:1.11111                            0.676204   \n",
       "AML001_PC3_6H:BRD-A19037878:10                                 0.747633   \n",
       "AML001_PC3_6H:BRD-A19037878:3.33333                            0.659851   \n",
       "\n",
       "                                          pert_desc  pert_dose        pert_id  \\\n",
       "sig_id                                                                          \n",
       "AML001_CD34_6H:BRD-K43389675:10        DAUNORUBICIN   10.00000  BRD-K43389675   \n",
       "AML001_PC3_6H:BRD-A19037878:0.37037  TRICHOSTATIN_A    0.37037  BRD-A19037878   \n",
       "AML001_PC3_6H:BRD-A19037878:1.11111  TRICHOSTATIN_A    1.11111  BRD-A19037878   \n",
       "AML001_PC3_6H:BRD-A19037878:10       TRICHOSTATIN_A   10.00000  BRD-A19037878   \n",
       "AML001_PC3_6H:BRD-A19037878:3.33333  TRICHOSTATIN_A    3.33333  BRD-A19037878   \n",
       "\n",
       "                                     pert_time  \n",
       "sig_id                                          \n",
       "AML001_CD34_6H:BRD-K43389675:10            6.0  \n",
       "AML001_PC3_6H:BRD-A19037878:0.37037        6.0  \n",
       "AML001_PC3_6H:BRD-A19037878:1.11111        6.0  \n",
       "AML001_PC3_6H:BRD-A19037878:10             6.0  \n",
       "AML001_PC3_6H:BRD-A19037878:3.33333        6.0  "
      ]
     },
     "execution_count": 8,
     "metadata": {},
     "output_type": "execute_result"
    }
   ],
   "source": [
    "# Get sig_meta\n",
    "sig_meta_df = [doc for doc in \n",
    "               COLL_SIG.find(\n",
    "                   {'sig_id': {'$in': all_sig_ids}},\n",
    "                   {\n",
    "                       '_id':False,\n",
    "                       'cell_id':True,\n",
    "                       'batch':True,\n",
    "                       'pert_dose':True,\n",
    "                       'pert_desc':True,\n",
    "                       'pert_id':True,\n",
    "                       'sig_id':True,\n",
    "                       'pert_time':True,\n",
    "                       'SCS_centered_by_batch':True,\n",
    "                       'mean_cosine_dist_centered_by_batch':True,\n",
    "                   })]\n",
    "sig_meta_df = pd.DataFrame(sig_meta_df).set_index('sig_id')\n",
    "sig_meta_df = sig_meta_df.loc[all_sig_ids]\n",
    "print sig_meta_df.shape\n",
    "sig_meta_df.head()"
   ]
  },
  {
   "cell_type": "code",
   "execution_count": null,
   "metadata": {},
   "outputs": [],
   "source": [
    "# Convert dtype to str\n",
    "for col in sig_meta_df.columns:\n",
    "    if sig_meta_df.dtypes[col] == object:\n",
    "        sig_meta_df[col] = sig_meta_df[col].astype(str)"
   ]
  },
  {
   "cell_type": "code",
   "execution_count": 3,
   "metadata": {},
   "outputs": [
    {
     "name": "stdout",
     "output_type": "stream",
     "text": [
      "22268 978\n"
     ]
    }
   ],
   "source": [
    "# Get ordered probes\n",
    "PROBES = json.load(open('../data/rid.json', 'rb'))\n",
    "PROBES_LM1000 = file2list('../data/rid_lm1000.txt', 0)\n",
    "print len(PROBES), len(PROBES_LM1000)"
   ]
  },
  {
   "cell_type": "code",
   "execution_count": 63,
   "metadata": {},
   "outputs": [
    {
     "name": "stdout",
     "output_type": "stream",
     "text": [
      "(22269, 2)\n",
      "(22269, 1)\n"
     ]
    },
    {
     "data": {
      "text/html": [
       "<div>\n",
       "<style scoped>\n",
       "    .dataframe tbody tr th:only-of-type {\n",
       "        vertical-align: middle;\n",
       "    }\n",
       "\n",
       "    .dataframe tbody tr th {\n",
       "        vertical-align: top;\n",
       "    }\n",
       "\n",
       "    .dataframe thead th {\n",
       "        text-align: right;\n",
       "    }\n",
       "</style>\n",
       "<table border=\"1\" class=\"dataframe\">\n",
       "  <thead>\n",
       "    <tr style=\"text-align: right;\">\n",
       "      <th></th>\n",
       "      <th>pr_gene_symbol</th>\n",
       "    </tr>\n",
       "    <tr>\n",
       "      <th>pr_id</th>\n",
       "      <th></th>\n",
       "    </tr>\n",
       "  </thead>\n",
       "  <tbody>\n",
       "    <tr>\n",
       "      <th>202938_x_at</th>\n",
       "      <td>NaN</td>\n",
       "    </tr>\n",
       "    <tr>\n",
       "      <th>204006_s_at</th>\n",
       "      <td>NaN</td>\n",
       "    </tr>\n",
       "    <tr>\n",
       "      <th>204060_s_at</th>\n",
       "      <td>NaN</td>\n",
       "    </tr>\n",
       "    <tr>\n",
       "      <th>204419_x_at</th>\n",
       "      <td>NaN</td>\n",
       "    </tr>\n",
       "    <tr>\n",
       "      <th>204438_at</th>\n",
       "      <td>NaN</td>\n",
       "    </tr>\n",
       "  </tbody>\n",
       "</table>\n",
       "</div>"
      ],
      "text/plain": [
       "            pr_gene_symbol\n",
       "pr_id                     \n",
       "202938_x_at            NaN\n",
       "204006_s_at            NaN\n",
       "204060_s_at            NaN\n",
       "204419_x_at            NaN\n",
       "204438_at              NaN"
      ]
     },
     "execution_count": 63,
     "metadata": {},
     "output_type": "execute_result"
    }
   ],
   "source": [
    "COLL_GENES = client['LINCS_L1000_limma']['geneinfo']\n",
    "cur = COLL_GENES.find({}, {'_id':False ,'pr_id':True, 'pr_gene_symbol':True})\n",
    "probes2genes = pd.DataFrame([doc for doc in cur])\n",
    "print probes2genes.shape\n",
    "\n",
    "probes2genes = probes2genes.replace({'-666': np.nan}).set_index('pr_id')\n",
    "print probes2genes.shape\n",
    "probes2genes.head()"
   ]
  },
  {
   "cell_type": "code",
   "execution_count": 65,
   "metadata": {},
   "outputs": [
    {
     "data": {
      "text/plain": [
       "(22268, 1)"
      ]
     },
     "execution_count": 65,
     "metadata": {},
     "output_type": "execute_result"
    }
   ],
   "source": [
    "probes2genes.loc[PROBES].shape"
   ]
  },
  {
   "cell_type": "code",
   "execution_count": 10,
   "metadata": {
    "scrolled": true
   },
   "outputs": [
    {
     "name": "stdout",
     "output_type": "stream",
     "text": [
      "0 42809\n",
      "500 42809\n",
      "1000 42809\n",
      "1500 42809\n",
      "2000 42809\n",
      "2500 42809\n",
      "3000 42809\n",
      "3500 42809\n",
      "4000 42809\n",
      "4500 42809\n",
      "5000 42809\n",
      "5500 42809\n",
      "6000 42809\n",
      "6500 42809\n",
      "7000 42809\n",
      "7500 42809\n",
      "8000 42809\n",
      "8500 42809\n",
      "9000 42809\n",
      "9500 42809\n",
      "10000 42809\n",
      "10500 42809\n",
      "11000 42809\n",
      "11500 42809\n",
      "12000 42809\n",
      "12500 42809\n",
      "13000 42809\n",
      "13500 42809\n",
      "14000 42809\n",
      "14500 42809\n",
      "15000 42809\n",
      "15500 42809\n",
      "16000 42809\n",
      "16500 42809\n",
      "17000 42809\n",
      "17500 42809\n",
      "18000 42809\n",
      "18500 42809\n",
      "19000 42809\n",
      "19500 42809\n",
      "20000 42809\n",
      "20500 42809\n",
      "21000 42809\n",
      "21500 42809\n",
      "22000 42809\n",
      "22500 42809\n",
      "23000 42809\n",
      "23500 42809\n",
      "24000 42809\n",
      "24500 42809\n",
      "25000 42809\n",
      "25500 42809\n",
      "26000 42809\n",
      "26500 42809\n",
      "27000 42809\n",
      "27500 42809\n",
      "28000 42809\n",
      "28500 42809\n",
      "29000 42809\n",
      "29500 42809\n",
      "30000 42809\n",
      "30500 42809\n",
      "31000 42809\n",
      "31500 42809\n",
      "32000 42809\n",
      "32500 42809\n",
      "33000 42809\n",
      "33500 42809\n",
      "34000 42809\n",
      "34500 42809\n",
      "35000 42809\n",
      "35500 42809\n",
      "36000 42809\n",
      "36500 42809\n",
      "37000 42809\n",
      "37500 42809\n",
      "38000 42809\n",
      "38500 42809\n",
      "39000 42809\n",
      "39500 42809\n",
      "40000 42809\n",
      "40500 42809\n",
      "41000 42809\n",
      "41500 42809\n",
      "42000 42809\n",
      "42500 42809\n"
     ]
    }
   ],
   "source": [
    "# Get the CD matrices (full and lm)\n",
    "cd_mat_lm = np.zeros((len(all_sig_ids), 978), dtype=np.float)\n",
    "cd_mat_full = np.zeros((len(all_sig_ids), 22268), dtype=np.float)\n",
    "\n",
    "for i, sig_id in enumerate(all_sig_ids):\n",
    "    doc = COLL_SIG.find_one({'sig_id': sig_id}, \n",
    "        {'_id':False,\n",
    "        'CD_center_LM':True,\n",
    "        'CD_center_Full':True,\n",
    "        })\n",
    "\n",
    "    cd_mat_lm[i] = doc['CD_center_LM']\n",
    "    cd_mat_full[i] = doc['CD_center_Full']\n",
    "    if i % 500 == 0:\n",
    "        print i, len(all_sig_ids)\n"
   ]
  },
  {
   "cell_type": "code",
   "execution_count": null,
   "metadata": {},
   "outputs": [],
   "source": []
  },
  {
   "cell_type": "code",
   "execution_count": 49,
   "metadata": {
    "scrolled": true
   },
   "outputs": [],
   "source": [
    "# Create gct object\n",
    "gctoo_full = pdGEX.GCToo.GCToo(pd.DataFrame(cd_mat_full, columns=PROBES, index=all_sig_ids), \n",
    "                              col_metadata_df=pd.DataFrame(index=PROBES), \n",
    "                              row_metadata_df=sig_meta_df,\n",
    "                              make_multiindex=True)\n",
    "# write gct object to gctx file\n",
    "write_gctx.write(gctoo_full, \"../data/download/CD_signatures_full_%dx%d\" % gctoo_full.data_df.shape)"
   ]
  },
  {
   "cell_type": "code",
   "execution_count": 51,
   "metadata": {},
   "outputs": [],
   "source": [
    "# Create gct object\n",
    "gctoo_lm = pdGEX.GCToo.GCToo(pd.DataFrame(cd_mat_lm, columns=PROBES_LM1000, index=all_sig_ids), \n",
    "                              col_metadata_df=pd.DataFrame(index=PROBES_LM1000), \n",
    "                              row_metadata_df=sig_meta_df,\n",
    "                              make_multiindex=True)\n",
    "# write gct object to gctx file\n",
    "write_gctx.write(gctoo_lm, \"../data/download/CD_signatures_LM_%dx%d\" % gctoo_lm.data_df.shape)"
   ]
  },
  {
   "cell_type": "code",
   "execution_count": 52,
   "metadata": {},
   "outputs": [],
   "source": [
    "del gctoo_full, gctoo_lm"
   ]
  },
  {
   "cell_type": "code",
   "execution_count": 54,
   "metadata": {},
   "outputs": [
    {
     "name": "stdout",
     "output_type": "stream",
     "text": [
      "(42809, 42809)\n",
      "1.5711884356"
     ]
    },
    {
     "ename": "NameError",
     "evalue": "name 'adj_max' is not defined",
     "output_type": "error",
     "traceback": [
      "\u001b[0;31m---------------------------------------------------------------------------\u001b[0m",
      "\u001b[0;31mNameError\u001b[0m                                 Traceback (most recent call last)",
      "\u001b[0;32m<ipython-input-54-dc0a5bec6fde>\u001b[0m in \u001b[0;36m<module>\u001b[0;34m()\u001b[0m\n\u001b[1;32m      3\u001b[0m \u001b[0madj_mat\u001b[0m \u001b[0;34m=\u001b[0m \u001b[0mpairwise_distances\u001b[0m\u001b[0;34m(\u001b[0m\u001b[0mcd_mat_lm\u001b[0m\u001b[0;34m,\u001b[0m \u001b[0mmetric\u001b[0m\u001b[0;34m=\u001b[0m\u001b[0;34m'cosine'\u001b[0m\u001b[0;34m)\u001b[0m\u001b[0;34m\u001b[0m\u001b[0m\n\u001b[1;32m      4\u001b[0m \u001b[0;32mprint\u001b[0m \u001b[0madj_mat\u001b[0m\u001b[0;34m.\u001b[0m\u001b[0mshape\u001b[0m\u001b[0;34m\u001b[0m\u001b[0m\n\u001b[0;32m----> 5\u001b[0;31m \u001b[0;32mprint\u001b[0m \u001b[0madj_mat\u001b[0m\u001b[0;34m.\u001b[0m\u001b[0mmax\u001b[0m\u001b[0;34m(\u001b[0m\u001b[0;34m)\u001b[0m\u001b[0;34m,\u001b[0m \u001b[0madj_max\u001b[0m\u001b[0;34m.\u001b[0m\u001b[0mmin\u001b[0m\u001b[0;34m(\u001b[0m\u001b[0;34m)\u001b[0m\u001b[0;34m\u001b[0m\u001b[0m\n\u001b[0m",
      "\u001b[0;31mNameError\u001b[0m: name 'adj_max' is not defined"
     ]
    }
   ],
   "source": [
    "# compute adj_mat\n",
    "from sklearn.metrics import pairwise_distances\n",
    "adj_mat = pairwise_distances(cd_mat_lm, metric='cosine')\n",
    "print adj_mat.shape\n"
   ]
  },
  {
   "cell_type": "code",
   "execution_count": 55,
   "metadata": {},
   "outputs": [
    {
     "name": "stdout",
     "output_type": "stream",
     "text": [
      " 1.5711884356 0.0\n"
     ]
    }
   ],
   "source": [
    "print adj_mat.max(), adj_mat.min()"
   ]
  },
  {
   "cell_type": "code",
   "execution_count": 56,
   "metadata": {},
   "outputs": [
    {
     "name": "stdout",
     "output_type": "stream",
     "text": [
      "1.0 -0.571188435598\n"
     ]
    }
   ],
   "source": [
    "adj_mat = 1- adj_mat\n",
    "print adj_mat.max(), adj_mat.min()"
   ]
  },
  {
   "cell_type": "code",
   "execution_count": 57,
   "metadata": {},
   "outputs": [],
   "source": [
    "gctoo_adj_mat = pdGEX.GCToo.GCToo(pd.DataFrame(adj_mat, columns=all_sig_ids, index=all_sig_ids),\n",
    "                                  row_metadata_df=sig_meta_df,\n",
    "                                  col_metadata_df=sig_meta_df,\n",
    "                                  make_multiindex=True\n",
    "                                 )\n",
    "write_gctx.write(gctoo_adj_mat, \"../data/download/Adjacency_matrix_LM_space_%dx%d\" % gctoo_adj_mat.data_df.shape)"
   ]
  },
  {
   "cell_type": "code",
   "execution_count": 60,
   "metadata": {},
   "outputs": [],
   "source": [
    "del gctoo_adj_mat "
   ]
  },
  {
   "cell_type": "code",
   "execution_count": 62,
   "metadata": {},
   "outputs": [],
   "source": [
    "# Write metadata dfs\n",
    "sig_meta_df.to_csv('../data/download/CD_signature_metadata.csv')"
   ]
  },
  {
   "cell_type": "code",
   "execution_count": 66,
   "metadata": {},
   "outputs": [],
   "source": [
    "probes2genes.loc[PROBES_LM1000].to_csv('../data/download/Probes_L1000_metadata.csv')\n",
    "probes2genes.loc[PROBES].to_csv('../data/download/Probes_full_metadata.csv')"
   ]
  }
 ],
 "metadata": {
  "kernelspec": {
   "display_name": "Python 2",
   "language": "python",
   "name": "python2"
  },
  "language_info": {
   "codemirror_mode": {
    "name": "ipython",
    "version": 2
   },
   "file_extension": ".py",
   "mimetype": "text/x-python",
   "name": "python",
   "nbconvert_exporter": "python",
   "pygments_lexer": "ipython2",
   "version": "2.7.10"
  }
 },
 "nbformat": 4,
 "nbformat_minor": 2
}
