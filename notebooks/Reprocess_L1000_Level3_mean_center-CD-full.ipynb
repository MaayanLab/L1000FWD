{
 "cells": [
  {
   "cell_type": "code",
   "execution_count": 1,
   "metadata": {
    "collapsed": true
   },
   "outputs": [],
   "source": [
    "'''\n",
    "To compute CD signatures for LINCS L1000 level3 data using \n",
    "all profiles in the same batch as controls\n",
    "and add results to mongodb.\n",
    "''' \n",
    "import os, sys, json\n",
    "import h5py\n",
    "from pymongo import MongoClient\n",
    "import geode\n",
    "\n",
    "def file2list(fn, idx, sep='\\t', header=False):\n",
    "\t\"\"\"read a file into a list\"\"\"\n",
    "\tl = []\n",
    "\twith open (fn, 'r') as f:\n",
    "\t\tif header:\n",
    "\t\t\tnext(f)\n",
    "\t\tfor line in f:\n",
    "\t\t\tif not line.startswith('#'):\n",
    "\t\t\t\tsl = line.strip().split(sep)\n",
    "\t\t\t\tt = sl[idx]\n",
    "\t\t\t\tl.append(t)\n",
    "\treturn l\n"
   ]
  },
  {
   "cell_type": "code",
   "execution_count": 2,
   "metadata": {
    "collapsed": true
   },
   "outputs": [],
   "source": [
    "import numpy as np\n",
    "import pandas as pd"
   ]
  },
  {
   "cell_type": "markdown",
   "metadata": {},
   "source": [
    "# 0. Load LINCS L1000 level 3 data from gctx file and made function to subset this matrix by probe_ids and sample_ids"
   ]
  },
  {
   "cell_type": "code",
   "execution_count": 3,
   "metadata": {},
   "outputs": [
    {
     "name": "stdout",
     "output_type": "stream",
     "text": [
      "22268 978\n",
      "[u'200814_at', u'222103_at', u'201453_x_at', u'204131_s_at', u'200059_s_at']\n",
      "['200814_at', '222103_at', '201453_x_at', '204131_s_at', '200059_s_at']\n"
     ]
    }
   ],
   "source": [
    "# GCTX_FILE = '../../q2norm_n1328098x22268.gctx'\n",
    "# PROBES = json.load(open('../data/rid.json', 'rb'))\n",
    "# PROBES_LM1000 = file2list('../data/rid_lm1000.txt', 0)\n",
    "\n",
    "GCTX_FILE = '/Users/zichen/Documents/Zichen_Projects/L1000_DR/data/q2norm_n1328098x22268.gctx'\n",
    "PROBES = json.load(open('/Users/zichen/Documents/bitbucket/lincs_l1000_limma/rid.json', 'rb'))\n",
    "PROBES_LM1000 = file2list('/Users/zichen/Documents/bitbucket/lincs_l1000_limma/rid_lm1000.txt', 0)\n",
    "\n",
    "print len(PROBES), len(PROBES_LM1000)\n",
    "print PROBES[:5]\n",
    "print PROBES_LM1000[:5]"
   ]
  },
  {
   "cell_type": "code",
   "execution_count": 4,
   "metadata": {},
   "outputs": [
    {
     "name": "stdout",
     "output_type": "stream",
     "text": [
      "(1328098, 22268)\n",
      "22268 ['200814_at', '222103_at', '201453_x_at', '204131_s_at', '200059_s_at']\n"
     ]
    }
   ],
   "source": [
    "gctx = h5py.File(GCTX_FILE, 'r')\n",
    "mat = gctx['/0/DATA/0/matrix']\n",
    "print mat.shape\n",
    "\n",
    "gene_ids = list(gctx['/0/META/ROW/id'])\n",
    "print len(gene_ids), gene_ids[:5]"
   ]
  },
  {
   "cell_type": "code",
   "execution_count": 5,
   "metadata": {},
   "outputs": [
    {
     "data": {
      "text/plain": [
       "array(['CPC005_A375_6H_X1_B3_DUO52HI53LO:K06',\n",
       "       'CPC005_A375_6H_X2_B3_DUO52HI53LO:K06',\n",
       "       'CPC005_A375_6H_X3_B3_DUO52HI53LO:K06',\n",
       "       'CPC005_A375_6H_X1_B3_DUO52HI53LO:C19',\n",
       "       'CPC005_A375_6H_X2_B3_DUO52HI53LO:C19'],\n",
       "      dtype='|S46')"
      ]
     },
     "execution_count": 5,
     "metadata": {},
     "output_type": "execute_result"
    }
   ],
   "source": [
    "gctx['/0/META/COL/id'][:5]"
   ]
  },
  {
   "cell_type": "code",
   "execution_count": 6,
   "metadata": {},
   "outputs": [
    {
     "name": "stdout",
     "output_type": "stream",
     "text": [
      "978\n",
      "978\n"
     ]
    }
   ],
   "source": [
    "print np.in1d(PROBES, PROBES_LM1000).sum()\n",
    "print np.in1d(PROBES, PROBES_LM1000)[:978].sum()"
   ]
  },
  {
   "cell_type": "code",
   "execution_count": 7,
   "metadata": {
    "collapsed": true
   },
   "outputs": [],
   "source": [
    "def slice_matrix(gctx, cids, rids):\n",
    "    '''Slice the mat by cids and rids and ensure the mat \n",
    "    is ordered by cids and rids.'''    \n",
    "    all_cids = gctx['/0/META/COL/id']\n",
    "    c_mask = np.in1d(all_cids, cids)\n",
    "    cids_subset = all_cids[c_mask].tolist()\n",
    "    c_indices = np.array([cids_subset.index(id_) \n",
    "                          for id_ in cids])\n",
    "\n",
    "    mat = gctx['/0/DATA/0/matrix']\n",
    "    submat = mat[c_mask, :][c_indices, :]\n",
    "    \n",
    "    all_rids = gctx['/0/META/ROW/id']\n",
    "    r_mask = np.in1d(all_rids, rids)\n",
    "    rids_subset = all_rids[r_mask].tolist()\n",
    "    r_indices = np.array([rids_subset.index(id_) \n",
    "                          for id_ in rids])\n",
    "    submat = submat[:, r_mask][:, r_indices]\n",
    "\n",
    "    return submat"
   ]
  },
  {
   "cell_type": "markdown",
   "metadata": {},
   "source": [
    "# 1. Connect to MongoDB to retrieve all `sig_id`s that are `trt_cp`"
   ]
  },
  {
   "cell_type": "code",
   "execution_count": 8,
   "metadata": {
    "collapsed": true
   },
   "outputs": [],
   "source": [
    "client = MongoClient(\"mongodb://146.203.54.131:27017\")\n",
    "# DB = client['LINCS_L1000_limma']\n",
    "# COLL_SIG = DB['siginfo'] # to get metadata\n",
    "DB = client['L1000FWD']\n",
    "COLL_SIG = DB['sigs']"
   ]
  },
  {
   "cell_type": "code",
   "execution_count": 9,
   "metadata": {},
   "outputs": [
    {
     "name": "stdout",
     "output_type": "stream",
     "text": [
      "48098\n"
     ]
    }
   ],
   "source": [
    "# Collect pert_ids and batches\n",
    "cur = COLL_SIG.find({'SCS_centered_by_batch':{'$lt': 0.05}}, \n",
    "                    {'_id':False, 'sig_id':True, 'distil_id':True})\n",
    "print cur.count()\n"
   ]
  },
  {
   "cell_type": "code",
   "execution_count": 10,
   "metadata": {},
   "outputs": [
    {
     "name": "stdout",
     "output_type": "stream",
     "text": [
      "(48098, 1)\n"
     ]
    },
    {
     "data": {
      "text/html": [
       "<div>\n",
       "<style>\n",
       "    .dataframe thead tr:only-child th {\n",
       "        text-align: right;\n",
       "    }\n",
       "\n",
       "    .dataframe thead th {\n",
       "        text-align: left;\n",
       "    }\n",
       "\n",
       "    .dataframe tbody tr th {\n",
       "        vertical-align: top;\n",
       "    }\n",
       "</style>\n",
       "<table border=\"1\" class=\"dataframe\">\n",
       "  <thead>\n",
       "    <tr style=\"text-align: right;\">\n",
       "      <th></th>\n",
       "      <th>distil_id</th>\n",
       "    </tr>\n",
       "    <tr>\n",
       "      <th>sig_id</th>\n",
       "      <th></th>\n",
       "    </tr>\n",
       "  </thead>\n",
       "  <tbody>\n",
       "    <tr>\n",
       "      <th>LJP001_HS578T_24H:BRD-K52911425-001-04-9:2</th>\n",
       "      <td>[LJP001_HS578T_24H_X1_F2B5_DUO52HI53LO:I06, LJ...</td>\n",
       "    </tr>\n",
       "    <tr>\n",
       "      <th>LJP001_HS578T_24H:BRD-K69932463-001-05-6:10</th>\n",
       "      <td>[LJP001_HS578T_24H_X1_F2B5_DUO52HI53LO:A15, LJ...</td>\n",
       "    </tr>\n",
       "    <tr>\n",
       "      <th>LJP001_HS578T_24H:BRD-K85606544-001-04-2:10</th>\n",
       "      <td>[LJP001_HS578T_24H_X1_F2B5_DUO52HI53LO:C15, LJ...</td>\n",
       "    </tr>\n",
       "    <tr>\n",
       "      <th>LJP001_HS578T_24H:BRD-K72636697-001-01-5:10</th>\n",
       "      <td>[LJP001_HS578T_24H_X1_F2B5_DUO52HI53LO:M17, LJ...</td>\n",
       "    </tr>\n",
       "    <tr>\n",
       "      <th>LJP001_HS578T_24H:BRD-K13390322-001-02-2:0.4</th>\n",
       "      <td>[LJP001_HS578T_24H_X1_F2B5_DUO52HI53LO:B09, LJ...</td>\n",
       "    </tr>\n",
       "  </tbody>\n",
       "</table>\n",
       "</div>"
      ],
      "text/plain": [
       "                                                                                      distil_id\n",
       "sig_id                                                                                         \n",
       "LJP001_HS578T_24H:BRD-K52911425-001-04-9:2    [LJP001_HS578T_24H_X1_F2B5_DUO52HI53LO:I06, LJ...\n",
       "LJP001_HS578T_24H:BRD-K69932463-001-05-6:10   [LJP001_HS578T_24H_X1_F2B5_DUO52HI53LO:A15, LJ...\n",
       "LJP001_HS578T_24H:BRD-K85606544-001-04-2:10   [LJP001_HS578T_24H_X1_F2B5_DUO52HI53LO:C15, LJ...\n",
       "LJP001_HS578T_24H:BRD-K72636697-001-01-5:10   [LJP001_HS578T_24H_X1_F2B5_DUO52HI53LO:M17, LJ...\n",
       "LJP001_HS578T_24H:BRD-K13390322-001-02-2:0.4  [LJP001_HS578T_24H_X1_F2B5_DUO52HI53LO:B09, LJ..."
      ]
     },
     "execution_count": 10,
     "metadata": {},
     "output_type": "execute_result"
    }
   ],
   "source": [
    "# Retrieve sig_meta from the MongoDB\n",
    "sig_meta_df_full = pd.DataFrame([doc for doc in cur]).set_index('sig_id')\n",
    "print sig_meta_df_full.shape\n",
    "sig_meta_df_full.head()"
   ]
  },
  {
   "cell_type": "code",
   "execution_count": 11,
   "metadata": {},
   "outputs": [
    {
     "name": "stdout",
     "output_type": "stream",
     "text": [
      "649\n"
     ]
    }
   ],
   "source": [
    "# Get batch info\n",
    "sig_meta_df_full['batch'] = sig_meta_df_full.index.map(lambda x:x.split(':')[0])\n",
    "print sig_meta_df_full['batch'].nunique()\n"
   ]
  },
  {
   "cell_type": "code",
   "execution_count": 13,
   "metadata": {},
   "outputs": [
    {
     "name": "stdout",
     "output_type": "stream",
     "text": [
      "(675657, 2)\n"
     ]
    },
    {
     "data": {
      "text/html": [
       "<div>\n",
       "<style>\n",
       "    .dataframe thead tr:only-child th {\n",
       "        text-align: right;\n",
       "    }\n",
       "\n",
       "    .dataframe thead th {\n",
       "        text-align: left;\n",
       "    }\n",
       "\n",
       "    .dataframe tbody tr th {\n",
       "        vertical-align: top;\n",
       "    }\n",
       "</style>\n",
       "<table border=\"1\" class=\"dataframe\">\n",
       "  <thead>\n",
       "    <tr style=\"text-align: right;\">\n",
       "      <th></th>\n",
       "      <th>det_plate</th>\n",
       "      <th>pert_id</th>\n",
       "    </tr>\n",
       "    <tr>\n",
       "      <th>distil_id</th>\n",
       "      <th></th>\n",
       "      <th></th>\n",
       "    </tr>\n",
       "  </thead>\n",
       "  <tbody>\n",
       "    <tr>\n",
       "      <th>ASG001_MCF7_24H_X1_B7_DUO52HI53LO:A06</th>\n",
       "      <td>ASG001_MCF7_24H_X1_B7_DUO52HI53LO</td>\n",
       "      <td>BRD-A60070924</td>\n",
       "    </tr>\n",
       "    <tr>\n",
       "      <th>ASG001_MCF7_24H_X1_B7_DUO52HI53LO:B06</th>\n",
       "      <td>ASG001_MCF7_24H_X1_B7_DUO52HI53LO</td>\n",
       "      <td>BRD-A60070924</td>\n",
       "    </tr>\n",
       "    <tr>\n",
       "      <th>ASG001_MCF7_24H_X1_B7_DUO52HI53LO:C06</th>\n",
       "      <td>ASG001_MCF7_24H_X1_B7_DUO52HI53LO</td>\n",
       "      <td>BRD-A60070924</td>\n",
       "    </tr>\n",
       "    <tr>\n",
       "      <th>ASG001_MCF7_24H_X1_B7_DUO52HI53LO:D06</th>\n",
       "      <td>ASG001_MCF7_24H_X1_B7_DUO52HI53LO</td>\n",
       "      <td>BRD-A60070924</td>\n",
       "    </tr>\n",
       "    <tr>\n",
       "      <th>ASG001_MCF7_24H_X1_B7_DUO52HI53LO:E06</th>\n",
       "      <td>ASG001_MCF7_24H_X1_B7_DUO52HI53LO</td>\n",
       "      <td>BRD-A60070924</td>\n",
       "    </tr>\n",
       "  </tbody>\n",
       "</table>\n",
       "</div>"
      ],
      "text/plain": [
       "                                                               det_plate  \\\n",
       "distil_id                                                                  \n",
       "ASG001_MCF7_24H_X1_B7_DUO52HI53LO:A06  ASG001_MCF7_24H_X1_B7_DUO52HI53LO   \n",
       "ASG001_MCF7_24H_X1_B7_DUO52HI53LO:B06  ASG001_MCF7_24H_X1_B7_DUO52HI53LO   \n",
       "ASG001_MCF7_24H_X1_B7_DUO52HI53LO:C06  ASG001_MCF7_24H_X1_B7_DUO52HI53LO   \n",
       "ASG001_MCF7_24H_X1_B7_DUO52HI53LO:D06  ASG001_MCF7_24H_X1_B7_DUO52HI53LO   \n",
       "ASG001_MCF7_24H_X1_B7_DUO52HI53LO:E06  ASG001_MCF7_24H_X1_B7_DUO52HI53LO   \n",
       "\n",
       "                                             pert_id  \n",
       "distil_id                                             \n",
       "ASG001_MCF7_24H_X1_B7_DUO52HI53LO:A06  BRD-A60070924  \n",
       "ASG001_MCF7_24H_X1_B7_DUO52HI53LO:B06  BRD-A60070924  \n",
       "ASG001_MCF7_24H_X1_B7_DUO52HI53LO:C06  BRD-A60070924  \n",
       "ASG001_MCF7_24H_X1_B7_DUO52HI53LO:D06  BRD-A60070924  \n",
       "ASG001_MCF7_24H_X1_B7_DUO52HI53LO:E06  BRD-A60070924  "
      ]
     },
     "execution_count": 13,
     "metadata": {},
     "output_type": "execute_result"
    }
   ],
   "source": [
    "# Get all the distil_ids\n",
    "COLL_INST = client['LINCS_L1000_limma']['instinfo']\n",
    "cur = COLL_INST.find({'pert_type': {'$in' : ['trt_cp', 'trt_poscon']}}, \n",
    "                     {'_id':False, \n",
    "                      'distil_id':True, \n",
    "                      'pert_id':True,\n",
    "                      'det_plate':True,\n",
    "                     })\n",
    "\n",
    "distil_df = pd.DataFrame([doc for doc in cur]).set_index('distil_id')\n",
    "print distil_df.shape\n",
    "distil_df.head()"
   ]
  },
  {
   "cell_type": "code",
   "execution_count": 14,
   "metadata": {},
   "outputs": [
    {
     "data": {
      "text/html": [
       "<div>\n",
       "<style>\n",
       "    .dataframe thead tr:only-child th {\n",
       "        text-align: right;\n",
       "    }\n",
       "\n",
       "    .dataframe thead th {\n",
       "        text-align: left;\n",
       "    }\n",
       "\n",
       "    .dataframe tbody tr th {\n",
       "        vertical-align: top;\n",
       "    }\n",
       "</style>\n",
       "<table border=\"1\" class=\"dataframe\">\n",
       "  <thead>\n",
       "    <tr style=\"text-align: right;\">\n",
       "      <th></th>\n",
       "      <th>det_plate</th>\n",
       "      <th>pert_id</th>\n",
       "      <th>rna_plate</th>\n",
       "      <th>batch</th>\n",
       "    </tr>\n",
       "    <tr>\n",
       "      <th>distil_id</th>\n",
       "      <th></th>\n",
       "      <th></th>\n",
       "      <th></th>\n",
       "      <th></th>\n",
       "    </tr>\n",
       "  </thead>\n",
       "  <tbody>\n",
       "    <tr>\n",
       "      <th>ASG001_MCF7_24H_X1_B7_DUO52HI53LO:A06</th>\n",
       "      <td>ASG001_MCF7_24H_X1_B7_DUO52HI53LO</td>\n",
       "      <td>BRD-A60070924</td>\n",
       "      <td>ASG001_MCF7_24H_X1</td>\n",
       "      <td>ASG001_MCF7_24H</td>\n",
       "    </tr>\n",
       "    <tr>\n",
       "      <th>ASG001_MCF7_24H_X1_B7_DUO52HI53LO:B06</th>\n",
       "      <td>ASG001_MCF7_24H_X1_B7_DUO52HI53LO</td>\n",
       "      <td>BRD-A60070924</td>\n",
       "      <td>ASG001_MCF7_24H_X1</td>\n",
       "      <td>ASG001_MCF7_24H</td>\n",
       "    </tr>\n",
       "    <tr>\n",
       "      <th>ASG001_MCF7_24H_X1_B7_DUO52HI53LO:C06</th>\n",
       "      <td>ASG001_MCF7_24H_X1_B7_DUO52HI53LO</td>\n",
       "      <td>BRD-A60070924</td>\n",
       "      <td>ASG001_MCF7_24H_X1</td>\n",
       "      <td>ASG001_MCF7_24H</td>\n",
       "    </tr>\n",
       "    <tr>\n",
       "      <th>ASG001_MCF7_24H_X1_B7_DUO52HI53LO:D06</th>\n",
       "      <td>ASG001_MCF7_24H_X1_B7_DUO52HI53LO</td>\n",
       "      <td>BRD-A60070924</td>\n",
       "      <td>ASG001_MCF7_24H_X1</td>\n",
       "      <td>ASG001_MCF7_24H</td>\n",
       "    </tr>\n",
       "    <tr>\n",
       "      <th>ASG001_MCF7_24H_X1_B7_DUO52HI53LO:E06</th>\n",
       "      <td>ASG001_MCF7_24H_X1_B7_DUO52HI53LO</td>\n",
       "      <td>BRD-A60070924</td>\n",
       "      <td>ASG001_MCF7_24H_X1</td>\n",
       "      <td>ASG001_MCF7_24H</td>\n",
       "    </tr>\n",
       "  </tbody>\n",
       "</table>\n",
       "</div>"
      ],
      "text/plain": [
       "                                                               det_plate  \\\n",
       "distil_id                                                                  \n",
       "ASG001_MCF7_24H_X1_B7_DUO52HI53LO:A06  ASG001_MCF7_24H_X1_B7_DUO52HI53LO   \n",
       "ASG001_MCF7_24H_X1_B7_DUO52HI53LO:B06  ASG001_MCF7_24H_X1_B7_DUO52HI53LO   \n",
       "ASG001_MCF7_24H_X1_B7_DUO52HI53LO:C06  ASG001_MCF7_24H_X1_B7_DUO52HI53LO   \n",
       "ASG001_MCF7_24H_X1_B7_DUO52HI53LO:D06  ASG001_MCF7_24H_X1_B7_DUO52HI53LO   \n",
       "ASG001_MCF7_24H_X1_B7_DUO52HI53LO:E06  ASG001_MCF7_24H_X1_B7_DUO52HI53LO   \n",
       "\n",
       "                                             pert_id           rna_plate  \\\n",
       "distil_id                                                                  \n",
       "ASG001_MCF7_24H_X1_B7_DUO52HI53LO:A06  BRD-A60070924  ASG001_MCF7_24H_X1   \n",
       "ASG001_MCF7_24H_X1_B7_DUO52HI53LO:B06  BRD-A60070924  ASG001_MCF7_24H_X1   \n",
       "ASG001_MCF7_24H_X1_B7_DUO52HI53LO:C06  BRD-A60070924  ASG001_MCF7_24H_X1   \n",
       "ASG001_MCF7_24H_X1_B7_DUO52HI53LO:D06  BRD-A60070924  ASG001_MCF7_24H_X1   \n",
       "ASG001_MCF7_24H_X1_B7_DUO52HI53LO:E06  BRD-A60070924  ASG001_MCF7_24H_X1   \n",
       "\n",
       "                                                 batch  \n",
       "distil_id                                               \n",
       "ASG001_MCF7_24H_X1_B7_DUO52HI53LO:A06  ASG001_MCF7_24H  \n",
       "ASG001_MCF7_24H_X1_B7_DUO52HI53LO:B06  ASG001_MCF7_24H  \n",
       "ASG001_MCF7_24H_X1_B7_DUO52HI53LO:C06  ASG001_MCF7_24H  \n",
       "ASG001_MCF7_24H_X1_B7_DUO52HI53LO:D06  ASG001_MCF7_24H  \n",
       "ASG001_MCF7_24H_X1_B7_DUO52HI53LO:E06  ASG001_MCF7_24H  "
      ]
     },
     "execution_count": 14,
     "metadata": {},
     "output_type": "execute_result"
    }
   ],
   "source": [
    "def distil_id_to_rna_plate(did):\n",
    "    return '_'.join(did.split('_')[:4])\n",
    "\n",
    "def distil_id_to_batch(did):\n",
    "    return '_'.join(did.split('_')[:3])\n",
    "\n",
    "def distil_id_to_det_plate(did):\n",
    "    return '_'.join(did.split('_')[:5])\n",
    "\n",
    "# distil_df['det_plate'] = distil_df.index.map(distil_id_to_det_plate)\n",
    "distil_df['rna_plate'] = distil_df.index.map(distil_id_to_rna_plate)\n",
    "distil_df['batch'] = distil_df.index.map(distil_id_to_batch)\n",
    "distil_df.head()"
   ]
  },
  {
   "cell_type": "code",
   "execution_count": 46,
   "metadata": {},
   "outputs": [
    {
     "name": "stdout",
     "output_type": "stream",
     "text": [
      "(22269, 2)\n"
     ]
    },
    {
     "data": {
      "text/html": [
       "<div>\n",
       "<style>\n",
       "    .dataframe thead tr:only-child th {\n",
       "        text-align: right;\n",
       "    }\n",
       "\n",
       "    .dataframe thead th {\n",
       "        text-align: left;\n",
       "    }\n",
       "\n",
       "    .dataframe tbody tr th {\n",
       "        vertical-align: top;\n",
       "    }\n",
       "</style>\n",
       "<table border=\"1\" class=\"dataframe\">\n",
       "  <thead>\n",
       "    <tr style=\"text-align: right;\">\n",
       "      <th></th>\n",
       "      <th>pr_gene_symbol</th>\n",
       "      <th>pr_id</th>\n",
       "    </tr>\n",
       "  </thead>\n",
       "  <tbody>\n",
       "    <tr>\n",
       "      <th>0</th>\n",
       "      <td>-666</td>\n",
       "      <td>202938_x_at</td>\n",
       "    </tr>\n",
       "    <tr>\n",
       "      <th>1</th>\n",
       "      <td>-666</td>\n",
       "      <td>204006_s_at</td>\n",
       "    </tr>\n",
       "    <tr>\n",
       "      <th>2</th>\n",
       "      <td>-666</td>\n",
       "      <td>204060_s_at</td>\n",
       "    </tr>\n",
       "    <tr>\n",
       "      <th>3</th>\n",
       "      <td>-666</td>\n",
       "      <td>204419_x_at</td>\n",
       "    </tr>\n",
       "    <tr>\n",
       "      <th>4</th>\n",
       "      <td>-666</td>\n",
       "      <td>204438_at</td>\n",
       "    </tr>\n",
       "  </tbody>\n",
       "</table>\n",
       "</div>"
      ],
      "text/plain": [
       "  pr_gene_symbol        pr_id\n",
       "0           -666  202938_x_at\n",
       "1           -666  204006_s_at\n",
       "2           -666  204060_s_at\n",
       "3           -666  204419_x_at\n",
       "4           -666    204438_at"
      ]
     },
     "execution_count": 46,
     "metadata": {},
     "output_type": "execute_result"
    }
   ],
   "source": [
    "COLL_GENES = client['LINCS_L1000_limma']['geneinfo']\n",
    "cur = COLL_GENES.find({}, {'_id':False ,'pr_id':True, 'pr_gene_symbol':True})\n",
    "probes2genes = pd.DataFrame([doc for doc in cur])\n",
    "print probes2genes.shape\n",
    "probes2genes.head()\n"
   ]
  },
  {
   "cell_type": "code",
   "execution_count": 47,
   "metadata": {},
   "outputs": [
    {
     "name": "stdout",
     "output_type": "stream",
     "text": [
      "(20336, 2)\n"
     ]
    },
    {
     "data": {
      "text/html": [
       "<div>\n",
       "<style>\n",
       "    .dataframe thead tr:only-child th {\n",
       "        text-align: right;\n",
       "    }\n",
       "\n",
       "    .dataframe thead th {\n",
       "        text-align: left;\n",
       "    }\n",
       "\n",
       "    .dataframe tbody tr th {\n",
       "        vertical-align: top;\n",
       "    }\n",
       "</style>\n",
       "<table border=\"1\" class=\"dataframe\">\n",
       "  <thead>\n",
       "    <tr style=\"text-align: right;\">\n",
       "      <th></th>\n",
       "      <th>pr_gene_symbol</th>\n",
       "      <th>pr_id</th>\n",
       "    </tr>\n",
       "  </thead>\n",
       "  <tbody>\n",
       "    <tr>\n",
       "      <th>1820</th>\n",
       "      <td>A1CF</td>\n",
       "      <td>220951_s_at</td>\n",
       "    </tr>\n",
       "    <tr>\n",
       "      <th>1821</th>\n",
       "      <td>A2M</td>\n",
       "      <td>217757_at</td>\n",
       "    </tr>\n",
       "    <tr>\n",
       "      <th>1822</th>\n",
       "      <td>A4GALT</td>\n",
       "      <td>219488_at</td>\n",
       "    </tr>\n",
       "    <tr>\n",
       "      <th>1823</th>\n",
       "      <td>A4GNT</td>\n",
       "      <td>221131_at</td>\n",
       "    </tr>\n",
       "    <tr>\n",
       "      <th>1824</th>\n",
       "      <td>AAAS</td>\n",
       "      <td>218075_at</td>\n",
       "    </tr>\n",
       "  </tbody>\n",
       "</table>\n",
       "</div>"
      ],
      "text/plain": [
       "     pr_gene_symbol        pr_id\n",
       "1820           A1CF  220951_s_at\n",
       "1821            A2M    217757_at\n",
       "1822         A4GALT    219488_at\n",
       "1823          A4GNT    221131_at\n",
       "1824           AAAS    218075_at"
      ]
     },
     "execution_count": 47,
     "metadata": {},
     "output_type": "execute_result"
    }
   ],
   "source": [
    "probes2genes = probes2genes.replace({'-666': None}).dropna(axis=0)\n",
    "print probes2genes.shape\n",
    "probes2genes.head()"
   ]
  },
  {
   "cell_type": "code",
   "execution_count": 48,
   "metadata": {},
   "outputs": [
    {
     "name": "stdout",
     "output_type": "stream",
     "text": [
      "12716\n",
      "20336\n"
     ]
    }
   ],
   "source": [
    "print probes2genes['pr_gene_symbol'].nunique()\n",
    "print probes2genes['pr_id'].nunique()"
   ]
  },
  {
   "cell_type": "code",
   "execution_count": 49,
   "metadata": {},
   "outputs": [
    {
     "name": "stdout",
     "output_type": "stream",
     "text": [
      "20336\n"
     ]
    }
   ],
   "source": [
    "probes2genes = dict(zip(probes2genes['pr_id'], probes2genes['pr_gene_symbol']))\n",
    "print len(probes2genes)"
   ]
  },
  {
   "cell_type": "markdown",
   "metadata": {},
   "source": [
    "# 2. Apply normalization for each batch, then compute signatures and insert in to MongoDB\n",
    "\n",
    "The normalization method is described in [Iskar et al PLoS comp Bio, 2010]():\n",
    "\n",
    "```\n",
    "for batch in batches:\n",
    "    1. discard control samples\n",
    "    2. mean center each probe across treatment samples in batch\n",
    "    3. average replicate treatment samples as the signature\n",
    "```"
   ]
  },
  {
   "cell_type": "code",
   "execution_count": 15,
   "metadata": {},
   "outputs": [],
   "source": [
    "# Make MongoDB to store those data\n",
    "# client_local = MongoClient('mongodb://127.0.0.1:27017')\n",
    "# db = client_local['L1000FWD']\n",
    "db = client['L1000FWD']\n",
    "coll = db['sigs']\n",
    "# coll.create_index('sig_id', unique=True)"
   ]
  },
  {
   "cell_type": "code",
   "execution_count": 16,
   "metadata": {
    "collapsed": true
   },
   "outputs": [],
   "source": [
    "from joblib import delayed, Parallel"
   ]
  },
  {
   "cell_type": "code",
   "execution_count": 18,
   "metadata": {
    "collapsed": true
   },
   "outputs": [],
   "source": [
    "from scipy import stats"
   ]
  },
  {
   "cell_type": "code",
   "execution_count": 17,
   "metadata": {
    "collapsed": true
   },
   "outputs": [],
   "source": [
    "def compute_signatures(sig_id, row, distil_ids_sub, mat, mat_centered, PROBES_LM1000):\n",
    "    distil_ids_pert = row['distil_id']\n",
    "    # Make the sample_class\n",
    "    mask_pert = np.in1d(distil_ids_sub, distil_ids_pert)\n",
    "    sample_class = mask_pert.astype(int) + 1\n",
    "    sample_class = list(sample_class)\n",
    "\n",
    "    # Apply CD on the original mat\n",
    "    cd1 = geode.chdir(mat.T, sample_class, PROBES_LM1000, \n",
    "                      calculate_sig=0, sort=False, gamma=0.5)\n",
    "\n",
    "    # Apply CD on the mean centered mat\n",
    "    cd2 = geode.chdir(mat_centered.T, sample_class, PROBES_LM1000, \n",
    "                      calculate_sig=0, sort=False, gamma=0.5)\n",
    "    # Averaging profiles after mean centering\n",
    "    avg_vals = mat_centered[mask_pert].mean(axis=0)\n",
    "\n",
    "    doc = row.to_dict()\n",
    "    doc['sig_id'] = sig_id\n",
    "    doc['CD_nocenter_LM'] = list(np.array([item[0] for item in cd1], dtype=np.float64))\n",
    "    doc['CD_center_LM'] = list(np.array([item[0] for item in cd2], dtype=np.float64))\n",
    "    doc['avg_center_LM'] = list(avg_vals.astype(np.float64))\n",
    "\n",
    "    return doc"
   ]
  },
  {
   "cell_type": "code",
   "execution_count": 28,
   "metadata": {
    "collapsed": true
   },
   "outputs": [],
   "source": [
    "from sklearn.decomposition import PCA\n",
    "from scipy.stats import chi2\n",
    "from scipy.stats.mstats import zscore\n",
    "def fast_chdir(data, sampleclass):\n",
    "    m1 = sampleclass == 1\n",
    "    m2 = sampleclass == 2\n",
    "    \n",
    "    gamma = 0.5\n",
    "    \n",
    "    data = zscore(data)\n",
    "    \n",
    "    ## start to compute\n",
    "    n1 = m1.sum() # number of controls\n",
    "    n2 = m2.sum() # number of experiments\n",
    "\n",
    "    ## the difference between experiment mean vector and control mean vector.\n",
    "    meanvec = data[:,m2].mean(axis=1) - data[:,m1].mean(axis=1) \n",
    "\n",
    "    ## initialize the pca object\n",
    "    pca = PCA(n_components=None)\n",
    "    pca.fit(data.T)\n",
    "\n",
    "    ## compute the number of PCs to keep\n",
    "    cumsum = pca.explained_variance_ratio_ # explained variance of each PC\n",
    "    keepPC = len(cumsum[cumsum > 0.001]) # number of PCs to keep\n",
    "    v = pca.components_[0:keepPC].T # rotated data \n",
    "    r = pca.transform(data.T)[:,0:keepPC] # transformed data\n",
    "\n",
    "    dd = ( np.dot(r[m1].T,r[m1]) + np.dot(r[m2].T,r[m2]) ) / float(n1+n2-2) # covariance\n",
    "    sigma = np.mean(np.diag(dd)) # the scalar covariance\n",
    "\n",
    "    shrunkMats = np.linalg.inv(gamma*dd + sigma*(1-gamma)*np.eye(keepPC))\n",
    "\n",
    "    b = np.dot(v, np.dot(np.dot(v.T, meanvec), shrunkMats))\n",
    "\n",
    "    b /= np.linalg.norm(b) # normalize b to unit vector\n",
    "    \n",
    "    return b\n"
   ]
  },
  {
   "cell_type": "code",
   "execution_count": 20,
   "metadata": {
    "collapsed": true
   },
   "outputs": [],
   "source": [
    "def fast_chdir_with_pvals(data, sampleclass):\n",
    "    cd_coefs = fast_chdir(data, sampleclass)\n",
    "    zscores = stats.zscore(cd_coefs)\n",
    "    pvals = stats.norm.sf(np.abs(zscores))*2 # two-sided\n",
    "    return cd_coefs, pvals"
   ]
  },
  {
   "cell_type": "code",
   "execution_count": 64,
   "metadata": {
    "collapsed": true
   },
   "outputs": [],
   "source": [
    "def compute_signatures_full(sig_id, row, distil_ids_sub, mat_centered, PROBES, probes2genes):\n",
    "    \n",
    "    distil_ids_pert = row['distil_id']\n",
    "    # Make the sample_class\n",
    "    mask_pert = np.in1d(distil_ids_sub, distil_ids_pert)\n",
    "    sample_class = mask_pert.astype(int) + 1\n",
    "\n",
    "    # Apply CD on the mean centered mat\n",
    "    cd_coefs, pvals = fast_chdir_with_pvals(mat_centered.T, sample_class)\n",
    "    sigIdx = np.where(pvals < 0.01)[0].astype(int)\n",
    "        \n",
    "    # Identify significant up/down genes\n",
    "    up_probes = np.array(PROBES)[(cd_coefs > 0) & (pvals< 0.01)]\n",
    "    upGenes = filter(None, set([probes2genes.get(pr_id) for pr_id in up_probes]))\n",
    "\n",
    "    dn_probes = np.array(PROBES)[(cd_coefs < 0) & (pvals< 0.01)]\n",
    "    dnGenes = filter(None, set([probes2genes.get(pr_id) for pr_id in dn_probes]))\n",
    "    \n",
    "    \n",
    "    doc = {}\n",
    "    doc['sig_id'] = sig_id\n",
    "    doc['CD_center_Full'] = list(cd_coefs.astype(np.float64))\n",
    "    doc['pvalues_Full'] = list(pvals.astype(np.float64))\n",
    "    doc['sigIdx'] = list(sigIdx)\n",
    "    doc['upGenes'] = upGenes\n",
    "    doc['dnGenes'] = dnGenes\n",
    "    return doc\n",
    "    "
   ]
  },
  {
   "cell_type": "code",
   "execution_count": 54,
   "metadata": {},
   "outputs": [
    {
     "data": {
      "text/plain": [
       "list"
      ]
     },
     "execution_count": 54,
     "metadata": {},
     "output_type": "execute_result"
    }
   ],
   "source": [
    "type(PROBES)"
   ]
  },
  {
   "cell_type": "code",
   "execution_count": 57,
   "metadata": {},
   "outputs": [
    {
     "name": "stdout",
     "output_type": "stream",
     "text": [
      "267 222\n",
      "<type 'list'>\n"
     ]
    }
   ],
   "source": [
    "up_probes = np.array(PROBES)[(cd_coefs > 0) & (pvals< 0.01)]\n",
    "upGenes = filter(None, set([probes2genes.get(pr_id) for pr_id in up_probes]))\n",
    "print len(up_probes), len(upGenes)\n",
    "print type(upGenes)"
   ]
  },
  {
   "cell_type": "code",
   "execution_count": 65,
   "metadata": {},
   "outputs": [
    {
     "name": "stdout",
     "output_type": "stream",
     "text": [
      "['dnGenes', 'pvalues_Full', 'CD_center_Full', 'sig_id', 'upGenes', 'sigIdx']\n"
     ]
    }
   ],
   "source": [
    "doc = compute_signatures_full(sig_id, row, distil_ids_sub, mat_centered, PROBES, probes2genes)\n",
    "print doc.keys()"
   ]
  },
  {
   "cell_type": "code",
   "execution_count": 63,
   "metadata": {},
   "outputs": [
    {
     "name": "stdout",
     "output_type": "stream",
     "text": [
      "585\n",
      "222 259\n"
     ]
    }
   ],
   "source": [
    "print len(doc['sigIdx'])\n",
    "print len(doc['upGenes']), len(doc['dnGenes'])"
   ]
  },
  {
   "cell_type": "markdown",
   "metadata": {},
   "source": [
    "## The first round of recomputing signatures: `mat` was centered by `batch` like `CPC004_PC3_6H`\n",
    "\n",
    "1. CD_nocenter_LM\n",
    "2. CD_center_LM\n",
    "3. avg_center_LM"
   ]
  },
  {
   "cell_type": "code",
   "execution_count": 22,
   "metadata": {
    "scrolled": true
   },
   "outputs": [
    {
     "name": "stdout",
     "output_type": "stream",
     "text": [
      "(48098, 2)\n",
      "0 649\n",
      "\tLJP001_HS578T_24H (118, 2) 349\n",
      "\t(349, 22268)\n",
      "(349, 22268)\n"
     ]
    }
   ],
   "source": [
    "# Get all inserted document sig_ids\n",
    "# inserted_sig_ids = set(coll.distinct('sig_id'))\n",
    "# print 'Number of sig_ids inserted: %d' % len(inserted_sig_ids)\n",
    "\n",
    "# sig_ids_left = list(set(sig_meta_df.index) - inserted_sig_ids)\n",
    "\n",
    "# subset the sig_meta_df\n",
    "# sig_meta_df_left = sig_meta_df.ix[sig_ids_left]\n",
    "\n",
    "all_batches = sig_meta_df_full['batch'].unique()\n",
    "n_batches = len(all_batches)\n",
    "print sig_meta_df_full.shape\n",
    "\n",
    "for c, batch in enumerate(all_batches):\n",
    "    sig_meta_df_sub = sig_meta_df_full.query('batch == \"%s\"' % batch)\n",
    "    \n",
    "    # all the treatment samples in this batch\n",
    "    distil_ids_sub = reduce(lambda x, y: x + y, \n",
    "                            sig_meta_df_full.query('batch == \"%s\"' % batch)['distil_id'])\n",
    "    print c, n_batches\n",
    "    print '\\t', batch, sig_meta_df_sub.shape, len(distil_ids_sub)\n",
    "    # Slice the matrix\n",
    "    mat = slice_matrix(gctx, distil_ids_sub, PROBES)\n",
    "    print '\\t', mat.shape\n",
    "    # Mean center the probes\n",
    "    mat_centered = mat - mat.mean(axis=0)\n",
    "#     try:\n",
    "#         docs = Parallel(n_jobs=7, backend='multiprocessing', verbose=10)(\\\n",
    "#                                   delayed(compute_signatures)(sig_id, row, distil_ids_sub, mat, mat_centered, PROBES_LM1000)\\\n",
    "#                                   for sig_id, row in sig_meta_df_sub.iterrows())\n",
    "#     except:\n",
    "#         pass\n",
    "#     else:                     \n",
    "#         result = coll.insert_many(docs)\n",
    "    print mat_centered.shape\n",
    "    break\n",
    "\n",
    "    \n"
   ]
  },
  {
   "cell_type": "code",
   "execution_count": 23,
   "metadata": {},
   "outputs": [
    {
     "data": {
      "text/plain": [
       "(349, 22268)"
      ]
     },
     "execution_count": 23,
     "metadata": {},
     "output_type": "execute_result"
    }
   ],
   "source": [
    "mat_centered.shape"
   ]
  },
  {
   "cell_type": "code",
   "execution_count": 24,
   "metadata": {},
   "outputs": [
    {
     "name": "stdout",
     "output_type": "stream",
     "text": [
      "LJP001_HS578T_24H:BRD-K52911425-001-04-9:2\n"
     ]
    },
    {
     "data": {
      "text/plain": [
       "distil_id    [LJP001_HS578T_24H_X1_F2B5_DUO52HI53LO:I06, LJ...\n",
       "batch                                        LJP001_HS578T_24H\n",
       "Name: LJP001_HS578T_24H:BRD-K52911425-001-04-9:2, dtype: object"
      ]
     },
     "execution_count": 24,
     "metadata": {},
     "output_type": "execute_result"
    }
   ],
   "source": [
    "sig_id, row = next(sig_meta_df_sub.iterrows())\n",
    "print sig_id\n",
    "row"
   ]
  },
  {
   "cell_type": "code",
   "execution_count": 26,
   "metadata": {},
   "outputs": [
    {
     "data": {
      "text/plain": [
       "349"
      ]
     },
     "execution_count": 26,
     "metadata": {},
     "output_type": "execute_result"
    }
   ],
   "source": [
    "len(distil_ids_sub)"
   ]
  },
  {
   "cell_type": "code",
   "execution_count": 31,
   "metadata": {},
   "outputs": [],
   "source": [
    "distil_ids_pert = row['distil_id']\n",
    "# Make the sample_class\n",
    "mask_pert = np.in1d(distil_ids_sub, distil_ids_pert)\n",
    "sample_class = mask_pert.astype(int) + 1\n",
    "# sample_class = list(sample_class)\n",
    "\n",
    "# Apply CD on the mean centered mat\n",
    "cd_coefs, pvals = fast_chdir_with_pvals(mat_centered.T, sample_class)\n"
   ]
  },
  {
   "cell_type": "code",
   "execution_count": 32,
   "metadata": {},
   "outputs": [
    {
     "name": "stdout",
     "output_type": "stream",
     "text": [
      "(22268,) (22268,)\n"
     ]
    }
   ],
   "source": [
    "print cd_coefs.shape, pvals.shape"
   ]
  },
  {
   "cell_type": "code",
   "execution_count": 34,
   "metadata": {
    "collapsed": true
   },
   "outputs": [],
   "source": [
    "import matplotlib.pyplot as plt\n",
    "%matplotlib inline"
   ]
  },
  {
   "cell_type": "code",
   "execution_count": 35,
   "metadata": {},
   "outputs": [
    {
     "data": {
      "image/png": "[encoded data removed]",
      "text/plain": [
       "<matplotlib.figure.Figure at 0x1176b1290>"
      ]
     },
     "metadata": {},
     "output_type": "display_data"
    }
   ],
   "source": [
    "plt.hist(pvals);"
   ]
  },
  {
   "cell_type": "code",
   "execution_count": 37,
   "metadata": {},
   "outputs": [
    {
     "data": {
      "image/png": "[encoded data removed]",
      "text/plain": [
       "<matplotlib.figure.Figure at 0x11906fe10>"
      ]
     },
     "metadata": {},
     "output_type": "display_data"
    }
   ],
   "source": [
    "plt.hist(cd_coefs);"
   ]
  },
  {
   "cell_type": "code",
   "execution_count": 38,
   "metadata": {},
   "outputs": [
    {
     "data": {
      "text/plain": [
       "585"
      ]
     },
     "execution_count": 38,
     "metadata": {},
     "output_type": "execute_result"
    }
   ],
   "source": [
    "(pvals < 0.01).sum()"
   ]
  },
  {
   "cell_type": "code",
   "execution_count": null,
   "metadata": {
    "collapsed": true
   },
   "outputs": [],
   "source": []
  },
  {
   "cell_type": "code",
   "execution_count": null,
   "metadata": {
    "collapsed": true
   },
   "outputs": [],
   "source": []
  },
  {
   "cell_type": "code",
   "execution_count": 23,
   "metadata": {},
   "outputs": [
    {
     "name": "stdout",
     "output_type": "stream",
     "text": [
      "(128017, 7)\n"
     ]
    }
   ],
   "source": [
    "print sig_meta_df.shape\n",
    "sig_meta_df.to_csv('data/sig_metadata_%d.csv' % sig_meta_df.shape[0])"
   ]
  },
  {
   "cell_type": "markdown",
   "metadata": {},
   "source": [
    "## The 2nd round of recomputing signatures: `mat` was centered by `det_plate` like `ASG001_MCF7_24H_X1_B7`"
   ]
  },
  {
   "cell_type": "code",
   "execution_count": 19,
   "metadata": {
    "collapsed": true
   },
   "outputs": [],
   "source": [
    "def mean_center(mat, centerby):\n",
    "    '''Mean center a mat based on centerby. mat is a samples x genes matrix'''\n",
    "    mat_centered = np.zeros_like(mat)\n",
    "    \n",
    "    for group in set(centerby):\n",
    "        mask = np.in1d(centerby, [group])\n",
    "        mat_centered[mask] = mat[mask] - mat[mask].mean(axis=0)\n",
    "    \n",
    "    return mat_centered"
   ]
  },
  {
   "cell_type": "code",
   "execution_count": 21,
   "metadata": {
    "collapsed": true
   },
   "outputs": [],
   "source": [
    "def compute_signatures2(sig_id, row, distil_ids_sub, mat_centered, PROBES_LM1000):\n",
    "    distil_ids_pert = row['distil_id']\n",
    "    # Make the sample_class\n",
    "    mask_pert = np.in1d(distil_ids_sub, distil_ids_pert)\n",
    "    sample_class = mask_pert.astype(int) + 1\n",
    "\n",
    "    # Apply CD on the mean centered mat\n",
    "    cd = geode.chdir(mat_centered.T, sample_class, PROBES_LM1000, \n",
    "                      calculate_sig=0, sort=False, gamma=0.5)\n",
    "    # Averaging profiles after mean centering\n",
    "    avg_vals = mat_centered[mask_pert].mean(axis=0)\n",
    "\n",
    "    doc = {}\n",
    "    doc['sig_id'] = sig_id\n",
    "    doc['CD_center_LM_det'] = list(np.array([item[0] for item in cd], dtype=np.float64))\n",
    "    doc['avg_center_LM_det'] = list(avg_vals.astype(np.float64))\n",
    "\n",
    "    return doc"
   ]
  },
  {
   "cell_type": "code",
   "execution_count": 22,
   "metadata": {
    "collapsed": true
   },
   "outputs": [],
   "source": [
    "def compute_sig2_wrapper(sig_id, row, distil_ids_sub, mat_centered, PROBES_LM1000):\n",
    "    try:\n",
    "        doc = compute_signatures2(sig_id, row, distil_ids_sub, mat_centered, PROBES_LM1000)\n",
    "    except ValueError as e:\n",
    "        doc = None\n",
    "        print e\n",
    "        pass\n",
    "    return doc"
   ]
  },
  {
   "cell_type": "code",
   "execution_count": 23,
   "metadata": {},
   "outputs": [
    {
     "name": "stdout",
     "output_type": "stream",
     "text": [
      "Number of sig_ids inserted: 27429\n"
     ]
    }
   ],
   "source": [
    "key = 'CD_center_LM_det'\n",
    "# Get all inserted document sig_ids\n",
    "inserted_sig_ids = set(coll.find({key: {'$exists': True}}).distinct('sig_id'))\n",
    "print 'Number of sig_ids inserted: %d' % len(inserted_sig_ids)\n"
   ]
  },
  {
   "cell_type": "code",
   "execution_count": null,
   "metadata": {},
   "outputs": [
    {
     "name": "stdout",
     "output_type": "stream",
     "text": [
      "(100588, 7)\n",
      "0 497\n",
      "\tHOG001_A549_24H (277, 7) 858\n",
      "\t(858, 978)\n"
     ]
    },
    {
     "name": "stderr",
     "output_type": "stream",
     "text": [
      "[Parallel(n_jobs=7)]: Done   1 out of 277 | elapsed:    0.9s remaining:  4.2min\n",
      "[Parallel(n_jobs=7)]: Done  27 out of 277 | elapsed:    4.3s remaining:   40.0s\n",
      "[Parallel(n_jobs=7)]: Done  55 out of 277 | elapsed:    8.6s remaining:   34.7s\n",
      "[Parallel(n_jobs=7)]: Done  83 out of 277 | elapsed:   13.3s remaining:   31.1s\n",
      "[Parallel(n_jobs=7)]: Done 111 out of 277 | elapsed:   17.7s remaining:   26.5s\n",
      "[Parallel(n_jobs=7)]: Done 139 out of 277 | elapsed:   22.4s remaining:   22.3s\n",
      "[Parallel(n_jobs=7)]: Done 167 out of 277 | elapsed:   27.5s remaining:   18.1s\n",
      "[Parallel(n_jobs=7)]: Done 195 out of 277 | elapsed:   32.5s remaining:   13.7s\n",
      "[Parallel(n_jobs=7)]: Done 223 out of 277 | elapsed:   37.3s remaining:    9.0s\n",
      "[Parallel(n_jobs=7)]: Done 251 out of 277 | elapsed:   41.9s remaining:    4.3s\n",
      "[Parallel(n_jobs=7)]: Done 277 out of 277 | elapsed:   46.2s finished\n"
     ]
    },
    {
     "name": "stdout",
     "output_type": "stream",
     "text": [
      "1 497\n",
      "\tPCLB003_A549_24H (176, 7) 1094\n",
      "\t(1094, 978)\n"
     ]
    },
    {
     "name": "stderr",
     "output_type": "stream",
     "text": [
      "[Parallel(n_jobs=7)]: Done   1 out of 176 | elapsed:    1.5s remaining:  4.4min\n",
      "[Parallel(n_jobs=7)]: Done  16 out of 176 | elapsed:    4.8s remaining:   47.9s\n",
      "[Parallel(n_jobs=7)]: Done  34 out of 176 | elapsed:    9.1s remaining:   38.0s\n",
      "[Parallel(n_jobs=7)]: Done  52 out of 176 | elapsed:   13.7s remaining:   32.6s\n",
      "[Parallel(n_jobs=7)]: Done  70 out of 176 | elapsed:   18.8s remaining:   28.5s\n",
      "[Parallel(n_jobs=7)]: Done  88 out of 176 | elapsed:   23.4s remaining:   23.4s\n",
      "[Parallel(n_jobs=7)]: Done 106 out of 176 | elapsed:   27.9s remaining:   18.4s\n",
      "[Parallel(n_jobs=7)]: Done 124 out of 176 | elapsed:   32.3s remaining:   13.6s\n",
      "[Parallel(n_jobs=7)]: Done 142 out of 176 | elapsed:   37.7s remaining:    9.0s\n",
      "[Parallel(n_jobs=7)]: Done 160 out of 176 | elapsed:   42.1s remaining:    4.2s\n",
      "[Parallel(n_jobs=7)]: Done 176 out of 176 | elapsed:   45.9s finished\n"
     ]
    },
    {
     "name": "stdout",
     "output_type": "stream",
     "text": [
      "2 497\n",
      "\tHOG002_MCF7_24H (287, 7) 852\n",
      "\t(852, 978)\n"
     ]
    },
    {
     "name": "stderr",
     "output_type": "stream",
     "text": [
      "[Parallel(n_jobs=7)]: Done   1 out of 287 | elapsed:    1.3s remaining:  6.1min\n",
      "[Parallel(n_jobs=7)]: Done  28 out of 287 | elapsed:    5.1s remaining:   47.6s\n",
      "[Parallel(n_jobs=7)]: Done  57 out of 287 | elapsed:   10.7s remaining:   43.0s\n",
      "[Parallel(n_jobs=7)]: Done  86 out of 287 | elapsed:   15.6s remaining:   36.4s\n",
      "[Parallel(n_jobs=7)]: Done 115 out of 287 | elapsed:   20.5s remaining:   30.7s\n",
      "[Parallel(n_jobs=7)]: Done 144 out of 287 | elapsed:   25.6s remaining:   25.5s\n",
      "[Parallel(n_jobs=7)]: Done 173 out of 287 | elapsed:   30.9s remaining:   20.4s\n",
      "[Parallel(n_jobs=7)]: Done 202 out of 287 | elapsed:   35.7s remaining:   15.0s\n",
      "[Parallel(n_jobs=7)]: Done 231 out of 287 | elapsed:   40.8s remaining:    9.9s\n",
      "[Parallel(n_jobs=7)]: Done 260 out of 287 | elapsed:   45.9s remaining:    4.8s\n",
      "[Parallel(n_jobs=7)]: Done 287 out of 287 | elapsed:   50.0s finished\n"
     ]
    },
    {
     "name": "stdout",
     "output_type": "stream",
     "text": [
      "3 497\n",
      "\tDOSBIO002_PC3_24H (26, 7) 950\n",
      "\t(950, 978)\n"
     ]
    },
    {
     "name": "stderr",
     "output_type": "stream",
     "text": [
      "[Parallel(n_jobs=7)]: Done   1 out of  26 | elapsed:    1.5s remaining:   37.3s\n",
      "[Parallel(n_jobs=7)]: Done   4 out of  26 | elapsed:    1.7s remaining:    9.2s\n",
      "[Parallel(n_jobs=7)]: Done   7 out of  26 | elapsed:    1.8s remaining:    4.9s\n",
      "[Parallel(n_jobs=7)]: Done  10 out of  26 | elapsed:    2.8s remaining:    4.5s\n",
      "[Parallel(n_jobs=7)]: Done  13 out of  26 | elapsed:    3.3s remaining:    3.3s\n",
      "[Parallel(n_jobs=7)]: Done  16 out of  26 | elapsed:    4.1s remaining:    2.6s\n",
      "[Parallel(n_jobs=7)]: Done  19 out of  26 | elapsed:    4.6s remaining:    1.7s\n",
      "[Parallel(n_jobs=7)]: Done  22 out of  26 | elapsed:    4.9s remaining:    0.9s\n",
      "[Parallel(n_jobs=7)]: Done  25 out of  26 | elapsed:    5.4s remaining:    0.2s\n",
      "[Parallel(n_jobs=7)]: Done  26 out of  26 | elapsed:    5.5s finished\n"
     ]
    },
    {
     "name": "stdout",
     "output_type": "stream",
     "text": [
      "4 497\n",
      "\tPCLB003_HT29_24H (178, 7) 1096\n",
      "\t(1096, 978)\n"
     ]
    },
    {
     "name": "stderr",
     "output_type": "stream",
     "text": [
      "[Parallel(n_jobs=7)]: Done   1 out of 178 | elapsed:    1.4s remaining:  4.0min\n",
      "[Parallel(n_jobs=7)]: Done  18 out of 178 | elapsed:    5.4s remaining:   47.9s\n",
      "[Parallel(n_jobs=7)]: Done  36 out of 178 | elapsed:    9.4s remaining:   37.0s\n",
      "[Parallel(n_jobs=7)]: Done  54 out of 178 | elapsed:   14.6s remaining:   33.6s\n",
      "[Parallel(n_jobs=7)]: Done  72 out of 178 | elapsed:   18.6s remaining:   27.4s\n",
      "[Parallel(n_jobs=7)]: Done  90 out of 178 | elapsed:   23.3s remaining:   22.8s\n",
      "[Parallel(n_jobs=7)]: Done 108 out of 178 | elapsed:   28.2s remaining:   18.3s\n",
      "[Parallel(n_jobs=7)]: Done 126 out of 178 | elapsed:   32.4s remaining:   13.4s\n",
      "[Parallel(n_jobs=7)]: Done 144 out of 178 | elapsed:   37.1s remaining:    8.8s\n",
      "[Parallel(n_jobs=7)]: Done 162 out of 178 | elapsed:   41.5s remaining:    4.1s\n",
      "[Parallel(n_jobs=7)]: Done 178 out of 178 | elapsed:   44.9s finished\n"
     ]
    },
    {
     "name": "stdout",
     "output_type": "stream",
     "text": [
      "5 497\n",
      "\tHOG003_MCF7_24H (286, 7) 857\n",
      "\t(857, 978)\n"
     ]
    },
    {
     "name": "stderr",
     "output_type": "stream",
     "text": [
      "[Parallel(n_jobs=7)]: Done   1 out of 286 | elapsed:    1.0s remaining:  4.8min\n",
      "[Parallel(n_jobs=7)]: Done  27 out of 286 | elapsed:    5.0s remaining:   48.0s\n",
      "[Parallel(n_jobs=7)]: Done  56 out of 286 | elapsed:    9.9s remaining:   40.8s\n",
      "[Parallel(n_jobs=7)]: Done  85 out of 286 | elapsed:   15.3s remaining:   36.2s\n",
      "[Parallel(n_jobs=7)]: Done 114 out of 286 | elapsed:   20.5s remaining:   30.9s\n",
      "[Parallel(n_jobs=7)]: Done 143 out of 286 | elapsed:   25.7s remaining:   25.7s\n",
      "[Parallel(n_jobs=7)]: Done 172 out of 286 | elapsed:   30.8s remaining:   20.4s\n",
      "[Parallel(n_jobs=7)]: Done 201 out of 286 | elapsed:   36.0s remaining:   15.2s\n",
      "[Parallel(n_jobs=7)]: Done 230 out of 286 | elapsed:   41.5s remaining:   10.1s\n",
      "[Parallel(n_jobs=7)]: Done 259 out of 286 | elapsed:   46.2s remaining:    4.8s\n",
      "[Parallel(n_jobs=7)]: Done 286 out of 286 | elapsed:   50.7s finished\n"
     ]
    },
    {
     "name": "stdout",
     "output_type": "stream",
     "text": [
      "6 497\n",
      "\tCPC016_A375_6H (364, 7) 1806\n",
      "\t(1806, 978)\n"
     ]
    },
    {
     "name": "stderr",
     "output_type": "stream",
     "text": [
      "[Parallel(n_jobs=7)]: Done   1 out of 364 | elapsed:    1.6s remaining:  9.4min\n",
      "[Parallel(n_jobs=7)]: Done  33 out of 364 | elapsed:   11.4s remaining:  1.9min\n",
      "[Parallel(n_jobs=7)]: Done  70 out of 364 | elapsed:   22.1s remaining:  1.5min\n",
      "[Parallel(n_jobs=7)]: Done 107 out of 364 | elapsed:   32.9s remaining:  1.3min\n",
      "[Parallel(n_jobs=7)]: Done 144 out of 364 | elapsed:   44.0s remaining:  1.1min\n",
      "[Parallel(n_jobs=7)]: Done 181 out of 364 | elapsed:   54.8s remaining:   55.5s\n",
      "[Parallel(n_jobs=7)]: Done 218 out of 364 | elapsed:  1.1min remaining:   44.0s\n",
      "[Parallel(n_jobs=7)]: Done 255 out of 364 | elapsed:  1.3min remaining:   32.9s\n",
      "[Parallel(n_jobs=7)]: Done 292 out of 364 | elapsed:  1.5min remaining:   21.7s\n",
      "[Parallel(n_jobs=7)]: Done 329 out of 364 | elapsed:  1.6min remaining:   10.5s\n",
      "[Parallel(n_jobs=7)]: Done 364 out of 364 | elapsed:  1.8min finished\n"
     ]
    },
    {
     "name": "stdout",
     "output_type": "stream",
     "text": [
      "7 497\n",
      "\tBRAF001_HEK293T_24H (60, 7) 1001\n",
      "\t(1001, 978)\n"
     ]
    },
    {
     "name": "stderr",
     "output_type": "stream",
     "text": [
      "[Parallel(n_jobs=7)]: Done   1 out of  60 | elapsed:    1.3s remaining:  1.3min\n",
      "[Parallel(n_jobs=7)]: Done   6 out of  60 | elapsed:    1.6s remaining:   14.8s\n",
      "[Parallel(n_jobs=7)]: Done  13 out of  60 | elapsed:    3.3s remaining:   12.1s\n",
      "[Parallel(n_jobs=7)]: Done  20 out of  60 | elapsed:    4.8s remaining:    9.6s\n",
      "[Parallel(n_jobs=7)]: Done  27 out of  60 | elapsed:    6.2s remaining:    7.6s\n",
      "[Parallel(n_jobs=7)]: Done  34 out of  60 | elapsed:    7.9s remaining:    6.1s\n",
      "[Parallel(n_jobs=7)]: Done  41 out of  60 | elapsed:    9.5s remaining:    4.4s\n",
      "[Parallel(n_jobs=7)]: Done  48 out of  60 | elapsed:   11.2s remaining:    2.8s\n",
      "[Parallel(n_jobs=7)]: Done  55 out of  60 | elapsed:   12.6s remaining:    1.1s\n",
      "[Parallel(n_jobs=7)]: Done  60 out of  60 | elapsed:   13.2s finished\n"
     ]
    },
    {
     "name": "stdout",
     "output_type": "stream",
     "text": [
      "8 497\n",
      "\tCPC007_VCAP_6H (355, 7) 2105\n",
      "\t(2105, 978)\n"
     ]
    },
    {
     "name": "stderr",
     "output_type": "stream",
     "text": [
      "[Parallel(n_jobs=7)]: Done   1 out of 355 | elapsed:    1.7s remaining: 10.2min\n",
      "[Parallel(n_jobs=7)]: Done  33 out of 355 | elapsed:   11.3s remaining:  1.8min\n",
      "[Parallel(n_jobs=7)]: Done  69 out of 355 | elapsed:   22.8s remaining:  1.6min\n",
      "[Parallel(n_jobs=7)]: Done 105 out of 355 | elapsed:   34.4s remaining:  1.4min\n",
      "[Parallel(n_jobs=7)]: Done 141 out of 355 | elapsed:   45.8s remaining:  1.2min\n",
      "[Parallel(n_jobs=7)]: Done 177 out of 355 | elapsed:   57.1s remaining:   57.4s\n",
      "[Parallel(n_jobs=7)]: Done 213 out of 355 | elapsed:  1.2min remaining:   46.0s\n",
      "[Parallel(n_jobs=7)]: Done 249 out of 355 | elapsed:  1.3min remaining:   34.3s\n",
      "[Parallel(n_jobs=7)]: Done 285 out of 355 | elapsed:  1.5min remaining:   22.6s\n",
      "[Parallel(n_jobs=7)]: Done 321 out of 355 | elapsed:  1.7min remaining:   11.0s\n",
      "[Parallel(n_jobs=7)]: Done 355 out of 355 | elapsed:  1.9min finished\n"
     ]
    },
    {
     "name": "stdout",
     "output_type": "stream",
     "text": [
      "9 497\n",
      "\tCPC006_H1299_6H (351, 7) 711\n",
      "\t(711, 978)\n"
     ]
    },
    {
     "name": "stderr",
     "output_type": "stream",
     "text": [
      "[Parallel(n_jobs=7)]: Done   1 out of 351 | elapsed:    0.7s remaining:  3.9min\n",
      "[Parallel(n_jobs=7)]: Done  29 out of 351 | elapsed:    3.7s remaining:   41.6s\n",
      "[Parallel(n_jobs=7)]: Done  65 out of 351 | elapsed:    8.2s remaining:   36.0s\n",
      "[Parallel(n_jobs=7)]: Done 101 out of 351 | elapsed:   12.9s remaining:   32.0s\n",
      "[Parallel(n_jobs=7)]: Done 137 out of 351 | elapsed:   17.6s remaining:   27.6s\n",
      "[Parallel(n_jobs=7)]: Done 173 out of 351 | elapsed:   22.1s remaining:   22.7s\n",
      "[Parallel(n_jobs=7)]: Done 209 out of 351 | elapsed:   26.4s remaining:   18.0s\n",
      "[Parallel(n_jobs=7)]: Done 245 out of 351 | elapsed:   30.8s remaining:   13.3s\n",
      "[Parallel(n_jobs=7)]: Done 281 out of 351 | elapsed:   35.4s remaining:    8.8s\n",
      "[Parallel(n_jobs=7)]: Done 317 out of 351 | elapsed:   39.8s remaining:    4.3s\n",
      "[Parallel(n_jobs=7)]: Done 351 out of 351 | elapsed:   43.7s finished\n"
     ]
    },
    {
     "name": "stdout",
     "output_type": "stream",
     "text": [
      "10 497\n",
      "\tCPC015_ASC_24H (363, 7) 1441\n",
      "\t(1441, 978)\n"
     ]
    },
    {
     "name": "stderr",
     "output_type": "stream",
     "text": [
      "[Parallel(n_jobs=7)]: Done   1 out of 363 | elapsed:    2.6s remaining: 15.9min\n",
      "[Parallel(n_jobs=7)]: Done  32 out of 363 | elapsed:   15.1s remaining:  2.6min\n",
      "[Parallel(n_jobs=7)]: Done  69 out of 363 | elapsed:   31.4s remaining:  2.2min\n",
      "[Parallel(n_jobs=7)]: Done 106 out of 363 | elapsed:   49.2s remaining:  2.0min\n",
      "[Parallel(n_jobs=7)]: Done 143 out of 363 | elapsed:  1.1min remaining:  1.7min\n",
      "[Parallel(n_jobs=7)]: Done 180 out of 363 | elapsed:  1.4min remaining:  1.4min\n",
      "[Parallel(n_jobs=7)]: Done 217 out of 363 | elapsed:  1.6min remaining:  1.1min\n",
      "[Parallel(n_jobs=7)]: Done 254 out of 363 | elapsed:  1.9min remaining:   48.8s\n",
      "[Parallel(n_jobs=7)]: Done 291 out of 363 | elapsed:  2.2min remaining:   31.9s\n",
      "[Parallel(n_jobs=7)]: Done 328 out of 363 | elapsed:  2.4min remaining:   15.7s\n",
      "[Parallel(n_jobs=7)]: Done 363 out of 363 | elapsed:  2.7min finished\n"
     ]
    },
    {
     "name": "stdout",
     "output_type": "stream",
     "text": [
      "11 497\n",
      "\tCPC007_A375_24H (345, 7) 1035\n",
      "\t(1035, 978)\n"
     ]
    },
    {
     "name": "stderr",
     "output_type": "stream",
     "text": [
      "[Parallel(n_jobs=7)]: Done   1 out of 345 | elapsed:    1.4s remaining:  8.0min\n",
      "[Parallel(n_jobs=7)]: Done  32 out of 345 | elapsed:    8.3s remaining:  1.4min\n",
      "[Parallel(n_jobs=7)]: Done  67 out of 345 | elapsed:   16.8s remaining:  1.2min\n",
      "[Parallel(n_jobs=7)]: Done 102 out of 345 | elapsed:   25.3s remaining:  1.0min\n",
      "[Parallel(n_jobs=7)]: Done 137 out of 345 | elapsed:   33.3s remaining:   50.5s\n",
      "[Parallel(n_jobs=7)]: Done 172 out of 345 | elapsed:   41.6s remaining:   41.9s\n",
      "[Parallel(n_jobs=7)]: Done 207 out of 345 | elapsed:   49.6s remaining:   33.1s\n",
      "[Parallel(n_jobs=7)]: Done 242 out of 345 | elapsed:   57.7s remaining:   24.6s\n",
      "[Parallel(n_jobs=7)]: Done 277 out of 345 | elapsed:  1.1min remaining:   16.3s\n",
      "[Parallel(n_jobs=7)]: Done 312 out of 345 | elapsed:  1.2min remaining:    7.9s\n",
      "[Parallel(n_jobs=7)]: Done 345 out of 345 | elapsed:  1.4min finished\n"
     ]
    },
    {
     "name": "stdout",
     "output_type": "stream",
     "text": [
      "12 497\n",
      "\tPCLB003_HA1E_24H (156, 7) 1037\n",
      "\t(1037, 978)\n"
     ]
    },
    {
     "name": "stderr",
     "output_type": "stream",
     "text": [
      "[Parallel(n_jobs=7)]: Done   1 out of 156 | elapsed:    1.8s remaining:  4.8min\n",
      "[Parallel(n_jobs=7)]: Done  14 out of 156 | elapsed:    4.0s remaining:   40.9s\n",
      "[Parallel(n_jobs=7)]: Done  30 out of 156 | elapsed:    8.9s remaining:   37.6s\n",
      "[Parallel(n_jobs=7)]: Done  46 out of 156 | elapsed:   13.3s remaining:   31.7s\n",
      "[Parallel(n_jobs=7)]: Done  62 out of 156 | elapsed:   17.4s remaining:   26.3s\n",
      "[Parallel(n_jobs=7)]: Done  78 out of 156 | elapsed:   21.4s remaining:   21.4s\n",
      "[Parallel(n_jobs=7)]: Done  94 out of 156 | elapsed:   25.4s remaining:   16.8s\n",
      "[Parallel(n_jobs=7)]: Done 110 out of 156 | elapsed:   29.6s remaining:   12.4s\n",
      "[Parallel(n_jobs=7)]: Done 126 out of 156 | elapsed:   33.8s remaining:    8.1s\n",
      "[Parallel(n_jobs=7)]: Done 142 out of 156 | elapsed:   37.8s remaining:    3.7s\n",
      "[Parallel(n_jobs=7)]: Done 156 out of 156 | elapsed:   40.4s finished\n"
     ]
    },
    {
     "name": "stdout",
     "output_type": "stream",
     "text": [
      "13 497\n",
      "\tCPC007_HA1E_6H (354, 7) 1045\n",
      "\t(1045, 978)\n"
     ]
    },
    {
     "name": "stderr",
     "output_type": "stream",
     "text": [
      "[Parallel(n_jobs=7)]: Done   1 out of 354 | elapsed:    1.4s remaining:  8.3min\n",
      "[Parallel(n_jobs=7)]: Done  32 out of 354 | elapsed:    9.0s remaining:  1.5min\n",
      "[Parallel(n_jobs=7)]: Done  68 out of 354 | elapsed:   18.2s remaining:  1.3min\n",
      "[Parallel(n_jobs=7)]: Done 104 out of 354 | elapsed:   26.7s remaining:  1.1min\n",
      "[Parallel(n_jobs=7)]: Done 140 out of 354 | elapsed:   35.7s remaining:   54.5s\n",
      "[Parallel(n_jobs=7)]: Done 176 out of 354 | elapsed:   44.4s remaining:   44.9s\n",
      "[Parallel(n_jobs=7)]: Done 212 out of 354 | elapsed:   53.3s remaining:   35.7s\n",
      "[Parallel(n_jobs=7)]: Done 248 out of 354 | elapsed:  1.0min remaining:   26.8s\n",
      "[Parallel(n_jobs=7)]: Done 284 out of 354 | elapsed:  1.2min remaining:   17.6s\n",
      "[Parallel(n_jobs=7)]: Done 320 out of 354 | elapsed:  1.3min remaining:    8.5s\n",
      "[Parallel(n_jobs=7)]: Done 354 out of 354 | elapsed:  1.5min finished\n"
     ]
    },
    {
     "name": "stdout",
     "output_type": "stream",
     "text": [
      "14 497\n",
      "\tPCLB002_MCF7_24H (131, 7) 1098\n",
      "\t(1098, 978)\n"
     ]
    },
    {
     "name": "stderr",
     "output_type": "stream",
     "text": [
      "[Parallel(n_jobs=7)]: Done   1 out of 131 | elapsed:    1.4s remaining:  3.0min\n",
      "[Parallel(n_jobs=7)]: Done   7 out of 131 | elapsed:    2.0s remaining:   35.9s\n",
      "[Parallel(n_jobs=7)]: Done  21 out of 131 | elapsed:    5.6s remaining:   29.3s\n",
      "[Parallel(n_jobs=7)]: Done  35 out of 131 | elapsed:    9.5s remaining:   25.9s\n",
      "[Parallel(n_jobs=7)]: Done  49 out of 131 | elapsed:   13.4s remaining:   22.4s\n",
      "[Parallel(n_jobs=7)]: Done  63 out of 131 | elapsed:   17.2s remaining:   18.6s\n",
      "[Parallel(n_jobs=7)]: Done  77 out of 131 | elapsed:   20.9s remaining:   14.7s\n",
      "[Parallel(n_jobs=7)]: Done  91 out of 131 | elapsed:   24.6s remaining:   10.8s\n",
      "[Parallel(n_jobs=7)]: Done 105 out of 131 | elapsed:   28.2s remaining:    7.0s\n",
      "[Parallel(n_jobs=7)]: Done 119 out of 131 | elapsed:   31.8s remaining:    3.2s\n",
      "[Parallel(n_jobs=7)]: Done 131 out of 131 | elapsed:   34.3s finished\n"
     ]
    },
    {
     "name": "stdout",
     "output_type": "stream",
     "text": [
      "15 497\n",
      "\tHOG002_A549_6H (287, 7) 852\n",
      "\t(852, 978)\n"
     ]
    },
    {
     "name": "stderr",
     "output_type": "stream",
     "text": [
      "[Parallel(n_jobs=7)]: Done   1 out of 287 | elapsed:    0.9s remaining:  4.4min\n",
      "[Parallel(n_jobs=7)]: Done  28 out of 287 | elapsed:    4.8s remaining:   44.4s\n",
      "[Parallel(n_jobs=7)]: Done  57 out of 287 | elapsed:   10.1s remaining:   40.8s\n",
      "[Parallel(n_jobs=7)]: Done  86 out of 287 | elapsed:   15.0s remaining:   35.0s\n",
      "[Parallel(n_jobs=7)]: Done 115 out of 287 | elapsed:   19.8s remaining:   29.7s\n",
      "[Parallel(n_jobs=7)]: Done 144 out of 287 | elapsed:   24.8s remaining:   24.6s\n",
      "[Parallel(n_jobs=7)]: Done 173 out of 287 | elapsed:   29.6s remaining:   19.5s\n",
      "[Parallel(n_jobs=7)]: Done 202 out of 287 | elapsed:   34.4s remaining:   14.5s\n",
      "[Parallel(n_jobs=7)]: Done 231 out of 287 | elapsed:   39.6s remaining:    9.6s\n",
      "[Parallel(n_jobs=7)]: Done 260 out of 287 | elapsed:   44.8s remaining:    4.7s\n",
      "[Parallel(n_jobs=7)]: Done 287 out of 287 | elapsed:   48.9s finished\n"
     ]
    },
    {
     "name": "stdout",
     "output_type": "stream",
     "text": [
      "16 497\n",
      "\tCPC002_HA1E_24H (352, 7) 1044\n",
      "\t(1044, 978)\n"
     ]
    },
    {
     "name": "stderr",
     "output_type": "stream",
     "text": [
      "[Parallel(n_jobs=7)]: Done   1 out of 352 | elapsed:    1.2s remaining:  6.8min\n",
      "[Parallel(n_jobs=7)]: Done  30 out of 352 | elapsed:    7.5s remaining:  1.3min\n",
      "[Parallel(n_jobs=7)]: Done  66 out of 352 | elapsed:   16.6s remaining:  1.2min\n",
      "[Parallel(n_jobs=7)]: Done 102 out of 352 | elapsed:   25.4s remaining:  1.0min\n",
      "[Parallel(n_jobs=7)]: Done 138 out of 352 | elapsed:   34.1s remaining:   52.9s\n",
      "[Parallel(n_jobs=7)]: Done 174 out of 352 | elapsed:   42.7s remaining:   43.6s\n",
      "[Parallel(n_jobs=7)]: Done 210 out of 352 | elapsed:   50.9s remaining:   34.4s\n",
      "[Parallel(n_jobs=7)]: Done 246 out of 352 | elapsed:   59.6s remaining:   25.7s\n",
      "[Parallel(n_jobs=7)]: Done 282 out of 352 | elapsed:  1.1min remaining:   16.9s\n",
      "[Parallel(n_jobs=7)]: Done 318 out of 352 | elapsed:  1.3min remaining:    8.1s\n",
      "[Parallel(n_jobs=7)]: Done 352 out of 352 | elapsed:  1.4min finished\n"
     ]
    },
    {
     "name": "stdout",
     "output_type": "stream",
     "text": [
      "17 497\n",
      "\tCPC020_PC3_6H (330, 7) 1759\n",
      "\t(1759, 978)\n"
     ]
    },
    {
     "name": "stderr",
     "output_type": "stream",
     "text": [
      "[Parallel(n_jobs=7)]: Done   1 out of 330 | elapsed:    3.7s remaining: 20.4min\n",
      "[Parallel(n_jobs=7)]: Done  26 out of 330 | elapsed:   17.1s remaining:  3.3min\n",
      "[Parallel(n_jobs=7)]: Done  60 out of 330 | elapsed:   38.0s remaining:  2.9min\n",
      "[Parallel(n_jobs=7)]: Done  94 out of 330 | elapsed:   59.3s remaining:  2.5min\n",
      "[Parallel(n_jobs=7)]: Done 128 out of 330 | elapsed:  1.3min remaining:  2.0min\n",
      "[Parallel(n_jobs=7)]: Done 162 out of 330 | elapsed:  1.7min remaining:  1.7min\n",
      "[Parallel(n_jobs=7)]: Done 196 out of 330 | elapsed:  2.0min remaining:  1.4min\n",
      "[Parallel(n_jobs=7)]: Done 230 out of 330 | elapsed:  2.4min remaining:  1.0min\n",
      "[Parallel(n_jobs=7)]: Done 264 out of 330 | elapsed:  2.7min remaining:   40.6s\n",
      "[Parallel(n_jobs=7)]: Done 298 out of 330 | elapsed:  3.0min remaining:   19.4s\n",
      "[Parallel(n_jobs=7)]: Done 330 out of 330 | elapsed:  3.3min finished\n"
     ]
    },
    {
     "name": "stdout",
     "output_type": "stream",
     "text": [
      "18 497\n",
      "\tCPC001_HA1E_6H (363, 7) 1079\n",
      "\t(1079, 978)\n"
     ]
    },
    {
     "name": "stderr",
     "output_type": "stream",
     "text": [
      "[Parallel(n_jobs=7)]: Done   1 out of 363 | elapsed:    1.4s remaining:  8.3min\n",
      "[Parallel(n_jobs=7)]: Done  32 out of 363 | elapsed:    8.7s remaining:  1.5min\n",
      "[Parallel(n_jobs=7)]: Done  69 out of 363 | elapsed:   18.3s remaining:  1.3min\n",
      "[Parallel(n_jobs=7)]: Done 106 out of 363 | elapsed:   27.5s remaining:  1.1min\n",
      "[Parallel(n_jobs=7)]: Done 143 out of 363 | elapsed:   36.9s remaining:   56.7s\n",
      "[Parallel(n_jobs=7)]: Done 180 out of 363 | elapsed:   45.6s remaining:   46.3s\n",
      "[Parallel(n_jobs=7)]: Done 217 out of 363 | elapsed:   55.1s remaining:   37.1s\n",
      "[Parallel(n_jobs=7)]: Done 254 out of 363 | elapsed:  1.1min remaining:   27.7s\n",
      "[Parallel(n_jobs=7)]: Done 291 out of 363 | elapsed:  1.2min remaining:   18.3s\n",
      "[Parallel(n_jobs=7)]: Done 328 out of 363 | elapsed:  1.4min remaining:    8.9s\n",
      "[Parallel(n_jobs=7)]: Done 363 out of 363 | elapsed:  1.5min finished\n"
     ]
    },
    {
     "name": "stdout",
     "output_type": "stream",
     "text": [
      "19 497\n",
      "\tCPC014_NEU_24H (290, 7) 651\n",
      "\t(651, 978)\n"
     ]
    },
    {
     "name": "stderr",
     "output_type": "stream",
     "text": [
      "[Parallel(n_jobs=7)]: Done   1 out of 290 | elapsed:    0.5s remaining:  2.6min\n",
      "[Parallel(n_jobs=7)]: Done  22 out of 290 | elapsed:    2.6s remaining:   31.1s\n",
      "[Parallel(n_jobs=7)]: Done  52 out of 290 | elapsed:    5.7s remaining:   25.9s\n",
      "[Parallel(n_jobs=7)]: Done  82 out of 290 | elapsed:    9.2s remaining:   23.3s\n",
      "[Parallel(n_jobs=7)]: Done 112 out of 290 | elapsed:   12.5s remaining:   19.8s\n",
      "[Parallel(n_jobs=7)]: Done 142 out of 290 | elapsed:   16.0s remaining:   16.7s\n",
      "[Parallel(n_jobs=7)]: Done 172 out of 290 | elapsed:   19.5s remaining:   13.3s\n",
      "[Parallel(n_jobs=7)]: Done 202 out of 290 | elapsed:   22.8s remaining:    9.9s\n",
      "[Parallel(n_jobs=7)]: Done 232 out of 290 | elapsed:   26.1s remaining:    6.5s\n",
      "[Parallel(n_jobs=7)]: Done 262 out of 290 | elapsed:   29.6s remaining:    3.2s\n",
      "[Parallel(n_jobs=7)]: Done 290 out of 290 | elapsed:   32.3s finished\n"
     ]
    },
    {
     "name": "stdout",
     "output_type": "stream",
     "text": [
      "20 497\n",
      "\tCPC018_PHH_24H (359, 7) 1038\n",
      "\t(1038, 978)\n"
     ]
    },
    {
     "name": "stderr",
     "output_type": "stream",
     "text": [
      "[Parallel(n_jobs=7)]: Done   1 out of 359 | elapsed:    1.3s remaining:  7.6min\n",
      "[Parallel(n_jobs=7)]: Done  37 out of 359 | elapsed:    9.5s remaining:  1.4min\n",
      "[Parallel(n_jobs=7)]: Done  73 out of 359 | elapsed:   18.5s remaining:  1.2min\n",
      "[Parallel(n_jobs=7)]: Done 109 out of 359 | elapsed:   27.2s remaining:  1.0min\n",
      "[Parallel(n_jobs=7)]: Done 145 out of 359 | elapsed:   35.5s remaining:   52.4s\n",
      "[Parallel(n_jobs=7)]: Done 181 out of 359 | elapsed:   44.4s remaining:   43.7s\n",
      "[Parallel(n_jobs=7)]: Done 217 out of 359 | elapsed:   53.7s remaining:   35.1s\n",
      "[Parallel(n_jobs=7)]: Done 253 out of 359 | elapsed:  1.0min remaining:   26.3s\n",
      "[Parallel(n_jobs=7)]: Done 289 out of 359 | elapsed:  1.2min remaining:   17.3s\n",
      "[Parallel(n_jobs=7)]: Done 325 out of 359 | elapsed:  1.3min remaining:    8.3s\n",
      "[Parallel(n_jobs=7)]: Done 359 out of 359 | elapsed:  1.5min finished\n"
     ]
    },
    {
     "name": "stdout",
     "output_type": "stream",
     "text": [
      "21 497\n",
      "\tPCLB002_A549_24H (132, 7) 1105\n",
      "\t(1105, 978)\n"
     ]
    },
    {
     "name": "stderr",
     "output_type": "stream",
     "text": [
      "[Parallel(n_jobs=7)]: Done   1 out of 132 | elapsed:    1.5s remaining:  3.3min\n",
      "[Parallel(n_jobs=7)]: Done   8 out of 132 | elapsed:    2.8s remaining:   43.8s\n",
      "[Parallel(n_jobs=7)]: Done  22 out of 132 | elapsed:    6.7s remaining:   33.3s\n",
      "[Parallel(n_jobs=7)]: Done  36 out of 132 | elapsed:   10.5s remaining:   27.9s\n",
      "[Parallel(n_jobs=7)]: Done  50 out of 132 | elapsed:   14.2s remaining:   23.4s\n",
      "[Parallel(n_jobs=7)]: Done  64 out of 132 | elapsed:   18.0s remaining:   19.1s\n",
      "[Parallel(n_jobs=7)]: Done  78 out of 132 | elapsed:   21.8s remaining:   15.1s\n",
      "[Parallel(n_jobs=7)]: Done  92 out of 132 | elapsed:   25.6s remaining:   11.1s\n",
      "[Parallel(n_jobs=7)]: Done 106 out of 132 | elapsed:   29.4s remaining:    7.2s\n",
      "[Parallel(n_jobs=7)]: Done 120 out of 132 | elapsed:   33.4s remaining:    3.3s\n",
      "[Parallel(n_jobs=7)]: Done 132 out of 132 | elapsed:   35.8s finished\n"
     ]
    },
    {
     "name": "stdout",
     "output_type": "stream",
     "text": [
      "22 497\n",
      "\tLJP001_BT20_6H (324, 7) 1403\n",
      "\t(1403, 978)\n"
     ]
    },
    {
     "name": "stderr",
     "output_type": "stream",
     "text": [
      "[Parallel(n_jobs=7)]: Done   1 out of 324 | elapsed:    2.5s remaining: 13.6min\n",
      "[Parallel(n_jobs=7)]: Done  29 out of 324 | elapsed:   13.5s remaining:  2.3min\n",
      "[Parallel(n_jobs=7)]: Done  62 out of 324 | elapsed:   26.6s remaining:  1.9min\n",
      "[Parallel(n_jobs=7)]: Done  95 out of 324 | elapsed:   41.1s remaining:  1.7min\n",
      "[Parallel(n_jobs=7)]: Done 128 out of 324 | elapsed:   53.0s remaining:  1.4min\n",
      "[Parallel(n_jobs=7)]: Done 161 out of 324 | elapsed:  1.1min remaining:  1.2min\n",
      "[Parallel(n_jobs=7)]: Done 194 out of 324 | elapsed:  1.4min remaining:   55.1s\n",
      "[Parallel(n_jobs=7)]: Done 227 out of 324 | elapsed:  1.6min remaining:   40.8s\n",
      "[Parallel(n_jobs=7)]: Done 260 out of 324 | elapsed:  1.8min remaining:   27.1s\n",
      "[Parallel(n_jobs=7)]: Done 293 out of 324 | elapsed:  2.0min remaining:   12.9s\n",
      "[Parallel(n_jobs=7)]: Done 324 out of 324 | elapsed:  2.2min finished\n"
     ]
    },
    {
     "name": "stdout",
     "output_type": "stream",
     "text": [
      "23 497\n",
      "\tCPC013_MCF7_24H (361, 7) 1772\n",
      "\t(1772, 978)\n"
     ]
    },
    {
     "name": "stderr",
     "output_type": "stream",
     "text": [
      "[Parallel(n_jobs=7)]: Done   1 out of 361 | elapsed:    3.5s remaining: 21.1min\n",
      "[Parallel(n_jobs=7)]: Done  30 out of 361 | elapsed:   21.3s remaining:  3.9min\n",
      "[Parallel(n_jobs=7)]: Done  67 out of 361 | elapsed:   44.0s remaining:  3.2min\n",
      "[Parallel(n_jobs=7)]: Done 104 out of 361 | elapsed:  1.1min remaining:  2.7min\n",
      "[Parallel(n_jobs=7)]: Done 141 out of 361 | elapsed:  1.5min remaining:  2.4min\n",
      "[Parallel(n_jobs=7)]: Done 178 out of 361 | elapsed:  1.9min remaining:  2.0min\n",
      "[Parallel(n_jobs=7)]: Done 215 out of 361 | elapsed:  2.3min remaining:  1.6min\n",
      "[Parallel(n_jobs=7)]: Done 252 out of 361 | elapsed:  2.7min remaining:  1.2min\n",
      "[Parallel(n_jobs=7)]: Done 289 out of 361 | elapsed:  3.1min remaining:   46.5s\n",
      "[Parallel(n_jobs=7)]: Done 326 out of 361 | elapsed:  3.5min remaining:   22.5s\n",
      "[Parallel(n_jobs=7)]: Done 361 out of 361 | elapsed:  3.8min finished\n"
     ]
    },
    {
     "name": "stdout",
     "output_type": "stream",
     "text": [
      "24 497\n",
      "\tCPC019_A549_24H (360, 7) 1075\n",
      "\t(1075, 978)\n"
     ]
    },
    {
     "name": "stderr",
     "output_type": "stream",
     "text": [
      "[Parallel(n_jobs=7)]: Done   1 out of 360 | elapsed:    1.3s remaining:  8.0min\n",
      "[Parallel(n_jobs=7)]: Done  29 out of 360 | elapsed:    7.8s remaining:  1.5min\n",
      "[Parallel(n_jobs=7)]: Done  66 out of 360 | elapsed:   17.5s remaining:  1.3min\n",
      "[Parallel(n_jobs=7)]: Done 103 out of 360 | elapsed:   26.9s remaining:  1.1min\n",
      "[Parallel(n_jobs=7)]: Done 140 out of 360 | elapsed:   36.5s remaining:   57.3s\n",
      "[Parallel(n_jobs=7)]: Done 177 out of 360 | elapsed:   46.3s remaining:   47.9s\n",
      "[Parallel(n_jobs=7)]: Done 214 out of 360 | elapsed:   56.6s remaining:   38.6s\n",
      "[Parallel(n_jobs=7)]: Done 251 out of 360 | elapsed:  1.1min remaining:   28.5s\n",
      "[Parallel(n_jobs=7)]: Done 288 out of 360 | elapsed:  1.3min remaining:   18.8s\n",
      "[Parallel(n_jobs=7)]: Done 325 out of 360 | elapsed:  1.4min remaining:    9.1s\n",
      "[Parallel(n_jobs=7)]: Done 360 out of 360 | elapsed:  1.6min finished\n"
     ]
    },
    {
     "name": "stdout",
     "output_type": "stream",
     "text": [
      "25 497\n",
      "\tCPC004_HA1E_24H (352, 7) 1051\n",
      "\t(1051, 978)\n"
     ]
    },
    {
     "name": "stderr",
     "output_type": "stream",
     "text": [
      "[Parallel(n_jobs=7)]: Done   1 out of 352 | elapsed:    1.3s remaining:  7.6min\n",
      "[Parallel(n_jobs=7)]: Done  30 out of 352 | elapsed:    7.5s remaining:  1.3min\n",
      "[Parallel(n_jobs=7)]: Done  66 out of 352 | elapsed:   17.4s remaining:  1.3min\n",
      "[Parallel(n_jobs=7)]: Done 102 out of 352 | elapsed:   26.5s remaining:  1.1min\n",
      "[Parallel(n_jobs=7)]: Done 138 out of 352 | elapsed:   35.0s remaining:   54.3s\n",
      "[Parallel(n_jobs=7)]: Done 174 out of 352 | elapsed:   43.5s remaining:   44.6s\n",
      "[Parallel(n_jobs=7)]: Done 210 out of 352 | elapsed:   52.4s remaining:   35.4s\n",
      "[Parallel(n_jobs=7)]: Done 246 out of 352 | elapsed:  1.0min remaining:   26.3s\n",
      "[Parallel(n_jobs=7)]: Done 282 out of 352 | elapsed:  1.2min remaining:   17.4s\n",
      "[Parallel(n_jobs=7)]: Done 318 out of 352 | elapsed:  1.3min remaining:    8.5s\n",
      "[Parallel(n_jobs=7)]: Done 352 out of 352 | elapsed:  1.4min finished\n"
     ]
    },
    {
     "name": "stdout",
     "output_type": "stream",
     "text": [
      "26 497\n",
      "\tCPC005_MCF7_6H (364, 7) 1779\n",
      "\t(1779, 978)\n"
     ]
    },
    {
     "name": "stderr",
     "output_type": "stream",
     "text": [
      "[Parallel(n_jobs=7)]: Done   1 out of 364 | elapsed:    3.6s remaining: 21.6min\n",
      "[Parallel(n_jobs=7)]: Done  33 out of 364 | elapsed:   20.9s remaining:  3.5min\n",
      "[Parallel(n_jobs=7)]: Done  70 out of 364 | elapsed:   43.2s remaining:  3.0min\n",
      "[Parallel(n_jobs=7)]: Done 107 out of 364 | elapsed:  1.1min remaining:  2.8min\n",
      "[Parallel(n_jobs=7)]: Done 144 out of 364 | elapsed:  1.5min remaining:  2.3min\n",
      "[Parallel(n_jobs=7)]: Done 181 out of 364 | elapsed:  1.9min remaining:  1.9min\n",
      "[Parallel(n_jobs=7)]: Done 218 out of 364 | elapsed:  2.2min remaining:  1.5min\n",
      "[Parallel(n_jobs=7)]: Done 255 out of 364 | elapsed:  2.7min remaining:  1.1min\n",
      "[Parallel(n_jobs=7)]: Done 292 out of 364 | elapsed:  3.0min remaining:   44.8s\n",
      "[Parallel(n_jobs=7)]: Done 329 out of 364 | elapsed:  3.4min remaining:   21.7s\n",
      "[Parallel(n_jobs=7)]: Done 364 out of 364 | elapsed:  3.7min finished\n"
     ]
    },
    {
     "name": "stdout",
     "output_type": "stream",
     "text": [
      "27 497\n",
      "\tCPC006_SW480_6H (358, 7) 721\n",
      "\t(721, 978)\n"
     ]
    },
    {
     "name": "stderr",
     "output_type": "stream",
     "text": [
      "[Parallel(n_jobs=7)]: Done   1 out of 358 | elapsed:    0.6s remaining:  3.8min\n",
      "[Parallel(n_jobs=7)]: Done  36 out of 358 | elapsed:    5.5s remaining:   48.9s\n",
      "[Parallel(n_jobs=7)]: Done  72 out of 358 | elapsed:   10.5s remaining:   41.9s\n",
      "[Parallel(n_jobs=7)]: Done 108 out of 358 | elapsed:   15.6s remaining:   36.2s\n",
      "[Parallel(n_jobs=7)]: Done 144 out of 358 | elapsed:   20.7s remaining:   30.7s\n",
      "[Parallel(n_jobs=7)]: Done 180 out of 358 | elapsed:   25.5s remaining:   25.2s\n",
      "[Parallel(n_jobs=7)]: Done 216 out of 358 | elapsed:   29.8s remaining:   19.6s\n",
      "[Parallel(n_jobs=7)]: Done 252 out of 358 | elapsed:   34.5s remaining:   14.5s\n",
      "[Parallel(n_jobs=7)]: Done 288 out of 358 | elapsed:   38.9s remaining:    9.5s\n",
      "[Parallel(n_jobs=7)]: Done 324 out of 358 | elapsed:   43.5s remaining:    4.6s\n",
      "[Parallel(n_jobs=7)]: Done 358 out of 358 | elapsed:   47.4s finished\n"
     ]
    },
    {
     "name": "stdout",
     "output_type": "stream",
     "text": [
      "28 497\n",
      "\tCPC006_LOVO_6H (354, 7) 714\n",
      "\t(714, 978)\n"
     ]
    },
    {
     "name": "stderr",
     "output_type": "stream",
     "text": [
      "[Parallel(n_jobs=7)]: Done   1 out of 354 | elapsed:    0.7s remaining:  4.3min\n",
      "[Parallel(n_jobs=7)]: Done  32 out of 354 | elapsed:    4.0s remaining:   40.1s\n",
      "[Parallel(n_jobs=7)]: Done  68 out of 354 | elapsed:    8.8s remaining:   37.0s\n",
      "[Parallel(n_jobs=7)]: Done 104 out of 354 | elapsed:   13.5s remaining:   32.4s\n",
      "[Parallel(n_jobs=7)]: Done 140 out of 354 | elapsed:   18.0s remaining:   27.5s\n",
      "[Parallel(n_jobs=7)]: Done 176 out of 354 | elapsed:   22.5s remaining:   22.7s\n",
      "[Parallel(n_jobs=7)]: Done 212 out of 354 | elapsed:   26.9s remaining:   18.0s\n",
      "[Parallel(n_jobs=7)]: Done 248 out of 354 | elapsed:   31.4s remaining:   13.4s\n",
      "[Parallel(n_jobs=7)]: Done 284 out of 354 | elapsed:   35.8s remaining:    8.8s\n",
      "[Parallel(n_jobs=7)]: Done 320 out of 354 | elapsed:   40.2s remaining:    4.3s\n",
      "[Parallel(n_jobs=7)]: Done 354 out of 354 | elapsed:   44.2s finished\n"
     ]
    },
    {
     "name": "stdout",
     "output_type": "stream",
     "text": [
      "29 497\n",
      "\tCPC007_HT29_6H (356, 7) 1393\n",
      "\t(1393, 978)\n"
     ]
    },
    {
     "name": "stderr",
     "output_type": "stream",
     "text": [
      "[Parallel(n_jobs=7)]: Done   1 out of 356 | elapsed:    2.5s remaining: 14.7min\n",
      "[Parallel(n_jobs=7)]: Done  34 out of 356 | elapsed:   14.5s remaining:  2.3min\n",
      "[Parallel(n_jobs=7)]: Done  70 out of 356 | elapsed:   28.8s remaining:  2.0min\n",
      "[Parallel(n_jobs=7)]: Done 106 out of 356 | elapsed:   43.1s remaining:  1.7min\n",
      "[Parallel(n_jobs=7)]: Done 142 out of 356 | elapsed:   57.4s remaining:  1.4min\n",
      "[Parallel(n_jobs=7)]: Done 178 out of 356 | elapsed:  1.2min remaining:  1.2min\n",
      "[Parallel(n_jobs=7)]: Done 214 out of 356 | elapsed:  1.4min remaining:   57.3s\n",
      "[Parallel(n_jobs=7)]: Done 250 out of 356 | elapsed:  1.7min remaining:   42.7s\n",
      "[Parallel(n_jobs=7)]: Done 286 out of 356 | elapsed:  1.9min remaining:   28.2s\n",
      "[Parallel(n_jobs=7)]: Done 322 out of 356 | elapsed:  2.2min remaining:   13.7s\n",
      "[Parallel(n_jobs=7)]: Done 356 out of 356 | elapsed:  2.4min finished\n"
     ]
    },
    {
     "name": "stdout",
     "output_type": "stream",
     "text": [
      "30 497\n",
      "\tNMH001_FIBRNPC_6H (52, 7) 704\n",
      "\t(704, 978)\n"
     ]
    },
    {
     "name": "stderr",
     "output_type": "stream",
     "text": [
      "[Parallel(n_jobs=7)]: Done   1 out of  52 | elapsed:    0.8s remaining:   38.7s\n",
      "[Parallel(n_jobs=7)]: Done   6 out of  52 | elapsed:    0.9s remaining:    7.3s\n",
      "[Parallel(n_jobs=7)]: Done  12 out of  52 | elapsed:    1.7s remaining:    5.8s\n",
      "[Parallel(n_jobs=7)]: Done  18 out of  52 | elapsed:    2.5s remaining:    4.8s\n",
      "[Parallel(n_jobs=7)]: Done  24 out of  52 | elapsed:    3.2s remaining:    3.8s\n",
      "[Parallel(n_jobs=7)]: Done  30 out of  52 | elapsed:    3.8s remaining:    2.8s\n",
      "[Parallel(n_jobs=7)]: Done  36 out of  52 | elapsed:    4.6s remaining:    2.0s\n",
      "[Parallel(n_jobs=7)]: Done  42 out of  52 | elapsed:    5.4s remaining:    1.3s\n",
      "[Parallel(n_jobs=7)]: Done  48 out of  52 | elapsed:    6.4s remaining:    0.5s\n",
      "[Parallel(n_jobs=7)]: Done  52 out of  52 | elapsed:    6.6s finished\n"
     ]
    },
    {
     "name": "stdout",
     "output_type": "stream",
     "text": [
      "31 497\n",
      "\tCPC008_VCAP_24H (359, 7) 1750\n",
      "\t(1750, 978)\n"
     ]
    },
    {
     "name": "stderr",
     "output_type": "stream",
     "text": [
      "[Parallel(n_jobs=7)]: Done   1 out of 359 | elapsed:    3.4s remaining: 20.3min\n",
      "[Parallel(n_jobs=7)]: Done  37 out of 359 | elapsed:   24.0s remaining:  3.5min\n",
      "[Parallel(n_jobs=7)]: Done  73 out of 359 | elapsed:   44.4s remaining:  2.9min\n",
      "[Parallel(n_jobs=7)]: Done 109 out of 359 | elapsed:  1.1min remaining:  2.5min\n",
      "[Parallel(n_jobs=7)]: Done 145 out of 359 | elapsed:  1.4min remaining:  2.1min\n",
      "[Parallel(n_jobs=7)]: Done 181 out of 359 | elapsed:  1.8min remaining:  1.7min\n",
      "[Parallel(n_jobs=7)]: Done 217 out of 359 | elapsed:  2.1min remaining:  1.4min\n",
      "[Parallel(n_jobs=7)]: Done 253 out of 359 | elapsed:  2.5min remaining:  1.0min\n",
      "[Parallel(n_jobs=7)]: Done 289 out of 359 | elapsed:  2.8min remaining:   40.4s\n",
      "[Parallel(n_jobs=7)]: Done 325 out of 359 | elapsed:  3.1min remaining:   19.6s\n",
      "[Parallel(n_jobs=7)]: Done 359 out of 359 | elapsed:  3.4min finished\n"
     ]
    },
    {
     "name": "stdout",
     "output_type": "stream",
     "text": [
      "32 497\n",
      "\tCPC015_A375_6H (363, 7) 1081\n",
      "\t(1081, 978)\n"
     ]
    },
    {
     "name": "stderr",
     "output_type": "stream",
     "text": [
      "[Parallel(n_jobs=7)]: Done   1 out of 363 | elapsed:    1.2s remaining:  7.5min\n",
      "[Parallel(n_jobs=7)]: Done  32 out of 363 | elapsed:    8.4s remaining:  1.4min\n",
      "[Parallel(n_jobs=7)]: Done  69 out of 363 | elapsed:   17.7s remaining:  1.3min\n",
      "[Parallel(n_jobs=7)]: Done 106 out of 363 | elapsed:   26.8s remaining:  1.1min\n",
      "[Parallel(n_jobs=7)]: Done 143 out of 363 | elapsed:   35.6s remaining:   54.8s\n",
      "[Parallel(n_jobs=7)]: Done 180 out of 363 | elapsed:   44.7s remaining:   45.5s\n",
      "[Parallel(n_jobs=7)]: Done 217 out of 363 | elapsed:   54.2s remaining:   36.4s\n",
      "[Parallel(n_jobs=7)]: Done 254 out of 363 | elapsed:  1.0min remaining:   27.0s\n",
      "[Parallel(n_jobs=7)]: Done 291 out of 363 | elapsed:  1.2min remaining:   17.9s\n",
      "[Parallel(n_jobs=7)]: Done 328 out of 363 | elapsed:  1.4min remaining:    8.7s\n",
      "[Parallel(n_jobs=7)]: Done 363 out of 363 | elapsed:  1.5min finished\n"
     ]
    },
    {
     "name": "stdout",
     "output_type": "stream",
     "text": [
      "33 497\n",
      "\tCPC020_VCAP_6H (329, 7) 1798\n",
      "\t(1798, 978)\n"
     ]
    },
    {
     "name": "stderr",
     "output_type": "stream",
     "text": [
      "[Parallel(n_jobs=7)]: Done   1 out of 329 | elapsed:    1.8s remaining:  9.6min\n",
      "[Parallel(n_jobs=7)]: Done  34 out of 329 | elapsed:   10.8s remaining:  1.6min\n",
      "[Parallel(n_jobs=7)]: Done  67 out of 329 | elapsed:   20.7s remaining:  1.4min\n",
      "[Parallel(n_jobs=7)]: Done 100 out of 329 | elapsed:   30.6s remaining:  1.2min\n",
      "[Parallel(n_jobs=7)]: Done 133 out of 329 | elapsed:   40.2s remaining:   59.2s\n",
      "[Parallel(n_jobs=7)]: Done 166 out of 329 | elapsed:   50.3s remaining:   49.3s\n",
      "[Parallel(n_jobs=7)]: Done 199 out of 329 | elapsed:   59.7s remaining:   39.0s\n",
      "[Parallel(n_jobs=7)]: Done 232 out of 329 | elapsed:  1.2min remaining:   29.2s\n",
      "[Parallel(n_jobs=7)]: Done 265 out of 329 | elapsed:  1.3min remaining:   19.1s\n",
      "[Parallel(n_jobs=7)]: Done 298 out of 329 | elapsed:  1.5min remaining:    9.3s\n",
      "[Parallel(n_jobs=7)]: Done 329 out of 329 | elapsed:  1.6min finished\n"
     ]
    },
    {
     "name": "stdout",
     "output_type": "stream",
     "text": [
      "34 497\n",
      "\tCPC008_HT29_6H (364, 7) 1799\n",
      "\t(1799, 978)\n"
     ]
    },
    {
     "name": "stderr",
     "output_type": "stream",
     "text": [
      "[Parallel(n_jobs=7)]: Done   1 out of 364 | elapsed:    1.5s remaining:  9.3min\n",
      "[Parallel(n_jobs=7)]: Done  33 out of 364 | elapsed:   10.3s remaining:  1.7min\n",
      "[Parallel(n_jobs=7)]: Done  70 out of 364 | elapsed:   21.3s remaining:  1.5min\n",
      "[Parallel(n_jobs=7)]: Done 107 out of 364 | elapsed:   32.2s remaining:  1.3min\n",
      "[Parallel(n_jobs=7)]: Done 144 out of 364 | elapsed:   43.2s remaining:  1.1min\n",
      "[Parallel(n_jobs=7)]: Done 181 out of 364 | elapsed:   54.2s remaining:   54.8s\n",
      "[Parallel(n_jobs=7)]: Done 218 out of 364 | elapsed:  1.1min remaining:   43.5s\n",
      "[Parallel(n_jobs=7)]: Done 255 out of 364 | elapsed:  1.3min remaining:   32.6s\n",
      "[Parallel(n_jobs=7)]: Done 292 out of 364 | elapsed:  1.4min remaining:   21.4s\n",
      "[Parallel(n_jobs=7)]: Done 329 out of 364 | elapsed:  1.6min remaining:   10.5s\n",
      "[Parallel(n_jobs=7)]: Done 364 out of 364 | elapsed:  1.8min finished\n"
     ]
    },
    {
     "name": "stdout",
     "output_type": "stream",
     "text": [
      "35 497\n",
      "\tCPC001_HCC515_6H (354, 7) 718\n",
      "\t(718, 978)\n"
     ]
    },
    {
     "name": "stderr",
     "output_type": "stream",
     "text": [
      "[Parallel(n_jobs=7)]: Done   1 out of 354 | elapsed:    0.7s remaining:  3.9min\n",
      "[Parallel(n_jobs=7)]: Done  32 out of 354 | elapsed:    4.0s remaining:   40.4s\n",
      "[Parallel(n_jobs=7)]: Done  68 out of 354 | elapsed:    8.2s remaining:   34.7s\n",
      "[Parallel(n_jobs=7)]: Done 104 out of 354 | elapsed:   12.8s remaining:   30.7s\n",
      "[Parallel(n_jobs=7)]: Done 140 out of 354 | elapsed:   17.3s remaining:   26.4s\n",
      "[Parallel(n_jobs=7)]: Done 176 out of 354 | elapsed:   21.6s remaining:   21.9s\n",
      "[Parallel(n_jobs=7)]: Done 212 out of 354 | elapsed:   26.0s remaining:   17.4s\n",
      "[Parallel(n_jobs=7)]: Done 248 out of 354 | elapsed:   30.2s remaining:   12.9s\n",
      "[Parallel(n_jobs=7)]: Done 284 out of 354 | elapsed:   34.6s remaining:    8.5s\n",
      "[Parallel(n_jobs=7)]: Done 320 out of 354 | elapsed:   39.0s remaining:    4.1s\n",
      "[Parallel(n_jobs=7)]: Done 354 out of 354 | elapsed:   42.9s finished\n"
     ]
    },
    {
     "name": "stdout",
     "output_type": "stream",
     "text": [
      "36 497\n",
      "\tCPC003_VCAP_6H (364, 7) 1742\n",
      "\t(1742, 978)\n"
     ]
    },
    {
     "name": "stderr",
     "output_type": "stream",
     "text": [
      "[Parallel(n_jobs=7)]: Done   1 out of 364 | elapsed:    3.1s remaining: 19.0min\n",
      "[Parallel(n_jobs=7)]: Done  33 out of 364 | elapsed:   20.0s remaining:  3.3min\n",
      "[Parallel(n_jobs=7)]: Done  70 out of 364 | elapsed:   40.2s remaining:  2.8min\n",
      "[Parallel(n_jobs=7)]: Done 107 out of 364 | elapsed:  1.0min remaining:  2.4min\n",
      "[Parallel(n_jobs=7)]: Done 144 out of 364 | elapsed:  1.4min remaining:  2.1min\n",
      "[Parallel(n_jobs=7)]: Done 181 out of 364 | elapsed:  1.7min remaining:  1.7min\n",
      "[Parallel(n_jobs=7)]: Done 218 out of 364 | elapsed:  2.1min remaining:  1.4min\n",
      "[Parallel(n_jobs=7)]: Done 255 out of 364 | elapsed:  2.4min remaining:  1.0min\n",
      "[Parallel(n_jobs=7)]: Done 292 out of 364 | elapsed:  2.8min remaining:   40.9s\n",
      "[Parallel(n_jobs=7)]: Done 329 out of 364 | elapsed:  3.1min remaining:   19.8s\n",
      "[Parallel(n_jobs=7)]: Done 364 out of 364 | elapsed:  3.4min finished\n"
     ]
    },
    {
     "name": "stdout",
     "output_type": "stream",
     "text": [
      "37 497\n",
      "\tCPC014_SKB_24H (348, 7) 1364\n",
      "\t(1364, 978)\n"
     ]
    },
    {
     "name": "stderr",
     "output_type": "stream",
     "text": [
      "[Parallel(n_jobs=7)]: Done   1 out of 348 | elapsed:    2.5s remaining: 14.2min\n",
      "[Parallel(n_jobs=7)]: Done  35 out of 348 | elapsed:   13.9s remaining:  2.1min\n",
      "[Parallel(n_jobs=7)]: Done  70 out of 348 | elapsed:   27.7s remaining:  1.8min\n",
      "[Parallel(n_jobs=7)]: Done 105 out of 348 | elapsed:   41.3s remaining:  1.6min\n",
      "[Parallel(n_jobs=7)]: Done 140 out of 348 | elapsed:   54.8s remaining:  1.4min\n",
      "[Parallel(n_jobs=7)]: Done 175 out of 348 | elapsed:  1.1min remaining:  1.1min\n",
      "[Parallel(n_jobs=7)]: Done 210 out of 348 | elapsed:  1.4min remaining:   53.8s\n",
      "[Parallel(n_jobs=7)]: Done 245 out of 348 | elapsed:  1.6min remaining:   40.2s\n",
      "[Parallel(n_jobs=7)]: Done 280 out of 348 | elapsed:  1.8min remaining:   26.5s\n",
      "[Parallel(n_jobs=7)]: Done 315 out of 348 | elapsed:  2.0min remaining:   12.8s\n",
      "[Parallel(n_jobs=7)]: Done 348 out of 348 | elapsed:  2.2min finished\n"
     ]
    },
    {
     "name": "stdout",
     "output_type": "stream",
     "text": [
      "38 497\n",
      "\tHOG003_A549_24H (287, 7) 856\n",
      "\t(856, 978)\n"
     ]
    },
    {
     "name": "stderr",
     "output_type": "stream",
     "text": [
      "[Parallel(n_jobs=7)]: Done   1 out of 287 | elapsed:    0.9s remaining:  4.3min\n",
      "[Parallel(n_jobs=7)]: Done  28 out of 287 | elapsed:    4.7s remaining:   43.7s\n",
      "[Parallel(n_jobs=7)]: Done  57 out of 287 | elapsed:    9.6s remaining:   38.9s\n",
      "[Parallel(n_jobs=7)]: Done  86 out of 287 | elapsed:   14.6s remaining:   34.0s\n",
      "[Parallel(n_jobs=7)]: Done 115 out of 287 | elapsed:   19.5s remaining:   29.2s\n",
      "[Parallel(n_jobs=7)]: Done 144 out of 287 | elapsed:   24.5s remaining:   24.3s\n",
      "[Parallel(n_jobs=7)]: Done 173 out of 287 | elapsed:   29.0s remaining:   19.1s\n",
      "[Parallel(n_jobs=7)]: Done 202 out of 287 | elapsed:   33.9s remaining:   14.3s\n",
      "[Parallel(n_jobs=7)]: Done 231 out of 287 | elapsed:   38.5s remaining:    9.3s\n",
      "[Parallel(n_jobs=7)]: Done 260 out of 287 | elapsed:   43.3s remaining:    4.5s\n",
      "[Parallel(n_jobs=7)]: Done 287 out of 287 | elapsed:   47.5s finished\n"
     ]
    },
    {
     "name": "stdout",
     "output_type": "stream",
     "text": [
      "39 497\n",
      "\tHOG001_A549_6H (277, 7) 857\n",
      "\t(857, 978)\n"
     ]
    },
    {
     "name": "stderr",
     "output_type": "stream",
     "text": [
      "[Parallel(n_jobs=7)]: Done   1 out of 277 | elapsed:    1.0s remaining:  4.7min\n",
      "[Parallel(n_jobs=7)]: Done  27 out of 277 | elapsed:    5.1s remaining:   47.1s\n",
      "[Parallel(n_jobs=7)]: Done  55 out of 277 | elapsed:   10.5s remaining:   42.3s\n",
      "[Parallel(n_jobs=7)]: Done  83 out of 277 | elapsed:   15.5s remaining:   36.2s\n",
      "[Parallel(n_jobs=7)]: Done 111 out of 277 | elapsed:   20.2s remaining:   30.2s\n",
      "[Parallel(n_jobs=7)]: Done 139 out of 277 | elapsed:   24.7s remaining:   24.5s\n",
      "[Parallel(n_jobs=7)]: Done 167 out of 277 | elapsed:   29.6s remaining:   19.5s\n",
      "[Parallel(n_jobs=7)]: Done 195 out of 277 | elapsed:   34.3s remaining:   14.4s\n",
      "[Parallel(n_jobs=7)]: Done 223 out of 277 | elapsed:   38.9s remaining:    9.4s\n",
      "[Parallel(n_jobs=7)]: Done 251 out of 277 | elapsed:   43.4s remaining:    4.5s\n",
      "[Parallel(n_jobs=7)]: Done 277 out of 277 | elapsed:   47.6s finished\n"
     ]
    },
    {
     "name": "stdout",
     "output_type": "stream",
     "text": [
      "40 497\n",
      "\tCPC006_NCIH508_6H (329, 7) 689\n",
      "\t(689, 978)\n"
     ]
    },
    {
     "name": "stderr",
     "output_type": "stream",
     "text": [
      "[Parallel(n_jobs=7)]: Done   1 out of 329 | elapsed:    0.7s remaining:  3.9min\n",
      "[Parallel(n_jobs=7)]: Done  34 out of 329 | elapsed:    4.2s remaining:   36.3s\n",
      "[Parallel(n_jobs=7)]: Done  67 out of 329 | elapsed:    8.3s remaining:   32.5s\n",
      "[Parallel(n_jobs=7)]: Done 100 out of 329 | elapsed:   12.2s remaining:   28.1s\n",
      "[Parallel(n_jobs=7)]: Done 133 out of 329 | elapsed:   16.2s remaining:   23.9s\n",
      "[Parallel(n_jobs=7)]: Done 166 out of 329 | elapsed:   20.2s remaining:   19.8s\n",
      "[Parallel(n_jobs=7)]: Done 199 out of 329 | elapsed:   24.3s remaining:   15.9s\n",
      "[Parallel(n_jobs=7)]: Done 232 out of 329 | elapsed:   28.2s remaining:   11.8s\n",
      "[Parallel(n_jobs=7)]: Done 265 out of 329 | elapsed:   32.1s remaining:    7.8s\n",
      "[Parallel(n_jobs=7)]: Done 298 out of 329 | elapsed:   35.9s remaining:    3.7s\n",
      "[Parallel(n_jobs=7)]: Done 329 out of 329 | elapsed:   39.3s finished\n"
     ]
    },
    {
     "name": "stdout",
     "output_type": "stream",
     "text": [
      "41 497\n",
      "\tCPC005_MCF7_24H (364, 7) 1786\n",
      "\t(1786, 978)\n"
     ]
    },
    {
     "name": "stderr",
     "output_type": "stream",
     "text": [
      "[Parallel(n_jobs=7)]: Done   1 out of 364 | elapsed:    3.7s remaining: 22.2min\n",
      "[Parallel(n_jobs=7)]: Done  33 out of 364 | elapsed:   20.6s remaining:  3.4min\n",
      "[Parallel(n_jobs=7)]: Done  70 out of 364 | elapsed:   41.5s remaining:  2.9min\n",
      "[Parallel(n_jobs=7)]: Done 107 out of 364 | elapsed:  1.1min remaining:  2.5min\n",
      "[Parallel(n_jobs=7)]: Done 144 out of 364 | elapsed:  1.4min remaining:  2.2min\n",
      "[Parallel(n_jobs=7)]: Done 181 out of 364 | elapsed:  1.8min remaining:  1.8min\n",
      "[Parallel(n_jobs=7)]: Done 218 out of 364 | elapsed:  2.1min remaining:  1.4min\n",
      "[Parallel(n_jobs=7)]: Done 255 out of 364 | elapsed:  2.5min remaining:  1.1min\n",
      "[Parallel(n_jobs=7)]: Done 292 out of 364 | elapsed:  2.8min remaining:   42.1s\n",
      "[Parallel(n_jobs=7)]: Done 329 out of 364 | elapsed:  3.2min remaining:   20.4s\n",
      "[Parallel(n_jobs=7)]: Done 364 out of 364 | elapsed:  3.5min finished\n"
     ]
    },
    {
     "name": "stdout",
     "output_type": "stream",
     "text": [
      "42 497\n",
      "\tCPC005_A375_6H (363, 7) 1067\n",
      "\t(1067, 978)\n"
     ]
    },
    {
     "name": "stderr",
     "output_type": "stream",
     "text": [
      "[Parallel(n_jobs=7)]: Done   1 out of 363 | elapsed:    1.4s remaining:  8.4min\n",
      "[Parallel(n_jobs=7)]: Done  32 out of 363 | elapsed:    8.7s remaining:  1.5min\n",
      "[Parallel(n_jobs=7)]: Done  69 out of 363 | elapsed:   17.7s remaining:  1.3min\n",
      "[Parallel(n_jobs=7)]: Done 106 out of 363 | elapsed:   26.6s remaining:  1.1min\n",
      "[Parallel(n_jobs=7)]: Done 143 out of 363 | elapsed:   35.2s remaining:   54.2s\n",
      "[Parallel(n_jobs=7)]: Done 180 out of 363 | elapsed:   44.4s remaining:   45.1s\n",
      "[Parallel(n_jobs=7)]: Done 217 out of 363 | elapsed:   53.0s remaining:   35.7s\n",
      "[Parallel(n_jobs=7)]: Done 254 out of 363 | elapsed:  1.0min remaining:   26.7s\n",
      "[Parallel(n_jobs=7)]: Done 291 out of 363 | elapsed:  1.2min remaining:   17.6s\n",
      "[Parallel(n_jobs=7)]: Done 328 out of 363 | elapsed:  1.3min remaining:    8.6s\n",
      "[Parallel(n_jobs=7)]: Done 363 out of 363 | elapsed:  1.5min finished\n"
     ]
    },
    {
     "name": "stdout",
     "output_type": "stream",
     "text": [
      "43 497\n",
      "\tCPC006_RMUGS_6H (363, 7) 1024\n",
      "\t(1024, 978)\n"
     ]
    },
    {
     "name": "stderr",
     "output_type": "stream",
     "text": [
      "[Parallel(n_jobs=7)]: Done   1 out of 363 | elapsed:    1.7s remaining: 10.4min\n",
      "[Parallel(n_jobs=7)]: Done  32 out of 363 | elapsed:    9.7s remaining:  1.7min\n",
      "[Parallel(n_jobs=7)]: Done  69 out of 363 | elapsed:   19.6s remaining:  1.4min\n",
      "[Parallel(n_jobs=7)]: Done 106 out of 363 | elapsed:   29.6s remaining:  1.2min\n",
      "[Parallel(n_jobs=7)]: Done 143 out of 363 | elapsed:   39.8s remaining:  1.0min\n",
      "[Parallel(n_jobs=7)]: Done 180 out of 363 | elapsed:   50.0s remaining:   50.8s\n",
      "[Parallel(n_jobs=7)]: Done 217 out of 363 | elapsed:  1.0min remaining:   41.2s\n",
      "[Parallel(n_jobs=7)]: Done 254 out of 363 | elapsed:  1.2min remaining:   30.4s\n",
      "[Parallel(n_jobs=7)]: Done 291 out of 363 | elapsed:  1.4min remaining:   20.3s\n",
      "[Parallel(n_jobs=7)]: Done 328 out of 363 | elapsed:  1.5min remaining:    9.8s\n",
      "[Parallel(n_jobs=7)]: Done 363 out of 363 | elapsed:  1.7min finished\n"
     ]
    },
    {
     "name": "stdout",
     "output_type": "stream",
     "text": [
      "44 497\n",
      "\tCPC018_A549_24H (355, 7) 715\n",
      "\t(715, 978)\n"
     ]
    },
    {
     "name": "stderr",
     "output_type": "stream",
     "text": [
      "[Parallel(n_jobs=7)]: Done   1 out of 355 | elapsed:    0.8s remaining:  4.7min\n",
      "[Parallel(n_jobs=7)]: Done  33 out of 355 | elapsed:    4.0s remaining:   38.9s\n",
      "[Parallel(n_jobs=7)]: Done  69 out of 355 | elapsed:    8.9s remaining:   36.8s\n",
      "[Parallel(n_jobs=7)]: Done 105 out of 355 | elapsed:   13.2s remaining:   31.5s\n",
      "[Parallel(n_jobs=7)]: Done 141 out of 355 | elapsed:   17.8s remaining:   27.1s\n",
      "[Parallel(n_jobs=7)]: Done 177 out of 355 | elapsed:   22.3s remaining:   22.4s\n",
      "[Parallel(n_jobs=7)]: Done 213 out of 355 | elapsed:   26.7s remaining:   17.8s\n",
      "[Parallel(n_jobs=7)]: Done 249 out of 355 | elapsed:   31.2s remaining:   13.3s\n",
      "[Parallel(n_jobs=7)]: Done 285 out of 355 | elapsed:   35.6s remaining:    8.7s\n",
      "[Parallel(n_jobs=7)]: Done 321 out of 355 | elapsed:   39.9s remaining:    4.2s\n",
      "[Parallel(n_jobs=7)]: Done 355 out of 355 | elapsed:   43.7s finished\n"
     ]
    },
    {
     "name": "stdout",
     "output_type": "stream",
     "text": [
      "45 497\n",
      "\tCPC004_HT29_6H (364, 7) 1768\n",
      "\t(1768, 978)\n"
     ]
    },
    {
     "name": "stderr",
     "output_type": "stream",
     "text": [
      "[Parallel(n_jobs=7)]: Done   1 out of 364 | elapsed:    3.6s remaining: 21.8min\n",
      "[Parallel(n_jobs=7)]: Done  33 out of 364 | elapsed:   20.2s remaining:  3.4min\n",
      "[Parallel(n_jobs=7)]: Done  70 out of 364 | elapsed:   42.5s remaining:  3.0min\n",
      "[Parallel(n_jobs=7)]: Done 107 out of 364 | elapsed:  1.1min remaining:  2.7min\n",
      "[Parallel(n_jobs=7)]: Done 144 out of 364 | elapsed:  1.5min remaining:  2.3min\n",
      "[Parallel(n_jobs=7)]: Done 181 out of 364 | elapsed:  1.9min remaining:  1.9min\n",
      "[Parallel(n_jobs=7)]: Done 218 out of 364 | elapsed:  2.2min remaining:  1.5min\n",
      "[Parallel(n_jobs=7)]: Done 255 out of 364 | elapsed:  2.7min remaining:  1.1min\n",
      "[Parallel(n_jobs=7)]: Done 292 out of 364 | elapsed:  3.0min remaining:   45.0s\n",
      "[Parallel(n_jobs=7)]: Done 329 out of 364 | elapsed:  3.4min remaining:   21.8s\n",
      "[Parallel(n_jobs=7)]: Done 364 out of 364 | elapsed:  3.8min finished\n"
     ]
    },
    {
     "name": "stdout",
     "output_type": "stream",
     "text": [
      "46 497\n",
      "\tCPC002_PC3_6H (364, 7) 1794\n",
      "\t(1794, 978)\n"
     ]
    },
    {
     "name": "stderr",
     "output_type": "stream",
     "text": [
      "[Parallel(n_jobs=7)]: Done   1 out of 364 | elapsed:    1.7s remaining: 10.3min\n",
      "[Parallel(n_jobs=7)]: Done  33 out of 364 | elapsed:   11.2s remaining:  1.9min\n",
      "[Parallel(n_jobs=7)]: Done  70 out of 364 | elapsed:   22.9s remaining:  1.6min\n",
      "[Parallel(n_jobs=7)]: Done 107 out of 364 | elapsed:   34.4s remaining:  1.4min\n",
      "[Parallel(n_jobs=7)]: Done 144 out of 364 | elapsed:   46.3s remaining:  1.2min\n",
      "[Parallel(n_jobs=7)]: Done 181 out of 364 | elapsed:   58.3s remaining:   58.9s\n",
      "[Parallel(n_jobs=7)]: Done 218 out of 364 | elapsed:  1.2min remaining:   47.2s\n",
      "[Parallel(n_jobs=7)]: Done 255 out of 364 | elapsed:  1.4min remaining:   35.2s\n",
      "[Parallel(n_jobs=7)]: Done 292 out of 364 | elapsed:  1.6min remaining:   23.4s\n",
      "[Parallel(n_jobs=7)]: Done 329 out of 364 | elapsed:  1.8min remaining:   11.3s\n",
      "[Parallel(n_jobs=7)]: Done 364 out of 364 | elapsed:  1.9min finished\n"
     ]
    },
    {
     "name": "stdout",
     "output_type": "stream",
     "text": [
      "47 497\n",
      "\tCPC004_HEPG2_6H (364, 7) 1081\n",
      "\t(1081, 978)\n"
     ]
    },
    {
     "name": "stderr",
     "output_type": "stream",
     "text": [
      "[Parallel(n_jobs=7)]: Done   1 out of 364 | elapsed:    1.9s remaining: 11.3min\n",
      "[Parallel(n_jobs=7)]: Done  33 out of 364 | elapsed:   10.4s remaining:  1.7min\n",
      "[Parallel(n_jobs=7)]: Done  70 out of 364 | elapsed:   21.0s remaining:  1.5min\n",
      "[Parallel(n_jobs=7)]: Done 107 out of 364 | elapsed:   31.9s remaining:  1.3min\n",
      "[Parallel(n_jobs=7)]: Done 144 out of 364 | elapsed:   41.8s remaining:  1.1min\n",
      "[Parallel(n_jobs=7)]: Done 181 out of 364 | elapsed:   52.0s remaining:   52.5s\n",
      "[Parallel(n_jobs=7)]: Done 218 out of 364 | elapsed:  1.0min remaining:   42.0s\n",
      "[Parallel(n_jobs=7)]: Done 255 out of 364 | elapsed:  1.2min remaining:   31.0s\n",
      "[Parallel(n_jobs=7)]: Done 292 out of 364 | elapsed:  1.4min remaining:   20.4s\n",
      "[Parallel(n_jobs=7)]: Done 329 out of 364 | elapsed:  1.5min remaining:    9.8s\n",
      "[Parallel(n_jobs=7)]: Done 364 out of 364 | elapsed:  1.7min finished\n"
     ]
    },
    {
     "name": "stdout",
     "output_type": "stream",
     "text": [
      "48 497\n",
      "\tCPC001_PC3_24H (363, 7) 2127\n",
      "\t(2127, 978)\n"
     ]
    },
    {
     "name": "stderr",
     "output_type": "stream",
     "text": [
      "[Parallel(n_jobs=7)]: Done   1 out of 363 | elapsed:    1.8s remaining: 10.7min\n",
      "[Parallel(n_jobs=7)]: Done  32 out of 363 | elapsed:   12.3s remaining:  2.1min\n",
      "[Parallel(n_jobs=7)]: Done  69 out of 363 | elapsed:   24.8s remaining:  1.8min\n",
      "[Parallel(n_jobs=7)]: Done 106 out of 363 | elapsed:   37.7s remaining:  1.5min\n",
      "[Parallel(n_jobs=7)]: Done 143 out of 363 | elapsed:   49.9s remaining:  1.3min\n",
      "[Parallel(n_jobs=7)]: Done 180 out of 363 | elapsed:  1.1min remaining:  1.1min\n",
      "[Parallel(n_jobs=7)]: Done 217 out of 363 | elapsed:  1.3min remaining:   52.0s\n",
      "[Parallel(n_jobs=7)]: Done 254 out of 363 | elapsed:  1.5min remaining:   38.3s\n",
      "[Parallel(n_jobs=7)]: Done 291 out of 363 | elapsed:  1.7min remaining:   25.1s\n",
      "[Parallel(n_jobs=7)]: Done 328 out of 363 | elapsed:  1.9min remaining:   12.1s\n",
      "[Parallel(n_jobs=7)]: Done 363 out of 363 | elapsed:  2.1min finished\n"
     ]
    },
    {
     "name": "stdout",
     "output_type": "stream",
     "text": [
      "49 497\n",
      "\tCPC011_MCF7_6H (352, 7) 708\n",
      "\t(708, 978)\n"
     ]
    },
    {
     "name": "stderr",
     "output_type": "stream",
     "text": [
      "[Parallel(n_jobs=7)]: Done   1 out of 352 | elapsed:    0.8s remaining:  4.9min\n",
      "[Parallel(n_jobs=7)]: Done  30 out of 352 | elapsed:    3.8s remaining:   40.3s\n",
      "[Parallel(n_jobs=7)]: Done  66 out of 352 | elapsed:    8.5s remaining:   36.9s\n",
      "[Parallel(n_jobs=7)]: Done 102 out of 352 | elapsed:   13.4s remaining:   32.9s\n",
      "[Parallel(n_jobs=7)]: Done 138 out of 352 | elapsed:   17.8s remaining:   27.6s\n",
      "[Parallel(n_jobs=7)]: Done 174 out of 352 | elapsed:   22.8s remaining:   23.3s\n",
      "[Parallel(n_jobs=7)]: Done 210 out of 352 | elapsed:   27.8s remaining:   18.8s\n",
      "[Parallel(n_jobs=7)]: Done 246 out of 352 | elapsed:   32.1s remaining:   13.8s\n",
      "[Parallel(n_jobs=7)]: Done 282 out of 352 | elapsed:   36.7s remaining:    9.1s\n",
      "[Parallel(n_jobs=7)]: Done 318 out of 352 | elapsed:   41.3s remaining:    4.4s\n",
      "[Parallel(n_jobs=7)]: Done 352 out of 352 | elapsed:   44.9s finished\n"
     ]
    },
    {
     "name": "stdout",
     "output_type": "stream",
     "text": [
      "50 497\n",
      "\tCPC015_NPC_24H (346, 7) 1344\n",
      "\t(1344, 978)\n"
     ]
    },
    {
     "name": "stderr",
     "output_type": "stream",
     "text": [
      "[Parallel(n_jobs=7)]: Done   1 out of 346 | elapsed:    2.1s remaining: 12.0min\n",
      "[Parallel(n_jobs=7)]: Done  33 out of 346 | elapsed:   13.4s remaining:  2.1min\n",
      "[Parallel(n_jobs=7)]: Done  68 out of 346 | elapsed:   27.8s remaining:  1.9min\n",
      "[Parallel(n_jobs=7)]: Done 103 out of 346 | elapsed:   42.8s remaining:  1.7min\n",
      "[Parallel(n_jobs=7)]: Done 138 out of 346 | elapsed:   57.1s remaining:  1.4min\n",
      "[Parallel(n_jobs=7)]: Done 173 out of 346 | elapsed:  1.2min remaining:  1.2min\n",
      "[Parallel(n_jobs=7)]: Done 208 out of 346 | elapsed:  1.4min remaining:   57.4s\n",
      "[Parallel(n_jobs=7)]: Done 243 out of 346 | elapsed:  1.7min remaining:   42.7s\n",
      "[Parallel(n_jobs=7)]: Done 278 out of 346 | elapsed:  1.9min remaining:   28.0s\n",
      "[Parallel(n_jobs=7)]: Done 313 out of 346 | elapsed:  2.2min remaining:   13.7s\n",
      "[Parallel(n_jobs=7)]: Done 346 out of 346 | elapsed:  2.4min finished\n"
     ]
    },
    {
     "name": "stdout",
     "output_type": "stream",
     "text": [
      "51 497\n",
      "\tDOS052_MCF7_24H (5, 7) 549\n",
      "\t(549, 978)\n"
     ]
    },
    {
     "name": "stderr",
     "output_type": "stream",
     "text": [
      "[Parallel(n_jobs=7)]: Done   1 out of   5 | elapsed:    0.3s remaining:    1.2s\n",
      "[Parallel(n_jobs=7)]: Done   4 out of   5 | elapsed:    0.5s remaining:    0.1s\n",
      "[Parallel(n_jobs=7)]: Done   2 out of   5 | elapsed:    0.5s remaining:    0.7s\n",
      "[Parallel(n_jobs=7)]: Done   5 out of   5 | elapsed:    0.5s finished\n",
      "[Parallel(n_jobs=7)]: Done   3 out of   5 | elapsed:    0.5s remaining:    0.3s\n"
     ]
    },
    {
     "name": "stdout",
     "output_type": "stream",
     "text": [
      "52 497\n",
      "\tCPC014_MCF7_6H (353, 7) 2117\n",
      "\t(2117, 978)\n"
     ]
    },
    {
     "name": "stderr",
     "output_type": "stream",
     "text": [
      "[Parallel(n_jobs=7)]: Done   1 out of 353 | elapsed:    1.8s remaining: 10.4min\n",
      "[Parallel(n_jobs=7)]: Done  31 out of 353 | elapsed:   11.7s remaining:  2.0min\n",
      "[Parallel(n_jobs=7)]: Done  67 out of 353 | elapsed:   23.8s remaining:  1.7min\n",
      "[Parallel(n_jobs=7)]: Done 103 out of 353 | elapsed:   35.8s remaining:  1.4min\n",
      "[Parallel(n_jobs=7)]: Done 139 out of 353 | elapsed:   48.0s remaining:  1.2min\n",
      "[Parallel(n_jobs=7)]: Done 175 out of 353 | elapsed:  1.0min remaining:  1.0min\n",
      "[Parallel(n_jobs=7)]: Done 211 out of 353 | elapsed:  1.2min remaining:   48.7s\n",
      "[Parallel(n_jobs=7)]: Done 247 out of 353 | elapsed:  1.4min remaining:   36.4s\n",
      "[Parallel(n_jobs=7)]: Done 283 out of 353 | elapsed:  1.6min remaining:   23.9s\n",
      "[Parallel(n_jobs=7)]: Done 319 out of 353 | elapsed:  1.8min remaining:   11.6s\n",
      "[Parallel(n_jobs=7)]: Done 353 out of 353 | elapsed:  2.0min finished\n"
     ]
    },
    {
     "name": "stdout",
     "output_type": "stream",
     "text": [
      "53 497\n",
      "\tCPC002_PC3_24H (363, 7) 1781\n",
      "\t(1781, 978)\n"
     ]
    },
    {
     "name": "stderr",
     "output_type": "stream",
     "text": [
      "[Parallel(n_jobs=7)]: Done   1 out of 363 | elapsed:    3.8s remaining: 23.0min\n",
      "[Parallel(n_jobs=7)]: Done  32 out of 363 | elapsed:   22.4s remaining:  3.9min\n",
      "[Parallel(n_jobs=7)]: Done  69 out of 363 | elapsed:   45.4s remaining:  3.2min\n",
      "[Parallel(n_jobs=7)]: Done 106 out of 363 | elapsed:  1.2min remaining:  2.9min\n",
      "[Parallel(n_jobs=7)]: Done 143 out of 363 | elapsed:  1.6min remaining:  2.4min\n",
      "[Parallel(n_jobs=7)]: Done 180 out of 363 | elapsed:  2.0min remaining:  2.0min\n",
      "[Parallel(n_jobs=7)]: Done 217 out of 363 | elapsed:  2.4min remaining:  1.6min\n",
      "[Parallel(n_jobs=7)]: Done 254 out of 363 | elapsed:  2.8min remaining:  1.2min\n",
      "[Parallel(n_jobs=7)]: Done 291 out of 363 | elapsed:  3.2min remaining:   47.7s\n",
      "[Parallel(n_jobs=7)]: Done 328 out of 363 | elapsed:  3.6min remaining:   23.2s\n",
      "[Parallel(n_jobs=7)]: Done 363 out of 363 | elapsed:  4.0min finished\n"
     ]
    },
    {
     "name": "stdout",
     "output_type": "stream",
     "text": [
      "54 497\n",
      "\tCPC015_MCF7_24H (361, 7) 1772\n",
      "\t(1772, 978)\n"
     ]
    },
    {
     "name": "stderr",
     "output_type": "stream",
     "text": [
      "[Parallel(n_jobs=7)]: Done   1 out of 361 | elapsed:    3.8s remaining: 23.1min\n",
      "[Parallel(n_jobs=7)]: Done  30 out of 361 | elapsed:   23.4s remaining:  4.3min\n",
      "[Parallel(n_jobs=7)]: Done  67 out of 361 | elapsed:   46.9s remaining:  3.4min\n",
      "[Parallel(n_jobs=7)]: Done 104 out of 361 | elapsed:  1.2min remaining:  3.0min\n"
     ]
    }
   ],
   "source": [
    "sig_ids_left = list(set(sig_meta_df.index) - inserted_sig_ids)\n",
    "\n",
    "# subset the sig_meta_df\n",
    "sig_meta_df_left = sig_meta_df.ix[sig_ids_left]\n",
    "all_batches = sig_meta_df_left['batch'].unique()\n",
    "n_batches = len(all_batches)\n",
    "print sig_meta_df_left.shape\n",
    "\n",
    "for c, batch in enumerate(all_batches):\n",
    "    sig_meta_df_sub = sig_meta_df_left.query('batch == \"%s\"' % batch)\n",
    "    \n",
    "    # all the treatment samples in this batch\n",
    "    distil_ids_sub_df = distil_df.query('batch == \"%s\"' % batch)\n",
    "    distil_ids_sub = distil_ids_sub_df.index.tolist()\n",
    "    \n",
    "    print c, n_batches\n",
    "    print '\\t', batch, sig_meta_df_sub.shape, len(distil_ids_sub)\n",
    "    # Slice the matrix\n",
    "    mat = slice_matrix(gctx, distil_ids_sub, PROBES_LM1000)\n",
    "    print '\\t', mat.shape\n",
    "    # Mean center the probes by det_plate\n",
    "    mat_centered = mean_center(mat, distil_ids_sub_df['det_plate'])\n",
    "    \n",
    "    try:\n",
    "        docs = Parallel(n_jobs=7, backend='multiprocessing', verbose=10)(\\\n",
    "                                      delayed(compute_sig2_wrapper)(sig_id, row, distil_ids_sub, mat_centered, PROBES_LM1000)\\\n",
    "                                      for sig_id, row in sig_meta_df_sub.iterrows())\n",
    "        docs = filter(None, docs)\n",
    "    except Exception as e:\n",
    "        print e\n",
    "        pass\n",
    "    else:\n",
    "        if len(docs) > 0:\n",
    "            bulk = coll.initialize_ordered_bulk_op()\n",
    "            for doc in docs:\n",
    "                bulk.find({'sig_id': doc['sig_id']}).\\\n",
    "                    update_one({'$set': {\n",
    "                        'CD_center_LM_det': doc['CD_center_LM_det'],\n",
    "                        'avg_center_LM_det': doc['avg_center_LM_det']\n",
    "                    }})\n",
    "            bulk.execute()    \n"
   ]
  },
  {
   "cell_type": "code",
   "execution_count": null,
   "metadata": {
    "collapsed": true
   },
   "outputs": [],
   "source": []
  },
  {
   "cell_type": "code",
   "execution_count": null,
   "metadata": {
    "collapsed": true
   },
   "outputs": [],
   "source": []
  },
  {
   "cell_type": "code",
   "execution_count": null,
   "metadata": {
    "collapsed": true
   },
   "outputs": [],
   "source": []
  },
  {
   "cell_type": "code",
   "execution_count": 58,
   "metadata": {
    "collapsed": true
   },
   "outputs": [],
   "source": [
    "def chdir_avg(mat, sample_class, batches, PROBES_LM1000):\n",
    "    '''Compute CD on each batch, then average them.\n",
    "    '''\n",
    "    n_batches = len(set(batches))\n",
    "    cds_all = []\n",
    "    for batch in set(batches):\n",
    "        mask_batch = np.in1d(batches, [batch])\n",
    "        if len(set(sample_class[mask_batch])) >= 1:\n",
    "        \n",
    "            cd = geode.chdir(mat[:, mask_batch], sample_class[mask_batch], PROBES_LM1000, \n",
    "                              calculate_sig=0, sort=False, gamma=0.5)\n",
    "            cd_coefs = np.array([item[0] for item in cd])\n",
    "            cds_all.append(cd_coefs)\n",
    "\n",
    "    return np.array(cds_all).mean(axis=0)\n"
   ]
  },
  {
   "cell_type": "code",
   "execution_count": 59,
   "metadata": {
    "collapsed": true
   },
   "outputs": [],
   "source": [
    "def compute_signatures3(sig_id, row, distil_ids_sub_df, mat_centered, PROBES_LM1000):\n",
    "    distil_ids_pert = row['distil_id']\n",
    "    # Make the sample_class\n",
    "    distil_ids_sub = distil_ids_sub_df.index.tolist()\n",
    "    \n",
    "    mask_pert = np.in1d(distil_ids_sub, distil_ids_pert)\n",
    "    sample_class = mask_pert.astype(int) + 1\n",
    "    \n",
    "    batches = distil_ids_sub_df['det_plate']\n",
    "\n",
    "    # Apply CD on the mean centered mat\n",
    "    cd = chdir_avg(mat_centered.T, sample_class, batches, PROBES_LM1000)\n",
    "\n",
    "    doc = {}\n",
    "    doc['sig_id'] = sig_id\n",
    "    doc['CDavg_center_LM_det'] = list(cd.astype(np.float64))\n",
    "\n",
    "    return doc"
   ]
  },
  {
   "cell_type": "code",
   "execution_count": 60,
   "metadata": {},
   "outputs": [
    {
     "name": "stdout",
     "output_type": "stream",
     "text": [
      "Number of sig_ids inserted: 0\n",
      "(128017, 7)\n",
      "0 651\n",
      "\tLJP001_HS578T_24H (310, 7) 1012\n",
      "\t(1012, 978)\n",
      "sampleclass has to be a list whose elements are in only 0, 1 or 2\n"
     ]
    }
   ],
   "source": [
    "# Get all inserted document sig_ids\n",
    "key = 'CDavg_center_LM_det'\n",
    "inserted_sig_ids = set(coll.find({key: {'$exists': True}}).distinct('sig_id'))\n",
    "print 'Number of sig_ids inserted: %d' % len(inserted_sig_ids)\n",
    "\n",
    "sig_ids_left = list(set(sig_meta_df.index) - inserted_sig_ids)\n",
    "\n",
    "# subset the sig_meta_df\n",
    "sig_meta_df_left = sig_meta_df.ix[sig_ids_left]\n",
    "all_batches = sig_meta_df_left['batch'].unique()\n",
    "n_batches = len(all_batches)\n",
    "print sig_meta_df_left.shape\n",
    "\n",
    "for c, batch in enumerate(all_batches):\n",
    "    sig_meta_df_sub = sig_meta_df_left.query('batch == \"%s\"' % batch)\n",
    "    \n",
    "    # all the treatment samples in this batch\n",
    "    distil_ids_sub_df = distil_df.query('batch == \"%s\"' % batch)\n",
    "    distil_ids_sub = distil_ids_sub_df.index.tolist()\n",
    "    \n",
    "    print c, n_batches\n",
    "    print '\\t', batch, sig_meta_df_sub.shape, len(distil_ids_sub)\n",
    "    # Slice the matrix\n",
    "    mat = slice_matrix(gctx, distil_ids_sub, PROBES_LM1000)\n",
    "    print '\\t', mat.shape\n",
    "    # Mean center the probes by det_plate\n",
    "    mat_centered = mean_center(mat, distil_ids_sub_df['det_plate'])\n",
    "    \n",
    "    for sig_id, row in sig_meta_df_sub.iterrows():\n",
    "        try:\n",
    "            cd = compute_signatures3(sig_id, row, distil_ids_sub_df, mat_centered, PROBES_LM1000)\n",
    "        except Exception as e:\n",
    "            print e\n",
    "            break\n",
    "\n",
    "#     try:\n",
    "#         docs = Parallel(n_jobs=10, backend='multiprocessing', verbose=10)(\\\n",
    "#                                       delayed(compute_signatures3)(sig_id, row, distil_ids_sub_df, mat_centered, PROBES_LM1000)\\\n",
    "#                                       for sig_id, row in sig_meta_df_sub.iterrows())\n",
    "#     except Exception as e:\n",
    "#         print e\n",
    "#         pass\n",
    "#     else:                     \n",
    "#         bulk = coll.initialize_ordered_bulk_op()\n",
    "#         for doc in docs:\n",
    "#             bulk.find({'sig_id': doc['sig_id']}).\\\n",
    "#                 update_one({'$set': {\n",
    "#                     'CDavg_center_LM_det': doc['CDavg_center_LM_det']\n",
    "#                 }})\n",
    "#         bulk.execute()    \n",
    "    break"
   ]
  },
  {
   "cell_type": "code",
   "execution_count": null,
   "metadata": {
    "collapsed": true
   },
   "outputs": [],
   "source": []
  },
  {
   "cell_type": "code",
   "execution_count": 43,
   "metadata": {},
   "outputs": [
    {
     "data": {
      "text/plain": [
       "(1012, 4)"
      ]
     },
     "execution_count": 43,
     "metadata": {},
     "output_type": "execute_result"
    }
   ],
   "source": [
    "distil_ids_sub_df.shape"
   ]
  },
  {
   "cell_type": "code",
   "execution_count": 45,
   "metadata": {},
   "outputs": [
    {
     "ename": "ValueError",
     "evalue": "sampleclass has to be a list whose elements are in only 0, 1 or 2",
     "output_type": "error",
     "traceback": [
      "\u001b[0;31m---------------------------------------------------------------------------\u001b[0m",
      "\u001b[0;31mValueError\u001b[0m                                Traceback (most recent call last)",
      "\u001b[0;32m<ipython-input-45-ff510de6968a>\u001b[0m in \u001b[0;36m<module>\u001b[0;34m()\u001b[0m\n\u001b[1;32m      9\u001b[0m \u001b[0;34m\u001b[0m\u001b[0m\n\u001b[1;32m     10\u001b[0m \u001b[0;31m# Apply CD on the mean centered mat\u001b[0m\u001b[0;34m\u001b[0m\u001b[0;34m\u001b[0m\u001b[0m\n\u001b[0;32m---> 11\u001b[0;31m \u001b[0mcd\u001b[0m \u001b[0;34m=\u001b[0m \u001b[0mchdir_avg\u001b[0m\u001b[0;34m(\u001b[0m\u001b[0mmat_centered\u001b[0m\u001b[0;34m.\u001b[0m\u001b[0mT\u001b[0m\u001b[0;34m,\u001b[0m \u001b[0msample_class\u001b[0m\u001b[0;34m,\u001b[0m \u001b[0mbatches\u001b[0m\u001b[0;34m,\u001b[0m \u001b[0mPROBES_LM1000\u001b[0m\u001b[0;34m)\u001b[0m\u001b[0;34m\u001b[0m\u001b[0m\n\u001b[0m",
      "\u001b[0;32m<ipython-input-32-d93653c774e8>\u001b[0m in \u001b[0;36mchdir_avg\u001b[0;34m(mat, sample_class, batches, PROBES_LM1000)\u001b[0m\n\u001b[1;32m      9\u001b[0m \u001b[0;34m\u001b[0m\u001b[0m\n\u001b[1;32m     10\u001b[0m         cd = geode.chdir(mat[:, mask_batch], sample_class[mask_batch], PROBES_LM1000, \n\u001b[0;32m---> 11\u001b[0;31m                           calculate_sig=0, sort=False, gamma=0.5)\n\u001b[0m\u001b[1;32m     12\u001b[0m         \u001b[0mcd_coefs\u001b[0m \u001b[0;34m=\u001b[0m \u001b[0mnp\u001b[0m\u001b[0;34m.\u001b[0m\u001b[0marray\u001b[0m\u001b[0;34m(\u001b[0m\u001b[0;34m[\u001b[0m\u001b[0mitem\u001b[0m\u001b[0;34m[\u001b[0m\u001b[0;36m0\u001b[0m\u001b[0;34m]\u001b[0m \u001b[0;32mfor\u001b[0m \u001b[0mitem\u001b[0m \u001b[0;32min\u001b[0m \u001b[0mcd\u001b[0m\u001b[0;34m]\u001b[0m\u001b[0;34m)\u001b[0m\u001b[0;34m\u001b[0m\u001b[0m\n\u001b[1;32m     13\u001b[0m         \u001b[0mcds_all\u001b[0m\u001b[0;34m[\u001b[0m\u001b[0mi\u001b[0m\u001b[0;34m]\u001b[0m \u001b[0;34m=\u001b[0m \u001b[0mcd_coefs\u001b[0m\u001b[0;34m\u001b[0m\u001b[0m\n",
      "\u001b[0;32m/home/maayanlab/UT/scripts/venv/local/lib/python2.7/site-packages/geode/geode.pyc\u001b[0m in \u001b[0;36mchdir\u001b[0;34m(data, sampleclass, genes, gamma, sort, calculate_sig, nnull, sig_only, norm_vector)\u001b[0m\n\u001b[1;32m     39\u001b[0m                 \u001b[0;32mraise\u001b[0m \u001b[0mValueError\u001b[0m\u001b[0;34m(\u001b[0m\u001b[0;34m\"gamma has to be a numeric number\"\u001b[0m\u001b[0;34m)\u001b[0m\u001b[0;34m\u001b[0m\u001b[0m\n\u001b[1;32m     40\u001b[0m         \u001b[0;32mif\u001b[0m \u001b[0mset\u001b[0m\u001b[0;34m(\u001b[0m\u001b[0msampleclass\u001b[0m\u001b[0;34m)\u001b[0m \u001b[0;34m!=\u001b[0m \u001b[0mset\u001b[0m\u001b[0;34m(\u001b[0m\u001b[0;34m[\u001b[0m\u001b[0;36m1\u001b[0m\u001b[0;34m,\u001b[0m\u001b[0;36m2\u001b[0m\u001b[0;34m]\u001b[0m\u001b[0;34m)\u001b[0m \u001b[0;32mand\u001b[0m \u001b[0mset\u001b[0m\u001b[0;34m(\u001b[0m\u001b[0msampleclass\u001b[0m\u001b[0;34m)\u001b[0m \u001b[0;34m!=\u001b[0m \u001b[0mset\u001b[0m\u001b[0;34m(\u001b[0m\u001b[0;34m[\u001b[0m\u001b[0;36m0\u001b[0m\u001b[0;34m,\u001b[0m\u001b[0;36m1\u001b[0m\u001b[0;34m,\u001b[0m\u001b[0;36m2\u001b[0m\u001b[0;34m]\u001b[0m\u001b[0;34m)\u001b[0m\u001b[0;34m:\u001b[0m\u001b[0;34m\u001b[0m\u001b[0m\n\u001b[0;32m---> 41\u001b[0;31m                 \u001b[0;32mraise\u001b[0m \u001b[0mValueError\u001b[0m\u001b[0;34m(\u001b[0m\u001b[0;34m\"sampleclass has to be a list whose elements are in only 0, 1 or 2\"\u001b[0m\u001b[0;34m)\u001b[0m\u001b[0;34m\u001b[0m\u001b[0m\n\u001b[0m\u001b[1;32m     42\u001b[0m         \u001b[0;31m# if m1.sum()<2 or m2.sum()<2:\u001b[0m\u001b[0;34m\u001b[0m\u001b[0;34m\u001b[0m\u001b[0m\n\u001b[1;32m     43\u001b[0m         \u001b[0;31m#       raise ValueError(\"Too few samples to calculate characteristic directions\")\u001b[0m\u001b[0;34m\u001b[0m\u001b[0;34m\u001b[0m\u001b[0m\n",
      "\u001b[0;31mValueError\u001b[0m: sampleclass has to be a list whose elements are in only 0, 1 or 2"
     ]
    }
   ],
   "source": [
    "distil_ids_pert = row['distil_id']\n",
    "# Make the sample_class\n",
    "distil_ids_sub = distil_ids_sub_df.index.tolist()\n",
    "\n",
    "mask_pert = np.in1d(distil_ids_sub, distil_ids_pert)\n",
    "sample_class = mask_pert.astype(int) + 1\n",
    "\n",
    "batches = distil_ids_sub_df['det_plate']\n",
    "\n",
    "# Apply CD on the mean centered mat\n",
    "cd = chdir_avg(mat_centered.T, sample_class, batches, PROBES_LM1000)\n"
   ]
  },
  {
   "cell_type": "code",
   "execution_count": 46,
   "metadata": {},
   "outputs": [
    {
     "name": "stdout",
     "output_type": "stream",
     "text": [
      "(1012,) (1012,)\n"
     ]
    }
   ],
   "source": [
    "print sample_class.shape, batches.shape"
   ]
  },
  {
   "cell_type": "code",
   "execution_count": 53,
   "metadata": {},
   "outputs": [
    {
     "name": "stdout",
     "output_type": "stream",
     "text": [
      "(338, 978) [1 1 1 1 1 1 1 1 1 1 1 1 1 1 1 1 1 1 1 1 1 1 1 1 1 1 1 1 1 1 1 1 1 1 1 1 1\n",
      " 1 1 1 1 1 1 1 1 1 1 2 1 1 1 1 1 1 1 1 1 1 1 1 1 1 1 1 1 1 1 1 1 1 1 1 1 1\n",
      " 1 1 1 1 1 1 1 1 1 1 1 1 1 1 1 1 1 1 1 1 1 1 1 1 1 1 1 1 1 1 1 1 1 1 1 1 1\n",
      " 1 1 1 1 1 1 1 1 1 1 1 1 1 1 1 1 1 1 1 1 1 1 1 1 1 1 1 1 1 1 1 1 1 1 1 1 1\n",
      " 1 1 1 1 1 1 1 1 1 1 1 1 1 1 1 1 1 1 1 1 1 1 1 1 1 1 1 1 1 1 1 1 1 1 1 1 1\n",
      " 1 1 1 1 1 1 1 1 1 1 1 1 1 1 1 1 1 1 1 1 1 1 1 1 1 1 1 1 1 1 1 1 1 1 1 1 1\n",
      " 1 1 1 1 1 1 1 1 1 1 1 1 1 1 1 1 1 1 1 1 1 1 1 1 1 1 1 1 1 1 1 1 1 1 1 1 1\n",
      " 1 1 1 1 1 1 1 1 1 1 1 1 1 1 1 1 1 1 1 1 1 1 1 1 1 1 1 1 1 1 1 1 1 1 1 1 1\n",
      " 1 1 1 1 1 1 1 1 1 1 1 1 1 1 1 1 1 1 1 1 1 1 1 1 1 1 1 1 1 1 1 1 1 1 1 1 1\n",
      " 1 1 1 1 1]\n",
      "(337, 978) [1 1 1 1 1 1 1 1 1 1 1 1 1 1 1 1 1 1 1 1 1 1 1 1 1 1 1 1 1 1 1 1 1 1 1 1 1\n",
      " 1 1 1 1 1 1 1 1 1 1 1 1 1 1 1 1 1 1 1 1 1 1 1 1 1 1 1 1 1 1 1 1 1 1 1 1 1\n",
      " 1 1 1 1 1 1 1 1 1 1 1 1 1 1 1 1 1 1 1 1 1 1 1 1 1 1 1 1 1 1 1 1 1 1 1 1 1\n",
      " 1 1 1 1 1 1 1 1 1 1 1 1 1 1 1 1 1 1 1 1 1 1 1 1 1 1 1 1 1 1 1 1 1 1 1 1 1\n",
      " 1 1 1 1 1 1 1 1 1 1 1 1 1 1 1 1 1 1 1 1 1 1 1 1 1 1 1 1 1 1 1 1 1 1 1 1 1\n",
      " 1 1 1 1 1 1 1 1 1 1 1 1 1 1 1 1 1 1 1 1 1 1 1 1 1 1 1 1 1 1 1 1 1 1 1 1 1\n",
      " 1 1 1 1 1 1 1 1 1 1 1 1 1 1 1 1 1 1 1 1 1 1 1 1 1 1 1 1 1 1 1 1 1 1 1 1 1\n",
      " 1 1 1 1 1 1 1 1 1 1 1 1 1 1 1 1 1 1 1 1 1 1 1 1 1 1 1 1 1 1 1 1 1 1 1 1 1\n",
      " 1 1 1 1 1 1 1 1 1 1 1 1 1 1 1 1 1 1 1 1 1 1 1 1 1 1 1 1 1 1 1 1 1 1 1 1 1\n",
      " 1 1 1 1]\n",
      "(337, 978) [1 1 1 1 1 1 1 1 1 1 1 1 1 1 1 1 1 1 1 1 1 1 1 1 1 1 1 1 1 1 1 1 1 1 1 1 1\n",
      " 1 1 1 1 1 1 1 1 1 1 1 1 2 1 1 1 1 1 1 1 1 1 1 1 1 1 1 1 1 1 1 1 1 1 1 1 1\n",
      " 1 1 1 1 1 1 1 1 1 1 1 1 1 1 1 1 1 1 1 1 1 1 1 1 1 1 1 1 1 1 1 1 1 1 1 1 1\n",
      " 1 1 1 1 1 1 1 1 1 1 1 1 1 1 1 1 1 1 1 1 1 1 1 1 1 1 1 1 1 1 1 1 1 1 1 1 1\n",
      " 1 1 1 1 1 1 1 1 1 1 1 1 1 1 1 1 1 1 1 1 1 1 1 1 1 1 1 1 1 1 1 1 1 1 1 1 1\n",
      " 1 1 1 1 1 1 1 1 1 1 1 1 1 1 1 1 1 1 1 1 1 1 1 1 1 1 1 1 1 1 1 1 1 1 1 1 1\n",
      " 1 1 1 1 1 1 1 1 1 1 1 1 1 1 1 1 1 1 1 1 1 1 1 1 1 1 1 1 1 1 1 1 1 1 1 1 1\n",
      " 1 1 1 1 1 1 1 1 1 1 1 1 1 1 1 1 1 1 1 1 1 1 1 1 1 1 1 1 1 1 1 1 1 1 1 1 1\n",
      " 1 1 1 1 1 1 1 1 1 1 1 1 1 1 1 1 1 1 1 1 1 1 1 1 1 1 1 1 1 1 1 1 1 1 1 1 1\n",
      " 1 1 1 1]\n"
     ]
    }
   ],
   "source": [
    "for batch in set(batches):\n",
    "    mask_batch = np.in1d(batches, [batch])\n",
    "    print mat_centered[mask_batch].shape, sample_class[mask_batch]\n",
    "#     cd = geode.chdir(mat_centered[:, mask_batch], sample_class[mask_batch], PROBES_LM1000, \n",
    "#                       calculate_sig=0, sort=False, gamma=0.5)\n"
   ]
  },
  {
   "cell_type": "code",
   "execution_count": 57,
   "metadata": {},
   "outputs": [
    {
     "data": {
      "text/plain": [
       "False"
      ]
     },
     "execution_count": 57,
     "metadata": {},
     "output_type": "execute_result"
    }
   ],
   "source": [
    "1>=2"
   ]
  },
  {
   "cell_type": "code",
   "execution_count": 39,
   "metadata": {
    "collapsed": true
   },
   "outputs": [],
   "source": [
    "cd = chdir_avg(mat_centered.T, sample_class, batches, PROBES_LM1000)"
   ]
  },
  {
   "cell_type": "code",
   "execution_count": 40,
   "metadata": {},
   "outputs": [
    {
     "data": {
      "text/plain": [
       "(978,)"
      ]
     },
     "execution_count": 40,
     "metadata": {},
     "output_type": "execute_result"
    }
   ],
   "source": [
    "cd.shape"
   ]
  }
 ],
 "metadata": {
  "kernelspec": {
   "display_name": "Python 2",
   "language": "python",
   "name": "python2"
  },
  "language_info": {
   "codemirror_mode": {
    "name": "ipython",
    "version": 2
   },
   "file_extension": ".py",
   "mimetype": "text/x-python",
   "name": "python",
   "nbconvert_exporter": "python",
   "pygments_lexer": "ipython2",
   "version": "2.7.11"
  }
 },
 "nbformat": 4,
 "nbformat_minor": 2
}
