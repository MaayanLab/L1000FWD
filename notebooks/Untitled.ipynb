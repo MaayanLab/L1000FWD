{
 "cells": [
  {
   "cell_type": "code",
   "execution_count": 1,
   "metadata": {
    "collapsed": true
   },
   "outputs": [],
   "source": [
    "import json"
   ]
  },
  {
   "cell_type": "code",
   "execution_count": 2,
   "metadata": {
    "collapsed": false
   },
   "outputs": [
    {
     "name": "stdout",
     "output_type": "stream",
     "text": [
      "<type 'dict'>\n"
     ]
    }
   ],
   "source": [
    "data = json.load(open('Signature_Graph_12761nodes_99.9_SC.cyjs', 'rb'))\n",
    "print type(data)"
   ]
  },
  {
   "cell_type": "code",
   "execution_count": 3,
   "metadata": {
    "collapsed": false
   },
   "outputs": [
    {
     "data": {
      "text/plain": [
       "[u'elements',\n",
       " u'target_cytoscapejs_version',\n",
       " u'data',\n",
       " u'generated_by',\n",
       " u'format_version']"
      ]
     },
     "execution_count": 3,
     "metadata": {},
     "output_type": "execute_result"
    }
   ],
   "source": [
    "data.keys()"
   ]
  },
  {
   "cell_type": "code",
   "execution_count": 6,
   "metadata": {
    "collapsed": false
   },
   "outputs": [
    {
     "data": {
      "text/plain": [
       "[{u'data': {u'SUID': 12822,\n",
       "   u'id': u'12822',\n",
       "   u'name': u'CPC001_HA1E_24H:BRD-K84595254:10.0',\n",
       "   u'selected': False,\n",
       "   u'shared_name': u'CPC001_HA1E_24H:BRD-K84595254:10.0'},\n",
       "  u'position': {u'x': -6024.53125, u'y': 83140.3359375},\n",
       "  u'selected': False},\n",
       " {u'data': {u'SUID': 12821,\n",
       "   u'id': u'12821',\n",
       "   u'name': u'CPC004_HCC515_6H:BRD-K46137903:10.0',\n",
       "   u'selected': False,\n",
       "   u'shared_name': u'CPC004_HCC515_6H:BRD-K46137903:10.0'},\n",
       "  u'position': {u'x': -1083.608154296875, u'y': 115957.7890625},\n",
       "  u'selected': False},\n",
       " {u'data': {u'SUID': 12820,\n",
       "   u'id': u'12820',\n",
       "   u'name': u'LJP008_A375_24H:BRD-K77908580:10',\n",
       "   u'selected': False,\n",
       "   u'shared_name': u'LJP008_A375_24H:BRD-K77908580:10'},\n",
       "  u'position': {u'x': -23356.3359375, u'y': 119760.703125},\n",
       "  u'selected': False},\n",
       " {u'data': {u'SUID': 12819,\n",
       "   u'id': u'12819',\n",
       "   u'name': u'CPC007_MCF7_24H:BRD-K84203638:10.0',\n",
       "   u'selected': False,\n",
       "   u'shared_name': u'CPC007_MCF7_24H:BRD-K84203638:10.0'},\n",
       "  u'position': {u'x': -939.42822265625, u'y': 98117.328125},\n",
       "  u'selected': False},\n",
       " {u'data': {u'SUID': 12818,\n",
       "   u'id': u'12818',\n",
       "   u'name': u'CPC020_VCAP_6H:BRD-A94793051:10.0',\n",
       "   u'selected': False,\n",
       "   u'shared_name': u'CPC020_VCAP_6H:BRD-A94793051:10.0'},\n",
       "  u'position': {u'x': -9461.8291015625, u'y': 122837.5234375},\n",
       "  u'selected': False}]"
      ]
     },
     "execution_count": 6,
     "metadata": {},
     "output_type": "execute_result"
    }
   ],
   "source": [
    "data['elements']['nodes'][:5]"
   ]
  },
  {
   "cell_type": "code",
   "execution_count": 7,
   "metadata": {
    "collapsed": false
   },
   "outputs": [
    {
     "data": {
      "text/plain": [
       "[{u'x': -6024.53125, u'y': 83140.3359375},\n",
       " {u'x': -1083.608154296875, u'y': 115957.7890625},\n",
       " {u'x': -23356.3359375, u'y': 119760.703125},\n",
       " {u'x': -939.42822265625, u'y': 98117.328125},\n",
       " {u'x': -9461.8291015625, u'y': 122837.5234375}]"
      ]
     },
     "execution_count": 7,
     "metadata": {},
     "output_type": "execute_result"
    }
   ],
   "source": [
    "[rec['position'] for rec in data['elements']['nodes'][:5]]"
   ]
  }
 ],
 "metadata": {
  "kernelspec": {
   "display_name": "Python 2",
   "language": "python",
   "name": "python2"
  },
  "language_info": {
   "codemirror_mode": {
    "name": "ipython",
    "version": 2
   },
   "file_extension": ".py",
   "mimetype": "text/x-python",
   "name": "python",
   "nbconvert_exporter": "python",
   "pygments_lexer": "ipython2",
   "version": "2.7.10"
  }
 },
 "nbformat": 4,
 "nbformat_minor": 2
}
