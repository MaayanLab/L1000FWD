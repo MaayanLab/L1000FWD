{
 "cells": [
  {
   "cell_type": "code",
   "execution_count": 1,
   "metadata": {},
   "outputs": [],
   "source": [
    "import numpy as np\n",
    "import matplotlib.pyplot as plt\n",
    "%matplotlib inline\n",
    "import seaborn as sns"
   ]
  },
  {
   "cell_type": "code",
   "execution_count": 13,
   "metadata": {},
   "outputs": [],
   "source": [
    "from scipy.stats import rankdata"
   ]
  },
  {
   "cell_type": "code",
   "execution_count": 86,
   "metadata": {},
   "outputs": [],
   "source": [
    "from scipy import stats\n",
    "import pandas as pd"
   ]
  },
  {
   "cell_type": "code",
   "execution_count": 2,
   "metadata": {},
   "outputs": [
    {
     "name": "stdout",
     "output_type": "stream",
     "text": [
      "(10000, 42809)\n"
     ]
    }
   ],
   "source": [
    "mat = np.load('../data/null_scores_mat_10000x42809.npy')['mat']\n",
    "print mat.shape"
   ]
  },
  {
   "cell_type": "code",
   "execution_count": 10,
   "metadata": {},
   "outputs": [
    {
     "name": "stdout",
     "output_type": "stream",
     "text": [
      "(10000, 10)\n"
     ]
    }
   ],
   "source": [
    "rand_ints = np.random.choice(range(mat.shape[1]), 10, replace=False)\n",
    "submat = mat[:, rand_ints]\n",
    "print submat.shape\n",
    "    "
   ]
  },
  {
   "cell_type": "code",
   "execution_count": 11,
   "metadata": {},
   "outputs": [
    {
     "data": {
      "image/png": "[encoded data removed]",
      "text/plain": [
       "<matplotlib.figure.Figure at 0x1116bbd10>"
      ]
     },
     "metadata": {},
     "output_type": "display_data"
    }
   ],
   "source": [
    "fig, ax = plt.subplots()\n",
    "for i in range(10):\n",
    "    ax = sns.distplot(submat[:, i], ax=ax, hist=False)\n",
    "    \n",
    "    "
   ]
  },
  {
   "cell_type": "code",
   "execution_count": 12,
   "metadata": {},
   "outputs": [
    {
     "name": "stdout",
     "output_type": "stream",
     "text": [
      "-0.09 0.0813\n"
     ]
    }
   ],
   "source": [
    "print mat.min(), mat.max()"
   ]
  },
  {
   "cell_type": "code",
   "execution_count": 14,
   "metadata": {
    "scrolled": true
   },
   "outputs": [
    {
     "name": "stdout",
     "output_type": "stream",
     "text": [
      "Help on function rankdata in module scipy.stats.stats:\n",
      "\n",
      "rankdata(a, method='average')\n",
      "    Assign ranks to data, dealing with ties appropriately.\n",
      "    \n",
      "    Ranks begin at 1.  The `method` argument controls how ranks are assigned\n",
      "    to equal values.  See [1]_ for further discussion of ranking methods.\n",
      "    \n",
      "    Parameters\n",
      "    ----------\n",
      "    a : array_like\n",
      "        The array of values to be ranked.  The array is first flattened.\n",
      "    method : str, optional\n",
      "        The method used to assign ranks to tied elements.\n",
      "        The options are 'average', 'min', 'max', 'dense' and 'ordinal'.\n",
      "    \n",
      "        'average':\n",
      "            The average of the ranks that would have been assigned to\n",
      "            all the tied values is assigned to each value.\n",
      "        'min':\n",
      "            The minimum of the ranks that would have been assigned to all\n",
      "            the tied values is assigned to each value.  (This is also\n",
      "            referred to as \"competition\" ranking.)\n",
      "        'max':\n",
      "            The maximum of the ranks that would have been assigned to all\n",
      "            the tied values is assigned to each value.\n",
      "        'dense':\n",
      "            Like 'min', but the rank of the next highest element is assigned\n",
      "            the rank immediately after those assigned to the tied elements.\n",
      "        'ordinal':\n",
      "            All values are given a distinct rank, corresponding to the order\n",
      "            that the values occur in `a`.\n",
      "    \n",
      "        The default is 'average'.\n",
      "    \n",
      "    Returns\n",
      "    -------\n",
      "    ranks : ndarray\n",
      "         An array of length equal to the size of `a`, containing rank\n",
      "         scores.\n",
      "    \n",
      "    References\n",
      "    ----------\n",
      "    .. [1] \"Ranking\", http://en.wikipedia.org/wiki/Ranking\n",
      "    \n",
      "    Examples\n",
      "    --------\n",
      "    >>> from scipy.stats import rankdata\n",
      "    >>> rankdata([0, 2, 3, 2])\n",
      "    array([ 1. ,  2.5,  4. ,  2.5])\n",
      "    >>> rankdata([0, 2, 3, 2], method='min')\n",
      "    array([ 1,  2,  4,  2])\n",
      "    >>> rankdata([0, 2, 3, 2], method='max')\n",
      "    array([ 1,  3,  4,  3])\n",
      "    >>> rankdata([0, 2, 3, 2], method='dense')\n",
      "    array([ 1,  2,  3,  2])\n",
      "    >>> rankdata([0, 2, 3, 2], method='ordinal')\n",
      "    array([ 1,  2,  4,  3])\n",
      "\n"
     ]
    }
   ],
   "source": [
    "help(rankdata)"
   ]
  },
  {
   "cell_type": "code",
   "execution_count": 76,
   "metadata": {},
   "outputs": [
    {
     "name": "stdout",
     "output_type": "stream",
     "text": [
      "(10000, 42809)\n",
      "1 42809\n"
     ]
    }
   ],
   "source": [
    "# rankmat = np.apply_along_axis(rankdata, 1, mat[:, :17000])\n",
    "# rankmat = np.apply_along_axis(rankdata, 1, mat)\n",
    "rankmat = np.apply_along_axis(lambda x: rankdata(x, method='ordinal'), 1, np.abs(mat))\n",
    "\n",
    "\n",
    "print rankmat.shape\n",
    "print rankmat.min(), rankmat.max()"
   ]
  },
  {
   "cell_type": "code",
   "execution_count": 77,
   "metadata": {},
   "outputs": [
    {
     "name": "stdout",
     "output_type": "stream",
     "text": [
      "(42809,) (42809,)\n"
     ]
    }
   ],
   "source": [
    "mean_ranks = rankmat.mean(axis=0)\n",
    "std_ranks = rankmat.std(axis=0)\n",
    "print mean_ranks.shape, std_ranks.shape"
   ]
  },
  {
   "cell_type": "code",
   "execution_count": 78,
   "metadata": {},
   "outputs": [
    {
     "data": {
      "text/plain": [
       "<matplotlib.axes._subplots.AxesSubplot at 0x1119d6b50>"
      ]
     },
     "execution_count": 78,
     "metadata": {},
     "output_type": "execute_result"
    },
    {
     "data": {
      "image/png": "[encoded data removed]",
      "text/plain": [
       "<matplotlib.figure.Figure at 0x1119ce790>"
      ]
     },
     "metadata": {},
     "output_type": "display_data"
    }
   ],
   "source": [
    "sns.distplot(mean_ranks, hist=False)"
   ]
  },
  {
   "cell_type": "code",
   "execution_count": 79,
   "metadata": {},
   "outputs": [
    {
     "data": {
      "text/plain": [
       "<matplotlib.collections.PathCollection at 0x1df21e790>"
      ]
     },
     "execution_count": 79,
     "metadata": {},
     "output_type": "execute_result"
    },
    {
     "data": {
      "image/png": "[encoded data removed]",
      "text/plain": [
       "<matplotlib.figure.Figure at 0x1df1611d0>"
      ]
     },
     "metadata": {},
     "output_type": "display_data"
    }
   ],
   "source": [
    "plt.scatter(mean_ranks, std_ranks, s=5, alpha=0.3)"
   ]
  },
  {
   "cell_type": "code",
   "execution_count": 80,
   "metadata": {},
   "outputs": [
    {
     "name": "stdout",
     "output_type": "stream",
     "text": [
      "-0.00014985\n",
      "17746.0397 13187.2501258\n",
      "-1.34562092405 0.0892124000534\n"
     ]
    }
   ],
   "source": [
    "obs_rank = 1.\n",
    "i = 0\n",
    "\n",
    "z = (obs_rank - mean_ranks[i]) / std_ranks[i]\n",
    "pval = stats.norm.sf(abs(z))\n",
    "print mat[:, i].mean()\n",
    "print mean_ranks[i], std_ranks[i]\n",
    "print z, pval"
   ]
  },
  {
   "cell_type": "code",
   "execution_count": 90,
   "metadata": {},
   "outputs": [
    {
     "data": {
      "text/plain": [
       "<matplotlib.axes._subplots.AxesSubplot at 0x1df7c1e10>"
      ]
     },
     "execution_count": 90,
     "metadata": {},
     "output_type": "execute_result"
    },
    {
     "data": {
      "image/png": "[encoded data removed]",
      "text/plain": [
       "<matplotlib.figure.Figure at 0x1df5962d0>"
      ]
     },
     "metadata": {},
     "output_type": "display_data"
    }
   ],
   "source": [
    "obs_ranks = np.arange(len(mean_ranks)) + 1\n",
    "np.random.shuffle(obs_ranks)\n",
    "zscores = (obs_ranks - mean_ranks) / std_ranks\n",
    "sns.distplot(zscores)"
   ]
  },
  {
   "cell_type": "code",
   "execution_count": 91,
   "metadata": {},
   "outputs": [
    {
     "name": "stdout",
     "output_type": "stream",
     "text": [
      "0.0112511997564 0.499972526018\n"
     ]
    },
    {
     "data": {
      "text/plain": [
       "<matplotlib.axes._subplots.AxesSubplot at 0x1df959090>"
      ]
     },
     "execution_count": 91,
     "metadata": {},
     "output_type": "execute_result"
    },
    {
     "data": {
      "image/png": "[encoded data removed]",
      "text/plain": [
       "<matplotlib.figure.Figure at 0x1e000fb90>"
      ]
     },
     "metadata": {},
     "output_type": "display_data"
    }
   ],
   "source": [
    "pvals = np.array([stats.norm.sf(abs(z)) for z in zscores])\n",
    "print pvals.min(), pvals.max()\n",
    "sns.distplot(pvals)"
   ]
  },
  {
   "cell_type": "code",
   "execution_count": 92,
   "metadata": {},
   "outputs": [
    {
     "data": {
      "text/html": [
       "<div>\n",
       "<style scoped>\n",
       "    .dataframe tbody tr th:only-of-type {\n",
       "        vertical-align: middle;\n",
       "    }\n",
       "\n",
       "    .dataframe tbody tr th {\n",
       "        vertical-align: top;\n",
       "    }\n",
       "\n",
       "    .dataframe thead th {\n",
       "        text-align: right;\n",
       "    }\n",
       "</style>\n",
       "<table border=\"1\" class=\"dataframe\">\n",
       "  <thead>\n",
       "    <tr style=\"text-align: right;\">\n",
       "      <th></th>\n",
       "      <th>abs_ranks</th>\n",
       "      <th>mean_ranks</th>\n",
       "      <th>p</th>\n",
       "      <th>std_ranks</th>\n",
       "    </tr>\n",
       "  </thead>\n",
       "  <tbody>\n",
       "    <tr>\n",
       "      <th>42464</th>\n",
       "      <td>86</td>\n",
       "      <td>25760.3285</td>\n",
       "      <td>0.011251</td>\n",
       "      <td>11251.891652</td>\n",
       "    </tr>\n",
       "    <tr>\n",
       "      <th>42787</th>\n",
       "      <td>131</td>\n",
       "      <td>25679.8021</td>\n",
       "      <td>0.011615</td>\n",
       "      <td>11256.824386</td>\n",
       "    </tr>\n",
       "    <tr>\n",
       "      <th>42363</th>\n",
       "      <td>190</td>\n",
       "      <td>25241.5850</td>\n",
       "      <td>0.012178</td>\n",
       "      <td>11126.717138</td>\n",
       "    </tr>\n",
       "    <tr>\n",
       "      <th>42342</th>\n",
       "      <td>71</td>\n",
       "      <td>25307.9697</td>\n",
       "      <td>0.012466</td>\n",
       "      <td>11254.221806</td>\n",
       "    </tr>\n",
       "    <tr>\n",
       "      <th>41120</th>\n",
       "      <td>185</td>\n",
       "      <td>25205.7983</td>\n",
       "      <td>0.012664</td>\n",
       "      <td>11188.217545</td>\n",
       "    </tr>\n",
       "    <tr>\n",
       "      <th>41706</th>\n",
       "      <td>118</td>\n",
       "      <td>25269.4692</td>\n",
       "      <td>0.012684</td>\n",
       "      <td>11249.641180</td>\n",
       "    </tr>\n",
       "    <tr>\n",
       "      <th>39845</th>\n",
       "      <td>267</td>\n",
       "      <td>25490.6957</td>\n",
       "      <td>0.012737</td>\n",
       "      <td>11290.086474</td>\n",
       "    </tr>\n",
       "    <tr>\n",
       "      <th>41931</th>\n",
       "      <td>342</td>\n",
       "      <td>25528.2784</td>\n",
       "      <td>0.012757</td>\n",
       "      <td>11276.472881</td>\n",
       "    </tr>\n",
       "    <tr>\n",
       "      <th>42364</th>\n",
       "      <td>348</td>\n",
       "      <td>25532.7826</td>\n",
       "      <td>0.012802</td>\n",
       "      <td>11282.621697</td>\n",
       "    </tr>\n",
       "    <tr>\n",
       "      <th>42339</th>\n",
       "      <td>358</td>\n",
       "      <td>25694.8318</td>\n",
       "      <td>0.012859</td>\n",
       "      <td>11359.543708</td>\n",
       "    </tr>\n",
       "    <tr>\n",
       "      <th>41538</th>\n",
       "      <td>12</td>\n",
       "      <td>25444.6455</td>\n",
       "      <td>0.012876</td>\n",
       "      <td>11405.104927</td>\n",
       "    </tr>\n",
       "    <tr>\n",
       "      <th>42345</th>\n",
       "      <td>167</td>\n",
       "      <td>25393.9547</td>\n",
       "      <td>0.012984</td>\n",
       "      <td>11329.282443</td>\n",
       "    </tr>\n",
       "    <tr>\n",
       "      <th>40323</th>\n",
       "      <td>112</td>\n",
       "      <td>25350.9585</td>\n",
       "      <td>0.013114</td>\n",
       "      <td>11354.554204</td>\n",
       "    </tr>\n",
       "    <tr>\n",
       "      <th>41962</th>\n",
       "      <td>416</td>\n",
       "      <td>25349.4351</td>\n",
       "      <td>0.013359</td>\n",
       "      <td>11253.495257</td>\n",
       "    </tr>\n",
       "    <tr>\n",
       "      <th>40542</th>\n",
       "      <td>200</td>\n",
       "      <td>25405.6774</td>\n",
       "      <td>0.013383</td>\n",
       "      <td>11379.947880</td>\n",
       "    </tr>\n",
       "    <tr>\n",
       "      <th>42250</th>\n",
       "      <td>217</td>\n",
       "      <td>25116.5667</td>\n",
       "      <td>0.013433</td>\n",
       "      <td>11249.151523</td>\n",
       "    </tr>\n",
       "    <tr>\n",
       "      <th>40571</th>\n",
       "      <td>60</td>\n",
       "      <td>24962.6890</td>\n",
       "      <td>0.013481</td>\n",
       "      <td>11257.724408</td>\n",
       "    </tr>\n",
       "    <tr>\n",
       "      <th>42477</th>\n",
       "      <td>636</td>\n",
       "      <td>25174.3450</td>\n",
       "      <td>0.013628</td>\n",
       "      <td>11114.285950</td>\n",
       "    </tr>\n",
       "    <tr>\n",
       "      <th>41080</th>\n",
       "      <td>183</td>\n",
       "      <td>25037.9810</td>\n",
       "      <td>0.013663</td>\n",
       "      <td>11262.816836</td>\n",
       "    </tr>\n",
       "    <tr>\n",
       "      <th>41844</th>\n",
       "      <td>331</td>\n",
       "      <td>24941.0334</td>\n",
       "      <td>0.013842</td>\n",
       "      <td>11177.546347</td>\n",
       "    </tr>\n",
       "  </tbody>\n",
       "</table>\n",
       "</div>"
      ],
      "text/plain": [
       "       abs_ranks  mean_ranks         p     std_ranks\n",
       "42464         86  25760.3285  0.011251  11251.891652\n",
       "42787        131  25679.8021  0.011615  11256.824386\n",
       "42363        190  25241.5850  0.012178  11126.717138\n",
       "42342         71  25307.9697  0.012466  11254.221806\n",
       "41120        185  25205.7983  0.012664  11188.217545\n",
       "41706        118  25269.4692  0.012684  11249.641180\n",
       "39845        267  25490.6957  0.012737  11290.086474\n",
       "41931        342  25528.2784  0.012757  11276.472881\n",
       "42364        348  25532.7826  0.012802  11282.621697\n",
       "42339        358  25694.8318  0.012859  11359.543708\n",
       "41538         12  25444.6455  0.012876  11405.104927\n",
       "42345        167  25393.9547  0.012984  11329.282443\n",
       "40323        112  25350.9585  0.013114  11354.554204\n",
       "41962        416  25349.4351  0.013359  11253.495257\n",
       "40542        200  25405.6774  0.013383  11379.947880\n",
       "42250        217  25116.5667  0.013433  11249.151523\n",
       "40571         60  24962.6890  0.013481  11257.724408\n",
       "42477        636  25174.3450  0.013628  11114.285950\n",
       "41080        183  25037.9810  0.013663  11262.816836\n",
       "41844        331  24941.0334  0.013842  11177.546347"
      ]
     },
     "execution_count": 92,
     "metadata": {},
     "output_type": "execute_result"
    }
   ],
   "source": [
    "result_df = pd.DataFrame({'p': pvals, 'abs_ranks': obs_ranks, 'mean_ranks': mean_ranks, 'std_ranks':std_ranks})\n",
    "result_df.sort_values('p').head(20)"
   ]
  },
  {
   "cell_type": "code",
   "execution_count": 93,
   "metadata": {},
   "outputs": [
    {
     "data": {
      "text/html": [
       "<div>\n",
       "<style scoped>\n",
       "    .dataframe tbody tr th:only-of-type {\n",
       "        vertical-align: middle;\n",
       "    }\n",
       "\n",
       "    .dataframe tbody tr th {\n",
       "        vertical-align: top;\n",
       "    }\n",
       "\n",
       "    .dataframe thead th {\n",
       "        text-align: right;\n",
       "    }\n",
       "</style>\n",
       "<table border=\"1\" class=\"dataframe\">\n",
       "  <thead>\n",
       "    <tr style=\"text-align: right;\">\n",
       "      <th></th>\n",
       "      <th>abs_ranks</th>\n",
       "      <th>mean_ranks</th>\n",
       "      <th>p</th>\n",
       "      <th>std_ranks</th>\n",
       "    </tr>\n",
       "  </thead>\n",
       "  <tbody>\n",
       "    <tr>\n",
       "      <th>30605</th>\n",
       "      <td>1</td>\n",
       "      <td>23280.7968</td>\n",
       "      <td>0.023303</td>\n",
       "      <td>11699.171672</td>\n",
       "    </tr>\n",
       "    <tr>\n",
       "      <th>4187</th>\n",
       "      <td>2</td>\n",
       "      <td>18266.3655</td>\n",
       "      <td>0.078010</td>\n",
       "      <td>12875.064150</td>\n",
       "    </tr>\n",
       "    <tr>\n",
       "      <th>9533</th>\n",
       "      <td>3</td>\n",
       "      <td>19090.0650</td>\n",
       "      <td>0.065666</td>\n",
       "      <td>12649.914804</td>\n",
       "    </tr>\n",
       "    <tr>\n",
       "      <th>20788</th>\n",
       "      <td>4</td>\n",
       "      <td>20907.5627</td>\n",
       "      <td>0.042579</td>\n",
       "      <td>12142.527613</td>\n",
       "    </tr>\n",
       "    <tr>\n",
       "      <th>21270</th>\n",
       "      <td>5</td>\n",
       "      <td>21595.6281</td>\n",
       "      <td>0.037640</td>\n",
       "      <td>12138.083512</td>\n",
       "    </tr>\n",
       "    <tr>\n",
       "      <th>24838</th>\n",
       "      <td>6</td>\n",
       "      <td>21514.0893</td>\n",
       "      <td>0.036005</td>\n",
       "      <td>11955.237319</td>\n",
       "    </tr>\n",
       "    <tr>\n",
       "      <th>35988</th>\n",
       "      <td>7</td>\n",
       "      <td>24078.3951</td>\n",
       "      <td>0.017816</td>\n",
       "      <td>11456.528983</td>\n",
       "    </tr>\n",
       "    <tr>\n",
       "      <th>37241</th>\n",
       "      <td>8</td>\n",
       "      <td>24125.0646</td>\n",
       "      <td>0.017217</td>\n",
       "      <td>11403.113609</td>\n",
       "    </tr>\n",
       "    <tr>\n",
       "      <th>22204</th>\n",
       "      <td>9</td>\n",
       "      <td>22247.9826</td>\n",
       "      <td>0.034524</td>\n",
       "      <td>12231.962808</td>\n",
       "    </tr>\n",
       "    <tr>\n",
       "      <th>8108</th>\n",
       "      <td>10</td>\n",
       "      <td>20097.5923</td>\n",
       "      <td>0.062482</td>\n",
       "      <td>13092.610187</td>\n",
       "    </tr>\n",
       "    <tr>\n",
       "      <th>20032</th>\n",
       "      <td>11</td>\n",
       "      <td>20874.6494</td>\n",
       "      <td>0.041371</td>\n",
       "      <td>12025.217616</td>\n",
       "    </tr>\n",
       "    <tr>\n",
       "      <th>41538</th>\n",
       "      <td>12</td>\n",
       "      <td>25444.6455</td>\n",
       "      <td>0.012876</td>\n",
       "      <td>11405.104927</td>\n",
       "    </tr>\n",
       "    <tr>\n",
       "      <th>26471</th>\n",
       "      <td>13</td>\n",
       "      <td>22596.6702</td>\n",
       "      <td>0.028850</td>\n",
       "      <td>11898.882223</td>\n",
       "    </tr>\n",
       "    <tr>\n",
       "      <th>16522</th>\n",
       "      <td>14</td>\n",
       "      <td>20497.0497</td>\n",
       "      <td>0.049076</td>\n",
       "      <td>12384.862030</td>\n",
       "    </tr>\n",
       "    <tr>\n",
       "      <th>5825</th>\n",
       "      <td>15</td>\n",
       "      <td>18479.0869</td>\n",
       "      <td>0.075350</td>\n",
       "      <td>12848.492693</td>\n",
       "    </tr>\n",
       "    <tr>\n",
       "      <th>1747</th>\n",
       "      <td>16</td>\n",
       "      <td>17906.3347</td>\n",
       "      <td>0.084107</td>\n",
       "      <td>12983.169549</td>\n",
       "    </tr>\n",
       "    <tr>\n",
       "      <th>15845</th>\n",
       "      <td>17</td>\n",
       "      <td>20504.0303</td>\n",
       "      <td>0.049473</td>\n",
       "      <td>12416.472576</td>\n",
       "    </tr>\n",
       "    <tr>\n",
       "      <th>30679</th>\n",
       "      <td>18</td>\n",
       "      <td>22796.5447</td>\n",
       "      <td>0.024761</td>\n",
       "      <td>11597.615565</td>\n",
       "    </tr>\n",
       "    <tr>\n",
       "      <th>21960</th>\n",
       "      <td>19</td>\n",
       "      <td>21246.9368</td>\n",
       "      <td>0.039747</td>\n",
       "      <td>12105.121546</td>\n",
       "    </tr>\n",
       "    <tr>\n",
       "      <th>28794</th>\n",
       "      <td>20</td>\n",
       "      <td>22926.4715</td>\n",
       "      <td>0.026659</td>\n",
       "      <td>11854.320776</td>\n",
       "    </tr>\n",
       "  </tbody>\n",
       "</table>\n",
       "</div>"
      ],
      "text/plain": [
       "       abs_ranks  mean_ranks         p     std_ranks\n",
       "30605          1  23280.7968  0.023303  11699.171672\n",
       "4187           2  18266.3655  0.078010  12875.064150\n",
       "9533           3  19090.0650  0.065666  12649.914804\n",
       "20788          4  20907.5627  0.042579  12142.527613\n",
       "21270          5  21595.6281  0.037640  12138.083512\n",
       "24838          6  21514.0893  0.036005  11955.237319\n",
       "35988          7  24078.3951  0.017816  11456.528983\n",
       "37241          8  24125.0646  0.017217  11403.113609\n",
       "22204          9  22247.9826  0.034524  12231.962808\n",
       "8108          10  20097.5923  0.062482  13092.610187\n",
       "20032         11  20874.6494  0.041371  12025.217616\n",
       "41538         12  25444.6455  0.012876  11405.104927\n",
       "26471         13  22596.6702  0.028850  11898.882223\n",
       "16522         14  20497.0497  0.049076  12384.862030\n",
       "5825          15  18479.0869  0.075350  12848.492693\n",
       "1747          16  17906.3347  0.084107  12983.169549\n",
       "15845         17  20504.0303  0.049473  12416.472576\n",
       "30679         18  22796.5447  0.024761  11597.615565\n",
       "21960         19  21246.9368  0.039747  12105.121546\n",
       "28794         20  22926.4715  0.026659  11854.320776"
      ]
     },
     "execution_count": 93,
     "metadata": {},
     "output_type": "execute_result"
    }
   ],
   "source": [
    "result_df.sort_values('abs_ranks').head(20)"
   ]
  },
  {
   "cell_type": "code",
   "execution_count": 65,
   "metadata": {},
   "outputs": [
    {
     "data": {
      "text/plain": [
       "0.5"
      ]
     },
     "execution_count": 65,
     "metadata": {},
     "output_type": "execute_result"
    }
   ],
   "source": [
    "stats.norm.sf(abs(0)) "
   ]
  }
 ],
 "metadata": {
  "kernelspec": {
   "display_name": "Python 2",
   "language": "python",
   "name": "python2"
  },
  "language_info": {
   "codemirror_mode": {
    "name": "ipython",
    "version": 2
   },
   "file_extension": ".py",
   "mimetype": "text/x-python",
   "name": "python",
   "nbconvert_exporter": "python",
   "pygments_lexer": "ipython2",
   "version": "2.7.10"
  }
 },
 "nbformat": 4,
 "nbformat_minor": 2
}
