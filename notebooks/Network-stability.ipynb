{
 "cells": [
  {
   "cell_type": "markdown",
   "metadata": {},
   "source": [
    "# Benchmark the stability of signature network using the `CD_center_LM` signatures "
   ]
  },
  {
   "cell_type": "code",
   "execution_count": 61,
   "metadata": {},
   "outputs": [],
   "source": [
    "import os, sys, json\n",
    "from collections import Counter\n",
    "import numpy as np\n",
    "import pandas as pd\n",
    "import networkx as nx\n",
    "from sklearn.metrics.pairwise import pairwise_distances\n",
    "from scipy.spatial import distance as dist\n",
    "from sklearn import neighbors\n",
    "from pymongo import MongoClient\n",
    "\n",
    "import matplotlib.pyplot as plt\n",
    "%matplotlib inline\n",
    "import seaborn as sns"
   ]
  },
  {
   "cell_type": "code",
   "execution_count": 2,
   "metadata": {},
   "outputs": [
    {
     "name": "stdout",
     "output_type": "stream",
     "text": [
      "1.11\n"
     ]
    }
   ],
   "source": [
    "print nx.__version__"
   ]
  },
  {
   "cell_type": "code",
   "execution_count": 65,
   "metadata": {},
   "outputs": [],
   "source": [
    "# Plot degree distribution\n",
    "def plot_degree_distribution(G):\n",
    "    fig, ax = plt.subplots()\n",
    "    \n",
    "    degrees = G.degree().values()\n",
    "    degrees = dict(Counter(degrees))\n",
    "    x = degrees.keys()\n",
    "    y = degrees.values()\n",
    "\n",
    "    ax.scatter(x, y, s=10, alpha=.6)\n",
    "    ax.set_xlabel('Degree', fontsize=12)\n",
    "    ax.set_ylabel('Count', fontsize=12)    \n",
    "    ax.set_xscale('log')\n",
    "    ax.set_yscale('log')\n",
    "    return fig\n"
   ]
  },
  {
   "cell_type": "code",
   "execution_count": 4,
   "metadata": {},
   "outputs": [
    {
     "name": "stdout",
     "output_type": "stream",
     "text": [
      "(48098, 4)\n"
     ]
    },
    {
     "data": {
      "text/html": [
       "<div>\n",
       "<style>\n",
       "    .dataframe thead tr:only-child th {\n",
       "        text-align: right;\n",
       "    }\n",
       "\n",
       "    .dataframe thead th {\n",
       "        text-align: left;\n",
       "    }\n",
       "\n",
       "    .dataframe tbody tr th {\n",
       "        vertical-align: top;\n",
       "    }\n",
       "</style>\n",
       "<table border=\"1\" class=\"dataframe\">\n",
       "  <thead>\n",
       "    <tr style=\"text-align: right;\">\n",
       "      <th></th>\n",
       "      <th>pvalue</th>\n",
       "      <th>cell_id</th>\n",
       "      <th>pert_dose</th>\n",
       "      <th>pert_id</th>\n",
       "    </tr>\n",
       "    <tr>\n",
       "      <th>sig_id</th>\n",
       "      <th></th>\n",
       "      <th></th>\n",
       "      <th></th>\n",
       "      <th></th>\n",
       "    </tr>\n",
       "  </thead>\n",
       "  <tbody>\n",
       "    <tr>\n",
       "      <th>LJP001_HS578T_24H:BRD-K52911425-001-04-9:2</th>\n",
       "      <td>0.0028</td>\n",
       "      <td>HS578T</td>\n",
       "      <td>2.0</td>\n",
       "      <td>BRD-K52911425</td>\n",
       "    </tr>\n",
       "    <tr>\n",
       "      <th>LJP001_HS578T_24H:BRD-K69932463-001-05-6:10</th>\n",
       "      <td>0.0483</td>\n",
       "      <td>HS578T</td>\n",
       "      <td>10.0</td>\n",
       "      <td>BRD-K69932463</td>\n",
       "    </tr>\n",
       "    <tr>\n",
       "      <th>LJP001_HS578T_24H:BRD-K85606544-001-04-2:10</th>\n",
       "      <td>0.0007</td>\n",
       "      <td>HS578T</td>\n",
       "      <td>10.0</td>\n",
       "      <td>BRD-K85606544</td>\n",
       "    </tr>\n",
       "    <tr>\n",
       "      <th>LJP001_HS578T_24H:BRD-K72636697-001-01-5:10</th>\n",
       "      <td>0.0000</td>\n",
       "      <td>HS578T</td>\n",
       "      <td>10.0</td>\n",
       "      <td>BRD-K72636697</td>\n",
       "    </tr>\n",
       "    <tr>\n",
       "      <th>LJP001_HS578T_24H:BRD-K13390322-001-02-2:0.4</th>\n",
       "      <td>0.0000</td>\n",
       "      <td>HS578T</td>\n",
       "      <td>0.4</td>\n",
       "      <td>BRD-K13390322</td>\n",
       "    </tr>\n",
       "  </tbody>\n",
       "</table>\n",
       "</div>"
      ],
      "text/plain": [
       "                                              pvalue cell_id  pert_dose  \\\n",
       "sig_id                                                                    \n",
       "LJP001_HS578T_24H:BRD-K52911425-001-04-9:2    0.0028  HS578T        2.0   \n",
       "LJP001_HS578T_24H:BRD-K69932463-001-05-6:10   0.0483  HS578T       10.0   \n",
       "LJP001_HS578T_24H:BRD-K85606544-001-04-2:10   0.0007  HS578T       10.0   \n",
       "LJP001_HS578T_24H:BRD-K72636697-001-01-5:10   0.0000  HS578T       10.0   \n",
       "LJP001_HS578T_24H:BRD-K13390322-001-02-2:0.4  0.0000  HS578T        0.4   \n",
       "\n",
       "                                                    pert_id  \n",
       "sig_id                                                       \n",
       "LJP001_HS578T_24H:BRD-K52911425-001-04-9:2    BRD-K52911425  \n",
       "LJP001_HS578T_24H:BRD-K69932463-001-05-6:10   BRD-K69932463  \n",
       "LJP001_HS578T_24H:BRD-K85606544-001-04-2:10   BRD-K85606544  \n",
       "LJP001_HS578T_24H:BRD-K72636697-001-01-5:10   BRD-K72636697  \n",
       "LJP001_HS578T_24H:BRD-K13390322-001-02-2:0.4  BRD-K13390322  "
      ]
     },
     "execution_count": 4,
     "metadata": {},
     "output_type": "execute_result"
    }
   ],
   "source": [
    "## Load signature metadata mongodb\n",
    "client = MongoClient('mongodb://146.203.54.131:27017/')\n",
    "coll = client['L1000FWD']['sigs']\n",
    "cur = coll.find({'SCS_centered_by_batch': {'$lt': 0.05}}, \n",
    "                {'_id':False, \n",
    "                 'sig_id':True, \n",
    "                 'SCS_centered_by_batch':True,\n",
    "                 'pert_id':True,\n",
    "                 'cell_id':True,\n",
    "                 'pert_dose':True,\n",
    "                })\n",
    "\n",
    "sig_meta_df = pd.DataFrame([doc for doc in cur]).set_index('sig_id')\n",
    "sig_meta_df.rename(index=str,columns={'SCS_centered_by_batch':'pvalue'}, inplace=True)\n",
    "print sig_meta_df.shape\n",
    "sig_meta_df.head()"
   ]
  },
  {
   "cell_type": "code",
   "execution_count": 4,
   "metadata": {
    "collapsed": true
   },
   "outputs": [],
   "source": [
    "# sig_meta_df['batch'] = sig_meta_df.index.map(lambda x:x.split(':')[0])\n",
    "# sig_meta_df['time'] = sig_meta_df['batch'].map(lambda x:x.split('_')[2].strip('H'))\n",
    "# sig_meta_df.to_csv('../data/metadata-L1000FWD.tsv', sep='\\t')"
   ]
  },
  {
   "cell_type": "code",
   "execution_count": 5,
   "metadata": {},
   "outputs": [
    {
     "name": "stdout",
     "output_type": "stream",
     "text": [
      "(34502,)\n"
     ]
    },
    {
     "data": {
      "text/plain": [
       "pert_id        sig_id                                   \n",
       "BRD-A00100033  CPC015_PHH_24H:BRD-A00100033-001-04-8:10     0.0203\n",
       "BRD-A00267231  CPC001_PC3_6H:BRD-A00267231-001-01-1:10      0.0007\n",
       "               CPC001_HA1E_24H:BRD-A00267231-001-01-1:10    0.0022\n",
       "               CPC017_ASC_24H:BRD-A00267231-001-01-1:10     0.0126\n",
       "               CPC017_A549_6H:BRD-A00267231-001-01-1:10     0.0228\n",
       "Name: pvalue, dtype: float64"
      ]
     },
     "execution_count": 5,
     "metadata": {},
     "output_type": "execute_result"
    }
   ],
   "source": [
    "# Get the top 50 significant signatures for each pert_id\n",
    "def pick_top_sigs(x):\n",
    "    x = x.sort_values(ascending=True)\n",
    "    n_significants = (x < 0.05).sum()\n",
    "    if n_significants == 0:\n",
    "        return x.head(0)\n",
    "    else:\n",
    "        n = min(50, n_significants)\n",
    "        return x.head(n)\n",
    "\n",
    "# grouped_sorted = sig_meta_df.groupby('pert_id')['pvalue'].apply(pick_top_sigs)\n",
    "\n",
    "grouped_sorted = sig_meta_df.groupby('pert_id')['pvalue'].apply(lambda x: x.sort_values(ascending=True).head(20))\n",
    "\n",
    "print grouped_sorted.shape\n",
    "grouped_sorted.head()"
   ]
  },
  {
   "cell_type": "code",
   "execution_count": 6,
   "metadata": {
    "scrolled": true
   },
   "outputs": [
    {
     "name": "stdout",
     "output_type": "stream",
     "text": [
      "pert_id\n",
      "BRD-K03109492    20\n",
      "BRD-K64890080    20\n",
      "BRD-K59962020    20\n",
      "BRD-K59469039    20\n",
      "BRD-A48237631    20\n",
      "BRD-K59369769    20\n",
      "BRD-K59184148    20\n",
      "BRD-K58772419    20\n",
      "BRD-A11678676    20\n",
      "BRD-A49680073    20\n",
      "Name: sig_id, dtype: int64\n"
     ]
    },
    {
     "data": {
      "text/plain": [
       "<matplotlib.axes._subplots.AxesSubplot at 0x7f63aa2eacd0>"
      ]
     },
     "execution_count": 6,
     "metadata": {},
     "output_type": "execute_result"
    },
    {
     "data": {
      "image/png": "[encoded data removed]",
      "text/plain": [
       "<matplotlib.figure.Figure at 0x7f63d87036d0>"
      ]
     },
     "metadata": {},
     "output_type": "display_data"
    }
   ],
   "source": [
    "# filter out pert_id with less than 5 signatures\n",
    "# pert_id_counts = sig_meta_df.reset_index().groupby('pert_id')['sig_id'].count()\n",
    "pert_id_counts = grouped_sorted.reset_index().groupby('pert_id')['sig_id'].count()\n",
    "print pert_id_counts.sort_values(ascending=False)[:10]\n",
    "sns.distplot(pert_id_counts)"
   ]
  },
  {
   "cell_type": "code",
   "execution_count": 7,
   "metadata": {},
   "outputs": [
    {
     "name": "stdout",
     "output_type": "stream",
     "text": [
      "Number of pert_id to keep: 4944\n"
     ]
    }
   ],
   "source": [
    "pert_ids_kept = pert_id_counts[pert_id_counts > 0].index.tolist()\n",
    "# pert_ids_kept = pert_id_counts[pert_id_counts > 10].index.tolist()\n",
    "print 'Number of pert_id to keep: %d' % len(pert_ids_kept)"
   ]
  },
  {
   "cell_type": "code",
   "execution_count": 8,
   "metadata": {},
   "outputs": [
    {
     "name": "stdout",
     "output_type": "stream",
     "text": [
      "(34502, 3)\n",
      "Number of sig_id to keep: 34502\n"
     ]
    }
   ],
   "source": [
    "grouped_sorted = grouped_sorted[pert_ids_kept].reset_index()\n",
    "print grouped_sorted.shape\n",
    "n_sigs = grouped_sorted.shape[0]\n",
    "print 'Number of sig_id to keep: %d' % n_sigs\n"
   ]
  },
  {
   "cell_type": "code",
   "execution_count": 9,
   "metadata": {},
   "outputs": [
    {
     "data": {
      "text/html": [
       "<div>\n",
       "<style>\n",
       "    .dataframe thead tr:only-child th {\n",
       "        text-align: right;\n",
       "    }\n",
       "\n",
       "    .dataframe thead th {\n",
       "        text-align: left;\n",
       "    }\n",
       "\n",
       "    .dataframe tbody tr th {\n",
       "        vertical-align: top;\n",
       "    }\n",
       "</style>\n",
       "<table border=\"1\" class=\"dataframe\">\n",
       "  <thead>\n",
       "    <tr style=\"text-align: right;\">\n",
       "      <th></th>\n",
       "      <th>pert_id</th>\n",
       "      <th>sig_id</th>\n",
       "      <th>pvalue</th>\n",
       "    </tr>\n",
       "  </thead>\n",
       "  <tbody>\n",
       "    <tr>\n",
       "      <th>0</th>\n",
       "      <td>BRD-A00100033</td>\n",
       "      <td>CPC015_PHH_24H:BRD-A00100033-001-04-8:10</td>\n",
       "      <td>0.0203</td>\n",
       "    </tr>\n",
       "    <tr>\n",
       "      <th>1</th>\n",
       "      <td>BRD-A00267231</td>\n",
       "      <td>CPC001_PC3_6H:BRD-A00267231-001-01-1:10</td>\n",
       "      <td>0.0007</td>\n",
       "    </tr>\n",
       "    <tr>\n",
       "      <th>2</th>\n",
       "      <td>BRD-A00267231</td>\n",
       "      <td>CPC001_HA1E_24H:BRD-A00267231-001-01-1:10</td>\n",
       "      <td>0.0022</td>\n",
       "    </tr>\n",
       "    <tr>\n",
       "      <th>3</th>\n",
       "      <td>BRD-A00267231</td>\n",
       "      <td>CPC017_ASC_24H:BRD-A00267231-001-01-1:10</td>\n",
       "      <td>0.0126</td>\n",
       "    </tr>\n",
       "    <tr>\n",
       "      <th>4</th>\n",
       "      <td>BRD-A00267231</td>\n",
       "      <td>CPC017_A549_6H:BRD-A00267231-001-01-1:10</td>\n",
       "      <td>0.0228</td>\n",
       "    </tr>\n",
       "  </tbody>\n",
       "</table>\n",
       "</div>"
      ],
      "text/plain": [
       "         pert_id                                     sig_id  pvalue\n",
       "0  BRD-A00100033   CPC015_PHH_24H:BRD-A00100033-001-04-8:10  0.0203\n",
       "1  BRD-A00267231    CPC001_PC3_6H:BRD-A00267231-001-01-1:10  0.0007\n",
       "2  BRD-A00267231  CPC001_HA1E_24H:BRD-A00267231-001-01-1:10  0.0022\n",
       "3  BRD-A00267231   CPC017_ASC_24H:BRD-A00267231-001-01-1:10  0.0126\n",
       "4  BRD-A00267231   CPC017_A549_6H:BRD-A00267231-001-01-1:10  0.0228"
      ]
     },
     "execution_count": 9,
     "metadata": {},
     "output_type": "execute_result"
    }
   ],
   "source": [
    "grouped_sorted.head()"
   ]
  },
  {
   "cell_type": "code",
   "execution_count": 10,
   "metadata": {},
   "outputs": [
    {
     "data": {
      "image/png": "[encoded data removed]",
      "text/plain": [
       "<matplotlib.figure.Figure at 0x7f63aa62af90>"
      ]
     },
     "metadata": {},
     "output_type": "display_data"
    }
   ],
   "source": [
    "plt.hist(grouped_sorted['pvalue']);"
   ]
  },
  {
   "cell_type": "code",
   "execution_count": 11,
   "metadata": {},
   "outputs": [],
   "source": [
    "def retrieve_sig_mat(sig_ids, coll, key):\n",
    "    '''Retrieve signatures matrix from MongoDB'''\n",
    "    # Retrieve signature matrix\n",
    "    sig_mat = np.zeros((len(sig_ids), 978))\n",
    "    for i, sig_id in enumerate(sig_ids): \n",
    "        doc = coll.find_one({'sig_id': sig_id}, {'_id':False, key:True})\n",
    "        sig_mat[i] = doc[key]\n",
    "        if i % 5000 == 0:\n",
    "            print i, len(sig_ids)\n",
    "    return sig_mat"
   ]
  },
  {
   "cell_type": "code",
   "execution_count": 12,
   "metadata": {},
   "outputs": [
    {
     "name": "stdout",
     "output_type": "stream",
     "text": [
      "0 34502\n",
      "5000 34502\n",
      "10000 34502\n",
      "15000 34502\n",
      "20000 34502\n",
      "25000 34502\n",
      "30000 34502\n",
      "(34502, 978)\n"
     ]
    }
   ],
   "source": [
    "## Extract signature matrix\n",
    "mat = retrieve_sig_mat(grouped_sorted['sig_id'], coll, 'CD_center_LM')\n",
    "print mat.shape"
   ]
  },
  {
   "cell_type": "code",
   "execution_count": 13,
   "metadata": {},
   "outputs": [],
   "source": [
    "def compute_adjcency_mat(X, metric='cosine'):\n",
    "    adj_mat = dist.squareform(pairwise_distances(X, metric=metric))\n",
    "    adj_mat = 1 - adj_mat\n",
    "    \n",
    "    \n",
    "    # remove 1's on the diagnal\n",
    "#     adj_mat -= np.eye(X.shape[0])\n",
    "    ## convert negative values in adj_mat to 0's\n",
    "    adj_mat[adj_mat<0] = 0\n",
    "    return adj_mat\n",
    "\n",
    "def create_graph_by_threshold(adj_mat, percentile):\n",
    "#     triu_idx = np.tril_indices(adj_mat.shape[0], 1)\n",
    "#     thresold = np.percentile(adj_mat[triu_idx], percentile)\n",
    "    threshold = np.percentile(adj_mat, percentile)\n",
    "    print threshold\n",
    "    adj_mat_ = adj_mat.copy()\n",
    "    adj_mat_[adj_mat<threshold] = 0\n",
    "    G = nx.from_numpy_matrix(dist.squareform(adj_mat_))\n",
    "    return G\n",
    "\n",
    "def create_graph_by_threshold2(adj_mat, cosine_cutoff):\n",
    "    adj_mat_ = adj_mat.copy()\n",
    "    adj_mat_[adj_mat<cosine_cutoff] = 0\n",
    "    G = nx.from_numpy_matrix(dist.squareform(adj_mat))\n",
    "    return G\n",
    "    \n",
    "\n",
    "def create_knn_graph(X, k=30, metric='euclidean', n_jobs=1):\n",
    "    '''Create a graph from a data matrix (sample x features).\n",
    "    '''\n",
    "    adj_mat = neighbors.kneighbors_graph(X, k, mode='connectivity', \n",
    "                                         metric=metric,\n",
    "                                         n_jobs=n_jobs\n",
    "                                        )\n",
    "    G = nx.from_scipy_sparse_matrix(adj_mat)\n",
    "    return G\n"
   ]
  },
  {
   "cell_type": "code",
   "execution_count": 14,
   "metadata": {},
   "outputs": [],
   "source": [
    "def filter_out_small_ccs(G, cutoff=10):\n",
    "    ## Create a new graph only keeping the large connected components\n",
    "    G_new = nx.Graph()\n",
    "    for cc in nx.connected_component_subgraphs(G):\n",
    "        if cc.number_of_nodes() > cutoff:\n",
    "            G_new = nx.compose(G_new, cc)\n",
    "    return G_new"
   ]
  },
  {
   "cell_type": "code",
   "execution_count": 15,
   "metadata": {},
   "outputs": [],
   "source": [
    "import scipy as sp\n",
    "from scipy.sparse import linalg, csr_matrix\n",
    "\n",
    "def compute_eigenvector_centrality(adj_mat):\n",
    "    M = csr_matrix(dist.squareform(adj_mat))\n",
    "    eigenvalue, eigenvector = linalg.eigs(M.T, k=1, which='LR')\n",
    "    largest = eigenvector.flatten().real\n",
    "    norm = sp.sign(largest.sum())*sp.linalg.norm(largest)\n",
    "    centrality = largest / norm\n",
    "    return centrality\n"
   ]
  },
  {
   "cell_type": "markdown",
   "metadata": {},
   "source": [
    "# Get adj_mat"
   ]
  },
  {
   "cell_type": "code",
   "execution_count": 16,
   "metadata": {},
   "outputs": [
    {
     "name": "stdout",
     "output_type": "stream",
     "text": [
      "(595176751,)\n"
     ]
    }
   ],
   "source": [
    "## Compute adj_mat\n",
    "adj_mat = compute_adjcency_mat(mat)\n",
    "print adj_mat.shape"
   ]
  },
  {
   "cell_type": "code",
   "execution_count": 30,
   "metadata": {},
   "outputs": [],
   "source": [
    "## adj_mat with negative values preserved\n",
    "adj_mat2 = dist.squareform(pairwise_distances(mat, metric='cosine'))\n",
    "adj_mat2 = 1 - adj_mat2\n"
   ]
  },
  {
   "cell_type": "markdown",
   "metadata": {},
   "source": [
    "## Compute node betweenness centrality for different thresholds"
   ]
  },
  {
   "cell_type": "code",
   "execution_count": 17,
   "metadata": {},
   "outputs": [
    {
     "name": "stdout",
     "output_type": "stream",
     "text": [
      "(34502,)\n"
     ]
    }
   ],
   "source": [
    "centrality_no_filt = compute_eigenvector_centrality(adj_mat)\n",
    "print centrality_no_filt.shape"
   ]
  },
  {
   "cell_type": "code",
   "execution_count": 31,
   "metadata": {},
   "outputs": [
    {
     "name": "stdout",
     "output_type": "stream",
     "text": [
      "(34502,)\n"
     ]
    }
   ],
   "source": [
    "centrality_no_filt2 = compute_eigenvector_centrality(adj_mat2)\n",
    "print centrality_no_filt2.shape"
   ]
  },
  {
   "cell_type": "code",
   "execution_count": 32,
   "metadata": {},
   "outputs": [],
   "source": [
    "from scipy import stats"
   ]
  },
  {
   "cell_type": "code",
   "execution_count": 33,
   "metadata": {},
   "outputs": [
    {
     "data": {
      "text/plain": [
       "(0.89098281599606777, 0.0)"
      ]
     },
     "execution_count": 33,
     "metadata": {},
     "output_type": "execute_result"
    }
   ],
   "source": [
    "stats.pearsonr(centrality_no_filt, centrality_no_filt2)"
   ]
  },
  {
   "cell_type": "code",
   "execution_count": 34,
   "metadata": {},
   "outputs": [
    {
     "name": "stdout",
     "output_type": "stream",
     "text": [
      "(0.90090155507254244, 0.0)\n",
      "(0.79261010764359385, 0.0)\n",
      "(0.72260158344617509, 0.0)\n",
      "(-0.2292999039460584, 0.0)\n",
      "(0.89098281599606777, 0.0)\n"
     ]
    }
   ],
   "source": [
    "for c in centralities:\n",
    "    print stats.pearsonr(centrality_no_filt2, c)"
   ]
  },
  {
   "cell_type": "code",
   "execution_count": 18,
   "metadata": {},
   "outputs": [
    {
     "name": "stdout",
     "output_type": "stream",
     "text": [
      "0.0 0.949405926249\n"
     ]
    }
   ],
   "source": [
    "print adj_mat.min(), adj_mat.max()"
   ]
  },
  {
   "cell_type": "code",
   "execution_count": 47,
   "metadata": {},
   "outputs": [
    {
     "name": "stdout",
     "output_type": "stream",
     "text": [
      "0.0913876598522\n",
      "0.157825108273\n",
      "0.195626081551\n",
      "0.304049656883\n",
      "0.356740471553\n",
      "0.480542387056\n"
     ]
    }
   ],
   "source": [
    "# percentiles = [10, 25, 50, 90, 95, 99, 99.5, 99.9]\n",
    "percentiles = [95, 99, 99.5, 99.9, 99.95, 99.99]\n",
    "\n",
    "centralities = []\n",
    "for percentile in percentiles:\n",
    "    threshold = np.percentile(adj_mat, percentile)\n",
    "    print threshold\n",
    "    adj_mat_ = adj_mat.copy()\n",
    "    adj_mat_[adj_mat<threshold] = 0\n",
    "    ## Keep nodes in the last graph to compute betweenness\n",
    "#     adj_mat_ = dist.squareform(adj_mat_)[nodes_left_in_last_graph][:,nodes_left_in_last_graph]\n",
    "#     print adj_mat_.shape\n",
    "#     adj_mat_ = dist.squareform(adj_mat_)\n",
    "    \n",
    "    centrality = compute_eigenvector_centrality(adj_mat_)\n",
    "    centralities.append(centrality)\n",
    "    "
   ]
  },
  {
   "cell_type": "code",
   "execution_count": 51,
   "metadata": {},
   "outputs": [
    {
     "name": "stdout",
     "output_type": "stream",
     "text": [
      "(7, 34502)\n"
     ]
    }
   ],
   "source": [
    "centralities.append(centrality_no_filt)\n",
    "centralities_mat = np.array(centralities) # threshold x n_nodes matrix\n",
    "print centralities_mat.shape"
   ]
  },
  {
   "cell_type": "code",
   "execution_count": 21,
   "metadata": {},
   "outputs": [
    {
     "name": "stdout",
     "output_type": "stream",
     "text": [
      "0.304049656883\n",
      "34502 595177\n",
      "16848 594372\n"
     ]
    }
   ],
   "source": [
    "G = create_graph_by_threshold(adj_mat, percentiles[-1])\n",
    "print G.number_of_nodes(), G.number_of_edges()\n",
    "G = filter_out_small_ccs(G)\n",
    "print G.number_of_nodes(), G.number_of_edges()"
   ]
  },
  {
   "cell_type": "code",
   "execution_count": 22,
   "metadata": {},
   "outputs": [
    {
     "name": "stdout",
     "output_type": "stream",
     "text": [
      "(16848,)\n"
     ]
    }
   ],
   "source": [
    "nodes_left_in_last_graph = np.array(G.nodes())\n",
    "print nodes_left_in_last_graph.shape"
   ]
  },
  {
   "cell_type": "code",
   "execution_count": null,
   "metadata": {},
   "outputs": [],
   "source": []
  },
  {
   "cell_type": "code",
   "execution_count": 23,
   "metadata": {},
   "outputs": [
    {
     "data": {
      "image/png": "[encoded data removed]",
      "text/plain": [
       "<matplotlib.figure.Figure at 0x7f63a9ac2310>"
      ]
     },
     "metadata": {},
     "output_type": "display_data"
    }
   ],
   "source": [
    "plt.hist(centrality_no_filt,bins=50);"
   ]
  },
  {
   "cell_type": "code",
   "execution_count": 24,
   "metadata": {},
   "outputs": [
    {
     "data": {
      "image/png": "[encoded data removed]",
      "text/plain": [
       "<matplotlib.figure.Figure at 0x7f63ab274350>"
      ]
     },
     "metadata": {},
     "output_type": "display_data"
    }
   ],
   "source": [
    "plt.hist(centrality_no_filt[nodes_left_in_last_graph],bins=50);"
   ]
  },
  {
   "cell_type": "code",
   "execution_count": 53,
   "metadata": {},
   "outputs": [
    {
     "name": "stdout",
     "output_type": "stream",
     "text": [
      "(7, 7)\n"
     ]
    }
   ],
   "source": [
    "corrs = 1 - pairwise_distances(centralities_mat, metric='correlation')\n",
    "print corrs.shape"
   ]
  },
  {
   "cell_type": "code",
   "execution_count": 54,
   "metadata": {},
   "outputs": [
    {
     "data": {
      "text/html": [
       "<div>\n",
       "<style>\n",
       "    .dataframe thead tr:only-child th {\n",
       "        text-align: right;\n",
       "    }\n",
       "\n",
       "    .dataframe thead th {\n",
       "        text-align: left;\n",
       "    }\n",
       "\n",
       "    .dataframe tbody tr th {\n",
       "        vertical-align: top;\n",
       "    }\n",
       "</style>\n",
       "<table border=\"1\" class=\"dataframe\">\n",
       "  <thead>\n",
       "    <tr style=\"text-align: right;\">\n",
       "      <th></th>\n",
       "      <th>95</th>\n",
       "      <th>99</th>\n",
       "      <th>99.5</th>\n",
       "      <th>99.9</th>\n",
       "      <th>99.95</th>\n",
       "      <th>99.99</th>\n",
       "      <th>full</th>\n",
       "    </tr>\n",
       "  </thead>\n",
       "  <tbody>\n",
       "    <tr>\n",
       "      <th>95</th>\n",
       "      <td>1.000000</td>\n",
       "      <td>0.935845</td>\n",
       "      <td>0.873274</td>\n",
       "      <td>-0.037184</td>\n",
       "      <td>-0.034008</td>\n",
       "      <td>-0.023801</td>\n",
       "      <td>0.946208</td>\n",
       "    </tr>\n",
       "    <tr>\n",
       "      <th>99</th>\n",
       "      <td>0.935845</td>\n",
       "      <td>1.000000</td>\n",
       "      <td>0.985822</td>\n",
       "      <td>-0.037220</td>\n",
       "      <td>-0.034426</td>\n",
       "      <td>-0.025516</td>\n",
       "      <td>0.796548</td>\n",
       "    </tr>\n",
       "    <tr>\n",
       "      <th>99.5</th>\n",
       "      <td>0.873274</td>\n",
       "      <td>0.985822</td>\n",
       "      <td>1.000000</td>\n",
       "      <td>-0.031890</td>\n",
       "      <td>-0.029479</td>\n",
       "      <td>-0.021900</td>\n",
       "      <td>0.717620</td>\n",
       "    </tr>\n",
       "    <tr>\n",
       "      <th>99.9</th>\n",
       "      <td>-0.037184</td>\n",
       "      <td>-0.037220</td>\n",
       "      <td>-0.031890</td>\n",
       "      <td>1.000000</td>\n",
       "      <td>0.988266</td>\n",
       "      <td>0.848677</td>\n",
       "      <td>0.014017</td>\n",
       "    </tr>\n",
       "    <tr>\n",
       "      <th>99.95</th>\n",
       "      <td>-0.034008</td>\n",
       "      <td>-0.034426</td>\n",
       "      <td>-0.029479</td>\n",
       "      <td>0.988266</td>\n",
       "      <td>1.000000</td>\n",
       "      <td>0.903341</td>\n",
       "      <td>0.015636</td>\n",
       "    </tr>\n",
       "    <tr>\n",
       "      <th>99.99</th>\n",
       "      <td>-0.023801</td>\n",
       "      <td>-0.025516</td>\n",
       "      <td>-0.021900</td>\n",
       "      <td>0.848677</td>\n",
       "      <td>0.903341</td>\n",
       "      <td>1.000000</td>\n",
       "      <td>0.019193</td>\n",
       "    </tr>\n",
       "    <tr>\n",
       "      <th>full</th>\n",
       "      <td>0.946208</td>\n",
       "      <td>0.796548</td>\n",
       "      <td>0.717620</td>\n",
       "      <td>0.014017</td>\n",
       "      <td>0.015636</td>\n",
       "      <td>0.019193</td>\n",
       "      <td>1.000000</td>\n",
       "    </tr>\n",
       "  </tbody>\n",
       "</table>\n",
       "</div>"
      ],
      "text/plain": [
       "             95        99      99.5      99.9     99.95     99.99      full\n",
       "95     1.000000  0.935845  0.873274 -0.037184 -0.034008 -0.023801  0.946208\n",
       "99     0.935845  1.000000  0.985822 -0.037220 -0.034426 -0.025516  0.796548\n",
       "99.5   0.873274  0.985822  1.000000 -0.031890 -0.029479 -0.021900  0.717620\n",
       "99.9  -0.037184 -0.037220 -0.031890  1.000000  0.988266  0.848677  0.014017\n",
       "99.95 -0.034008 -0.034426 -0.029479  0.988266  1.000000  0.903341  0.015636\n",
       "99.99 -0.023801 -0.025516 -0.021900  0.848677  0.903341  1.000000  0.019193\n",
       "full   0.946208  0.796548  0.717620  0.014017  0.015636  0.019193  1.000000"
      ]
     },
     "execution_count": 54,
     "metadata": {},
     "output_type": "execute_result"
    },
    {
     "data": {
      "image/png": "[encoded data removed]",
      "text/plain": [
       "<matplotlib.figure.Figure at 0x7f63a946abd0>"
      ]
     },
     "metadata": {},
     "output_type": "display_data"
    }
   ],
   "source": [
    "thresholds = percentiles + ['full']\n",
    "corrs_df = pd.DataFrame(corrs, index=thresholds, columns=thresholds)\n",
    "sns.clustermap(corrs_df, cmap='RdBu')\n",
    "corrs_df"
   ]
  },
  {
   "cell_type": "code",
   "execution_count": 52,
   "metadata": {},
   "outputs": [
    {
     "name": "stdout",
     "output_type": "stream",
     "text": [
      "0.157825108273\n",
      "34502 5951768\n"
     ]
    }
   ],
   "source": [
    "G = create_graph_by_threshold(adj_mat, 99)\n",
    "print G.number_of_nodes(), G.number_of_edges()"
   ]
  },
  {
   "cell_type": "code",
   "execution_count": 53,
   "metadata": {},
   "outputs": [],
   "source": [
    "G = filter_out_small_ccs(G)"
   ]
  },
  {
   "cell_type": "code",
   "execution_count": 55,
   "metadata": {},
   "outputs": [
    {
     "name": "stdout",
     "output_type": "stream",
     "text": [
      "34455 5951767\n"
     ]
    }
   ],
   "source": [
    "print G.number_of_nodes(), G.number_of_edges()"
   ]
  },
  {
   "cell_type": "markdown",
   "metadata": {},
   "source": [
    "## Compute edge betweenness centrality"
   ]
  },
  {
   "cell_type": "code",
   "execution_count": 56,
   "metadata": {},
   "outputs": [],
   "source": [
    "import cPickle as pickle"
   ]
  },
  {
   "cell_type": "code",
   "execution_count": 59,
   "metadata": {},
   "outputs": [],
   "source": [
    "!mkdir -p edge_bc\n",
    "!mkdir -p graphs"
   ]
  },
  {
   "cell_type": "code",
   "execution_count": null,
   "metadata": {
    "scrolled": true
   },
   "outputs": [
    {
     "name": "stdout",
     "output_type": "stream",
     "text": [
      "99.99\n",
      "0.480542387056\n",
      "34502 59518\n",
      "4831 58162\n",
      "58162\n",
      "99.95\n",
      "0.356740471553\n",
      "34502 297589\n",
      "11810 296499\n",
      "296499\n",
      "99.9\n",
      "0.304049656883\n",
      "34502 595177\n",
      "16848 594372\n",
      "594372\n",
      "99.5\n",
      "0.195626081551\n",
      "34502 2975884\n",
      "32290 2975836\n",
      "2975836\n",
      "99\n",
      "0.157825108273\n",
      "34502 5951768\n",
      "34455 5951767\n",
      "5951767\n",
      "95\n",
      "0.0913876598522\n",
      "34502 "
     ]
    }
   ],
   "source": [
    "for percentile in percentiles[::-1]:\n",
    "    print percentile\n",
    "    G = create_graph_by_threshold(adj_mat, percentile)\n",
    "    print G.number_of_nodes(), G.number_of_edges() \n",
    "    G = filter_out_small_ccs(G)\n",
    "    print G.number_of_nodes(), G.number_of_edges()\n",
    "    plot_degree_distribution(G)\n",
    "    pickle.dump(G, open('graphs/SignatureGraph_%s.pkl' % percentile, 'wb'))\n",
    "    eb = nx.edge_betweenness_centrality(G, k=G.number_of_nodes()/1000, weight='weight')\n",
    "    print len(eb)\n",
    "    pickle.dump(eb, open('edge_bc/edge_betweenness_%s.pkl' % percentile, 'wb'))"
   ]
  },
  {
   "cell_type": "code",
   "execution_count": 62,
   "metadata": {},
   "outputs": [
    {
     "name": "stdout",
     "output_type": "stream",
     "text": [
      "total 1.2G\r\n",
      "-rw-r--r-- 1 root root 850M Oct 10 22:25 edge_betweenness_95.pkl\r\n",
      "-rw-r--r-- 1 root root 174M Oct 10 17:02 edge_betweenness_99.pkl\r\n",
      "-rw-r--r-- 1 root root  88M Oct 10 16:52 edge_betweenness_99.5.pkl\r\n",
      "-rw-r--r-- 1 root root  18M Oct 10 16:47 edge_betweenness_99.9.pkl\r\n",
      "-rw-r--r-- 1 root root 8.6M Oct 10 16:46 edge_betweenness_99.95.pkl\r\n",
      "-rw-r--r-- 1 root root 1.7M Oct 10 16:46 edge_betweenness_99.99.pkl\r\n"
     ]
    }
   ],
   "source": [
    "!ls -lht edge_bc/"
   ]
  },
  {
   "cell_type": "code",
   "execution_count": 63,
   "metadata": {},
   "outputs": [
    {
     "name": "stdout",
     "output_type": "stream",
     "text": [
      "total 2.5G\r\n",
      "-rw-r--r-- 1 root root 1.9G Oct 10 18:23 SignatureGraph_95.pkl\r\n",
      "-rw-r--r-- 1 root root 368M Oct 10 16:55 SignatureGraph_99.pkl\r\n",
      "-rw-r--r-- 1 root root 184M Oct 10 16:49 SignatureGraph_99.5.pkl\r\n",
      "-rw-r--r-- 1 root root  37M Oct 10 16:47 SignatureGraph_99.9.pkl\r\n",
      "-rw-r--r-- 1 root root  19M Oct 10 16:46 SignatureGraph_99.95.pkl\r\n",
      "-rw-r--r-- 1 root root 3.6M Oct 10 16:46 SignatureGraph_99.99.pkl\r\n"
     ]
    }
   ],
   "source": [
    "!ls -lht graphs/"
   ]
  },
  {
   "cell_type": "code",
   "execution_count": 66,
   "metadata": {
    "scrolled": true
   },
   "outputs": [
    {
     "name": "stdout",
     "output_type": "stream",
     "text": [
      "95 34502 29758838\n",
      "99 34455 5951767\n",
      "99.5 32290 2975836\n",
      "99.9 16848 594372\n",
      "99.95 11810 296499\n",
      "99.99 4831 58162\n"
     ]
    },
    {
     "data": {
      "image/png": "[encoded data removed]",
      "text/plain": [
       "<matplotlib.figure.Figure at 0x7f63ab45eed0>"
      ]
     },
     "metadata": {},
     "output_type": "display_data"
    },
    {
     "data": {
      "image/png": "[encoded data removed]",
      "text/plain": [
       "<matplotlib.figure.Figure at 0x7f62616bca50>"
      ]
     },
     "metadata": {},
     "output_type": "display_data"
    },
    {
     "data": {
      "image/png": "[encoded data removed]",
      "text/plain": [
       "<matplotlib.figure.Figure at 0x7f63aaee8850>"
      ]
     },
     "metadata": {},
     "output_type": "display_data"
    },
    {
     "data": {
      "image/png": "[encoded data removed]",
      "text/plain": [
       "<matplotlib.figure.Figure at 0x7f61050ed410>"
      ]
     },
     "metadata": {},
     "output_type": "display_data"
    },
    {
     "data": {
      "image/png": "[encoded data removed]",
      "text/plain": [
       "<matplotlib.figure.Figure at 0x7f6264fca590>"
      ]
     },
     "metadata": {},
     "output_type": "display_data"
    },
    {
     "data": {
      "image/png": "[encoded data removed]",
      "text/plain": [
       "<matplotlib.figure.Figure at 0x7f60e735ed10>"
      ]
     },
     "metadata": {},
     "output_type": "display_data"
    }
   ],
   "source": [
    "# Load graphs and plot degree distribution\n",
    "for percentile in percentiles:\n",
    "    G = pickle.load(open('graphs/SignatureGraph_%s.pkl' % percentile, 'rb'))\n",
    "    print percentile, G.number_of_nodes(), G.number_of_edges()\n",
    "    fig = plot_degree_distribution(G)\n",
    "    fig.savefig('graphs/DigreeDistr_SignatureGraph_%s.pdf' % percentile)\n",
    "    "
   ]
  },
  {
   "cell_type": "code",
   "execution_count": 95,
   "metadata": {},
   "outputs": [
    {
     "name": "stdout",
     "output_type": "stream",
     "text": [
      "(6, 58162)\n"
     ]
    }
   ],
   "source": [
    "# Load and gather edge betweenness \n",
    "G_smallest = pickle.load(open('graphs/SignatureGraph_%s.pkl' % percentiles[-1], 'rb'))\n",
    "edges_shared = G_smallest.edges()\n",
    "edges_shared = map(lambda e: tuple(sorted(e)),  edges_shared)\n",
    " \n",
    "eb_mat = np.zeros((len(percentiles), len(edges_shared)))\n",
    "\n",
    "def get_eb_val(eb, n1,n2):\n",
    "    val = 0\n",
    "    if (n1, n2) in eb:\n",
    "        val = eb[(n1,n2)]\n",
    "    elif (n2, n1) in eb:\n",
    "        val = eb[(n2, n1)]\n",
    "    return val\n",
    "\n",
    "for i, percentile in enumerate(percentiles):\n",
    "    eb = pickle.load(open('edge_bc/edge_betweenness_%s.pkl' % percentile, 'rb'))\n",
    "    eb_mat[i] = [get_eb_val(eb, n1,n2) for n1, n2 in edges_shared]\n",
    "\n",
    "    \n",
    "\n",
    "print eb_mat.shape\n"
   ]
  },
  {
   "cell_type": "code",
   "execution_count": 97,
   "metadata": {},
   "outputs": [
    {
     "name": "stdout",
     "output_type": "stream",
     "text": [
      "0.0\n",
      "0.0\n",
      "0.0\n",
      "2.70647096986e-05\n",
      "5.25080649677e-05\n",
      "0.00661840177288\n"
     ]
    }
   ],
   "source": [
    "for i in range(6):\n",
    "    print eb_mat[i].sum()"
   ]
  },
  {
   "cell_type": "code",
   "execution_count": 92,
   "metadata": {},
   "outputs": [
    {
     "name": "stdout",
     "output_type": "stream",
     "text": [
      "34455 4831\n",
      "4831\n"
     ]
    }
   ],
   "source": [
    "print len(set(G.nodes())),  len(set(G_smallest.nodes()))\n",
    "print len(set(G.nodes()) & set(G_smallest.nodes()))\n"
   ]
  },
  {
   "cell_type": "code",
   "execution_count": 93,
   "metadata": {},
   "outputs": [
    {
     "name": "stdout",
     "output_type": "stream",
     "text": [
      "5951767 58162\n",
      "35796\n"
     ]
    }
   ],
   "source": [
    "print len(set(G.edges())),  len(set(G_smallest.edges()))\n",
    "print len(set(G.edges()) & set(G_smallest.edges()))\n"
   ]
  },
  {
   "cell_type": "code",
   "execution_count": 94,
   "metadata": {},
   "outputs": [
    {
     "data": {
      "text/plain": [
       "[((18720, 5146), 1.2856924289429937e-07),\n",
       " ((779, 4830), 0.0),\n",
       " ((24729, 10245), 0.0),\n",
       " ((3759, 5141), 0.0),\n",
       " ((29781, 30333), 0.0),\n",
       " ((26644, 28512), 0.0),\n",
       " ((16815, 3334), 0.0),\n",
       " ((9232, 1728), 0.0),\n",
       " ((8426, 17819), 0.0),\n",
       " ((10800, 29783), 0.0)]"
      ]
     },
     "execution_count": 94,
     "metadata": {},
     "output_type": "execute_result"
    }
   ],
   "source": [
    "eb.items()[:10]"
   ]
  },
  {
   "cell_type": "code",
   "execution_count": null,
   "metadata": {},
   "outputs": [],
   "source": []
  },
  {
   "cell_type": "code",
   "execution_count": 98,
   "metadata": {},
   "outputs": [
    {
     "name": "stdout",
     "output_type": "stream",
     "text": [
      "(6, 6)\n"
     ]
    }
   ],
   "source": [
    "# Compute correlation between edge betweenness across different percentile thresholds\n",
    "eb_corrs = 1 - pairwise_distances(eb_mat, metric='correlation')\n",
    "print eb_corrs.shape\n"
   ]
  },
  {
   "cell_type": "code",
   "execution_count": 100,
   "metadata": {},
   "outputs": [
    {
     "data": {
      "text/html": [
       "<div>\n",
       "<style>\n",
       "    .dataframe thead tr:only-child th {\n",
       "        text-align: right;\n",
       "    }\n",
       "\n",
       "    .dataframe thead th {\n",
       "        text-align: left;\n",
       "    }\n",
       "\n",
       "    .dataframe tbody tr th {\n",
       "        vertical-align: top;\n",
       "    }\n",
       "</style>\n",
       "<table border=\"1\" class=\"dataframe\">\n",
       "  <thead>\n",
       "    <tr style=\"text-align: right;\">\n",
       "      <th></th>\n",
       "      <th>95.0</th>\n",
       "      <th>99.0</th>\n",
       "      <th>99.5</th>\n",
       "      <th>99.9</th>\n",
       "      <th>99.95</th>\n",
       "      <th>99.99</th>\n",
       "    </tr>\n",
       "  </thead>\n",
       "  <tbody>\n",
       "    <tr>\n",
       "      <th>95.00</th>\n",
       "      <td>1.0</td>\n",
       "      <td>0.0</td>\n",
       "      <td>0.0</td>\n",
       "      <td>0.000000</td>\n",
       "      <td>0.000000</td>\n",
       "      <td>0.000000</td>\n",
       "    </tr>\n",
       "    <tr>\n",
       "      <th>99.00</th>\n",
       "      <td>0.0</td>\n",
       "      <td>1.0</td>\n",
       "      <td>0.0</td>\n",
       "      <td>0.000000</td>\n",
       "      <td>0.000000</td>\n",
       "      <td>0.000000</td>\n",
       "    </tr>\n",
       "    <tr>\n",
       "      <th>99.50</th>\n",
       "      <td>0.0</td>\n",
       "      <td>0.0</td>\n",
       "      <td>1.0</td>\n",
       "      <td>0.000000</td>\n",
       "      <td>0.000000</td>\n",
       "      <td>0.000000</td>\n",
       "    </tr>\n",
       "    <tr>\n",
       "      <th>99.90</th>\n",
       "      <td>0.0</td>\n",
       "      <td>0.0</td>\n",
       "      <td>0.0</td>\n",
       "      <td>1.000000</td>\n",
       "      <td>0.012204</td>\n",
       "      <td>0.000195</td>\n",
       "    </tr>\n",
       "    <tr>\n",
       "      <th>99.95</th>\n",
       "      <td>0.0</td>\n",
       "      <td>0.0</td>\n",
       "      <td>0.0</td>\n",
       "      <td>0.012204</td>\n",
       "      <td>1.000000</td>\n",
       "      <td>0.004854</td>\n",
       "    </tr>\n",
       "    <tr>\n",
       "      <th>99.99</th>\n",
       "      <td>0.0</td>\n",
       "      <td>0.0</td>\n",
       "      <td>0.0</td>\n",
       "      <td>0.000195</td>\n",
       "      <td>0.004854</td>\n",
       "      <td>1.000000</td>\n",
       "    </tr>\n",
       "  </tbody>\n",
       "</table>\n",
       "</div>"
      ],
      "text/plain": [
       "       95.00  99.00  99.50     99.90     99.95     99.99\n",
       "95.00    1.0    0.0    0.0  0.000000  0.000000  0.000000\n",
       "99.00    0.0    1.0    0.0  0.000000  0.000000  0.000000\n",
       "99.50    0.0    0.0    1.0  0.000000  0.000000  0.000000\n",
       "99.90    0.0    0.0    0.0  1.000000  0.012204  0.000195\n",
       "99.95    0.0    0.0    0.0  0.012204  1.000000  0.004854\n",
       "99.99    0.0    0.0    0.0  0.000195  0.004854  1.000000"
      ]
     },
     "execution_count": 100,
     "metadata": {},
     "output_type": "execute_result"
    },
    {
     "data": {
      "image/png": "[encoded data removed]",
      "text/plain": [
       "<matplotlib.figure.Figure at 0x7f6265d3db50>"
      ]
     },
     "metadata": {},
     "output_type": "display_data"
    }
   ],
   "source": [
    "eb_corrs_df = pd.DataFrame(eb_corrs, index=percentiles, columns=percentiles).fillna(0)\n",
    "sns.clustermap(eb_corrs_df, cmap='RdBu')\n",
    "eb_corrs_df"
   ]
  },
  {
   "cell_type": "code",
   "execution_count": null,
   "metadata": {},
   "outputs": [],
   "source": []
  },
  {
   "cell_type": "code",
   "execution_count": 66,
   "metadata": {},
   "outputs": [
    {
     "name": "stdout",
     "output_type": "stream",
     "text": [
      "0 34501\n"
     ]
    }
   ],
   "source": [
    "print min(G.nodes()), max(G.nodes())"
   ]
  },
  {
   "cell_type": "code",
   "execution_count": 68,
   "metadata": {},
   "outputs": [
    {
     "name": "stdout",
     "output_type": "stream",
     "text": [
      "(34502, 34502)\n",
      "(595176751,)\n"
     ]
    }
   ],
   "source": [
    "# Make a matrix of edge betweenness\n",
    "eb_mat = np.zeros((mat.shape[0], mat.shape[0]))\n",
    "print eb_mat.shape\n",
    "for (n1, n2), value in eb.items():\n",
    "    eb_mat[n1,n2] = value\n",
    "    eb_mat[n2,n1] = value\n",
    "    \n",
    "eb_mat = dist.squareform(eb_mat)\n",
    "print eb_mat.shape"
   ]
  },
  {
   "cell_type": "code",
   "execution_count": 69,
   "metadata": {},
   "outputs": [],
   "source": [
    "from scipy import stats"
   ]
  },
  {
   "cell_type": "code",
   "execution_count": 71,
   "metadata": {},
   "outputs": [
    {
     "name": "stdout",
     "output_type": "stream",
     "text": [
      "(-0.013703012129681644, 6.7222287183404646e-31)\n"
     ]
    }
   ],
   "source": [
    "mask = eb_mat > 0\n",
    "print stats.pearsonr(adj_mat[mask], eb_mat[mask])"
   ]
  },
  {
   "cell_type": "code",
   "execution_count": 72,
   "metadata": {},
   "outputs": [
    {
     "name": "stdout",
     "output_type": "stream",
     "text": [
      "0.0 1.8687360037e-05\n"
     ]
    }
   ],
   "source": [
    "print eb_mat.min(), eb_mat.max()"
   ]
  },
  {
   "cell_type": "code",
   "execution_count": 73,
   "metadata": {},
   "outputs": [
    {
     "name": "stdout",
     "output_type": "stream",
     "text": [
      "0.195626081551\n",
      "34502 2975884\n"
     ]
    }
   ],
   "source": [
    "G = create_graph_by_threshold(adj_mat, 99.5)\n",
    "print G.number_of_nodes(), G.number_of_edges()"
   ]
  },
  {
   "cell_type": "code",
   "execution_count": 74,
   "metadata": {},
   "outputs": [
    {
     "name": "stdout",
     "output_type": "stream",
     "text": [
      "32290 2975836\n"
     ]
    }
   ],
   "source": [
    "G = filter_out_small_ccs(G)\n",
    "print G.number_of_nodes(), G.number_of_edges()"
   ]
  },
  {
   "cell_type": "code",
   "execution_count": 75,
   "metadata": {},
   "outputs": [
    {
     "name": "stdout",
     "output_type": "stream",
     "text": [
      "2975836\n"
     ]
    }
   ],
   "source": [
    "eb995 = nx.edge_betweenness_centrality(G, k=G.number_of_nodes()/1000, weight='weight')\n",
    "print len(eb995)"
   ]
  },
  {
   "cell_type": "code",
   "execution_count": 76,
   "metadata": {},
   "outputs": [
    {
     "name": "stdout",
     "output_type": "stream",
     "text": [
      "(34502, 34502)\n",
      "(595176751,)\n"
     ]
    }
   ],
   "source": [
    "# Make a matrix of edge betweenness\n",
    "eb_mat995 = np.zeros((mat.shape[0], mat.shape[0]))\n",
    "print eb_mat995.shape\n",
    "for (n1, n2), value in eb995.items():\n",
    "    eb_mat995[n1,n2] = value\n",
    "    eb_mat995[n2,n1] = value\n",
    "    \n",
    "eb_mat995 = dist.squareform(eb_mat995)\n",
    "print eb_mat995.shape"
   ]
  },
  {
   "cell_type": "code",
   "execution_count": 77,
   "metadata": {},
   "outputs": [
    {
     "data": {
      "text/plain": [
       "(0.0002708233425066185, 3.9199379196460237e-11)"
      ]
     },
     "execution_count": 77,
     "metadata": {},
     "output_type": "execute_result"
    }
   ],
   "source": [
    "stats.pearsonr(eb_mat995, eb_mat)"
   ]
  },
  {
   "cell_type": "code",
   "execution_count": 78,
   "metadata": {},
   "outputs": [
    {
     "name": "stdout",
     "output_type": "stream",
     "text": [
      "(32290, 32290)\n"
     ]
    }
   ],
   "source": [
    "M = nx.to_scipy_sparse_matrix(G, nodelist=G.nodes(), weight='weight', dtype=float)\n",
    "print M.shape"
   ]
  },
  {
   "cell_type": "code",
   "execution_count": 84,
   "metadata": {},
   "outputs": [
    {
     "data": {
      "text/plain": [
       "scipy.sparse.csr.csr_matrix"
      ]
     },
     "execution_count": 84,
     "metadata": {},
     "output_type": "execute_result"
    }
   ],
   "source": [
    "type(M)"
   ]
  },
  {
   "cell_type": "code",
   "execution_count": 79,
   "metadata": {},
   "outputs": [],
   "source": [
    "from scipy.sparse import linalg\n",
    "eigenvalue, eigenvector = linalg.eigs(M.T, k=1, which='LR')"
   ]
  },
  {
   "cell_type": "code",
   "execution_count": 81,
   "metadata": {},
   "outputs": [
    {
     "name": "stdout",
     "output_type": "stream",
     "text": [
      "(32290,) ()\n"
     ]
    }
   ],
   "source": [
    "import scipy as sp\n",
    "largest = eigenvector.flatten().real\n",
    "norm = sp.sign(largest.sum())*sp.linalg.norm(largest)\n",
    "print largest.shape, norm.shape"
   ]
  },
  {
   "cell_type": "code",
   "execution_count": 83,
   "metadata": {},
   "outputs": [
    {
     "name": "stdout",
     "output_type": "stream",
     "text": [
      "(32290,)\n"
     ]
    }
   ],
   "source": [
    "centrality = largest / norm\n",
    "print centrality.shape"
   ]
  },
  {
   "cell_type": "code",
   "execution_count": null,
   "metadata": {},
   "outputs": [],
   "source": []
  },
  {
   "cell_type": "code",
   "execution_count": 46,
   "metadata": {},
   "outputs": [
    {
     "name": "stdout",
     "output_type": "stream",
     "text": [
      "200 475\n"
     ]
    }
   ],
   "source": [
    "G_r = nx.fast_gnp_random_graph(200, 5./200)\n",
    "print G_r.number_of_nodes(), G_r.number_of_edges()\n"
   ]
  },
  {
   "cell_type": "code",
   "execution_count": 48,
   "metadata": {},
   "outputs": [],
   "source": [
    "eb = nx.edge_betweenness_centrality(G_r, k=G_r.number_of_nodes()/20, weight='weight')"
   ]
  },
  {
   "cell_type": "code",
   "execution_count": 50,
   "metadata": {},
   "outputs": [
    {
     "data": {
      "text/plain": [
       "[((49, 78), 0.0002561717316742443),\n",
       " ((105, 151), 0.00028661104000115233),\n",
       " ((162, 182), 0.00011165948791576935),\n",
       " ((16, 88), 7.380653266331659e-05),\n",
       " ((96, 130), 0.00020355746988912814)]"
      ]
     },
     "execution_count": 50,
     "metadata": {},
     "output_type": "execute_result"
    }
   ],
   "source": [
    "eb.items()[:5]"
   ]
  },
  {
   "cell_type": "markdown",
   "metadata": {},
   "source": [
    "# Test the run-time for computing betweenness"
   ]
  },
  {
   "cell_type": "code",
   "execution_count": 56,
   "metadata": {},
   "outputs": [
    {
     "name": "stdout",
     "output_type": "stream",
     "text": [
      "2000 5049\n"
     ]
    }
   ],
   "source": [
    "n = 2000\n",
    "G_r = nx.fast_gnp_random_graph(n, 5./n)\n",
    "print G_r.number_of_nodes(), G_r.number_of_edges()\n"
   ]
  },
  {
   "cell_type": "code",
   "execution_count": 57,
   "metadata": {
    "scrolled": true
   },
   "outputs": [
    {
     "name": "stdout",
     "output_type": "stream",
     "text": [
      "1984 5049\n",
      "1 0\n",
      "1 0\n",
      "1 0\n",
      "1 0\n",
      "1 0\n",
      "1 0\n",
      "1 0\n",
      "1 0\n",
      "1 0\n",
      "1 0\n",
      "1 0\n",
      "1 0\n",
      "1 0\n",
      "1 0\n",
      "1 0\n",
      "1 0\n"
     ]
    }
   ],
   "source": [
    "for sub_G in nx.connected_component_subgraphs(G_r):\n",
    "    print sub_G.number_of_nodes(), sub_G.number_of_edges()"
   ]
  },
  {
   "cell_type": "code",
   "execution_count": 58,
   "metadata": {},
   "outputs": [
    {
     "name": "stdout",
     "output_type": "stream",
     "text": [
      "1984 5049\n"
     ]
    }
   ],
   "source": [
    "sub_G = next(nx.connected_component_subgraphs(G_r))\n",
    "print sub_G.number_of_nodes(), sub_G.number_of_edges()"
   ]
  },
  {
   "cell_type": "code",
   "execution_count": 20,
   "metadata": {},
   "outputs": [
    {
     "name": "stdout",
     "output_type": "stream",
     "text": [
      "1 loop, best of 3: 11 s per loop\n"
     ]
    }
   ],
   "source": [
    "%%timeit\n",
    "bc = nx.betweenness_centrality(G, k=n)"
   ]
  },
  {
   "cell_type": "code",
   "execution_count": 21,
   "metadata": {},
   "outputs": [
    {
     "name": "stdout",
     "output_type": "stream",
     "text": [
      "1 loop, best of 3: 5.43 s per loop\n"
     ]
    }
   ],
   "source": [
    "%%timeit\n",
    "bc = nx.betweenness_centrality(G, k=n/2)"
   ]
  },
  {
   "cell_type": "code",
   "execution_count": 22,
   "metadata": {},
   "outputs": [
    {
     "name": "stdout",
     "output_type": "stream",
     "text": [
      "1 loop, best of 3: 2.71 s per loop\n"
     ]
    }
   ],
   "source": [
    "%%timeit\n",
    "bc = nx.betweenness_centrality(G, k=n/4)"
   ]
  },
  {
   "cell_type": "code",
   "execution_count": 23,
   "metadata": {},
   "outputs": [
    {
     "name": "stdout",
     "output_type": "stream",
     "text": [
      "1 loop, best of 3: 1.32 s per loop\n"
     ]
    }
   ],
   "source": [
    "%%timeit\n",
    "bc = nx.betweenness_centrality(G, k=n/8)"
   ]
  },
  {
   "cell_type": "code",
   "execution_count": 29,
   "metadata": {},
   "outputs": [
    {
     "name": "stdout",
     "output_type": "stream",
     "text": [
      "1 loop, best of 3: 1.99 s per loop\n"
     ]
    }
   ],
   "source": [
    "%%timeit\n",
    "bc = nx.approximate_current_flow_betweenness_centrality(sub_G, solver='full',\n",
    "                                                        epsilon=0.5, \n",
    "                                                        kmax=n/8)"
   ]
  },
  {
   "cell_type": "code",
   "execution_count": 30,
   "metadata": {},
   "outputs": [
    {
     "name": "stdout",
     "output_type": "stream",
     "text": [
      "1 loop, best of 3: 1.52 s per loop\n"
     ]
    }
   ],
   "source": [
    "%%timeit\n",
    "bc = nx.approximate_current_flow_betweenness_centrality(sub_G, solver='lu',\n",
    "                                                        epsilon=0.5, \n",
    "                                                        kmax=n/8)"
   ]
  },
  {
   "cell_type": "code",
   "execution_count": 32,
   "metadata": {},
   "outputs": [
    {
     "name": "stdout",
     "output_type": "stream",
     "text": [
      "1 loop, best of 3: 1.03 s per loop\n"
     ]
    }
   ],
   "source": [
    "%%timeit\n",
    "bc = nx.approximate_current_flow_betweenness_centrality(sub_G, solver='lu',\n",
    "                                                        epsilon=1, \n",
    "                                                        kmax=n/8)"
   ]
  },
  {
   "cell_type": "code",
   "execution_count": 33,
   "metadata": {},
   "outputs": [
    {
     "name": "stdout",
     "output_type": "stream",
     "text": [
      "1 loop, best of 3: 1.75 s per loop\n"
     ]
    }
   ],
   "source": [
    "%%timeit\n",
    "bc = nx.communicability_centrality(sub_G)"
   ]
  },
  {
   "cell_type": "code",
   "execution_count": 34,
   "metadata": {},
   "outputs": [
    {
     "name": "stdout",
     "output_type": "stream",
     "text": [
      "1 loop, best of 3: 154 ms per loop\n"
     ]
    }
   ],
   "source": [
    "%%timeit\n",
    "bc = nx.eigenvector_centrality(sub_G, tol=1e-6)"
   ]
  },
  {
   "cell_type": "code",
   "execution_count": 35,
   "metadata": {},
   "outputs": [
    {
     "name": "stdout",
     "output_type": "stream",
     "text": [
      "10 loops, best of 3: 110 ms per loop\n"
     ]
    }
   ],
   "source": [
    "%%timeit\n",
    "bc = nx.eigenvector_centrality(sub_G, tol=1e-5)"
   ]
  },
  {
   "cell_type": "code",
   "execution_count": 36,
   "metadata": {},
   "outputs": [
    {
     "name": "stdout",
     "output_type": "stream",
     "text": [
      "10 loops, best of 3: 26.8 ms per loop\n"
     ]
    }
   ],
   "source": [
    "%%timeit\n",
    "bc = nx.eigenvector_centrality_numpy(sub_G)"
   ]
  },
  {
   "cell_type": "code",
   "execution_count": 37,
   "metadata": {},
   "outputs": [
    {
     "name": "stdout",
     "output_type": "stream",
     "text": [
      "1 loop, best of 3: 163 ms per loop\n"
     ]
    }
   ],
   "source": [
    "%%timeit\n",
    "bc = nx.katz_centrality(sub_G)"
   ]
  },
  {
   "cell_type": "code",
   "execution_count": 38,
   "metadata": {},
   "outputs": [
    {
     "name": "stdout",
     "output_type": "stream",
     "text": [
      "10 loops, best of 3: 136 ms per loop\n"
     ]
    }
   ],
   "source": [
    "%%timeit\n",
    "bc = nx.katz_centrality(sub_G, tol=1e-5)"
   ]
  },
  {
   "cell_type": "code",
   "execution_count": 39,
   "metadata": {},
   "outputs": [
    {
     "name": "stdout",
     "output_type": "stream",
     "text": [
      "10 loops, best of 3: 134 ms per loop\n"
     ]
    }
   ],
   "source": [
    "%%timeit\n",
    "bc = nx.katz_centrality_numpy(sub_G)"
   ]
  },
  {
   "cell_type": "markdown",
   "metadata": {},
   "source": [
    "## Time it on a larger network"
   ]
  },
  {
   "cell_type": "code",
   "execution_count": 4,
   "metadata": {},
   "outputs": [
    {
     "name": "stdout",
     "output_type": "stream",
     "text": [
      "20000 149620\n",
      "20000 149620\n"
     ]
    }
   ],
   "source": [
    "n = 20000\n",
    "G = nx.fast_gnp_random_graph(n, 15./n)\n",
    "print G.number_of_nodes(), G.number_of_edges()\n",
    "sub_G = next(nx.connected_component_subgraphs(G))\n",
    "print sub_G.number_of_nodes(), sub_G.number_of_edges()"
   ]
  },
  {
   "cell_type": "code",
   "execution_count": 5,
   "metadata": {},
   "outputs": [
    {
     "name": "stdout",
     "output_type": "stream",
     "text": [
      "1 loop, best of 3: 386 ms per loop\n"
     ]
    }
   ],
   "source": [
    "%%timeit\n",
    "bc = nx.eigenvector_centrality_numpy(sub_G)"
   ]
  },
  {
   "cell_type": "code",
   "execution_count": null,
   "metadata": {},
   "outputs": [],
   "source": [
    "%%timeit\n",
    "# bc = nx.approximate_current_flow_betweenness_centrality(sub_G, solver='lu',\n",
    "#                                                         epsilon=1, \n",
    "#                                                         kmax=n/200)"
   ]
  },
  {
   "cell_type": "markdown",
   "metadata": {},
   "source": [
    "# Shortest path length/ edge betweenness"
   ]
  },
  {
   "cell_type": "code",
   "execution_count": 7,
   "metadata": {},
   "outputs": [
    {
     "name": "stdout",
     "output_type": "stream",
     "text": [
      "The slowest run took 200.75 times longer than the fastest. This could mean that an intermediate result is being cached.\n",
      "100000000 loops, best of 3: 7.53 ns per loop\n"
     ]
    }
   ],
   "source": [
    "%%timeit\n",
    "# sp = nx.shortest_path_length(G)"
   ]
  },
  {
   "cell_type": "code",
   "execution_count": 9,
   "metadata": {},
   "outputs": [
    {
     "name": "stdout",
     "output_type": "stream",
     "text": [
      "1 loop, best of 3: 17 s per loop\n"
     ]
    }
   ],
   "source": [
    "%%timeit\n",
    "# sp = nx.all_pairs_dijkstra_path_length(G, cutoff=None)"
   ]
  },
  {
   "cell_type": "code",
   "execution_count": 10,
   "metadata": {},
   "outputs": [
    {
     "name": "stdout",
     "output_type": "stream",
     "text": [
      "1 loop, best of 3: 16.8 s per loop\n"
     ]
    }
   ],
   "source": [
    "%%timeit\n",
    "# sp = nx.all_pairs_dijkstra_path_length(G, cutoff=6)"
   ]
  },
  {
   "cell_type": "code",
   "execution_count": 15,
   "metadata": {},
   "outputs": [
    {
     "name": "stdout",
     "output_type": "stream",
     "text": [
      "1 loop, best of 3: 657 ms per loop\n"
     ]
    }
   ],
   "source": [
    "%%timeit\n",
    "# sp = nx.edge_betweenness_centrality(sub_G, k=n/20)"
   ]
  },
  {
   "cell_type": "code",
   "execution_count": 59,
   "metadata": {},
   "outputs": [
    {
     "name": "stdout",
     "output_type": "stream",
     "text": [
      "10 loops, best of 3: 70.7 ms per loop\n"
     ]
    }
   ],
   "source": [
    "%%timeit\n",
    "sp = nx.edge_betweenness_centrality(sub_G, k=n/200)"
   ]
  },
  {
   "cell_type": "code",
   "execution_count": 62,
   "metadata": {},
   "outputs": [],
   "source": [
    "from itertools import combinations\n",
    "def pseudoinverse_laplacian(G):\n",
    "    L = nx.laplacian_matrix(G)\n",
    "    L = L.todense()\n",
    "    L_plus = np.linalg.pinv(L)\n",
    "    Vg = np.diag(L).sum()\n",
    "    return L_plus, L, Vg\n",
    "\n",
    "def mean_CT(L_plus, L, Vg, i, j):\n",
    "    ## average commute time\n",
    "    ## i, j are indices of two nodes\n",
    "    CT_ij = Vg * (L_plus[i,i] + L_plus[j,j]- 2*L_plus[i,j])\n",
    "    return CT_ij\n",
    "\n",
    "def compute_mean_CT_matrix(G):\n",
    "    L_plus, L, Vg = pseudoinverse_laplacian(G)\n",
    "    c = 1\n",
    "    nodes = G.nodes()\n",
    "    num_nodes = len(nodes)\n",
    "    \n",
    "    d = {}\n",
    "    for i, j in combinations(xrange(num_nodes), 2):\t\n",
    "        c += 1\n",
    "        ct = mean_CT(L_plus, L, Vg, i, j)\n",
    "        edge = (i, j)\n",
    "#         if c % 50000 == 0:\n",
    "#             print 'Finished', c, total\n",
    "        d[edge] = ct\n",
    "    return d\n"
   ]
  },
  {
   "cell_type": "code",
   "execution_count": 63,
   "metadata": {},
   "outputs": [
    {
     "name": "stdout",
     "output_type": "stream",
     "text": [
      "1 loop, best of 3: 14.8 s per loop\n"
     ]
    }
   ],
   "source": [
    "%%timeit\n",
    "sp = compute_mean_CT_matrix(sub_G)"
   ]
  },
  {
   "cell_type": "code",
   "execution_count": 64,
   "metadata": {},
   "outputs": [
    {
     "name": "stdout",
     "output_type": "stream",
     "text": [
      "1 loop, best of 3: 3.74 s per loop\n"
     ]
    }
   ],
   "source": [
    "%%timeit\n",
    "_ = pseudoinverse_laplacian(sub_G)"
   ]
  },
  {
   "cell_type": "code",
   "execution_count": null,
   "metadata": {},
   "outputs": [],
   "source": []
  },
  {
   "cell_type": "code",
   "execution_count": null,
   "metadata": {},
   "outputs": [],
   "source": []
  },
  {
   "cell_type": "code",
   "execution_count": null,
   "metadata": {},
   "outputs": [],
   "source": [
    "sub_G.number_of_nodes()"
   ]
  },
  {
   "cell_type": "code",
   "execution_count": 11,
   "metadata": {},
   "outputs": [
    {
     "name": "stdout",
     "output_type": "stream",
     "text": [
      "1989 5161\n",
      "1989\n"
     ]
    }
   ],
   "source": [
    "bc = nx.eigenvector_centrality_numpy(sub_G)\n",
    "print sub_G.number_of_nodes(), sub_G.number_of_edges()\n",
    "print len(bc)"
   ]
  },
  {
   "cell_type": "code",
   "execution_count": 13,
   "metadata": {},
   "outputs": [
    {
     "data": {
      "image/png": "[encoded data removed]",
      "text/plain": [
       "<matplotlib.figure.Figure at 0x7f314d8aedd0>"
      ]
     },
     "metadata": {},
     "output_type": "display_data"
    }
   ],
   "source": [
    "plt.hist(bc.values());"
   ]
  },
  {
   "cell_type": "code",
   "execution_count": null,
   "metadata": {},
   "outputs": [],
   "source": []
  },
  {
   "cell_type": "code",
   "execution_count": 16,
   "metadata": {},
   "outputs": [
    {
     "name": "stdout",
     "output_type": "stream",
     "text": [
      "(84988, 84988)\n"
     ]
    }
   ],
   "source": [
    "# Compute the pairwise cosine distance and convert to adjacency matrix\n",
    "adj_mat = compute_adjcency_mat(mat)\n",
    "print adj_mat.shape"
   ]
  },
  {
   "cell_type": "code",
   "execution_count": 17,
   "metadata": {},
   "outputs": [
    {
     "data": {
      "image/png": "[encoded data removed]",
      "text/plain": [
       "<matplotlib.figure.Figure at 0x7fc730d22350>"
      ]
     },
     "metadata": {},
     "output_type": "display_data"
    }
   ],
   "source": [
    "plt.hist(adj_mat.ravel(), bins=50, log=True);"
   ]
  },
  {
   "cell_type": "code",
   "execution_count": null,
   "metadata": {},
   "outputs": [
    {
     "name": "stdout",
     "output_type": "stream",
     "text": [
      "84988 298111\n"
     ]
    }
   ],
   "source": [
    "# Create network by applying threshold \n",
    "# G = create_graph_by_threshold(adj_mat, 99.92)\n",
    "# G = create_graph_by_threshold2(adj_mat, 0.4)\n",
    "# G = create_graph_by_threshold2(adj_mat, 0.3)\n",
    "G = create_graph_by_threshold2(adj_mat, 0.35)\n",
    "print G.number_of_nodes(), G.number_of_edges()\n"
   ]
  },
  {
   "cell_type": "code",
   "execution_count": null,
   "metadata": {},
   "outputs": [],
   "source": [
    "## Create a new graph only keeping the large connected components\n",
    "G_new = nx.Graph()\n",
    "for cc in nx.connected_component_subgraphs(G):\n",
    "    if cc.number_of_nodes() > 10:\n",
    "        G_new = nx.compose(G_new, cc)\n",
    "\n",
    "print G_new.number_of_nodes(), G_new.number_of_edges()"
   ]
  },
  {
   "cell_type": "code",
   "execution_count": null,
   "metadata": {},
   "outputs": [],
   "source": [
    "plot_degree_distribution(G_new)"
   ]
  },
  {
   "cell_type": "code",
   "execution_count": 39,
   "metadata": {},
   "outputs": [
    {
     "ename": "TypeError",
     "evalue": "unhashable type",
     "output_type": "error",
     "traceback": [
      "\u001b[0;31m---------------------------------------------------------------------------\u001b[0m",
      "\u001b[0;31mTypeError\u001b[0m                                 Traceback (most recent call last)",
      "\u001b[0;32m<ipython-input-39-e0510a0a3d2b>\u001b[0m in \u001b[0;36m<module>\u001b[0;34m()\u001b[0m\n\u001b[1;32m      4\u001b[0m \u001b[0md_id_sig_id\u001b[0m \u001b[0;34m=\u001b[0m \u001b[0;34m{\u001b[0m\u001b[0mnid\u001b[0m\u001b[0;34m:\u001b[0m \u001b[0msig_id\u001b[0m \u001b[0;32mfor\u001b[0m \u001b[0mnid\u001b[0m\u001b[0;34m,\u001b[0m \u001b[0msig_id\u001b[0m \u001b[0;32min\u001b[0m \u001b[0md_id_sig_id\u001b[0m\u001b[0;34m.\u001b[0m\u001b[0mitems\u001b[0m\u001b[0;34m(\u001b[0m\u001b[0;34m)\u001b[0m \u001b[0;32mif\u001b[0m \u001b[0mG_new\u001b[0m\u001b[0;34m.\u001b[0m\u001b[0mhas_node\u001b[0m\u001b[0;34m(\u001b[0m\u001b[0mnid\u001b[0m\u001b[0;34m)\u001b[0m\u001b[0;34m}\u001b[0m\u001b[0;34m\u001b[0m\u001b[0m\n\u001b[1;32m      5\u001b[0m \u001b[0mnx\u001b[0m\u001b[0;34m.\u001b[0m\u001b[0mrelabel_nodes\u001b[0m\u001b[0;34m(\u001b[0m\u001b[0mG_new\u001b[0m\u001b[0;34m,\u001b[0m \u001b[0md_id_sig_id\u001b[0m\u001b[0;34m,\u001b[0m \u001b[0mcopy\u001b[0m\u001b[0;34m=\u001b[0m\u001b[0mFalse\u001b[0m\u001b[0;34m)\u001b[0m\u001b[0;34m\u001b[0m\u001b[0m\n\u001b[0;32m----> 6\u001b[0;31m \u001b[0;32mprint\u001b[0m \u001b[0mG_new\u001b[0m\u001b[0;34m.\u001b[0m\u001b[0mnodes\u001b[0m\u001b[0;34m(\u001b[0m\u001b[0;34m)\u001b[0m\u001b[0;34m[\u001b[0m\u001b[0;34m:\u001b[0m\u001b[0;36m5\u001b[0m\u001b[0;34m]\u001b[0m\u001b[0;34m\u001b[0m\u001b[0m\n\u001b[0m",
      "\u001b[0;32m/home/maayanlab/L1000FWD/venv/local/lib/python2.7/site-packages/networkx/classes/reportviews.pyc\u001b[0m in \u001b[0;36m__getitem__\u001b[0;34m(self, n)\u001b[0m\n",
      "\u001b[0;31mTypeError\u001b[0m: unhashable type"
     ]
    }
   ],
   "source": [
    "# Relabel nodes with sig_ids\n",
    "sig_ids_shared = grouped_sorted['sig_id'].tolist()\n",
    "d_id_sig_id = dict(zip(range(len(sig_ids_shared)), sig_ids_shared))\n",
    "d_id_sig_id = {nid: sig_id for nid, sig_id in d_id_sig_id.items() if G_new.has_node(nid)}\n",
    "nx.relabel_nodes(G_new, d_id_sig_id, copy=False)\n",
    "# print G_new.nodes()[:5]"
   ]
  },
  {
   "cell_type": "code",
   "execution_count": null,
   "metadata": {},
   "outputs": [],
   "source": [
    "# Report G_new stats\n",
    "sig_meta_df_sub = sig_meta_df.loc[G_new.nodes()]\n",
    "print sig_meta_df_sub.shape\n",
    "print 'Unique pert_ids:', sig_meta_df_sub['pert_id'].nunique()\n",
    "print 'Unique cell lines:', sig_meta_df_sub['cell_id'].nunique()"
   ]
  },
  {
   "cell_type": "code",
   "execution_count": null,
   "metadata": {},
   "outputs": [],
   "source": [
    "nx.write_gml(G_new, 'Signature_Graph_CD_center_LM_sig-only_%dnodes.gml' % G_new.number_of_nodes())"
   ]
  },
  {
   "cell_type": "code",
   "execution_count": null,
   "metadata": {},
   "outputs": [],
   "source": []
  },
  {
   "cell_type": "code",
   "execution_count": null,
   "metadata": {},
   "outputs": [],
   "source": []
  },
  {
   "cell_type": "code",
   "execution_count": 27,
   "metadata": {
    "collapsed": true
   },
   "outputs": [],
   "source": [
    "k = 3"
   ]
  },
  {
   "cell_type": "code",
   "execution_count": 28,
   "metadata": {},
   "outputs": [
    {
     "name": "stdout",
     "output_type": "stream",
     "text": [
      "34434 88913\n"
     ]
    }
   ],
   "source": [
    "# Create a graph by kNN\n",
    "G = create_knn_graph(mat, k=k, n_jobs=6)\n",
    "print G.number_of_nodes(), G.number_of_edges()"
   ]
  },
  {
   "cell_type": "code",
   "execution_count": 6,
   "metadata": {},
   "outputs": [
    {
     "data": {
      "text/plain": [
       "<matplotlib.axes.AxesSubplot at 0x11323c090>"
      ]
     },
     "execution_count": 6,
     "metadata": {},
     "output_type": "execute_result"
    },
    {
     "data": {
      "image/png": "[encoded data removed]",
      "text/plain": [
       "<matplotlib.figure.Figure at 0x109bef250>"
      ]
     },
     "metadata": {},
     "output_type": "display_data"
    }
   ],
   "source": [
    "sns.distplot(adj_mat.ravel())"
   ]
  },
  {
   "cell_type": "code",
   "execution_count": 21,
   "metadata": {},
   "outputs": [
    {
     "name": "stdout",
     "output_type": "stream",
     "text": [
      "[[ 1.          0.19972239  0.11240999  0.06357018  0.27353767]\n",
      " [ 0.19972239  1.          0.24668629  0.01336093  0.30280702]\n",
      " [ 0.11240999  0.24668629  1.          0.06284576  0.26836507]\n",
      " [ 0.06357018  0.01336093  0.06284576  1.          0.07616437]\n",
      " [ 0.27353767  0.30280702  0.26836507  0.07616437  1.        ]]\n"
     ]
    }
   ],
   "source": [
    "print adj_mat[:5, :5]"
   ]
  },
  {
   "cell_type": "code",
   "execution_count": 22,
   "metadata": {},
   "outputs": [
    {
     "name": "stdout",
     "output_type": "stream",
     "text": [
      "[[  2.22044605e-16   1.99722389e-01   1.12409986e-01   6.35701792e-02\n",
      "    2.73537672e-01]\n",
      " [  1.99722389e-01   8.88178420e-16   2.46686287e-01   1.33609281e-02\n",
      "    3.02807020e-01]\n",
      " [  1.12409986e-01   2.46686287e-01   2.22044605e-16   6.28457608e-02\n",
      "    2.68365074e-01]\n",
      " [  6.35701792e-02   1.33609281e-02   6.28457608e-02   0.00000000e+00\n",
      "    7.61643687e-02]\n",
      " [  2.73537672e-01   3.02807020e-01   2.68365074e-01   7.61643687e-02\n",
      "    4.44089210e-16]]\n"
     ]
    }
   ],
   "source": [
    "## remove 1's on the diagnal\n",
    "adj_mat = adj_mat - np.eye(adj_mat.shape[0])\n",
    "## convert negative values in adj_mat to 0's\n",
    "adj_mat[adj_mat<0] = 0\n",
    "print adj_mat[:5, :5]"
   ]
  },
  {
   "cell_type": "code",
   "execution_count": 23,
   "metadata": {},
   "outputs": [
    {
     "name": "stdout",
     "output_type": "stream",
     "text": [
      "0 0.0\n",
      "5 0.0\n",
      "10"
     ]
    },
    {
     "ename": "KeyboardInterrupt",
     "evalue": "",
     "output_type": "error",
     "traceback": [
      "\u001b[0;31m---------------------------------------------------------------------------\u001b[0m",
      "\u001b[0;31mKeyboardInterrupt\u001b[0m                         Traceback (most recent call last)",
      "\u001b[0;32m<ipython-input-23-4438b9692f46>\u001b[0m in \u001b[0;36m<module>\u001b[0;34m()\u001b[0m\n\u001b[1;32m      1\u001b[0m \u001b[0;32mfor\u001b[0m \u001b[0mpercent\u001b[0m \u001b[0;32min\u001b[0m \u001b[0mnp\u001b[0m\u001b[0;34m.\u001b[0m\u001b[0marange\u001b[0m\u001b[0;34m(\u001b[0m\u001b[0;36m0\u001b[0m\u001b[0;34m,\u001b[0m\u001b[0;36m100\u001b[0m\u001b[0;34m,\u001b[0m \u001b[0;36m5\u001b[0m\u001b[0;34m)\u001b[0m\u001b[0;34m:\u001b[0m\u001b[0;34m\u001b[0m\u001b[0m\n\u001b[0;32m----> 2\u001b[0;31m     \u001b[0;32mprint\u001b[0m \u001b[0mpercent\u001b[0m\u001b[0;34m,\u001b[0m \u001b[0mnp\u001b[0m\u001b[0;34m.\u001b[0m\u001b[0mpercentile\u001b[0m\u001b[0;34m(\u001b[0m\u001b[0madj_mat\u001b[0m\u001b[0;34m.\u001b[0m\u001b[0mravel\u001b[0m\u001b[0;34m(\u001b[0m\u001b[0;34m)\u001b[0m\u001b[0;34m,\u001b[0m \u001b[0mpercent\u001b[0m\u001b[0;34m)\u001b[0m\u001b[0;34m\u001b[0m\u001b[0m\n\u001b[0m",
      "\u001b[0;32m/usr/local/lib/python2.7/site-packages/numpy/lib/function_base.pyc\u001b[0m in \u001b[0;36mpercentile\u001b[0;34m(a, q, axis, out, overwrite_input, interpolation, keepdims)\u001b[0m\n\u001b[1;32m   4267\u001b[0m     r, k = _ureduce(a, func=_percentile, q=q, axis=axis, out=out,\n\u001b[1;32m   4268\u001b[0m                     \u001b[0moverwrite_input\u001b[0m\u001b[0;34m=\u001b[0m\u001b[0moverwrite_input\u001b[0m\u001b[0;34m,\u001b[0m\u001b[0;34m\u001b[0m\u001b[0m\n\u001b[0;32m-> 4269\u001b[0;31m                     interpolation=interpolation)\n\u001b[0m\u001b[1;32m   4270\u001b[0m     \u001b[0;32mif\u001b[0m \u001b[0mkeepdims\u001b[0m\u001b[0;34m:\u001b[0m\u001b[0;34m\u001b[0m\u001b[0m\n\u001b[1;32m   4271\u001b[0m         \u001b[0;32mif\u001b[0m \u001b[0mq\u001b[0m\u001b[0;34m.\u001b[0m\u001b[0mndim\u001b[0m \u001b[0;34m==\u001b[0m \u001b[0;36m0\u001b[0m\u001b[0;34m:\u001b[0m\u001b[0;34m\u001b[0m\u001b[0m\n",
      "\u001b[0;32m/usr/local/lib/python2.7/site-packages/numpy/lib/function_base.pyc\u001b[0m in \u001b[0;36m_ureduce\u001b[0;34m(a, func, **kwargs)\u001b[0m\n\u001b[1;32m   4009\u001b[0m         \u001b[0mkeepdim\u001b[0m \u001b[0;34m=\u001b[0m \u001b[0;34m[\u001b[0m\u001b[0;36m1\u001b[0m\u001b[0;34m]\u001b[0m \u001b[0;34m*\u001b[0m \u001b[0ma\u001b[0m\u001b[0;34m.\u001b[0m\u001b[0mndim\u001b[0m\u001b[0;34m\u001b[0m\u001b[0m\n\u001b[1;32m   4010\u001b[0m \u001b[0;34m\u001b[0m\u001b[0m\n\u001b[0;32m-> 4011\u001b[0;31m     \u001b[0mr\u001b[0m \u001b[0;34m=\u001b[0m \u001b[0mfunc\u001b[0m\u001b[0;34m(\u001b[0m\u001b[0ma\u001b[0m\u001b[0;34m,\u001b[0m \u001b[0;34m**\u001b[0m\u001b[0mkwargs\u001b[0m\u001b[0;34m)\u001b[0m\u001b[0;34m\u001b[0m\u001b[0m\n\u001b[0m\u001b[1;32m   4012\u001b[0m     \u001b[0;32mreturn\u001b[0m \u001b[0mr\u001b[0m\u001b[0;34m,\u001b[0m \u001b[0mkeepdim\u001b[0m\u001b[0;34m\u001b[0m\u001b[0m\n\u001b[1;32m   4013\u001b[0m \u001b[0;34m\u001b[0m\u001b[0m\n",
      "\u001b[0;32m/usr/local/lib/python2.7/site-packages/numpy/lib/function_base.pyc\u001b[0m in \u001b[0;36m_percentile\u001b[0;34m(a, q, axis, out, overwrite_input, interpolation, keepdims)\u001b[0m\n\u001b[1;32m   4307\u001b[0m     \u001b[0;32melse\u001b[0m\u001b[0;34m:\u001b[0m\u001b[0;34m\u001b[0m\u001b[0m\n\u001b[1;32m   4308\u001b[0m         \u001b[0;32mif\u001b[0m \u001b[0maxis\u001b[0m \u001b[0;32mis\u001b[0m \u001b[0mNone\u001b[0m\u001b[0;34m:\u001b[0m\u001b[0;34m\u001b[0m\u001b[0m\n\u001b[0;32m-> 4309\u001b[0;31m             \u001b[0map\u001b[0m \u001b[0;34m=\u001b[0m \u001b[0ma\u001b[0m\u001b[0;34m.\u001b[0m\u001b[0mflatten\u001b[0m\u001b[0;34m(\u001b[0m\u001b[0;34m)\u001b[0m\u001b[0;34m\u001b[0m\u001b[0m\n\u001b[0m\u001b[1;32m   4310\u001b[0m         \u001b[0;32melse\u001b[0m\u001b[0;34m:\u001b[0m\u001b[0;34m\u001b[0m\u001b[0m\n\u001b[1;32m   4311\u001b[0m             \u001b[0map\u001b[0m \u001b[0;34m=\u001b[0m \u001b[0ma\u001b[0m\u001b[0;34m.\u001b[0m\u001b[0mcopy\u001b[0m\u001b[0;34m(\u001b[0m\u001b[0;34m)\u001b[0m\u001b[0;34m\u001b[0m\u001b[0m\n",
      "\u001b[0;31mKeyboardInterrupt\u001b[0m: "
     ]
    }
   ],
   "source": [
    "for percent in np.arange(0,100, 5):\n",
    "    print percent, np.percentile(adj_mat.ravel(), percent)"
   ]
  },
  {
   "cell_type": "code",
   "execution_count": 34,
   "metadata": {},
   "outputs": [
    {
     "name": "stdout",
     "output_type": "stream",
     "text": [
      "99.95 0.387579934361\n",
      "34434 296426\n"
     ]
    },
    {
     "data": {
      "text/plain": [
       "<matplotlib.axes._subplots.AxesSubplot at 0x126bb6610>"
      ]
     },
     "execution_count": 34,
     "metadata": {},
     "output_type": "execute_result"
    },
    {
     "data": {
      "image/png": "[encoded data removed]",
      "text/plain": [
       "<matplotlib.figure.Figure at 0x10f14bb50>"
      ]
     },
     "metadata": {},
     "output_type": "display_data"
    }
   ],
   "source": [
    "# Create a undirected graph from the adj_mat by first setting values smaller than cutoff to 0's \n",
    "# to control number of edges.\n",
    "percentile_cutoff = 99.95\n",
    "cosine_similarity_cutoff = np.percentile(adj_mat.ravel(), percentile_cutoff)\n",
    "\n",
    "print percentile_cutoff, cosine_similarity_cutoff\n",
    "\n",
    "adj_mat_ = adj_mat.copy()\n",
    "adj_mat_[adj_mat_<cosine_similarity_cutoff] = 0\n",
    "\n",
    "G = nx.from_numpy_matrix(adj_mat_)\n",
    "del adj_mat_\n",
    "\n",
    "print G.number_of_nodes(), G.number_of_edges()\n",
    "plot_degree_distribution(G)"
   ]
  },
  {
   "cell_type": "code",
   "execution_count": null,
   "metadata": {
    "collapsed": true
   },
   "outputs": [],
   "source": []
  },
  {
   "cell_type": "code",
   "execution_count": 21,
   "metadata": {},
   "outputs": [
    {
     "name": "stdout",
     "output_type": "stream",
     "text": [
      "34434\n",
      "[0, 1, 2, 3, 4]\n"
     ]
    }
   ],
   "source": [
    "## Examine number of large connected components\n",
    "for cc in nx.connected_component_subgraphs(G):\n",
    "    if cc.number_of_nodes() > 10:\n",
    "        print cc.number_of_nodes()\n",
    "        print cc.nodes()[:5]"
   ]
  },
  {
   "cell_type": "code",
   "execution_count": 29,
   "metadata": {},
   "outputs": [
    {
     "name": "stdout",
     "output_type": "stream",
     "text": [
      "34406 88865\n"
     ]
    }
   ],
   "source": [
    "## Create a new graph only keeping the large connected components\n",
    "G_new = nx.Graph()\n",
    "for cc in nx.connected_component_subgraphs(G):\n",
    "    if cc.number_of_nodes() > 10:\n",
    "        G_new = nx.compose(G_new, cc)\n",
    "\n",
    "print G_new.number_of_nodes(), G_new.number_of_edges()"
   ]
  },
  {
   "cell_type": "code",
   "execution_count": 30,
   "metadata": {},
   "outputs": [
    {
     "name": "stdout",
     "output_type": "stream",
     "text": [
      "['CPC014_HCC515_6H:BRD-K50168500-001-01-2:10', 'CPC019_PC3_24H:BRD-K30849099-001-07-6:10', 'CPC004_HCC515_6H:BRD-A27554692-001-01-3:10', 'CPC006_NCIH1694_6H:BRD-K17349619-003-01-4:10', 'CPC015_NPC_24H:BRD-A72596465-001-01-3:10']\n"
     ]
    }
   ],
   "source": [
    "# Relabel nodes with sig_ids\n",
    "sig_ids_shared = grouped_sorted['sig_id'].tolist()\n",
    "d_id_sig_id = dict(zip(range(len(sig_ids_shared)), sig_ids_shared))\n",
    "d_id_sig_id = {nid: sig_id for nid, sig_id in d_id_sig_id.items() if G_new.has_node(nid)}\n",
    "nx.relabel_nodes(G_new, d_id_sig_id, copy=False)\n",
    "print G_new.nodes()[:5]"
   ]
  },
  {
   "cell_type": "code",
   "execution_count": 10,
   "metadata": {
    "collapsed": true
   },
   "outputs": [],
   "source": [
    "# nx.write_gexf(G, 'test.gexf')"
   ]
  },
  {
   "cell_type": "code",
   "execution_count": 31,
   "metadata": {
    "collapsed": true
   },
   "outputs": [],
   "source": [
    "# nx.write_gml(G_new, 'Signature_Graph_CD_center_LM_%dnodes_%s.gml' % (G_new.number_of_nodes(), percentile_cutoff))\n",
    "nx.write_gml(G_new, 'Signature_Graph_CD_center_LM_%dnodes_kNN%d.gml' % (G_new.number_of_nodes(), k))"
   ]
  }
 ],
 "metadata": {
  "kernelspec": {
   "display_name": "Python 2",
   "language": "python",
   "name": "python2"
  },
  "language_info": {
   "codemirror_mode": {
    "name": "ipython",
    "version": 2
   },
   "file_extension": ".py",
   "mimetype": "text/x-python",
   "name": "python",
   "nbconvert_exporter": "python",
   "pygments_lexer": "ipython2",
   "version": "2.7.6"
  }
 },
 "nbformat": 4,
 "nbformat_minor": 2
}
