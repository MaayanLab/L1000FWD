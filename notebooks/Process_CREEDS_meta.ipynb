{
 "cells": [
  {
   "cell_type": "code",
   "execution_count": 1,
   "metadata": {
    "collapsed": true
   },
   "outputs": [],
   "source": [
    "import os, sys\n",
    "import json\n",
    "import numpy as np\n",
    "import pandas as pd"
   ]
  },
  {
   "cell_type": "code",
   "execution_count": 2,
   "metadata": {
    "collapsed": true
   },
   "outputs": [],
   "source": [
    "creeds_meta_df = pd.DataFrame()"
   ]
  },
  {
   "cell_type": "code",
   "execution_count": 3,
   "metadata": {},
   "outputs": [
    {
     "data": {
      "text/html": [
       "<div>\n",
       "<style>\n",
       "    .dataframe thead tr:only-child th {\n",
       "        text-align: right;\n",
       "    }\n",
       "\n",
       "    .dataframe thead th {\n",
       "        text-align: left;\n",
       "    }\n",
       "\n",
       "    .dataframe tbody tr th {\n",
       "        vertical-align: top;\n",
       "    }\n",
       "</style>\n",
       "<table border=\"1\" class=\"dataframe\">\n",
       "  <thead>\n",
       "    <tr style=\"text-align: right;\">\n",
       "      <th></th>\n",
       "      <th>cell_type</th>\n",
       "      <th>ctrl_ids</th>\n",
       "      <th>curator</th>\n",
       "      <th>geo_id</th>\n",
       "      <th>hs_gene_symbol</th>\n",
       "      <th>mm_gene_symbol</th>\n",
       "      <th>organism</th>\n",
       "      <th>pert_ids</th>\n",
       "      <th>pert_type</th>\n",
       "      <th>platform</th>\n",
       "      <th>version</th>\n",
       "    </tr>\n",
       "    <tr>\n",
       "      <th>id</th>\n",
       "      <th></th>\n",
       "      <th></th>\n",
       "      <th></th>\n",
       "      <th></th>\n",
       "      <th></th>\n",
       "      <th></th>\n",
       "      <th></th>\n",
       "      <th></th>\n",
       "      <th></th>\n",
       "      <th></th>\n",
       "      <th></th>\n",
       "    </tr>\n",
       "  </thead>\n",
       "  <tbody>\n",
       "    <tr>\n",
       "      <th>gene:508</th>\n",
       "      <td>T reg</td>\n",
       "      <td>GSM998922|GSM998923</td>\n",
       "      <td>dsurujon</td>\n",
       "      <td>GSE40655</td>\n",
       "      <td>FOXO1</td>\n",
       "      <td>Foxo1</td>\n",
       "      <td>mouse</td>\n",
       "      <td>GSM998920|GSM998921</td>\n",
       "      <td>KO</td>\n",
       "      <td>GPL1261</td>\n",
       "      <td>1.0</td>\n",
       "    </tr>\n",
       "    <tr>\n",
       "      <th>gene:509</th>\n",
       "      <td>heart</td>\n",
       "      <td>GSM1080530|GSM1080531|GSM1080532|GSM1080533</td>\n",
       "      <td>dsurujon</td>\n",
       "      <td>GSE44192</td>\n",
       "      <td>PLIN5</td>\n",
       "      <td>Plin5</td>\n",
       "      <td>mouse</td>\n",
       "      <td>GSM1080534|GSM1080535|GSM1080536|GSM1080537</td>\n",
       "      <td>OE</td>\n",
       "      <td>GPL6246</td>\n",
       "      <td>1.0</td>\n",
       "    </tr>\n",
       "    <tr>\n",
       "      <th>gene:2349</th>\n",
       "      <td>Inducible stable HEK 293 Flp-In T-REx cells ov...</td>\n",
       "      <td>GSM997725|GSM997726|GSM997727</td>\n",
       "      <td>gszeto</td>\n",
       "      <td>GSE40601</td>\n",
       "      <td>ERO1L</td>\n",
       "      <td>Ero1l</td>\n",
       "      <td>human</td>\n",
       "      <td>GSM997728|GSM997729|GSM997730</td>\n",
       "      <td>overexpressing a hyperactive mutant</td>\n",
       "      <td>GPL6244</td>\n",
       "      <td>1.0</td>\n",
       "    </tr>\n",
       "    <tr>\n",
       "      <th>gene:2348</th>\n",
       "      <td>Inducible stable HEK 293 Flp-In T-REx Ero1alph...</td>\n",
       "      <td>GSM997719|GSM997720|GSM997721</td>\n",
       "      <td>gszeto</td>\n",
       "      <td>GSE40601</td>\n",
       "      <td>ERO1L</td>\n",
       "      <td>Ero1l</td>\n",
       "      <td>human</td>\n",
       "      <td>GSM997722|GSM997723|GSM997724</td>\n",
       "      <td>OE</td>\n",
       "      <td>GPL6244</td>\n",
       "      <td>1.0</td>\n",
       "    </tr>\n",
       "    <tr>\n",
       "      <th>gene:2343</th>\n",
       "      <td>OT-I T cells from spleen</td>\n",
       "      <td>GSM1290674|GSM1290675|GSM1290676</td>\n",
       "      <td>AliDot</td>\n",
       "      <td>GSE53388</td>\n",
       "      <td>PPP2R2D</td>\n",
       "      <td>Ppp2r2d</td>\n",
       "      <td>mouse</td>\n",
       "      <td>GSM1290677|GSM1290678|GSM1290679</td>\n",
       "      <td>KD</td>\n",
       "      <td>GPL1261</td>\n",
       "      <td>1.0</td>\n",
       "    </tr>\n",
       "  </tbody>\n",
       "</table>\n",
       "</div>"
      ],
      "text/plain": [
       "                                                   cell_type  \\\n",
       "id                                                             \n",
       "gene:508                                               T reg   \n",
       "gene:509                                               heart   \n",
       "gene:2349  Inducible stable HEK 293 Flp-In T-REx cells ov...   \n",
       "gene:2348  Inducible stable HEK 293 Flp-In T-REx Ero1alph...   \n",
       "gene:2343                           OT-I T cells from spleen   \n",
       "\n",
       "                                              ctrl_ids   curator    geo_id  \\\n",
       "id                                                                           \n",
       "gene:508                           GSM998922|GSM998923  dsurujon  GSE40655   \n",
       "gene:509   GSM1080530|GSM1080531|GSM1080532|GSM1080533  dsurujon  GSE44192   \n",
       "gene:2349                GSM997725|GSM997726|GSM997727    gszeto  GSE40601   \n",
       "gene:2348                GSM997719|GSM997720|GSM997721    gszeto  GSE40601   \n",
       "gene:2343             GSM1290674|GSM1290675|GSM1290676    AliDot  GSE53388   \n",
       "\n",
       "          hs_gene_symbol mm_gene_symbol organism  \\\n",
       "id                                                 \n",
       "gene:508           FOXO1          Foxo1    mouse   \n",
       "gene:509           PLIN5          Plin5    mouse   \n",
       "gene:2349          ERO1L          Ero1l    human   \n",
       "gene:2348          ERO1L          Ero1l    human   \n",
       "gene:2343        PPP2R2D        Ppp2r2d    mouse   \n",
       "\n",
       "                                              pert_ids  \\\n",
       "id                                                       \n",
       "gene:508                           GSM998920|GSM998921   \n",
       "gene:509   GSM1080534|GSM1080535|GSM1080536|GSM1080537   \n",
       "gene:2349                GSM997728|GSM997729|GSM997730   \n",
       "gene:2348                GSM997722|GSM997723|GSM997724   \n",
       "gene:2343             GSM1290677|GSM1290678|GSM1290679   \n",
       "\n",
       "                                     pert_type platform  version  \n",
       "id                                                                \n",
       "gene:508                                    KO  GPL1261      1.0  \n",
       "gene:509                                    OE  GPL6246      1.0  \n",
       "gene:2349  overexpressing a hyperactive mutant  GPL6244      1.0  \n",
       "gene:2348                                   OE  GPL6244      1.0  \n",
       "gene:2343                                   KD  GPL1261      1.0  "
      ]
     },
     "execution_count": 3,
     "metadata": {},
     "output_type": "execute_result"
    }
   ],
   "source": [
    "df1 = pd.read_csv('/Users/zichen/Downloads/single_gene_perturbations-v1.0.csv').set_index('id')\\\n",
    "    .drop('chdir_norm', axis=1)\n",
    "df1.head()"
   ]
  },
  {
   "cell_type": "code",
   "execution_count": 4,
   "metadata": {},
   "outputs": [
    {
     "name": "stdout",
     "output_type": "stream",
     "text": [
      "True\n"
     ]
    }
   ],
   "source": [
    "print df1.loc['gene:2583']['mm_gene_symbol'] is np.nan"
   ]
  },
  {
   "cell_type": "code",
   "execution_count": null,
   "metadata": {
    "collapsed": true
   },
   "outputs": [],
   "source": []
  },
  {
   "cell_type": "code",
   "execution_count": 5,
   "metadata": {},
   "outputs": [],
   "source": [
    "gene_names = []\n",
    "for i, row in df1.iterrows():\n",
    "    if row['organism'] == 'human':\n",
    "        gene_name = row['hs_gene_symbol']\n",
    "        if gene_name is np.nan:\n",
    "            gene_name = row['mm_gene_symbol']\n",
    "    else:\n",
    "        gene_name = row['mm_gene_symbol']\n",
    "        if gene_name is np.nan:\n",
    "            gene_name = row['hs_gene_symbol']\n",
    "\n",
    "    gene_names.append(gene_name)\n",
    "    \n"
   ]
  },
  {
   "cell_type": "code",
   "execution_count": 6,
   "metadata": {},
   "outputs": [
    {
     "name": "stdout",
     "output_type": "stream",
     "text": [
      "cell_type         2175\n",
      "ctrl_ids          2176\n",
      "curator           2154\n",
      "geo_id            2176\n",
      "hs_gene_symbol    2173\n",
      "mm_gene_symbol    2055\n",
      "organism          2176\n",
      "pert_ids          2176\n",
      "pert_type         2168\n",
      "platform          2176\n",
      "version           2176\n",
      "name              2176\n",
      "dtype: int64\n",
      "(2176, 12)\n"
     ]
    }
   ],
   "source": [
    "df1['name'] = gene_names\n",
    "print df1.count()\n",
    "print df1.shape"
   ]
  },
  {
   "cell_type": "code",
   "execution_count": 7,
   "metadata": {
    "collapsed": true
   },
   "outputs": [],
   "source": [
    "df1 = df1[['name',  'cell_type', 'organism', 'geo_id', 'pert_ids', 'ctrl_ids']]\n",
    "df1['type'] = 'gene'"
   ]
  },
  {
   "cell_type": "code",
   "execution_count": 8,
   "metadata": {},
   "outputs": [
    {
     "data": {
      "text/html": [
       "<div>\n",
       "<style>\n",
       "    .dataframe thead tr:only-child th {\n",
       "        text-align: right;\n",
       "    }\n",
       "\n",
       "    .dataframe thead th {\n",
       "        text-align: left;\n",
       "    }\n",
       "\n",
       "    .dataframe tbody tr th {\n",
       "        vertical-align: top;\n",
       "    }\n",
       "</style>\n",
       "<table border=\"1\" class=\"dataframe\">\n",
       "  <thead>\n",
       "    <tr style=\"text-align: right;\">\n",
       "      <th></th>\n",
       "      <th>cell_type</th>\n",
       "      <th>ctrl_ids</th>\n",
       "      <th>curator</th>\n",
       "      <th>drug_name</th>\n",
       "      <th>drugbank_id</th>\n",
       "      <th>geo_id</th>\n",
       "      <th>organism</th>\n",
       "      <th>pert_ids</th>\n",
       "      <th>platform</th>\n",
       "      <th>pubchem_cid</th>\n",
       "      <th>smiles</th>\n",
       "      <th>version</th>\n",
       "    </tr>\n",
       "    <tr>\n",
       "      <th>id</th>\n",
       "      <th></th>\n",
       "      <th></th>\n",
       "      <th></th>\n",
       "      <th></th>\n",
       "      <th></th>\n",
       "      <th></th>\n",
       "      <th></th>\n",
       "      <th></th>\n",
       "      <th></th>\n",
       "      <th></th>\n",
       "      <th></th>\n",
       "      <th></th>\n",
       "    </tr>\n",
       "  </thead>\n",
       "  <tbody>\n",
       "    <tr>\n",
       "      <th>drug:3639</th>\n",
       "      <td>Bone marrow Sca+ SP hematopoeitic stem cells (...</td>\n",
       "      <td>GSM26734|GSM26735</td>\n",
       "      <td>cadimo</td>\n",
       "      <td>Fluorouracil</td>\n",
       "      <td>DB00544</td>\n",
       "      <td>GSE1559</td>\n",
       "      <td>mouse</td>\n",
       "      <td>GSM26744|GSM26745</td>\n",
       "      <td>GPL81</td>\n",
       "      <td>3385.0</td>\n",
       "      <td>C1=C(C(=O)NC(=O)N1)F</td>\n",
       "      <td>1.0</td>\n",
       "    </tr>\n",
       "    <tr>\n",
       "      <th>drug:3499</th>\n",
       "      <td>vastus lateralis muscle</td>\n",
       "      <td>GSM801199|GSM801201|GSM801202|GSM801204|GSM801...</td>\n",
       "      <td>MicrotaskManic</td>\n",
       "      <td>Resveratrol</td>\n",
       "      <td>DB02709</td>\n",
       "      <td>GSE32357</td>\n",
       "      <td>human</td>\n",
       "      <td>GSM801198|GSM801200|GSM801203|GSM801205|GSM801...</td>\n",
       "      <td>GPL11532</td>\n",
       "      <td>NaN</td>\n",
       "      <td>Oc1ccc(cc1)/C=C/c1cc(O)cc(c1)O</td>\n",
       "      <td>1.0</td>\n",
       "    </tr>\n",
       "    <tr>\n",
       "      <th>drug:3292</th>\n",
       "      <td>lymphoblastoid cells</td>\n",
       "      <td>GSM162898|GSM162900|GSM162903</td>\n",
       "      <td>garibr01</td>\n",
       "      <td>Citalopram</td>\n",
       "      <td>DB00215</td>\n",
       "      <td>GSE7036</td>\n",
       "      <td>human</td>\n",
       "      <td>GSM162897|GSM162899|GSM162901</td>\n",
       "      <td>GPL570</td>\n",
       "      <td>2771.0</td>\n",
       "      <td>CN(C)CCCC1(C2=C(CO1)C=C(C=C2)C#N)C3=CC=C(C=C3)F</td>\n",
       "      <td>1.0</td>\n",
       "    </tr>\n",
       "    <tr>\n",
       "      <th>drug:3638</th>\n",
       "      <td>Bone marrow Sca+ SP hematopoeitic stem cells (...</td>\n",
       "      <td>GSM26734|GSM26735</td>\n",
       "      <td>cadimo</td>\n",
       "      <td>Fluorouracil</td>\n",
       "      <td>DB00544</td>\n",
       "      <td>GSE1559</td>\n",
       "      <td>mouse</td>\n",
       "      <td>GSM26742|GSM26743</td>\n",
       "      <td>GPL81</td>\n",
       "      <td>3385.0</td>\n",
       "      <td>C1=C(C(=O)NC(=O)N1)F</td>\n",
       "      <td>1.0</td>\n",
       "    </tr>\n",
       "    <tr>\n",
       "      <th>drug:3475</th>\n",
       "      <td>liver</td>\n",
       "      <td>GSM1273512|GSM1273513|GSM1273514|GSM1273515</td>\n",
       "      <td>MicrotaskManic</td>\n",
       "      <td>Ethanol</td>\n",
       "      <td>DB00898</td>\n",
       "      <td>GSE52644</td>\n",
       "      <td>mouse</td>\n",
       "      <td>GSM1273500|GSM1273501|GSM1273502|GSM1273503</td>\n",
       "      <td>GPL1261</td>\n",
       "      <td>702.0</td>\n",
       "      <td>CCO</td>\n",
       "      <td>1.0</td>\n",
       "    </tr>\n",
       "  </tbody>\n",
       "</table>\n",
       "</div>"
      ],
      "text/plain": [
       "                                                   cell_type  \\\n",
       "id                                                             \n",
       "drug:3639  Bone marrow Sca+ SP hematopoeitic stem cells (...   \n",
       "drug:3499                            vastus lateralis muscle   \n",
       "drug:3292                               lymphoblastoid cells   \n",
       "drug:3638  Bone marrow Sca+ SP hematopoeitic stem cells (...   \n",
       "drug:3475                                              liver   \n",
       "\n",
       "                                                    ctrl_ids         curator  \\\n",
       "id                                                                             \n",
       "drug:3639                                  GSM26734|GSM26735          cadimo   \n",
       "drug:3499  GSM801199|GSM801201|GSM801202|GSM801204|GSM801...  MicrotaskManic   \n",
       "drug:3292                      GSM162898|GSM162900|GSM162903        garibr01   \n",
       "drug:3638                                  GSM26734|GSM26735          cadimo   \n",
       "drug:3475        GSM1273512|GSM1273513|GSM1273514|GSM1273515  MicrotaskManic   \n",
       "\n",
       "              drug_name drugbank_id    geo_id organism  \\\n",
       "id                                                       \n",
       "drug:3639  Fluorouracil     DB00544   GSE1559    mouse   \n",
       "drug:3499   Resveratrol     DB02709  GSE32357    human   \n",
       "drug:3292    Citalopram     DB00215   GSE7036    human   \n",
       "drug:3638  Fluorouracil     DB00544   GSE1559    mouse   \n",
       "drug:3475       Ethanol     DB00898  GSE52644    mouse   \n",
       "\n",
       "                                                    pert_ids  platform  \\\n",
       "id                                                                       \n",
       "drug:3639                                  GSM26744|GSM26745     GPL81   \n",
       "drug:3499  GSM801198|GSM801200|GSM801203|GSM801205|GSM801...  GPL11532   \n",
       "drug:3292                      GSM162897|GSM162899|GSM162901    GPL570   \n",
       "drug:3638                                  GSM26742|GSM26743     GPL81   \n",
       "drug:3475        GSM1273500|GSM1273501|GSM1273502|GSM1273503   GPL1261   \n",
       "\n",
       "           pubchem_cid                                           smiles  \\\n",
       "id                                                                        \n",
       "drug:3639       3385.0                             C1=C(C(=O)NC(=O)N1)F   \n",
       "drug:3499          NaN                   Oc1ccc(cc1)/C=C/c1cc(O)cc(c1)O   \n",
       "drug:3292       2771.0  CN(C)CCCC1(C2=C(CO1)C=C(C=C2)C#N)C3=CC=C(C=C3)F   \n",
       "drug:3638       3385.0                             C1=C(C(=O)NC(=O)N1)F   \n",
       "drug:3475        702.0                                              CCO   \n",
       "\n",
       "           version  \n",
       "id                  \n",
       "drug:3639      1.0  \n",
       "drug:3499      1.0  \n",
       "drug:3292      1.0  \n",
       "drug:3638      1.0  \n",
       "drug:3475      1.0  "
      ]
     },
     "execution_count": 8,
     "metadata": {},
     "output_type": "execute_result"
    }
   ],
   "source": [
    "df2 = pd.read_csv('/Users/zichen/Downloads/single_drug_perturbations-v1.0.csv').set_index('id')\n",
    "df2.head()"
   ]
  },
  {
   "cell_type": "code",
   "execution_count": 9,
   "metadata": {
    "scrolled": true
   },
   "outputs": [
    {
     "name": "stdout",
     "output_type": "stream",
     "text": [
      "cell_type      814\n",
      "ctrl_ids       875\n",
      "curator        873\n",
      "name           875\n",
      "drugbank_id    480\n",
      "geo_id         875\n",
      "organism       875\n",
      "pert_ids       875\n",
      "platform       875\n",
      "pubchem_cid    746\n",
      "smiles         824\n",
      "version        875\n",
      "dtype: int64\n",
      "(875, 12)\n"
     ]
    }
   ],
   "source": [
    "df2 = df2.rename(index=str, columns={'drug_name': 'name'})\n",
    "print df2.count()\n",
    "print df2.shape"
   ]
  },
  {
   "cell_type": "code",
   "execution_count": 10,
   "metadata": {
    "collapsed": true
   },
   "outputs": [],
   "source": [
    "df2 = df2[['name',  'cell_type', 'organism', 'geo_id', 'pert_ids', 'ctrl_ids']]\n",
    "df2['type'] = 'drug'"
   ]
  },
  {
   "cell_type": "code",
   "execution_count": 11,
   "metadata": {},
   "outputs": [
    {
     "data": {
      "text/html": [
       "<div>\n",
       "<style>\n",
       "    .dataframe thead tr:only-child th {\n",
       "        text-align: right;\n",
       "    }\n",
       "\n",
       "    .dataframe thead th {\n",
       "        text-align: left;\n",
       "    }\n",
       "\n",
       "    .dataframe tbody tr th {\n",
       "        vertical-align: top;\n",
       "    }\n",
       "</style>\n",
       "<table border=\"1\" class=\"dataframe\">\n",
       "  <thead>\n",
       "    <tr style=\"text-align: right;\">\n",
       "      <th></th>\n",
       "      <th>cell_type</th>\n",
       "      <th>ctrl_ids</th>\n",
       "      <th>curator</th>\n",
       "      <th>disease_name</th>\n",
       "      <th>do_id</th>\n",
       "      <th>geo_id</th>\n",
       "      <th>organism</th>\n",
       "      <th>pert_ids</th>\n",
       "      <th>platform</th>\n",
       "      <th>umls_cui</th>\n",
       "      <th>version</th>\n",
       "    </tr>\n",
       "    <tr>\n",
       "      <th>id</th>\n",
       "      <th></th>\n",
       "      <th></th>\n",
       "      <th></th>\n",
       "      <th></th>\n",
       "      <th></th>\n",
       "      <th></th>\n",
       "      <th></th>\n",
       "      <th></th>\n",
       "      <th></th>\n",
       "      <th></th>\n",
       "      <th></th>\n",
       "    </tr>\n",
       "  </thead>\n",
       "  <tbody>\n",
       "    <tr>\n",
       "      <th>dz:328</th>\n",
       "      <td>Muscle - Striated (Skeletal) (MMHCC)</td>\n",
       "      <td>GSM4372|GSM4373|GSM4374|GSM4375|GSM4376</td>\n",
       "      <td>Joel.Dudley</td>\n",
       "      <td>Duchenne muscular dystrophy</td>\n",
       "      <td>DOID:11723</td>\n",
       "      <td>GSE466</td>\n",
       "      <td>mouse</td>\n",
       "      <td>GSM4377|GSM4378|GSM4379|GSM4380|GSM4381</td>\n",
       "      <td>GPL81</td>\n",
       "      <td>C0013264</td>\n",
       "      <td>1.0</td>\n",
       "    </tr>\n",
       "    <tr>\n",
       "      <th>dz:325</th>\n",
       "      <td>Ganglioneuroblastoma</td>\n",
       "      <td>GSM282582|GSM282583|GSM282587|GSM282588|GSM282589</td>\n",
       "      <td>Joel.Dudley</td>\n",
       "      <td>Nicotine addiction</td>\n",
       "      <td>NaN</td>\n",
       "      <td>GSE11208</td>\n",
       "      <td>human</td>\n",
       "      <td>GSM282584|GSM282585|GSM282586|GSM282590|GSM282...</td>\n",
       "      <td>GPL570</td>\n",
       "      <td>C0028043</td>\n",
       "      <td>1.0</td>\n",
       "    </tr>\n",
       "    <tr>\n",
       "      <th>dz:324</th>\n",
       "      <td>Nose</td>\n",
       "      <td>GSM286649|GSM286650|GSM286651|GSM286655|GSM286...</td>\n",
       "      <td>Joel.Dudley</td>\n",
       "      <td>Rhinovirus infection</td>\n",
       "      <td>NaN</td>\n",
       "      <td>GSE11348</td>\n",
       "      <td>human</td>\n",
       "      <td>GSM286646|GSM286647|GSM286648|GSM286652|GSM286...</td>\n",
       "      <td>GPL570</td>\n",
       "      <td>C0276447</td>\n",
       "      <td>1.0</td>\n",
       "    </tr>\n",
       "    <tr>\n",
       "      <th>dz:323</th>\n",
       "      <td>Myocardial tissue</td>\n",
       "      <td>GSM82393|GSM82394|GSM82395|GSM82396|GSM82397|G...</td>\n",
       "      <td>Joel.Dudley</td>\n",
       "      <td>dilated cardiomyopathy</td>\n",
       "      <td>DOID:12930</td>\n",
       "      <td>GSE3586</td>\n",
       "      <td>human</td>\n",
       "      <td>GSM82408|GSM82409|GSM82410|GSM82411|GSM82412|G...</td>\n",
       "      <td>GPL3050</td>\n",
       "      <td>C0007193</td>\n",
       "      <td>1.0</td>\n",
       "    </tr>\n",
       "    <tr>\n",
       "      <th>dz:322</th>\n",
       "      <td>Peripheral blood mononuclear cell</td>\n",
       "      <td>GSM66671|GSM66672|GSM66673|GSM66674|GSM66675|G...</td>\n",
       "      <td>Joel.Dudley</td>\n",
       "      <td>bacterial infectious disease</td>\n",
       "      <td>DOID:104</td>\n",
       "      <td>GSE3026</td>\n",
       "      <td>human</td>\n",
       "      <td>GSM66617|GSM66618|GSM66619|GSM66620|GSM66621|G...</td>\n",
       "      <td>GPL8300</td>\n",
       "      <td>C0004623</td>\n",
       "      <td>1.0</td>\n",
       "    </tr>\n",
       "  </tbody>\n",
       "</table>\n",
       "</div>"
      ],
      "text/plain": [
       "                                   cell_type  \\\n",
       "id                                             \n",
       "dz:328  Muscle - Striated (Skeletal) (MMHCC)   \n",
       "dz:325                  Ganglioneuroblastoma   \n",
       "dz:324                                  Nose   \n",
       "dz:323                     Myocardial tissue   \n",
       "dz:322     Peripheral blood mononuclear cell   \n",
       "\n",
       "                                                 ctrl_ids      curator  \\\n",
       "id                                                                       \n",
       "dz:328            GSM4372|GSM4373|GSM4374|GSM4375|GSM4376  Joel.Dudley   \n",
       "dz:325  GSM282582|GSM282583|GSM282587|GSM282588|GSM282589  Joel.Dudley   \n",
       "dz:324  GSM286649|GSM286650|GSM286651|GSM286655|GSM286...  Joel.Dudley   \n",
       "dz:323  GSM82393|GSM82394|GSM82395|GSM82396|GSM82397|G...  Joel.Dudley   \n",
       "dz:322  GSM66671|GSM66672|GSM66673|GSM66674|GSM66675|G...  Joel.Dudley   \n",
       "\n",
       "                        disease_name       do_id    geo_id organism  \\\n",
       "id                                                                    \n",
       "dz:328   Duchenne muscular dystrophy  DOID:11723    GSE466    mouse   \n",
       "dz:325            Nicotine addiction         NaN  GSE11208    human   \n",
       "dz:324          Rhinovirus infection         NaN  GSE11348    human   \n",
       "dz:323        dilated cardiomyopathy  DOID:12930   GSE3586    human   \n",
       "dz:322  bacterial infectious disease    DOID:104   GSE3026    human   \n",
       "\n",
       "                                                 pert_ids platform  umls_cui  \\\n",
       "id                                                                             \n",
       "dz:328            GSM4377|GSM4378|GSM4379|GSM4380|GSM4381    GPL81  C0013264   \n",
       "dz:325  GSM282584|GSM282585|GSM282586|GSM282590|GSM282...   GPL570  C0028043   \n",
       "dz:324  GSM286646|GSM286647|GSM286648|GSM286652|GSM286...   GPL570  C0276447   \n",
       "dz:323  GSM82408|GSM82409|GSM82410|GSM82411|GSM82412|G...  GPL3050  C0007193   \n",
       "dz:322  GSM66617|GSM66618|GSM66619|GSM66620|GSM66621|G...  GPL8300  C0004623   \n",
       "\n",
       "        version  \n",
       "id               \n",
       "dz:328      1.0  \n",
       "dz:325      1.0  \n",
       "dz:324      1.0  \n",
       "dz:323      1.0  \n",
       "dz:322      1.0  "
      ]
     },
     "execution_count": 11,
     "metadata": {},
     "output_type": "execute_result"
    }
   ],
   "source": [
    "df3 = pd.read_csv('/Users/zichen/Downloads/disease_signatures-v1.0.csv').set_index('id')\n",
    "df3.head()"
   ]
  },
  {
   "cell_type": "code",
   "execution_count": 12,
   "metadata": {},
   "outputs": [
    {
     "name": "stdout",
     "output_type": "stream",
     "text": [
      "cell_type    828\n",
      "ctrl_ids     828\n",
      "curator      826\n",
      "name         828\n",
      "do_id        695\n",
      "geo_id       828\n",
      "organism     828\n",
      "pert_ids     828\n",
      "platform     828\n",
      "umls_cui     773\n",
      "version      828\n",
      "dtype: int64\n",
      "(828, 11)\n"
     ]
    }
   ],
   "source": [
    "df3 = df3.rename(index=str, columns={'disease_name': 'name'})\n",
    "print df3.count()\n",
    "print df3.shape"
   ]
  },
  {
   "cell_type": "code",
   "execution_count": 13,
   "metadata": {
    "collapsed": true
   },
   "outputs": [],
   "source": [
    "df3 = df3[['name',  'cell_type', 'organism', 'geo_id', 'pert_ids', 'ctrl_ids']]\n",
    "df3['type'] = 'disease'\n"
   ]
  },
  {
   "cell_type": "code",
   "execution_count": 14,
   "metadata": {},
   "outputs": [
    {
     "name": "stdout",
     "output_type": "stream",
     "text": [
      "(2176, 7) (875, 7) (828, 7)\n"
     ]
    }
   ],
   "source": [
    "print df1.shape, df2.shape, df3.shape"
   ]
  },
  {
   "cell_type": "code",
   "execution_count": 15,
   "metadata": {},
   "outputs": [
    {
     "name": "stdout",
     "output_type": "stream",
     "text": [
      "(3879, 7)\n"
     ]
    }
   ],
   "source": [
    "creeds_meta_df = df1.append(df2).append(df3)\n",
    "print creeds_meta_df.shape"
   ]
  },
  {
   "cell_type": "code",
   "execution_count": 16,
   "metadata": {},
   "outputs": [
    {
     "data": {
      "text/plain": [
       "name         3879\n",
       "cell_type    3817\n",
       "organism     3879\n",
       "geo_id       3879\n",
       "pert_ids     3879\n",
       "ctrl_ids     3879\n",
       "type         3879\n",
       "dtype: int64"
      ]
     },
     "execution_count": 16,
     "metadata": {},
     "output_type": "execute_result"
    }
   ],
   "source": [
    "creeds_meta_df.count()"
   ]
  },
  {
   "cell_type": "code",
   "execution_count": 17,
   "metadata": {
    "collapsed": true
   },
   "outputs": [],
   "source": [
    "creeds_meta_df.to_csv('../data/CREEDS_meta.csv')"
   ]
  },
  {
   "cell_type": "code",
   "execution_count": 20,
   "metadata": {
    "collapsed": true
   },
   "outputs": [],
   "source": [
    "import re"
   ]
  },
  {
   "cell_type": "code",
   "execution_count": 37,
   "metadata": {},
   "outputs": [
    {
     "data": {
      "text/plain": [
       "45"
      ]
     },
     "execution_count": 37,
     "metadata": {},
     "output_type": "execute_result"
    }
   ],
   "source": [
    "# regex = re.compile('')\n",
    "creeds_meta_df.name.str.contains(r'rp', flags=re.IGNORECASE).sum()"
   ]
  }
 ],
 "metadata": {
  "kernelspec": {
   "display_name": "Python 2",
   "language": "python",
   "name": "python2"
  },
  "language_info": {
   "codemirror_mode": {
    "name": "ipython",
    "version": 2
   },
   "file_extension": ".py",
   "mimetype": "text/x-python",
   "name": "python",
   "nbconvert_exporter": "python",
   "pygments_lexer": "ipython2",
   "version": "2.7.11"
  }
 },
 "nbformat": 4,
 "nbformat_minor": 2
}
