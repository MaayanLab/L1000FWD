{
 "cells": [
  {
   "cell_type": "markdown",
   "metadata": {},
   "source": [
    "# Make signature sub-networks using the `CD_center_LM` signatures "
   ]
  },
  {
   "cell_type": "code",
   "execution_count": 1,
   "metadata": {},
   "outputs": [
    {
     "name": "stderr",
     "output_type": "stream",
     "text": [
      "/usr/local/lib/python2.7/site-packages/matplotlib/__init__.py:913: UserWarning: axes.color_cycle is deprecated and replaced with axes.prop_cycle; please use the latter.\n",
      "  warnings.warn(self.msg_depr % (key, alt_key))\n"
     ]
    }
   ],
   "source": [
    "import os, sys, json\n",
    "from collections import Counter\n",
    "import numpy as np\n",
    "import pandas as pd\n",
    "import networkx as nx\n",
    "from sklearn.metrics.pairwise import pairwise_distances\n",
    "from scipy.spatial import distance as dist\n",
    "from sklearn import neighbors\n",
    "from pymongo import MongoClient\n",
    "\n",
    "import matplotlib.pyplot as plt\n",
    "%matplotlib inline\n",
    "import seaborn as sns"
   ]
  },
  {
   "cell_type": "code",
   "execution_count": 2,
   "metadata": {},
   "outputs": [
    {
     "data": {
      "application/javascript": [
       "if (window['cytoscape'] === undefined) {\n",
       "    var paths = {\n",
       "        cytoscape: 'http://cytoscape.github.io/cytoscape.js/api/cytoscape.js-latest/cytoscape.min'\n",
       "    };\n",
       "\n",
       "    require.config({\n",
       "        paths: paths\n",
       "    });\n",
       "\n",
       "    require(['cytoscape'], function (cytoscape) {\n",
       "        console.log('Loading Cytoscape.js Module...');\n",
       "        window['cytoscape'] = cytoscape;\n",
       "\n",
       "        var event = document.createEvent(\"HTMLEvents\");\n",
       "        event.initEvent(\"load_cytoscape\", true, false);\n",
       "        window.dispatchEvent(event);\n",
       "    });\n",
       "}"
      ],
      "text/plain": [
       "<IPython.core.display.Javascript object>"
      ]
     },
     "metadata": {},
     "output_type": "display_data"
    }
   ],
   "source": [
    "from graph_utils import *"
   ]
  },
  {
   "cell_type": "code",
   "execution_count": 3,
   "metadata": {},
   "outputs": [
    {
     "name": "stdout",
     "output_type": "stream",
     "text": [
      "(48098, 5)\n"
     ]
    },
    {
     "data": {
      "text/html": [
       "<div>\n",
       "<style>\n",
       "    .dataframe thead tr:only-child th {\n",
       "        text-align: right;\n",
       "    }\n",
       "\n",
       "    .dataframe thead th {\n",
       "        text-align: left;\n",
       "    }\n",
       "\n",
       "    .dataframe tbody tr th {\n",
       "        vertical-align: top;\n",
       "    }\n",
       "</style>\n",
       "<table border=\"1\" class=\"dataframe\">\n",
       "  <thead>\n",
       "    <tr style=\"text-align: right;\">\n",
       "      <th></th>\n",
       "      <th>pvalue</th>\n",
       "      <th>cell_id</th>\n",
       "      <th>pert_dose</th>\n",
       "      <th>pert_id</th>\n",
       "      <th>pert_time</th>\n",
       "    </tr>\n",
       "    <tr>\n",
       "      <th>sig_id</th>\n",
       "      <th></th>\n",
       "      <th></th>\n",
       "      <th></th>\n",
       "      <th></th>\n",
       "      <th></th>\n",
       "    </tr>\n",
       "  </thead>\n",
       "  <tbody>\n",
       "    <tr>\n",
       "      <th>LJP001_HS578T_24H:BRD-K52911425-001-04-9:2</th>\n",
       "      <td>0.0028</td>\n",
       "      <td>HS578T</td>\n",
       "      <td>2.0</td>\n",
       "      <td>BRD-K52911425</td>\n",
       "      <td>24.0</td>\n",
       "    </tr>\n",
       "    <tr>\n",
       "      <th>LJP001_HS578T_24H:BRD-K69932463-001-05-6:10</th>\n",
       "      <td>0.0483</td>\n",
       "      <td>HS578T</td>\n",
       "      <td>10.0</td>\n",
       "      <td>BRD-K69932463</td>\n",
       "      <td>24.0</td>\n",
       "    </tr>\n",
       "    <tr>\n",
       "      <th>LJP001_HS578T_24H:BRD-K85606544-001-04-2:10</th>\n",
       "      <td>0.0007</td>\n",
       "      <td>HS578T</td>\n",
       "      <td>10.0</td>\n",
       "      <td>BRD-K85606544</td>\n",
       "      <td>24.0</td>\n",
       "    </tr>\n",
       "    <tr>\n",
       "      <th>LJP001_HS578T_24H:BRD-K72636697-001-01-5:10</th>\n",
       "      <td>0.0000</td>\n",
       "      <td>HS578T</td>\n",
       "      <td>10.0</td>\n",
       "      <td>BRD-K72636697</td>\n",
       "      <td>24.0</td>\n",
       "    </tr>\n",
       "    <tr>\n",
       "      <th>LJP001_HS578T_24H:BRD-K13390322-001-02-2:0.4</th>\n",
       "      <td>0.0000</td>\n",
       "      <td>HS578T</td>\n",
       "      <td>0.4</td>\n",
       "      <td>BRD-K13390322</td>\n",
       "      <td>24.0</td>\n",
       "    </tr>\n",
       "  </tbody>\n",
       "</table>\n",
       "</div>"
      ],
      "text/plain": [
       "                                              pvalue cell_id  pert_dose  \\\n",
       "sig_id                                                                    \n",
       "LJP001_HS578T_24H:BRD-K52911425-001-04-9:2    0.0028  HS578T        2.0   \n",
       "LJP001_HS578T_24H:BRD-K69932463-001-05-6:10   0.0483  HS578T       10.0   \n",
       "LJP001_HS578T_24H:BRD-K85606544-001-04-2:10   0.0007  HS578T       10.0   \n",
       "LJP001_HS578T_24H:BRD-K72636697-001-01-5:10   0.0000  HS578T       10.0   \n",
       "LJP001_HS578T_24H:BRD-K13390322-001-02-2:0.4  0.0000  HS578T        0.4   \n",
       "\n",
       "                                                    pert_id  pert_time  \n",
       "sig_id                                                                  \n",
       "LJP001_HS578T_24H:BRD-K52911425-001-04-9:2    BRD-K52911425       24.0  \n",
       "LJP001_HS578T_24H:BRD-K69932463-001-05-6:10   BRD-K69932463       24.0  \n",
       "LJP001_HS578T_24H:BRD-K85606544-001-04-2:10   BRD-K85606544       24.0  \n",
       "LJP001_HS578T_24H:BRD-K72636697-001-01-5:10   BRD-K72636697       24.0  \n",
       "LJP001_HS578T_24H:BRD-K13390322-001-02-2:0.4  BRD-K13390322       24.0  "
      ]
     },
     "execution_count": 3,
     "metadata": {},
     "output_type": "execute_result"
    }
   ],
   "source": [
    "## Load signature metadata mongodb\n",
    "client = MongoClient('mongodb://146.203.54.131:27017/')\n",
    "coll = client['L1000FWD']['sigs']\n",
    "cur = coll.find({'SCS_centered_by_batch': {'$lt': 0.05}},  \n",
    "                {'_id':False, \n",
    "                 'sig_id':True, \n",
    "                 'SCS_centered_by_batch':True,\n",
    "                 'pert_id':True,\n",
    "                 'cell_id':True,\n",
    "                 'pert_dose':True,\n",
    "                 'pert_time':True,\n",
    "                })\n",
    "\n",
    "sig_meta_df = pd.DataFrame([doc for doc in cur]).set_index('sig_id')\n",
    "sig_meta_df.rename(index=str,columns={'SCS_centered_by_batch':'pvalue'}, inplace=True)\n",
    "print sig_meta_df.shape\n",
    "sig_meta_df.head()"
   ]
  },
  {
   "cell_type": "code",
   "execution_count": 4,
   "metadata": {},
   "outputs": [
    {
     "data": {
      "image/png": "[encoded data removed]",
      "text/plain": [
       "<matplotlib.figure.Figure at 0x1151c2d50>"
      ]
     },
     "metadata": {},
     "output_type": "display_data"
    }
   ],
   "source": [
    "plt.hist(sig_meta_df['pvalue']);"
   ]
  },
  {
   "cell_type": "code",
   "execution_count": 5,
   "metadata": {
    "collapsed": true
   },
   "outputs": [],
   "source": [
    "def retrieve_sig_mat(sig_ids, coll, key):\n",
    "    '''Retrieve signatures matrix from MongoDB'''\n",
    "    # Retrieve signature matrix\n",
    "    sig_mat = np.zeros((len(sig_ids), 978))\n",
    "    for i, sig_id in enumerate(sig_ids): \n",
    "        doc = coll.find_one({'sig_id': sig_id}, {'_id':False, key:True})\n",
    "        sig_mat[i] = doc[key]\n",
    "        if i % 5000 == 0:\n",
    "            print i, len(sig_ids)\n",
    "    return sig_mat"
   ]
  },
  {
   "cell_type": "code",
   "execution_count": 6,
   "metadata": {},
   "outputs": [
    {
     "name": "stdout",
     "output_type": "stream",
     "text": [
      "0 48098\n",
      "5000 48098\n",
      "10000 48098\n",
      "15000 48098\n",
      "20000 48098\n",
      "25000 48098\n",
      "30000 48098\n",
      "35000 48098\n",
      "40000 48098\n",
      "45000 48098\n",
      "(48098, 978)\n"
     ]
    }
   ],
   "source": [
    "## Extract signature matrix\n",
    "mat = retrieve_sig_mat(sig_meta_df.index, coll, 'CD_center_LM')\n",
    "print mat.shape"
   ]
  },
  {
   "cell_type": "code",
   "execution_count": 23,
   "metadata": {
    "scrolled": true
   },
   "outputs": [
    {
     "name": "stdout",
     "output_type": "stream",
     "text": [
      "(16848, 4)\n",
      "Unique pert_ids: 3237\n",
      "Unique cell lines: 68\n"
     ]
    }
   ],
   "source": [
    "# # Report G_new stats\n",
    "# sig_meta_df_sub = sig_meta_df.loc[list(G_new.nodes())]\n",
    "# print sig_meta_df_sub.shape\n",
    "# print 'Unique pert_ids:', sig_meta_df_sub['pert_id'].nunique()\n",
    "# print 'Unique cell lines:', sig_meta_df_sub['cell_id'].nunique()"
   ]
  },
  {
   "cell_type": "code",
   "execution_count": 24,
   "metadata": {
    "collapsed": true
   },
   "outputs": [],
   "source": [
    "# nx.write_gml(G_new, 'Signature_Graph_CD_center_LM_sig-only_%dnodes.gml' % G_new.number_of_nodes())"
   ]
  },
  {
   "cell_type": "markdown",
   "metadata": {},
   "source": [
    "# Create network of signatures for each cell types"
   ]
  },
  {
   "cell_type": "code",
   "execution_count": 7,
   "metadata": {
    "scrolled": true
   },
   "outputs": [
    {
     "data": {
      "text/plain": [
       "cell_id\n",
       "MCF7        6965\n",
       "VCAP        5856\n",
       "PC3         5638\n",
       "A549        4115\n",
       "A375        3086\n",
       "HA1E        3005\n",
       "HT29        2717\n",
       "HCC515      2504\n",
       "HEPG2       1861\n",
       "NPC          973\n",
       "SKB          868\n",
       "ASC          777\n",
       "BT20         571\n",
       "MDAMB231     545\n",
       "SKBR3        541\n",
       "PHH          505\n",
       "MCF10A       471\n",
       "HS578T       454\n",
       "NEU          378\n",
       "THP1         229\n",
       "Name: sig_id, dtype: int64"
      ]
     },
     "execution_count": 7,
     "metadata": {},
     "output_type": "execute_result"
    }
   ],
   "source": [
    "sig_counts_for_cells = sig_meta_df.reset_index().groupby('cell_id')['sig_id'].count().sort_values(ascending=False)\n",
    "sig_counts_for_cells[:20]\n"
   ]
  },
  {
   "cell_type": "code",
   "execution_count": 8,
   "metadata": {
    "collapsed": true
   },
   "outputs": [],
   "source": [
    "!mkdir -p graphs_for_cells"
   ]
  },
  {
   "cell_type": "code",
   "execution_count": 11,
   "metadata": {},
   "outputs": [
    {
     "data": {
      "text/plain": [
       "u'name_1'"
      ]
     },
     "execution_count": 11,
     "metadata": {},
     "output_type": "execute_result"
    }
   ],
   "source": [
    "# Collection to store graph visualizations\n",
    "coll_graphs = client['L1000FWD']['graphs']\n",
    "coll_graphs.drop()\n",
    "coll_graphs.create_index('name', unique=True)"
   ]
  },
  {
   "cell_type": "code",
   "execution_count": 12,
   "metadata": {
    "scrolled": true
   },
   "outputs": [
    {
     "name": "stdout",
     "output_type": "stream",
     "text": [
      "(6965, 978)\n",
      "6965 29422\n",
      "(5856, 978)\n",
      "5856 24419\n",
      "(5638, 978)\n",
      "5638 23469\n",
      "(4115, 978)\n",
      "4115 16933\n",
      "(3086, 978)\n",
      "3086 12627\n",
      "(3005, 978)\n",
      "3005 12179\n",
      "(2717, 978)\n",
      "2717 11170\n",
      "(2504, 978)\n",
      "2504 10201\n",
      "(1861, 978)\n",
      "1861 7407\n",
      "(973, 978)\n",
      "973 3804\n",
      "(868, 978)\n",
      "868 3376\n",
      "(777, 978)\n",
      "777 2993\n",
      "(571, 978)\n",
      "571 2068\n",
      "(545, 978)\n",
      "545 2047\n",
      "(541, 978)\n",
      "541 1954\n",
      "(505, 978)\n",
      "505 1898\n",
      "(471, 978)\n",
      "471 1728\n",
      "(454, 978)\n",
      "454 1666\n",
      "(378, 978)\n",
      "378 1426\n",
      "(229, 978)\n",
      "229 764\n"
     ]
    }
   ],
   "source": [
    "for cell in sig_counts_for_cells[:20].index:\n",
    "    mask_cell = np.in1d(sig_meta_df['cell_id'], [cell])\n",
    "    mat_cell = mat[mask_cell,]\n",
    "    sig_meta_df_sub = sig_meta_df.loc[mask_cell]\n",
    "    print mat_cell.shape\n",
    "    \n",
    "    # Firework pipeline\n",
    "#     adj_mat = compute_adjcency_mat(mat_cell)\n",
    "#     G = create_graph_by_threshold(adj_mat, 99.9)\n",
    "#     G = filter_out_small_ccs(G, cutoff=5)\n",
    "#     print G.number_of_nodes(), G.number_of_edges()\n",
    "    # kNN\n",
    "    G = create_knn_graph(mat_cell, k=5, metric='cosine')\n",
    "    print G.number_of_nodes(), G.number_of_edges()\n",
    "    \n",
    "    coords, node_ids = network_layout(G)\n",
    "\n",
    "    layout_doc = {\n",
    "        'sig_ids': [sig_meta_df_sub.index[i] for i in node_ids],\n",
    "        'x': coords[:, 0].tolist(),\n",
    "        'y': coords[:, 1].tolist(),\n",
    "        'name': '%s_kNN_5' % cell,\n",
    "        'coll': 'sigs',\n",
    "    }\n",
    "    \n",
    "    coll_graphs.insert_one(layout_doc)\n",
    "    \n",
    "    ## tSNE\n",
    "#     dist_mat = pairwise_distances(mat_cell, metric='cosine')\n",
    "#     print dist_mat.shape\n",
    "#     tsne = manifold.TSNE(metric='precomputed', verbose=10)\n",
    "#     coords = tsne.fit_transform(dist_mat)\n",
    "    \n",
    "#     print coords.shape\n",
    "\n",
    "#     sig_ids = sig_meta_df_sub.index\n",
    "    \n",
    "#     # create a data frame for the graph\n",
    "#     G_df = pd.DataFrame({'sig_id': sig_ids, 'x': coords[:,0], 'y': coords[:,1]}).set_index('sig_id')\n",
    "    \n",
    "#     G_df.to_csv('graphs_for_cells/%s-tSNE_layout.csv' % cell)\n"
   ]
  },
  {
   "cell_type": "code",
   "execution_count": 11,
   "metadata": {
    "collapsed": true
   },
   "outputs": [],
   "source": []
  },
  {
   "cell_type": "code",
   "execution_count": 18,
   "metadata": {
    "collapsed": true
   },
   "outputs": [],
   "source": [
    "cy = CyRestClient(ip=IP, port=PORT)\n",
    "# Reset session\n",
    "cy.session.delete()\n",
    "# POST the graph to CyREST\n",
    "G_cy = cy.network.create_from_networkx(G)\n",
    "\n",
    "# Change the layout params\n",
    "layout_parameters = [\n",
    "    {\"name\": \"numIterations\", \"value\": 100}, \n",
    "    {\"name\":\"numIterationsEdgeRepulsive\", \"value\":10}\n",
    "]\n",
    "resp = requests.put(BASE_URL+ '/apply/layouts/force-directed-cl/parameters', \n",
    "             data=json.dumps(layout_parameters),\n",
    "             headers=HEADERS)\n",
    "cy.layout.apply(name='force-directed-cl', network=G_cy)\n",
    "\n"
   ]
  },
  {
   "cell_type": "code",
   "execution_count": 19,
   "metadata": {
    "collapsed": true
   },
   "outputs": [],
   "source": [
    "layout_parameters = [\n",
    "    {\"name\": \"maxIterations\", \"value\": 2000}, \n",
    "    {\"name\":\"randomize\", \"value\":True},\n",
    "]\n",
    "resp = requests.put(BASE_URL+ '/apply/layouts/allegro-edge-repulsive-strong-clustering/parameters', \n",
    "             data=json.dumps(layout_parameters),\n",
    "             headers=HEADERS)\n",
    "cy.layout.apply(name='allegro-edge-repulsive-strong-clustering', network=G_cy)\n",
    "import time\n",
    "# time.sleep(5)\n",
    "# Get current view\n",
    "view = G_cy.get_first_view()\n"
   ]
  },
  {
   "cell_type": "code",
   "execution_count": 13,
   "metadata": {},
   "outputs": [
    {
     "name": "stdout",
     "output_type": "stream",
     "text": [
      "http://127.0.0.1:1234/v1/apply/layouts/allegro-edge-repulsive-strong-clustering/parameters\n"
     ]
    }
   ],
   "source": [
    "print BASE_URL+ '/apply/layouts/allegro-edge-repulsive-strong-clustering/parameters'"
   ]
  },
  {
   "cell_type": "code",
   "execution_count": 10,
   "metadata": {
    "collapsed": true
   },
   "outputs": [],
   "source": [
    "cy = CyRestClient(ip=IP, port=PORT)\n",
    "# Reset session\n",
    "cy.session.delete()\n",
    "# POST the graph to CyREST\n",
    "G_cy = cy.network.create_from_networkx(G)\n",
    "\n",
    "# Change the layout params\n",
    "layout_parameters = [\n",
    "    {\"name\": \"numIterations\", \"value\": 10}, \n",
    "    {\"name\":\"numIterationsEdgeRepulsive\", \"value\":10}\n",
    "]\n",
    "resp = requests.put(BASE_URL+ '/apply/layouts/force-directed-cl/parameters', \n",
    "             data=json.dumps(layout_parameters),\n",
    "             headers=HEADERS)\n",
    "cy.layout.apply(name='force-directed-cl', network=G_cy)\n",
    "\n",
    "\n",
    "layout_parameters = [\n",
    "    {\"name\": \"maxIterations\", \"value\": 10000}, \n",
    "    {\"name\":\"randomize\", \"value\":True},\n",
    "]\n",
    "resp = requests.put(BASE_URL+ '/apply/layouts/allegro-edge-repulsive-strong-clustering/parameters', \n",
    "             data=json.dumps(layout_parameters),\n",
    "             headers=HEADERS)\n",
    "cy.layout.apply(name='allegro-edge-repulsive-strong-clustering', network=G_cy)\n",
    "# Get current view\n",
    "view = G_cy.get_first_view()\n",
    "nodes = view['elements']['nodes']\n",
    "# Get a coord matrix ordered by id_original\n",
    "ids_original = np.array([n['data']['id_original'] for n in nodes]).astype(np.int32)\n",
    "xs = [n['position']['x'] for n in nodes]\n",
    "ys = [n['position']['y'] for n in nodes]\n",
    "coords = np.array([xs, ys]).T\n"
   ]
  },
  {
   "cell_type": "code",
   "execution_count": 16,
   "metadata": {},
   "outputs": [
    {
     "data": {
      "text/plain": [
       "<matplotlib.collections.PathCollection at 0x116bab610>"
      ]
     },
     "execution_count": 16,
     "metadata": {},
     "output_type": "execute_result"
    },
    {
     "data": {
      "image/png": "[encoded data removed]",
      "text/plain": [
       "<matplotlib.figure.Figure at 0x117956210>"
      ]
     },
     "metadata": {},
     "output_type": "display_data"
    }
   ],
   "source": [
    "plt.scatter(coords[:, 0], coords[:, 1])"
   ]
  },
  {
   "cell_type": "code",
   "execution_count": 29,
   "metadata": {},
   "outputs": [
    {
     "data": {
      "text/plain": [
       "<matplotlib.collections.PathCollection at 0x131509a50>"
      ]
     },
     "execution_count": 29,
     "metadata": {},
     "output_type": "execute_result"
    },
    {
     "data": {
      "image/png": "[encoded data removed]",
      "text/plain": [
       "<matplotlib.figure.Figure at 0x1332fccd0>"
      ]
     },
     "metadata": {},
     "output_type": "display_data"
    }
   ],
   "source": [
    "plt.scatter(coords[:, 0], coords[:, 1], s=5, alpha=0.5)"
   ]
  },
  {
   "cell_type": "markdown",
   "metadata": {},
   "source": [
    "# Aggregated signatures\n",
    "\n",
    "## pert_id x cell\n",
    "## pert_id\n"
   ]
  },
  {
   "cell_type": "code",
   "execution_count": 33,
   "metadata": {
    "scrolled": true
   },
   "outputs": [
    {
     "data": {
      "text/plain": [
       "pert_id        cell_id\n",
       "BRD-A00100033  PHH        1\n",
       "BRD-A00267231  A549       1\n",
       "               ASC        1\n",
       "               HA1E       1\n",
       "               PC3        1\n",
       "BRD-A00420644  A375       1\n",
       "               A549       2\n",
       "               HA1E       1\n",
       "               HCC515     1\n",
       "               HEPG2      1\n",
       "               HT29       1\n",
       "               MCF7       2\n",
       "               PC3        1\n",
       "               VCAP       1\n",
       "BRD-A00474148  HA1E       1\n",
       "               PC3        1\n",
       "               VCAP       2\n",
       "BRD-A00520476  HA1E       1\n",
       "               HT29       1\n",
       "BRD-A00546892  A375       1\n",
       "               ASC        1\n",
       "               NPC        1\n",
       "BRD-A00626522  PC3        1\n",
       "BRD-A00758722  ASC        1\n",
       "               MCF7       1\n",
       "               VCAP       2\n",
       "BRD-A00993607  A375       1\n",
       "               A549       1\n",
       "               HA1E       1\n",
       "               MCF7       2\n",
       "                         ..\n",
       "BRD-U88459701  PHH        3\n",
       "               PL21       1\n",
       "               SW948      1\n",
       "               VCAP       1\n",
       "BRD-U88861852  A375       1\n",
       "               MCF7       1\n",
       "               VCAP       1\n",
       "BRD-U88878891  A375       2\n",
       "               HT29       1\n",
       "               MCF7       2\n",
       "               PC3        1\n",
       "               VCAP       1\n",
       "BRD-U94846492  A375       1\n",
       "               A549       1\n",
       "               A673       1\n",
       "               EFO27      1\n",
       "               HA1E       2\n",
       "               HCC515     2\n",
       "               HT29       1\n",
       "               MCF7       1\n",
       "               MDST8      1\n",
       "               PC3        2\n",
       "               RKO        1\n",
       "               SNGM       1\n",
       "               SNUC5      1\n",
       "               SW948      1\n",
       "               THP1       1\n",
       "               VCAP       2\n",
       "BRD-U97083655  PC3        1\n",
       "               VCAP       1\n",
       "Name: pvalue, Length: 29847, dtype: int64"
      ]
     },
     "execution_count": 33,
     "metadata": {},
     "output_type": "execute_result"
    }
   ],
   "source": [
    "sig_meta_df.groupby(['pert_id', 'cell_id'])['pvalue'].count()"
   ]
  },
  {
   "cell_type": "code",
   "execution_count": 34,
   "metadata": {
    "scrolled": true
   },
   "outputs": [
    {
     "data": {
      "text/plain": [
       "pert_id\n",
       "BRD-A00100033     1\n",
       "BRD-A00267231     4\n",
       "BRD-A00420644    11\n",
       "BRD-A00474148     4\n",
       "BRD-A00520476     2\n",
       "BRD-A00546892     3\n",
       "BRD-A00626522     1\n",
       "BRD-A00758722     4\n",
       "BRD-A00993607     6\n",
       "BRD-A01145011    15\n",
       "BRD-A01295252     3\n",
       "BRD-A01317026     3\n",
       "BRD-A01320529    12\n",
       "BRD-A01346607    10\n",
       "BRD-A01593789     9\n",
       "BRD-A01643550    10\n",
       "BRD-A01787639     5\n",
       "BRD-A01826957     2\n",
       "BRD-A01960364     5\n",
       "BRD-A01973626     1\n",
       "BRD-A01999384     3\n",
       "BRD-A02006392    16\n",
       "BRD-A02176148     5\n",
       "BRD-A02180903    10\n",
       "BRD-A02198599     3\n",
       "BRD-A02333338     6\n",
       "BRD-A02367930     3\n",
       "BRD-A02481876    59\n",
       "BRD-A02710418     1\n",
       "BRD-A02713983     3\n",
       "                 ..\n",
       "BRD-U01690642     5\n",
       "BRD-U04166717    15\n",
       "BRD-U06594984     1\n",
       "BRD-U08759356    12\n",
       "BRD-U25771771    13\n",
       "BRD-U29336476    14\n",
       "BRD-U31801276    11\n",
       "BRD-U32049204     1\n",
       "BRD-U32365159    11\n",
       "BRD-U33728988    18\n",
       "BRD-U37049823    13\n",
       "BRD-U43867373    14\n",
       "BRD-U44618005     9\n",
       "BRD-U44700465    15\n",
       "BRD-U51951544    16\n",
       "BRD-U64289953    16\n",
       "BRD-U66370498     5\n",
       "BRD-U68942961    12\n",
       "BRD-U73238814    15\n",
       "BRD-U74615290    17\n",
       "BRD-U77632492     3\n",
       "BRD-U82589721    16\n",
       "BRD-U86222656    12\n",
       "BRD-U86922168    17\n",
       "BRD-U87780043    10\n",
       "BRD-U88459701    21\n",
       "BRD-U88861852     3\n",
       "BRD-U88878891     7\n",
       "BRD-U94846492    20\n",
       "BRD-U97083655     2\n",
       "Name: pvalue, Length: 4944, dtype: int64"
      ]
     },
     "execution_count": 34,
     "metadata": {},
     "output_type": "execute_result"
    }
   ],
   "source": [
    "sig_meta_df.groupby(['pert_id'])['pvalue'].count()"
   ]
  },
  {
   "cell_type": "code",
   "execution_count": 19,
   "metadata": {},
   "outputs": [
    {
     "data": {
      "text/plain": [
       "u'sig_id_1'"
      ]
     },
     "execution_count": 19,
     "metadata": {},
     "output_type": "execute_result"
    }
   ],
   "source": [
    "coll_pert_cell = client['L1000FWD']['sigs_pert_cell']\n",
    "coll_pert_cell.create_index('sig_id', unique=True)"
   ]
  },
  {
   "cell_type": "code",
   "execution_count": 8,
   "metadata": {},
   "outputs": [
    {
     "data": {
      "text/html": [
       "<div>\n",
       "<style>\n",
       "    .dataframe thead tr:only-child th {\n",
       "        text-align: right;\n",
       "    }\n",
       "\n",
       "    .dataframe thead th {\n",
       "        text-align: left;\n",
       "    }\n",
       "\n",
       "    .dataframe tbody tr th {\n",
       "        vertical-align: top;\n",
       "    }\n",
       "</style>\n",
       "<table border=\"1\" class=\"dataframe\">\n",
       "  <thead>\n",
       "    <tr style=\"text-align: right;\">\n",
       "      <th></th>\n",
       "      <th>pvalue</th>\n",
       "      <th>cell_id</th>\n",
       "      <th>pert_dose</th>\n",
       "      <th>pert_id</th>\n",
       "      <th>pert_time</th>\n",
       "    </tr>\n",
       "    <tr>\n",
       "      <th>sig_id</th>\n",
       "      <th></th>\n",
       "      <th></th>\n",
       "      <th></th>\n",
       "      <th></th>\n",
       "      <th></th>\n",
       "    </tr>\n",
       "  </thead>\n",
       "  <tbody>\n",
       "    <tr>\n",
       "      <th>LJP001_HS578T_24H:BRD-K52911425-001-04-9:2</th>\n",
       "      <td>0.0028</td>\n",
       "      <td>HS578T</td>\n",
       "      <td>2.0</td>\n",
       "      <td>BRD-K52911425</td>\n",
       "      <td>24.0</td>\n",
       "    </tr>\n",
       "    <tr>\n",
       "      <th>LJP001_HS578T_24H:BRD-K69932463-001-05-6:10</th>\n",
       "      <td>0.0483</td>\n",
       "      <td>HS578T</td>\n",
       "      <td>10.0</td>\n",
       "      <td>BRD-K69932463</td>\n",
       "      <td>24.0</td>\n",
       "    </tr>\n",
       "    <tr>\n",
       "      <th>LJP001_HS578T_24H:BRD-K85606544-001-04-2:10</th>\n",
       "      <td>0.0007</td>\n",
       "      <td>HS578T</td>\n",
       "      <td>10.0</td>\n",
       "      <td>BRD-K85606544</td>\n",
       "      <td>24.0</td>\n",
       "    </tr>\n",
       "    <tr>\n",
       "      <th>LJP001_HS578T_24H:BRD-K72636697-001-01-5:10</th>\n",
       "      <td>0.0000</td>\n",
       "      <td>HS578T</td>\n",
       "      <td>10.0</td>\n",
       "      <td>BRD-K72636697</td>\n",
       "      <td>24.0</td>\n",
       "    </tr>\n",
       "    <tr>\n",
       "      <th>LJP001_HS578T_24H:BRD-K13390322-001-02-2:0.4</th>\n",
       "      <td>0.0000</td>\n",
       "      <td>HS578T</td>\n",
       "      <td>0.4</td>\n",
       "      <td>BRD-K13390322</td>\n",
       "      <td>24.0</td>\n",
       "    </tr>\n",
       "  </tbody>\n",
       "</table>\n",
       "</div>"
      ],
      "text/plain": [
       "                                              pvalue cell_id  pert_dose  \\\n",
       "sig_id                                                                    \n",
       "LJP001_HS578T_24H:BRD-K52911425-001-04-9:2    0.0028  HS578T        2.0   \n",
       "LJP001_HS578T_24H:BRD-K69932463-001-05-6:10   0.0483  HS578T       10.0   \n",
       "LJP001_HS578T_24H:BRD-K85606544-001-04-2:10   0.0007  HS578T       10.0   \n",
       "LJP001_HS578T_24H:BRD-K72636697-001-01-5:10   0.0000  HS578T       10.0   \n",
       "LJP001_HS578T_24H:BRD-K13390322-001-02-2:0.4  0.0000  HS578T        0.4   \n",
       "\n",
       "                                                    pert_id  pert_time  \n",
       "sig_id                                                                  \n",
       "LJP001_HS578T_24H:BRD-K52911425-001-04-9:2    BRD-K52911425       24.0  \n",
       "LJP001_HS578T_24H:BRD-K69932463-001-05-6:10   BRD-K69932463       24.0  \n",
       "LJP001_HS578T_24H:BRD-K85606544-001-04-2:10   BRD-K85606544       24.0  \n",
       "LJP001_HS578T_24H:BRD-K72636697-001-01-5:10   BRD-K72636697       24.0  \n",
       "LJP001_HS578T_24H:BRD-K13390322-001-02-2:0.4  BRD-K13390322       24.0  "
      ]
     },
     "execution_count": 8,
     "metadata": {},
     "output_type": "execute_result"
    }
   ],
   "source": [
    "sig_meta_df.head()"
   ]
  },
  {
   "cell_type": "code",
   "execution_count": 16,
   "metadata": {},
   "outputs": [
    {
     "name": "stdout",
     "output_type": "stream",
     "text": [
      "\n"
     ]
    }
   ],
   "source": [
    "coll_pert_cell.drop()"
   ]
  },
  {
   "cell_type": "code",
   "execution_count": 17,
   "metadata": {
    "scrolled": true
   },
   "outputs": [
    {
     "name": "stderr",
     "output_type": "stream",
     "text": [
      "/Library/Python/2.7/site-packages/ipykernel/__main__.py:7: RuntimeWarning: Mean of empty slice.\n"
     ]
    },
    {
     "name": "stdout",
     "output_type": "stream",
     "text": [
      "1000\n",
      "2000\n",
      "3000\n",
      "4000\n",
      "5000\n",
      "6000\n",
      "7000\n",
      "8000\n",
      "9000\n",
      "10000\n",
      "11000\n",
      "12000\n",
      "13000\n",
      "14000\n",
      "15000\n",
      "16000\n",
      "17000\n",
      "18000\n",
      "19000\n",
      "20000\n",
      "21000\n",
      "22000\n",
      "23000\n",
      "24000\n",
      "25000\n",
      "26000\n",
      "27000\n",
      "28000\n",
      "29000\n"
     ]
    }
   ],
   "source": [
    "c = 0\n",
    "for (pert_id, cell_id), sig_meta_df_sub in sig_meta_df.groupby(['pert_id', 'cell_id']):\n",
    "    sig_ids = sig_meta_df_sub.index\n",
    "    mask = np.in1d(sig_meta_df.index, sig_ids)\n",
    "#     print mat[mask].shape\n",
    "    agg_sig = mat[mask].mean(axis=0)\n",
    "    mean_cosine_dist = dist.squareform(pairwise_distances(mat[mask], metric='cosine')).mean()\n",
    "    \n",
    "    id_ = '%s:%s' % (pert_id, cell_id)\n",
    "    doc = {\n",
    "        'sig_id': id_,\n",
    "        'CD_center_LM': agg_sig.tolist(),\n",
    "        'mean_cosine_dist': mean_cosine_dist,\n",
    "        'sig_ids': sig_ids.tolist(),\n",
    "        'pert_id': pert_id,\n",
    "        'cell_id': cell_id,\n",
    "        'avg_dose': sig_meta_df_sub['pert_dose'].mean(),\n",
    "        'avg_time': sig_meta_df_sub['pert_time'].mean(),\n",
    "        'avg_pvalue': sig_meta_df_sub['pvalue'].mean(),\n",
    "        'n_signatures_aggregated': len(sig_ids)\n",
    "    }\n",
    "#     print agg_sig.shape\n",
    "    \n",
    "    coll_pert_cell.insert_one(doc)\n",
    "    c += 1\n",
    "    \n",
    "    if c % 1000 == 0:\n",
    "        print c\n",
    "#     break"
   ]
  },
  {
   "cell_type": "code",
   "execution_count": 20,
   "metadata": {},
   "outputs": [
    {
     "data": {
      "text/plain": [
       "u'sig_id_1'"
      ]
     },
     "execution_count": 20,
     "metadata": {},
     "output_type": "execute_result"
    }
   ],
   "source": [
    "coll_pert = client['L1000FWD']['sigs_pert']\n",
    "coll_pert.create_index('sig_id', unique=True)"
   ]
  },
  {
   "cell_type": "code",
   "execution_count": 26,
   "metadata": {},
   "outputs": [
    {
     "name": "stderr",
     "output_type": "stream",
     "text": [
      "/Library/Python/2.7/site-packages/ipykernel/__main__.py:19: RuntimeWarning: Mean of empty slice.\n"
     ]
    },
    {
     "name": "stdout",
     "output_type": "stream",
     "text": [
      "500 1000 1500 2000 2500 3000 3500 4000 4500\n"
     ]
    }
   ],
   "source": [
    "c = 0 \n",
    "for pert_id, sig_meta_df_sub in sig_meta_df.groupby(['pert_id']):\n",
    "    sig_ids = sig_meta_df_sub.index\n",
    "    mask = np.in1d(sig_meta_df.index, sig_ids)\n",
    "\n",
    "#     agg_sig = mat[mask].mean(axis=0)\n",
    "#     print len(sig_ids)\n",
    "    \n",
    "    docs = []\n",
    "    for cell_id in sig_meta_df_sub['cell_id'].unique():\n",
    "        id_ = '%s:%s' % (pert_id, cell_id)\n",
    "        doc = coll_pert_cell.find_one({'sig_id':id_})\n",
    "        docs.append(doc)\n",
    "    \n",
    "    sig_mat = np.array([doc['CD_center_LM'] for doc in docs])\n",
    "#     print sig_mat.shape\n",
    "    agg_sig = sig_mat.mean(axis=0)\n",
    "#     print agg_sig.shape\n",
    "    mean_cosine_dist = dist.squareform(pairwise_distances(sig_mat, metric='cosine')).mean()\n",
    "    \n",
    "    \n",
    "    pert_doc = {\n",
    "        'sig_id': pert_id,\n",
    "        'CD_center_LM': agg_sig.tolist(),\n",
    "        'mean_cosine_dist': mean_cosine_dist,\n",
    "        'sig_ids': sig_ids.tolist(),\n",
    "        'cell_ids': sig_meta_df_sub['cell_id'].unique().tolist(),\n",
    "        'avg_dose': sig_meta_df_sub['pert_dose'].mean(),\n",
    "        'avg_time': sig_meta_df_sub['pert_time'].mean(),\n",
    "        'avg_pvalue': sig_meta_df_sub['pvalue'].mean(),\n",
    "        'n_signatures_aggregated': len(sig_ids),\n",
    "        'n_cells': sig_meta_df_sub['cell_id'].nunique(),\n",
    "    }    \n",
    "    \n",
    "    coll_pert.insert_one(pert_doc)\n",
    "    c += 1\n",
    "    if c % 500 ==0:\n",
    "        print c,"
   ]
  },
  {
   "cell_type": "markdown",
   "metadata": {},
   "source": [
    "# Create Firework layout for aggregated networks\n"
   ]
  },
  {
   "cell_type": "code",
   "execution_count": 48,
   "metadata": {},
   "outputs": [
    {
     "data": {
      "text/plain": [
       "u'name_1'"
      ]
     },
     "execution_count": 48,
     "metadata": {},
     "output_type": "execute_result"
    }
   ],
   "source": [
    "# Collection to store graph visualizations\n",
    "coll_graphs = client['L1000FWD']['graphs']\n",
    "coll_graphs.create_index('name', unique=True)"
   ]
  },
  {
   "cell_type": "code",
   "execution_count": 27,
   "metadata": {},
   "outputs": [
    {
     "name": "stdout",
     "output_type": "stream",
     "text": [
      "(4944, 978)\n"
     ]
    }
   ],
   "source": [
    "# Create Firework layout for aggregated networks\n",
    "n_perts = coll_pert.count()\n",
    "pert_ids = coll_pert.distinct('sig_id')\n",
    "\n",
    "mat = np.zeros((n_perts, 978))\n",
    "for i, pert_id in enumerate(pert_ids):\n",
    "    doc = coll_pert.find_one({'sig_id': pert_id})\n",
    "    mat[i] = doc['CD_center_LM']\n",
    "\n",
    "print mat.shape\n",
    "\n",
    "adj_mat = compute_adjcency_mat(mat)\n"
   ]
  },
  {
   "cell_type": "code",
   "execution_count": 41,
   "metadata": {},
   "outputs": [
    {
     "name": "stdout",
     "output_type": "stream",
     "text": [
      "4944 21674\n",
      "(4944, 2) 4944\n",
      "[4943 4942 4941 4940 4939]\n"
     ]
    }
   ],
   "source": [
    "# Create and layout graph by kNN\n",
    "G = create_knn_graph(mat, k=5, metric='cosine')\n",
    "print G.number_of_nodes(), G.number_of_edges()\n",
    "coords, ids_original = network_layout(G)\n",
    "print coords.shape, len(ids_original)\n",
    "print ids_original[:5]"
   ]
  },
  {
   "cell_type": "code",
   "execution_count": 42,
   "metadata": {},
   "outputs": [
    {
     "data": {
      "text/plain": [
       "<pymongo.results.InsertOneResult at 0x1135a28c0>"
      ]
     },
     "execution_count": 42,
     "metadata": {},
     "output_type": "execute_result"
    }
   ],
   "source": [
    "knn_layout = {\n",
    "    'sig_ids': [pert_ids[id_ori] for id_ori in ids_original],\n",
    "    'x': coords[:, 0].tolist(),\n",
    "    'y': coords[:, 1].tolist(),\n",
    "    'name': 'kNN_5_layout',\n",
    "    'coll': 'sigs_pert',\n",
    "}\n",
    "\n",
    "coll_graphs.insert_one(knn_layout)"
   ]
  },
  {
   "cell_type": "code",
   "execution_count": 46,
   "metadata": {},
   "outputs": [
    {
     "name": "stdout",
     "output_type": "stream",
     "text": [
      "0.323172396398\n",
      "4944 61096\n",
      "1934 61073\n"
     ]
    }
   ],
   "source": [
    "# Create and layout graph by threshold\n",
    "G = create_graph_by_threshold(adj_mat, 99.5)\n",
    "print G.number_of_nodes(), G.number_of_edges()\n",
    "G = filter_out_small_ccs(G, cutoff=4)\n",
    "print G.number_of_nodes(), G.number_of_edges()\n",
    "coords, ids_original = network_layout(G)"
   ]
  },
  {
   "cell_type": "code",
   "execution_count": 47,
   "metadata": {},
   "outputs": [
    {
     "data": {
      "text/plain": [
       "<pymongo.results.InsertOneResult at 0x114f3a690>"
      ]
     },
     "execution_count": 47,
     "metadata": {},
     "output_type": "execute_result"
    }
   ],
   "source": [
    "thres_layout = {\n",
    "    'sig_ids': [pert_ids[id_ori] for id_ori in ids_original],\n",
    "    'x': coords[:, 0].tolist(),\n",
    "    'y': coords[:, 1].tolist(),\n",
    "    'name': 'threshold_99.5',\n",
    "    'coll': 'sigs_pert',\n",
    "}\n",
    "\n",
    "coll_graphs.insert_one(thres_layout)"
   ]
  },
  {
   "cell_type": "code",
   "execution_count": null,
   "metadata": {
    "collapsed": true
   },
   "outputs": [],
   "source": []
  },
  {
   "cell_type": "code",
   "execution_count": 52,
   "metadata": {},
   "outputs": [
    {
     "name": "stdout",
     "output_type": "stream",
     "text": [
      "(29847, 978)\n"
     ]
    }
   ],
   "source": [
    "# Create Firework layout for aggregated networks\n",
    "n_sigs = coll_pert_cell.count()\n",
    "sig_ids = coll_pert_cell.distinct('sig_id')\n",
    "\n",
    "mat = np.zeros((n_sigs, 978))\n",
    "for i, sig_id in enumerate(sig_ids):\n",
    "    doc = coll_pert_cell.find_one({'sig_id': sig_id})\n",
    "    mat[i] = doc['CD_center_LM']\n",
    "\n",
    "print mat.shape\n",
    "\n",
    "adj_mat = compute_adjcency_mat(mat)\n"
   ]
  },
  {
   "cell_type": "code",
   "execution_count": 53,
   "metadata": {},
   "outputs": [
    {
     "name": "stdout",
     "output_type": "stream",
     "text": [
      "0.320732915552\n",
      "29847 445407\n",
      "12894 444974\n"
     ]
    }
   ],
   "source": [
    "# Create and layout graph by threshold\n",
    "G = create_graph_by_threshold(adj_mat, 99.9)\n",
    "print G.number_of_nodes(), G.number_of_edges()\n",
    "G = filter_out_small_ccs(G, cutoff=4)\n",
    "print G.number_of_nodes(), G.number_of_edges()\n",
    "# coords, ids_original = network_layout(G)"
   ]
  },
  {
   "cell_type": "code",
   "execution_count": 56,
   "metadata": {},
   "outputs": [
    {
     "name": "stdout",
     "output_type": "stream",
     "text": [
      "[u'BRD-A26595446:MCF7', u'BRD-U37049823:HT29', u'BRD-K31491153:PHH', u'BRD-K03816923:A549', u'BRD-K43620258:SW620']\n"
     ]
    }
   ],
   "source": [
    "# Relabel nodes with sig_ids\n",
    "d_id_sig_id = dict(zip(range(len(sig_ids)), sig_ids))\n",
    "d_id_sig_id = {nid: sig_id for nid, sig_id in d_id_sig_id.items() if G.has_node(nid)}\n",
    "nx.relabel_nodes(G, d_id_sig_id, copy=False)\n",
    "print G.nodes()[:5]"
   ]
  },
  {
   "cell_type": "code",
   "execution_count": 57,
   "metadata": {
    "collapsed": true
   },
   "outputs": [],
   "source": [
    "nx.write_gml(G, 'graph_pert_cell_%dnodes_99.9.gml' % G.number_of_nodes())"
   ]
  },
  {
   "cell_type": "code",
   "execution_count": 54,
   "metadata": {
    "scrolled": true
   },
   "outputs": [
    {
     "ename": "ValueError",
     "evalue": "No JSON object could be decoded",
     "output_type": "error",
     "traceback": [
      "\u001b[0;31m---------------------------------------------------------------------------\u001b[0m",
      "\u001b[0;31mValueError\u001b[0m                                Traceback (most recent call last)",
      "\u001b[0;32m<ipython-input-54-ed1134a57eff>\u001b[0m in \u001b[0;36m<module>\u001b[0;34m()\u001b[0m\n\u001b[0;32m----> 1\u001b[0;31m \u001b[0mcoords\u001b[0m\u001b[0;34m,\u001b[0m \u001b[0mids_original\u001b[0m \u001b[0;34m=\u001b[0m \u001b[0mnetwork_layout\u001b[0m\u001b[0;34m(\u001b[0m\u001b[0mG\u001b[0m\u001b[0;34m)\u001b[0m\u001b[0;34m\u001b[0m\u001b[0m\n\u001b[0m",
      "\u001b[0;32m/Users/zichen/Documents/Zichen_Projects/DrugPage/embedding-projector/notebooks/graph_utils.pyc\u001b[0m in \u001b[0;36mnetwork_layout\u001b[0;34m(G)\u001b[0m\n\u001b[1;32m    123\u001b[0m     \u001b[0mcy\u001b[0m\u001b[0;34m.\u001b[0m\u001b[0mlayout\u001b[0m\u001b[0;34m.\u001b[0m\u001b[0mapply\u001b[0m\u001b[0;34m(\u001b[0m\u001b[0mname\u001b[0m\u001b[0;34m=\u001b[0m\u001b[0;34m'allegro-edge-repulsive-strong-clustering'\u001b[0m\u001b[0;34m,\u001b[0m \u001b[0mnetwork\u001b[0m\u001b[0;34m=\u001b[0m\u001b[0mG_cy\u001b[0m\u001b[0;34m)\u001b[0m\u001b[0;34m\u001b[0m\u001b[0m\n\u001b[1;32m    124\u001b[0m     \u001b[0;31m# Get current view\u001b[0m\u001b[0;34m\u001b[0m\u001b[0;34m\u001b[0m\u001b[0m\n\u001b[0;32m--> 125\u001b[0;31m     \u001b[0mview\u001b[0m \u001b[0;34m=\u001b[0m \u001b[0mG_cy\u001b[0m\u001b[0;34m.\u001b[0m\u001b[0mget_first_view\u001b[0m\u001b[0;34m(\u001b[0m\u001b[0;34m)\u001b[0m\u001b[0;34m\u001b[0m\u001b[0m\n\u001b[0m\u001b[1;32m    126\u001b[0m     \u001b[0mnodes\u001b[0m \u001b[0;34m=\u001b[0m \u001b[0mview\u001b[0m\u001b[0;34m[\u001b[0m\u001b[0;34m'elements'\u001b[0m\u001b[0;34m]\u001b[0m\u001b[0;34m[\u001b[0m\u001b[0;34m'nodes'\u001b[0m\u001b[0;34m]\u001b[0m\u001b[0;34m\u001b[0m\u001b[0m\n\u001b[1;32m    127\u001b[0m     \u001b[0;31m# Get a coord matrix ordered by id_original\u001b[0m\u001b[0;34m\u001b[0m\u001b[0;34m\u001b[0m\u001b[0m\n",
      "\u001b[0;32m/usr/local/lib/python2.7/site-packages/py2cytoscape/data/cynetwork.pyc\u001b[0m in \u001b[0;36mget_first_view\u001b[0;34m(self, format)\u001b[0m\n\u001b[1;32m    326\u001b[0m         \"\"\"\n\u001b[1;32m    327\u001b[0m         \u001b[0murl\u001b[0m \u001b[0;34m=\u001b[0m \u001b[0mself\u001b[0m\u001b[0;34m.\u001b[0m\u001b[0m__url\u001b[0m \u001b[0;34m+\u001b[0m \u001b[0;34m'views/first'\u001b[0m\u001b[0;34m\u001b[0m\u001b[0m\n\u001b[0;32m--> 328\u001b[0;31m         \u001b[0;32mreturn\u001b[0m \u001b[0mself\u001b[0m\u001b[0;34m.\u001b[0m\u001b[0msession\u001b[0m\u001b[0;34m.\u001b[0m\u001b[0mget\u001b[0m\u001b[0;34m(\u001b[0m\u001b[0murl\u001b[0m\u001b[0;34m)\u001b[0m\u001b[0;34m.\u001b[0m\u001b[0mjson\u001b[0m\u001b[0;34m(\u001b[0m\u001b[0;34m)\u001b[0m\u001b[0;34m\u001b[0m\u001b[0m\n\u001b[0m\u001b[1;32m    329\u001b[0m \u001b[0;34m\u001b[0m\u001b[0m\n\u001b[1;32m    330\u001b[0m     \u001b[0;32mdef\u001b[0m \u001b[0mget_view\u001b[0m\u001b[0;34m(\u001b[0m\u001b[0mself\u001b[0m\u001b[0;34m,\u001b[0m \u001b[0mview_id\u001b[0m\u001b[0;34m,\u001b[0m \u001b[0mformat\u001b[0m\u001b[0;34m=\u001b[0m\u001b[0;34m'json'\u001b[0m\u001b[0;34m)\u001b[0m\u001b[0;34m:\u001b[0m\u001b[0;34m\u001b[0m\u001b[0m\n",
      "\u001b[0;32m/usr/local/lib/python2.7/site-packages/requests/models.pyc\u001b[0m in \u001b[0;36mjson\u001b[0;34m(self, **kwargs)\u001b[0m\n\u001b[1;32m    890\u001b[0m                     \u001b[0;31m# used.\u001b[0m\u001b[0;34m\u001b[0m\u001b[0;34m\u001b[0m\u001b[0m\n\u001b[1;32m    891\u001b[0m                     \u001b[0;32mpass\u001b[0m\u001b[0;34m\u001b[0m\u001b[0m\n\u001b[0;32m--> 892\u001b[0;31m         \u001b[0;32mreturn\u001b[0m \u001b[0mcomplexjson\u001b[0m\u001b[0;34m.\u001b[0m\u001b[0mloads\u001b[0m\u001b[0;34m(\u001b[0m\u001b[0mself\u001b[0m\u001b[0;34m.\u001b[0m\u001b[0mtext\u001b[0m\u001b[0;34m,\u001b[0m \u001b[0;34m**\u001b[0m\u001b[0mkwargs\u001b[0m\u001b[0;34m)\u001b[0m\u001b[0;34m\u001b[0m\u001b[0m\n\u001b[0m\u001b[1;32m    893\u001b[0m \u001b[0;34m\u001b[0m\u001b[0m\n\u001b[1;32m    894\u001b[0m     \u001b[0;34m@\u001b[0m\u001b[0mproperty\u001b[0m\u001b[0;34m\u001b[0m\u001b[0m\n",
      "\u001b[0;32m/usr/local/Cellar/python/2.7.11/Frameworks/Python.framework/Versions/2.7/lib/python2.7/json/__init__.pyc\u001b[0m in \u001b[0;36mloads\u001b[0;34m(s, encoding, cls, object_hook, parse_float, parse_int, parse_constant, object_pairs_hook, **kw)\u001b[0m\n\u001b[1;32m    337\u001b[0m             \u001b[0mparse_int\u001b[0m \u001b[0;32mis\u001b[0m \u001b[0mNone\u001b[0m \u001b[0;32mand\u001b[0m \u001b[0mparse_float\u001b[0m \u001b[0;32mis\u001b[0m \u001b[0mNone\u001b[0m \u001b[0;32mand\u001b[0m\u001b[0;34m\u001b[0m\u001b[0m\n\u001b[1;32m    338\u001b[0m             parse_constant is None and object_pairs_hook is None and not kw):\n\u001b[0;32m--> 339\u001b[0;31m         \u001b[0;32mreturn\u001b[0m \u001b[0m_default_decoder\u001b[0m\u001b[0;34m.\u001b[0m\u001b[0mdecode\u001b[0m\u001b[0;34m(\u001b[0m\u001b[0ms\u001b[0m\u001b[0;34m)\u001b[0m\u001b[0;34m\u001b[0m\u001b[0m\n\u001b[0m\u001b[1;32m    340\u001b[0m     \u001b[0;32mif\u001b[0m \u001b[0mcls\u001b[0m \u001b[0;32mis\u001b[0m \u001b[0mNone\u001b[0m\u001b[0;34m:\u001b[0m\u001b[0;34m\u001b[0m\u001b[0m\n\u001b[1;32m    341\u001b[0m         \u001b[0mcls\u001b[0m \u001b[0;34m=\u001b[0m \u001b[0mJSONDecoder\u001b[0m\u001b[0;34m\u001b[0m\u001b[0m\n",
      "\u001b[0;32m/usr/local/Cellar/python/2.7.11/Frameworks/Python.framework/Versions/2.7/lib/python2.7/json/decoder.pyc\u001b[0m in \u001b[0;36mdecode\u001b[0;34m(self, s, _w)\u001b[0m\n\u001b[1;32m    362\u001b[0m \u001b[0;34m\u001b[0m\u001b[0m\n\u001b[1;32m    363\u001b[0m         \"\"\"\n\u001b[0;32m--> 364\u001b[0;31m         \u001b[0mobj\u001b[0m\u001b[0;34m,\u001b[0m \u001b[0mend\u001b[0m \u001b[0;34m=\u001b[0m \u001b[0mself\u001b[0m\u001b[0;34m.\u001b[0m\u001b[0mraw_decode\u001b[0m\u001b[0;34m(\u001b[0m\u001b[0ms\u001b[0m\u001b[0;34m,\u001b[0m \u001b[0midx\u001b[0m\u001b[0;34m=\u001b[0m\u001b[0m_w\u001b[0m\u001b[0;34m(\u001b[0m\u001b[0ms\u001b[0m\u001b[0;34m,\u001b[0m \u001b[0;36m0\u001b[0m\u001b[0;34m)\u001b[0m\u001b[0;34m.\u001b[0m\u001b[0mend\u001b[0m\u001b[0;34m(\u001b[0m\u001b[0;34m)\u001b[0m\u001b[0;34m)\u001b[0m\u001b[0;34m\u001b[0m\u001b[0m\n\u001b[0m\u001b[1;32m    365\u001b[0m         \u001b[0mend\u001b[0m \u001b[0;34m=\u001b[0m \u001b[0m_w\u001b[0m\u001b[0;34m(\u001b[0m\u001b[0ms\u001b[0m\u001b[0;34m,\u001b[0m \u001b[0mend\u001b[0m\u001b[0;34m)\u001b[0m\u001b[0;34m.\u001b[0m\u001b[0mend\u001b[0m\u001b[0;34m(\u001b[0m\u001b[0;34m)\u001b[0m\u001b[0;34m\u001b[0m\u001b[0m\n\u001b[1;32m    366\u001b[0m         \u001b[0;32mif\u001b[0m \u001b[0mend\u001b[0m \u001b[0;34m!=\u001b[0m \u001b[0mlen\u001b[0m\u001b[0;34m(\u001b[0m\u001b[0ms\u001b[0m\u001b[0;34m)\u001b[0m\u001b[0;34m:\u001b[0m\u001b[0;34m\u001b[0m\u001b[0m\n",
      "\u001b[0;32m/usr/local/Cellar/python/2.7.11/Frameworks/Python.framework/Versions/2.7/lib/python2.7/json/decoder.pyc\u001b[0m in \u001b[0;36mraw_decode\u001b[0;34m(self, s, idx)\u001b[0m\n\u001b[1;32m    380\u001b[0m             \u001b[0mobj\u001b[0m\u001b[0;34m,\u001b[0m \u001b[0mend\u001b[0m \u001b[0;34m=\u001b[0m \u001b[0mself\u001b[0m\u001b[0;34m.\u001b[0m\u001b[0mscan_once\u001b[0m\u001b[0;34m(\u001b[0m\u001b[0ms\u001b[0m\u001b[0;34m,\u001b[0m \u001b[0midx\u001b[0m\u001b[0;34m)\u001b[0m\u001b[0;34m\u001b[0m\u001b[0m\n\u001b[1;32m    381\u001b[0m         \u001b[0;32mexcept\u001b[0m \u001b[0mStopIteration\u001b[0m\u001b[0;34m:\u001b[0m\u001b[0;34m\u001b[0m\u001b[0m\n\u001b[0;32m--> 382\u001b[0;31m             \u001b[0;32mraise\u001b[0m \u001b[0mValueError\u001b[0m\u001b[0;34m(\u001b[0m\u001b[0;34m\"No JSON object could be decoded\"\u001b[0m\u001b[0;34m)\u001b[0m\u001b[0;34m\u001b[0m\u001b[0m\n\u001b[0m\u001b[1;32m    383\u001b[0m         \u001b[0;32mreturn\u001b[0m \u001b[0mobj\u001b[0m\u001b[0;34m,\u001b[0m \u001b[0mend\u001b[0m\u001b[0;34m\u001b[0m\u001b[0m\n",
      "\u001b[0;31mValueError\u001b[0m: No JSON object could be decoded"
     ]
    }
   ],
   "source": [
    "coords, ids_original = network_layout(G)"
   ]
  }
 ],
 "metadata": {
  "kernelspec": {
   "display_name": "Python 2",
   "language": "python",
   "name": "python2"
  },
  "language_info": {
   "codemirror_mode": {
    "name": "ipython",
    "version": 2
   },
   "file_extension": ".py",
   "mimetype": "text/x-python",
   "name": "python",
   "nbconvert_exporter": "python",
   "pygments_lexer": "ipython2",
   "version": "2.7.11"
  }
 },
 "nbformat": 4,
 "nbformat_minor": 2
}
