{
 "cells": [
  {
   "cell_type": "markdown",
   "metadata": {},
   "source": [
    "# Make signature network using the `CD_center_LM` signatures "
   ]
  },
  {
   "cell_type": "code",
   "execution_count": 1,
   "metadata": {},
   "outputs": [
    {
     "name": "stderr",
     "output_type": "stream",
     "text": [
      "/usr/local/lib/python2.7/site-packages/matplotlib/__init__.py:913: UserWarning: axes.color_cycle is deprecated and replaced with axes.prop_cycle; please use the latter.\n",
      "  warnings.warn(self.msg_depr % (key, alt_key))\n"
     ]
    }
   ],
   "source": [
    "import os, sys, json\n",
    "from collections import Counter\n",
    "import numpy as np\n",
    "import pandas as pd\n",
    "import networkx as nx\n",
    "from sklearn.metrics.pairwise import pairwise_distances\n",
    "from sklearn import neighbors\n",
    "from sqlalchemy import create_engine\n",
    "from pymongo import MongoClient\n",
    "\n",
    "import matplotlib.pyplot as plt\n",
    "%matplotlib inline\n",
    "import seaborn as sns"
   ]
  },
  {
   "cell_type": "code",
   "execution_count": 2,
   "metadata": {
    "collapsed": true
   },
   "outputs": [],
   "source": [
    "# Plot degree distribution\n",
    "def plot_degree_distribution(G):\n",
    "    fig, ax = plt.subplots()\n",
    "    \n",
    "    degrees = G.degree().values()\n",
    "    degrees = dict(Counter(degrees))\n",
    "    x = degrees.keys()\n",
    "    y = degrees.values()\n",
    "\n",
    "    ax.scatter(x, y, s=10, alpha=.6)\n",
    "    ax.set_xlabel('Degree', fontsize=12)\n",
    "    ax.set_ylabel('Count', fontsize=12)    \n",
    "    ax.set_xscale('log')\n",
    "    ax.set_yscale('log')\n",
    "    return ax\n"
   ]
  },
  {
   "cell_type": "code",
   "execution_count": 3,
   "metadata": {},
   "outputs": [
    {
     "name": "stdout",
     "output_type": "stream",
     "text": [
      "(48098, 4)\n"
     ]
    },
    {
     "data": {
      "text/html": [
       "<div>\n",
       "<style>\n",
       "    .dataframe thead tr:only-child th {\n",
       "        text-align: right;\n",
       "    }\n",
       "\n",
       "    .dataframe thead th {\n",
       "        text-align: left;\n",
       "    }\n",
       "\n",
       "    .dataframe tbody tr th {\n",
       "        vertical-align: top;\n",
       "    }\n",
       "</style>\n",
       "<table border=\"1\" class=\"dataframe\">\n",
       "  <thead>\n",
       "    <tr style=\"text-align: right;\">\n",
       "      <th></th>\n",
       "      <th>pvalue</th>\n",
       "      <th>cell_id</th>\n",
       "      <th>pert_dose</th>\n",
       "      <th>pert_id</th>\n",
       "    </tr>\n",
       "    <tr>\n",
       "      <th>sig_id</th>\n",
       "      <th></th>\n",
       "      <th></th>\n",
       "      <th></th>\n",
       "      <th></th>\n",
       "    </tr>\n",
       "  </thead>\n",
       "  <tbody>\n",
       "    <tr>\n",
       "      <th>LJP001_HS578T_24H:BRD-K52911425-001-04-9:2</th>\n",
       "      <td>0.0028</td>\n",
       "      <td>HS578T</td>\n",
       "      <td>2.0</td>\n",
       "      <td>BRD-K52911425</td>\n",
       "    </tr>\n",
       "    <tr>\n",
       "      <th>LJP001_HS578T_24H:BRD-K69932463-001-05-6:10</th>\n",
       "      <td>0.0483</td>\n",
       "      <td>HS578T</td>\n",
       "      <td>10.0</td>\n",
       "      <td>BRD-K69932463</td>\n",
       "    </tr>\n",
       "    <tr>\n",
       "      <th>LJP001_HS578T_24H:BRD-K85606544-001-04-2:10</th>\n",
       "      <td>0.0007</td>\n",
       "      <td>HS578T</td>\n",
       "      <td>10.0</td>\n",
       "      <td>BRD-K85606544</td>\n",
       "    </tr>\n",
       "    <tr>\n",
       "      <th>LJP001_HS578T_24H:BRD-K72636697-001-01-5:10</th>\n",
       "      <td>0.0000</td>\n",
       "      <td>HS578T</td>\n",
       "      <td>10.0</td>\n",
       "      <td>BRD-K72636697</td>\n",
       "    </tr>\n",
       "    <tr>\n",
       "      <th>LJP001_HS578T_24H:BRD-K13390322-001-02-2:0.4</th>\n",
       "      <td>0.0000</td>\n",
       "      <td>HS578T</td>\n",
       "      <td>0.4</td>\n",
       "      <td>BRD-K13390322</td>\n",
       "    </tr>\n",
       "  </tbody>\n",
       "</table>\n",
       "</div>"
      ],
      "text/plain": [
       "                                              pvalue cell_id  pert_dose  \\\n",
       "sig_id                                                                    \n",
       "LJP001_HS578T_24H:BRD-K52911425-001-04-9:2    0.0028  HS578T        2.0   \n",
       "LJP001_HS578T_24H:BRD-K69932463-001-05-6:10   0.0483  HS578T       10.0   \n",
       "LJP001_HS578T_24H:BRD-K85606544-001-04-2:10   0.0007  HS578T       10.0   \n",
       "LJP001_HS578T_24H:BRD-K72636697-001-01-5:10   0.0000  HS578T       10.0   \n",
       "LJP001_HS578T_24H:BRD-K13390322-001-02-2:0.4  0.0000  HS578T        0.4   \n",
       "\n",
       "                                                    pert_id  \n",
       "sig_id                                                       \n",
       "LJP001_HS578T_24H:BRD-K52911425-001-04-9:2    BRD-K52911425  \n",
       "LJP001_HS578T_24H:BRD-K69932463-001-05-6:10   BRD-K69932463  \n",
       "LJP001_HS578T_24H:BRD-K85606544-001-04-2:10   BRD-K85606544  \n",
       "LJP001_HS578T_24H:BRD-K72636697-001-01-5:10   BRD-K72636697  \n",
       "LJP001_HS578T_24H:BRD-K13390322-001-02-2:0.4  BRD-K13390322  "
      ]
     },
     "execution_count": 3,
     "metadata": {},
     "output_type": "execute_result"
    }
   ],
   "source": [
    "## Load signature metadata mongodb\n",
    "client = MongoClient('mongodb://146.203.54.131:27017/')\n",
    "coll = client['L1000FWD']['sigs']\n",
    "cur = coll.find({'SCS_centered_by_batch': {\"$lt\": 0.05}}, \n",
    "                {'_id':False, \n",
    "                 'sig_id':True, \n",
    "                 'SCS_centered_by_batch':True,\n",
    "                 'pert_id':True,\n",
    "                 'cell_id':True,\n",
    "                 'pert_dose':True,\n",
    "                })\n",
    "\n",
    "sig_meta_df = pd.DataFrame([doc for doc in cur]).set_index('sig_id')\n",
    "sig_meta_df.rename(index=str,columns={'SCS_centered_by_batch':'pvalue'}, inplace=True)\n",
    "print sig_meta_df.shape\n",
    "sig_meta_df.head()"
   ]
  },
  {
   "cell_type": "code",
   "execution_count": 4,
   "metadata": {
    "collapsed": true
   },
   "outputs": [],
   "source": [
    "sig_meta_df['batch'] = sig_meta_df.index.map(lambda x:x.split(':')[0])\n",
    "sig_meta_df['time'] = sig_meta_df['batch'].map(lambda x:x.split('_')[2].strip('H'))\n",
    "sig_meta_df.to_csv('../data/metadata-L1000FWD.tsv', sep='\\t')"
   ]
  },
  {
   "cell_type": "code",
   "execution_count": 5,
   "metadata": {},
   "outputs": [
    {
     "name": "stdout",
     "output_type": "stream",
     "text": [
      "(48098,)\n"
     ]
    },
    {
     "data": {
      "text/plain": [
       "pert_id        sig_id                                   \n",
       "BRD-A00100033  CPC015_PHH_24H:BRD-A00100033-001-04-8:10     0.0203\n",
       "BRD-A00267231  CPC001_PC3_6H:BRD-A00267231-001-01-1:10      0.0007\n",
       "               CPC001_HA1E_24H:BRD-A00267231-001-01-1:10    0.0022\n",
       "               CPC017_ASC_24H:BRD-A00267231-001-01-1:10     0.0126\n",
       "               CPC017_A549_6H:BRD-A00267231-001-01-1:10     0.0228\n",
       "Name: pvalue, dtype: float64"
      ]
     },
     "execution_count": 5,
     "metadata": {},
     "output_type": "execute_result"
    }
   ],
   "source": [
    "# Get the top 50 significant signatures for each pert_id\n",
    "def pick_top_sigs(x):\n",
    "    x = x.sort_values(ascending=True)\n",
    "    n_significants = (x < 0.05).sum()\n",
    "    if n_significants == 0:\n",
    "        return x.head(2)\n",
    "    else:\n",
    "        return x.head(n_significants)\n",
    "\n",
    "grouped_sorted = sig_meta_df.groupby('pert_id')['pvalue'].apply(pick_top_sigs)\n",
    "print grouped_sorted.shape\n",
    "grouped_sorted.head()"
   ]
  },
  {
   "cell_type": "code",
   "execution_count": 9,
   "metadata": {
    "scrolled": true
   },
   "outputs": [
    {
     "name": "stdout",
     "output_type": "stream",
     "text": [
      "pert_id\n",
      "BRD-K81418486    977\n",
      "BRD-A19500257    811\n",
      "BRD-A19037878    794\n",
      "BRD-A75409952    696\n",
      "BRD-A79768653    202\n",
      "BRD-K27305650    193\n",
      "BRD-K88378636    146\n",
      "BRD-K59369769    139\n",
      "BRD-A84481105    131\n",
      "BRD-K02130563    131\n",
      "BRD-K41859756    128\n",
      "BRD-A58955223    116\n",
      "BRD-K68202742    116\n",
      "BRD-K77908580    110\n",
      "BRD-K64890080    104\n",
      "BRD-K87909389    100\n",
      "BRD-K57080016     99\n",
      "BRD-K35960502     95\n",
      "BRD-K69932463     95\n",
      "BRD-A61304759     94\n",
      "BRD-A35588707     92\n",
      "BRD-K24132293     92\n",
      "BRD-A13084692     89\n",
      "BRD-K64606589     88\n",
      "BRD-K67868012     85\n",
      "BRD-A13122391     84\n",
      "BRD-K15108141     84\n",
      "BRD-K71879491     84\n",
      "BRD-K18910433     83\n",
      "BRD-A71390734     82\n",
      "BRD-K77987382     82\n",
      "BRD-K85606544     82\n",
      "BRD-K21680192     81\n",
      "BRD-K56343971     80\n",
      "BRD-A15079084     80\n",
      "BRD-A90490067     80\n",
      "BRD-K12502280     79\n",
      "BRD-K12184916     79\n",
      "BRD-A36630025     79\n",
      "BRD-K36740062     78\n",
      "BRD-K50140147     78\n",
      "BRD-K31342827     78\n",
      "BRD-K01877528     77\n",
      "BRD-K92317137     77\n",
      "BRD-A45889380     76\n",
      "BRD-A52650764     76\n",
      "BRD-K89732114     76\n",
      "BRD-K93754473     76\n",
      "BRD-K00615600     75\n",
      "BRD-K74305673     75\n",
      "Name: sig_id, dtype: int64\n"
     ]
    },
    {
     "data": {
      "text/plain": [
       "<matplotlib.axes._subplots.AxesSubplot at 0x10f8199d0>"
      ]
     },
     "execution_count": 9,
     "metadata": {},
     "output_type": "execute_result"
    },
    {
     "data": {
      "image/png": "[encoded data removed]",
      "text/plain": [
       "<matplotlib.figure.Figure at 0x110ce05d0>"
      ]
     },
     "metadata": {},
     "output_type": "display_data"
    }
   ],
   "source": [
    "# filter out pert_id with less than 5 signatures\n",
    "pert_id_counts = sig_meta_df.reset_index().groupby('pert_id')['sig_id'].count()\n",
    "print pert_id_counts.sort_values(ascending=False)[:50]\n",
    "sns.distplot(pert_id_counts)"
   ]
  },
  {
   "cell_type": "code",
   "execution_count": null,
   "metadata": {
    "collapsed": true
   },
   "outputs": [],
   "source": []
  },
  {
   "cell_type": "code",
   "execution_count": null,
   "metadata": {
    "collapsed": true
   },
   "outputs": [],
   "source": [
    "pert_ids_kept = pert_id_counts[pert_id_counts > 0].index.tolist()\n",
    "# pert_ids_kept = pert_id_counts[pert_id_counts > 3].index.tolist()\n",
    "print 'Number of pert_id to keep: %d' % len(pert_ids_kept)"
   ]
  },
  {
   "cell_type": "code",
   "execution_count": 12,
   "metadata": {},
   "outputs": [
    {
     "name": "stdout",
     "output_type": "stream",
     "text": [
      "(48098, 3)\n",
      "Number of sig_id to keep: 48098\n"
     ]
    }
   ],
   "source": [
    "grouped_sorted = grouped_sorted[pert_ids_kept].reset_index()\n",
    "print grouped_sorted.shape\n",
    "n_sigs = grouped_sorted.shape[0]\n",
    "print 'Number of sig_id to keep: %d' % n_sigs\n"
   ]
  },
  {
   "cell_type": "code",
   "execution_count": 9,
   "metadata": {},
   "outputs": [
    {
     "data": {
      "text/html": [
       "<div>\n",
       "<style>\n",
       "    .dataframe thead tr:only-child th {\n",
       "        text-align: right;\n",
       "    }\n",
       "\n",
       "    .dataframe thead th {\n",
       "        text-align: left;\n",
       "    }\n",
       "\n",
       "    .dataframe tbody tr th {\n",
       "        vertical-align: top;\n",
       "    }\n",
       "</style>\n",
       "<table border=\"1\" class=\"dataframe\">\n",
       "  <thead>\n",
       "    <tr style=\"text-align: right;\">\n",
       "      <th></th>\n",
       "      <th>pert_id</th>\n",
       "      <th>sig_id</th>\n",
       "      <th>pvalue</th>\n",
       "    </tr>\n",
       "  </thead>\n",
       "  <tbody>\n",
       "    <tr>\n",
       "      <th>0</th>\n",
       "      <td>BRD-A00420644</td>\n",
       "      <td>CPC019_A549_24H:BRD-A00420644-001-01-7:10</td>\n",
       "      <td>0.0</td>\n",
       "    </tr>\n",
       "    <tr>\n",
       "      <th>1</th>\n",
       "      <td>BRD-A00420644</td>\n",
       "      <td>CPC019_HCC515_6H:BRD-A00420644-001-01-7:10</td>\n",
       "      <td>0.0</td>\n",
       "    </tr>\n",
       "    <tr>\n",
       "      <th>2</th>\n",
       "      <td>BRD-A00420644</td>\n",
       "      <td>CPC019_MCF7_6H:BRD-A00420644-001-01-7:10</td>\n",
       "      <td>0.0</td>\n",
       "    </tr>\n",
       "    <tr>\n",
       "      <th>3</th>\n",
       "      <td>BRD-A00420644</td>\n",
       "      <td>CPC019_VCAP_24H:BRD-A00420644-001-01-7:10</td>\n",
       "      <td>0.0</td>\n",
       "    </tr>\n",
       "    <tr>\n",
       "      <th>4</th>\n",
       "      <td>BRD-A00420644</td>\n",
       "      <td>CPC019_HT29_6H:BRD-A00420644-001-01-7:10</td>\n",
       "      <td>0.0</td>\n",
       "    </tr>\n",
       "  </tbody>\n",
       "</table>\n",
       "</div>"
      ],
      "text/plain": [
       "         pert_id                                      sig_id  pvalue\n",
       "0  BRD-A00420644   CPC019_A549_24H:BRD-A00420644-001-01-7:10     0.0\n",
       "1  BRD-A00420644  CPC019_HCC515_6H:BRD-A00420644-001-01-7:10     0.0\n",
       "2  BRD-A00420644    CPC019_MCF7_6H:BRD-A00420644-001-01-7:10     0.0\n",
       "3  BRD-A00420644   CPC019_VCAP_24H:BRD-A00420644-001-01-7:10     0.0\n",
       "4  BRD-A00420644    CPC019_HT29_6H:BRD-A00420644-001-01-7:10     0.0"
      ]
     },
     "execution_count": 9,
     "metadata": {},
     "output_type": "execute_result"
    }
   ],
   "source": [
    "grouped_sorted.head()"
   ]
  },
  {
   "cell_type": "code",
   "execution_count": 10,
   "metadata": {},
   "outputs": [
    {
     "data": {
      "text/plain": [
       "<matplotlib.axes._subplots.AxesSubplot at 0x1108eca10>"
      ]
     },
     "execution_count": 10,
     "metadata": {},
     "output_type": "execute_result"
    },
    {
     "data": {
      "image/png": "[encoded data removed]",
      "text/plain": [
       "<matplotlib.figure.Figure at 0x107130a50>"
      ]
     },
     "metadata": {},
     "output_type": "display_data"
    }
   ],
   "source": [
    "sns.distplot(grouped_sorted['pvalue'])"
   ]
  },
  {
   "cell_type": "code",
   "execution_count": 11,
   "metadata": {
    "collapsed": true
   },
   "outputs": [],
   "source": [
    "def retrieve_sig_mat(sig_ids, coll, key):\n",
    "    '''Retrieve signatures matrix from MongoDB'''\n",
    "    # Retrieve signature matrix\n",
    "    sig_mat = np.zeros((len(sig_ids), 978))\n",
    "    for i, sig_id in enumerate(sig_ids): \n",
    "        doc = coll.find_one({'sig_id': sig_id}, {'_id':False, key:True})\n",
    "        sig_mat[i] = doc[key]\n",
    "        if i % 5000 == 0:\n",
    "            print i, len(sig_ids)\n",
    "    return sig_mat"
   ]
  },
  {
   "cell_type": "code",
   "execution_count": 12,
   "metadata": {},
   "outputs": [
    {
     "name": "stdout",
     "output_type": "stream",
     "text": [
      "0 34434\n",
      "5000 34434\n",
      "10000 34434\n",
      "15000 34434\n",
      "20000 34434\n",
      "25000 34434\n",
      "30000 34434\n",
      "(34434, 978)\n"
     ]
    }
   ],
   "source": [
    "## Extract signature matrix\n",
    "mat = retrieve_sig_mat(grouped_sorted['sig_id'], coll, 'CD_center_LM')\n",
    "print mat.shape"
   ]
  },
  {
   "cell_type": "code",
   "execution_count": 13,
   "metadata": {
    "collapsed": true
   },
   "outputs": [],
   "source": [
    "def compute_adjcency_mat(X, metric='cosine'):\n",
    "    adj_mat = 1 - pairwise_distances(X, metric=metric)\n",
    "    # remove 1's on the diagnal\n",
    "    adj_mat -= np.eye(X.shape[0])\n",
    "    ## convert negative values in adj_mat to 0's\n",
    "    adj_mat[adj_mat<0] = 0    \n",
    "    return adj_mat\n",
    "\n",
    "def create_graph_by_threshold(adj_mat, percentile):\n",
    "    triu_idx = np.tril_indices(adj_mat.shape[0], 1)\n",
    "    thresold = np.percentile(adj_mat[triu_idx], percentile)\n",
    "    adj_mat_ = adj_mat.copy()\n",
    "    adj_mat_[adj_mat<thresold] = 0\n",
    "    G = nx.from_numpy_matrix(adj_mat_)\n",
    "    return G\n",
    "\n",
    "def create_knn_graph(X, k=30, metric='euclidean', n_jobs=1):\n",
    "    '''Create a graph from a data matrix (sample x features).\n",
    "    '''\n",
    "    adj_mat = neighbors.kneighbors_graph(X, k, mode='connectivity', \n",
    "                                         metric=metric,\n",
    "                                         n_jobs=n_jobs\n",
    "                                        )\n",
    "    G = nx.from_scipy_sparse_matrix(adj_mat)\n",
    "    return G\n"
   ]
  },
  {
   "cell_type": "code",
   "execution_count": 19,
   "metadata": {},
   "outputs": [
    {
     "name": "stdout",
     "output_type": "stream",
     "text": [
      "(34434, 34434)\n"
     ]
    }
   ],
   "source": [
    "# Compute the pairwise cosine distance and convert to adjacency matrix\n",
    "adj_mat = 1 - pairwise_distances(mat, metric='cosine',\n",
    "                                n_jobs=1)\n",
    "print adj_mat.shape"
   ]
  },
  {
   "cell_type": "code",
   "execution_count": 20,
   "metadata": {
    "collapsed": true
   },
   "outputs": [],
   "source": [
    "del mat"
   ]
  },
  {
   "cell_type": "code",
   "execution_count": 27,
   "metadata": {
    "collapsed": true
   },
   "outputs": [],
   "source": [
    "k = 3"
   ]
  },
  {
   "cell_type": "code",
   "execution_count": 28,
   "metadata": {},
   "outputs": [
    {
     "name": "stdout",
     "output_type": "stream",
     "text": [
      "34434 88913\n"
     ]
    }
   ],
   "source": [
    "# Create a graph by kNN\n",
    "G = create_knn_graph(mat, k=k, n_jobs=6)\n",
    "print G.number_of_nodes(), G.number_of_edges()"
   ]
  },
  {
   "cell_type": "code",
   "execution_count": 6,
   "metadata": {},
   "outputs": [
    {
     "data": {
      "text/plain": [
       "<matplotlib.axes.AxesSubplot at 0x11323c090>"
      ]
     },
     "execution_count": 6,
     "metadata": {},
     "output_type": "execute_result"
    },
    {
     "data": {
      "image/png": "[encoded data removed]",
      "text/plain": [
       "<matplotlib.figure.Figure at 0x109bef250>"
      ]
     },
     "metadata": {},
     "output_type": "display_data"
    }
   ],
   "source": [
    "sns.distplot(adj_mat.ravel())"
   ]
  },
  {
   "cell_type": "code",
   "execution_count": 21,
   "metadata": {},
   "outputs": [
    {
     "name": "stdout",
     "output_type": "stream",
     "text": [
      "[[ 1.          0.19972239  0.11240999  0.06357018  0.27353767]\n",
      " [ 0.19972239  1.          0.24668629  0.01336093  0.30280702]\n",
      " [ 0.11240999  0.24668629  1.          0.06284576  0.26836507]\n",
      " [ 0.06357018  0.01336093  0.06284576  1.          0.07616437]\n",
      " [ 0.27353767  0.30280702  0.26836507  0.07616437  1.        ]]\n"
     ]
    }
   ],
   "source": [
    "print adj_mat[:5, :5]"
   ]
  },
  {
   "cell_type": "code",
   "execution_count": 22,
   "metadata": {},
   "outputs": [
    {
     "name": "stdout",
     "output_type": "stream",
     "text": [
      "[[  2.22044605e-16   1.99722389e-01   1.12409986e-01   6.35701792e-02\n",
      "    2.73537672e-01]\n",
      " [  1.99722389e-01   8.88178420e-16   2.46686287e-01   1.33609281e-02\n",
      "    3.02807020e-01]\n",
      " [  1.12409986e-01   2.46686287e-01   2.22044605e-16   6.28457608e-02\n",
      "    2.68365074e-01]\n",
      " [  6.35701792e-02   1.33609281e-02   6.28457608e-02   0.00000000e+00\n",
      "    7.61643687e-02]\n",
      " [  2.73537672e-01   3.02807020e-01   2.68365074e-01   7.61643687e-02\n",
      "    4.44089210e-16]]\n"
     ]
    }
   ],
   "source": [
    "## remove 1's on the diagnal\n",
    "adj_mat = adj_mat - np.eye(adj_mat.shape[0])\n",
    "## convert negative values in adj_mat to 0's\n",
    "adj_mat[adj_mat<0] = 0\n",
    "print adj_mat[:5, :5]"
   ]
  },
  {
   "cell_type": "code",
   "execution_count": 23,
   "metadata": {},
   "outputs": [
    {
     "name": "stdout",
     "output_type": "stream",
     "text": [
      "0 0.0\n",
      "5 0.0\n",
      "10"
     ]
    },
    {
     "ename": "KeyboardInterrupt",
     "evalue": "",
     "output_type": "error",
     "traceback": [
      "\u001b[0;31m---------------------------------------------------------------------------\u001b[0m",
      "\u001b[0;31mKeyboardInterrupt\u001b[0m                         Traceback (most recent call last)",
      "\u001b[0;32m<ipython-input-23-4438b9692f46>\u001b[0m in \u001b[0;36m<module>\u001b[0;34m()\u001b[0m\n\u001b[1;32m      1\u001b[0m \u001b[0;32mfor\u001b[0m \u001b[0mpercent\u001b[0m \u001b[0;32min\u001b[0m \u001b[0mnp\u001b[0m\u001b[0;34m.\u001b[0m\u001b[0marange\u001b[0m\u001b[0;34m(\u001b[0m\u001b[0;36m0\u001b[0m\u001b[0;34m,\u001b[0m\u001b[0;36m100\u001b[0m\u001b[0;34m,\u001b[0m \u001b[0;36m5\u001b[0m\u001b[0;34m)\u001b[0m\u001b[0;34m:\u001b[0m\u001b[0;34m\u001b[0m\u001b[0m\n\u001b[0;32m----> 2\u001b[0;31m     \u001b[0;32mprint\u001b[0m \u001b[0mpercent\u001b[0m\u001b[0;34m,\u001b[0m \u001b[0mnp\u001b[0m\u001b[0;34m.\u001b[0m\u001b[0mpercentile\u001b[0m\u001b[0;34m(\u001b[0m\u001b[0madj_mat\u001b[0m\u001b[0;34m.\u001b[0m\u001b[0mravel\u001b[0m\u001b[0;34m(\u001b[0m\u001b[0;34m)\u001b[0m\u001b[0;34m,\u001b[0m \u001b[0mpercent\u001b[0m\u001b[0;34m)\u001b[0m\u001b[0;34m\u001b[0m\u001b[0m\n\u001b[0m",
      "\u001b[0;32m/usr/local/lib/python2.7/site-packages/numpy/lib/function_base.pyc\u001b[0m in \u001b[0;36mpercentile\u001b[0;34m(a, q, axis, out, overwrite_input, interpolation, keepdims)\u001b[0m\n\u001b[1;32m   4267\u001b[0m     r, k = _ureduce(a, func=_percentile, q=q, axis=axis, out=out,\n\u001b[1;32m   4268\u001b[0m                     \u001b[0moverwrite_input\u001b[0m\u001b[0;34m=\u001b[0m\u001b[0moverwrite_input\u001b[0m\u001b[0;34m,\u001b[0m\u001b[0;34m\u001b[0m\u001b[0m\n\u001b[0;32m-> 4269\u001b[0;31m                     interpolation=interpolation)\n\u001b[0m\u001b[1;32m   4270\u001b[0m     \u001b[0;32mif\u001b[0m \u001b[0mkeepdims\u001b[0m\u001b[0;34m:\u001b[0m\u001b[0;34m\u001b[0m\u001b[0m\n\u001b[1;32m   4271\u001b[0m         \u001b[0;32mif\u001b[0m \u001b[0mq\u001b[0m\u001b[0;34m.\u001b[0m\u001b[0mndim\u001b[0m \u001b[0;34m==\u001b[0m \u001b[0;36m0\u001b[0m\u001b[0;34m:\u001b[0m\u001b[0;34m\u001b[0m\u001b[0m\n",
      "\u001b[0;32m/usr/local/lib/python2.7/site-packages/numpy/lib/function_base.pyc\u001b[0m in \u001b[0;36m_ureduce\u001b[0;34m(a, func, **kwargs)\u001b[0m\n\u001b[1;32m   4009\u001b[0m         \u001b[0mkeepdim\u001b[0m \u001b[0;34m=\u001b[0m \u001b[0;34m[\u001b[0m\u001b[0;36m1\u001b[0m\u001b[0;34m]\u001b[0m \u001b[0;34m*\u001b[0m \u001b[0ma\u001b[0m\u001b[0;34m.\u001b[0m\u001b[0mndim\u001b[0m\u001b[0;34m\u001b[0m\u001b[0m\n\u001b[1;32m   4010\u001b[0m \u001b[0;34m\u001b[0m\u001b[0m\n\u001b[0;32m-> 4011\u001b[0;31m     \u001b[0mr\u001b[0m \u001b[0;34m=\u001b[0m \u001b[0mfunc\u001b[0m\u001b[0;34m(\u001b[0m\u001b[0ma\u001b[0m\u001b[0;34m,\u001b[0m \u001b[0;34m**\u001b[0m\u001b[0mkwargs\u001b[0m\u001b[0;34m)\u001b[0m\u001b[0;34m\u001b[0m\u001b[0m\n\u001b[0m\u001b[1;32m   4012\u001b[0m     \u001b[0;32mreturn\u001b[0m \u001b[0mr\u001b[0m\u001b[0;34m,\u001b[0m \u001b[0mkeepdim\u001b[0m\u001b[0;34m\u001b[0m\u001b[0m\n\u001b[1;32m   4013\u001b[0m \u001b[0;34m\u001b[0m\u001b[0m\n",
      "\u001b[0;32m/usr/local/lib/python2.7/site-packages/numpy/lib/function_base.pyc\u001b[0m in \u001b[0;36m_percentile\u001b[0;34m(a, q, axis, out, overwrite_input, interpolation, keepdims)\u001b[0m\n\u001b[1;32m   4307\u001b[0m     \u001b[0;32melse\u001b[0m\u001b[0;34m:\u001b[0m\u001b[0;34m\u001b[0m\u001b[0m\n\u001b[1;32m   4308\u001b[0m         \u001b[0;32mif\u001b[0m \u001b[0maxis\u001b[0m \u001b[0;32mis\u001b[0m \u001b[0mNone\u001b[0m\u001b[0;34m:\u001b[0m\u001b[0;34m\u001b[0m\u001b[0m\n\u001b[0;32m-> 4309\u001b[0;31m             \u001b[0map\u001b[0m \u001b[0;34m=\u001b[0m \u001b[0ma\u001b[0m\u001b[0;34m.\u001b[0m\u001b[0mflatten\u001b[0m\u001b[0;34m(\u001b[0m\u001b[0;34m)\u001b[0m\u001b[0;34m\u001b[0m\u001b[0m\n\u001b[0m\u001b[1;32m   4310\u001b[0m         \u001b[0;32melse\u001b[0m\u001b[0;34m:\u001b[0m\u001b[0;34m\u001b[0m\u001b[0m\n\u001b[1;32m   4311\u001b[0m             \u001b[0map\u001b[0m \u001b[0;34m=\u001b[0m \u001b[0ma\u001b[0m\u001b[0;34m.\u001b[0m\u001b[0mcopy\u001b[0m\u001b[0;34m(\u001b[0m\u001b[0;34m)\u001b[0m\u001b[0;34m\u001b[0m\u001b[0m\n",
      "\u001b[0;31mKeyboardInterrupt\u001b[0m: "
     ]
    }
   ],
   "source": [
    "for percent in np.arange(0,100, 5):\n",
    "    print percent, np.percentile(adj_mat.ravel(), percent)"
   ]
  },
  {
   "cell_type": "code",
   "execution_count": 34,
   "metadata": {},
   "outputs": [
    {
     "name": "stdout",
     "output_type": "stream",
     "text": [
      "99.95 0.387579934361\n",
      "34434 296426\n"
     ]
    },
    {
     "data": {
      "text/plain": [
       "<matplotlib.axes._subplots.AxesSubplot at 0x126bb6610>"
      ]
     },
     "execution_count": 34,
     "metadata": {},
     "output_type": "execute_result"
    },
    {
     "data": {
      "image/png": "[encoded data removed]",
      "text/plain": [
       "<matplotlib.figure.Figure at 0x10f14bb50>"
      ]
     },
     "metadata": {},
     "output_type": "display_data"
    }
   ],
   "source": [
    "# Create a undirected graph from the adj_mat by first setting values smaller than cutoff to 0's \n",
    "# to control number of edges.\n",
    "percentile_cutoff = 99.95\n",
    "cosine_similarity_cutoff = np.percentile(adj_mat.ravel(), percentile_cutoff)\n",
    "\n",
    "print percentile_cutoff, cosine_similarity_cutoff\n",
    "\n",
    "adj_mat_ = adj_mat.copy()\n",
    "adj_mat_[adj_mat_<cosine_similarity_cutoff] = 0\n",
    "\n",
    "G = nx.from_numpy_matrix(adj_mat_)\n",
    "del adj_mat_\n",
    "\n",
    "print G.number_of_nodes(), G.number_of_edges()\n",
    "plot_degree_distribution(G)"
   ]
  },
  {
   "cell_type": "code",
   "execution_count": null,
   "metadata": {
    "collapsed": true
   },
   "outputs": [],
   "source": []
  },
  {
   "cell_type": "code",
   "execution_count": 21,
   "metadata": {},
   "outputs": [
    {
     "name": "stdout",
     "output_type": "stream",
     "text": [
      "34434\n",
      "[0, 1, 2, 3, 4]\n"
     ]
    }
   ],
   "source": [
    "## Examine number of large connected components\n",
    "for cc in nx.connected_component_subgraphs(G):\n",
    "    if cc.number_of_nodes() > 10:\n",
    "        print cc.number_of_nodes()\n",
    "        print cc.nodes()[:5]"
   ]
  },
  {
   "cell_type": "code",
   "execution_count": 29,
   "metadata": {},
   "outputs": [
    {
     "name": "stdout",
     "output_type": "stream",
     "text": [
      "34406 88865\n"
     ]
    }
   ],
   "source": [
    "## Create a new graph only keeping the large connected components\n",
    "G_new = nx.Graph()\n",
    "for cc in nx.connected_component_subgraphs(G):\n",
    "    if cc.number_of_nodes() > 10:\n",
    "        G_new = nx.compose(G_new, cc)\n",
    "\n",
    "print G_new.number_of_nodes(), G_new.number_of_edges()"
   ]
  },
  {
   "cell_type": "code",
   "execution_count": 30,
   "metadata": {},
   "outputs": [
    {
     "name": "stdout",
     "output_type": "stream",
     "text": [
      "['CPC014_HCC515_6H:BRD-K50168500-001-01-2:10', 'CPC019_PC3_24H:BRD-K30849099-001-07-6:10', 'CPC004_HCC515_6H:BRD-A27554692-001-01-3:10', 'CPC006_NCIH1694_6H:BRD-K17349619-003-01-4:10', 'CPC015_NPC_24H:BRD-A72596465-001-01-3:10']\n"
     ]
    }
   ],
   "source": [
    "# Relabel nodes with sig_ids\n",
    "sig_ids_shared = grouped_sorted['sig_id'].tolist()\n",
    "d_id_sig_id = dict(zip(range(len(sig_ids_shared)), sig_ids_shared))\n",
    "d_id_sig_id = {nid: sig_id for nid, sig_id in d_id_sig_id.items() if G_new.has_node(nid)}\n",
    "nx.relabel_nodes(G_new, d_id_sig_id, copy=False)\n",
    "print G_new.nodes()[:5]"
   ]
  },
  {
   "cell_type": "code",
   "execution_count": 10,
   "metadata": {
    "collapsed": true
   },
   "outputs": [],
   "source": [
    "# nx.write_gexf(G, 'test.gexf')"
   ]
  },
  {
   "cell_type": "code",
   "execution_count": 31,
   "metadata": {
    "collapsed": true
   },
   "outputs": [],
   "source": [
    "# nx.write_gml(G_new, 'Signature_Graph_CD_center_LM_%dnodes_%s.gml' % (G_new.number_of_nodes(), percentile_cutoff))\n",
    "nx.write_gml(G_new, 'Signature_Graph_CD_center_LM_%dnodes_kNN%d.gml' % (G_new.number_of_nodes(), k))"
   ]
  }
 ],
 "metadata": {
  "kernelspec": {
   "display_name": "Python 2",
   "language": "python",
   "name": "python2"
  },
  "language_info": {
   "codemirror_mode": {
    "name": "ipython",
    "version": 2
   },
   "file_extension": ".py",
   "mimetype": "text/x-python",
   "name": "python",
   "nbconvert_exporter": "python",
   "pygments_lexer": "ipython2",
   "version": "2.7.11"
  }
 },
 "nbformat": 4,
 "nbformat_minor": 2
}
