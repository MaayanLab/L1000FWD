{
 "cells": [
  {
   "cell_type": "markdown",
   "metadata": {},
   "source": [
    "# Make signature network using the `CD_center_LM` signatures "
   ]
  },
  {
   "cell_type": "code",
   "execution_count": 1,
   "metadata": {},
   "outputs": [],
   "source": [
    "import os, sys, json\n",
    "from collections import Counter\n",
    "import numpy as np\n",
    "import pandas as pd\n",
    "import networkx as nx\n",
    "from sklearn.metrics.pairwise import pairwise_distances\n",
    "from scipy.spatial import distance as dist\n",
    "from sklearn import neighbors\n",
    "from pymongo import MongoClient\n",
    "\n",
    "import matplotlib.pyplot as plt\n",
    "%matplotlib inline\n",
    "import seaborn as sns"
   ]
  },
  {
   "cell_type": "code",
   "execution_count": 2,
   "metadata": {},
   "outputs": [],
   "source": [
    "# Plot degree distribution\n",
    "def plot_degree_distribution(G):\n",
    "    fig, ax = plt.subplots()\n",
    "    \n",
    "    degrees = G.degree().values()\n",
    "    degrees = dict(Counter(degrees))\n",
    "    x = degrees.keys()\n",
    "    y = degrees.values()\n",
    "\n",
    "    ax.scatter(x, y, s=10, alpha=.6)\n",
    "    ax.set_xlabel('Degree', fontsize=12)\n",
    "    ax.set_ylabel('Count', fontsize=12)    \n",
    "    ax.set_xscale('log')\n",
    "    ax.set_yscale('log')\n",
    "    return ax\n"
   ]
  },
  {
   "cell_type": "code",
   "execution_count": 3,
   "metadata": {},
   "outputs": [
    {
     "name": "stdout",
     "output_type": "stream",
     "text": [
      "(48098, 4)\n"
     ]
    },
    {
     "data": {
      "text/html": [
       "<div>\n",
       "<style>\n",
       "    .dataframe thead tr:only-child th {\n",
       "        text-align: right;\n",
       "    }\n",
       "\n",
       "    .dataframe thead th {\n",
       "        text-align: left;\n",
       "    }\n",
       "\n",
       "    .dataframe tbody tr th {\n",
       "        vertical-align: top;\n",
       "    }\n",
       "</style>\n",
       "<table border=\"1\" class=\"dataframe\">\n",
       "  <thead>\n",
       "    <tr style=\"text-align: right;\">\n",
       "      <th></th>\n",
       "      <th>pvalue</th>\n",
       "      <th>cell_id</th>\n",
       "      <th>pert_dose</th>\n",
       "      <th>pert_id</th>\n",
       "    </tr>\n",
       "    <tr>\n",
       "      <th>sig_id</th>\n",
       "      <th></th>\n",
       "      <th></th>\n",
       "      <th></th>\n",
       "      <th></th>\n",
       "    </tr>\n",
       "  </thead>\n",
       "  <tbody>\n",
       "    <tr>\n",
       "      <th>LJP001_HS578T_24H:BRD-K52911425-001-04-9:2</th>\n",
       "      <td>0.0028</td>\n",
       "      <td>HS578T</td>\n",
       "      <td>2.0</td>\n",
       "      <td>BRD-K52911425</td>\n",
       "    </tr>\n",
       "    <tr>\n",
       "      <th>LJP001_HS578T_24H:BRD-K69932463-001-05-6:10</th>\n",
       "      <td>0.0483</td>\n",
       "      <td>HS578T</td>\n",
       "      <td>10.0</td>\n",
       "      <td>BRD-K69932463</td>\n",
       "    </tr>\n",
       "    <tr>\n",
       "      <th>LJP001_HS578T_24H:BRD-K85606544-001-04-2:10</th>\n",
       "      <td>0.0007</td>\n",
       "      <td>HS578T</td>\n",
       "      <td>10.0</td>\n",
       "      <td>BRD-K85606544</td>\n",
       "    </tr>\n",
       "    <tr>\n",
       "      <th>LJP001_HS578T_24H:BRD-K72636697-001-01-5:10</th>\n",
       "      <td>0.0000</td>\n",
       "      <td>HS578T</td>\n",
       "      <td>10.0</td>\n",
       "      <td>BRD-K72636697</td>\n",
       "    </tr>\n",
       "    <tr>\n",
       "      <th>LJP001_HS578T_24H:BRD-K13390322-001-02-2:0.4</th>\n",
       "      <td>0.0000</td>\n",
       "      <td>HS578T</td>\n",
       "      <td>0.4</td>\n",
       "      <td>BRD-K13390322</td>\n",
       "    </tr>\n",
       "  </tbody>\n",
       "</table>\n",
       "</div>"
      ],
      "text/plain": [
       "                                              pvalue cell_id  pert_dose  \\\n",
       "sig_id                                                                    \n",
       "LJP001_HS578T_24H:BRD-K52911425-001-04-9:2    0.0028  HS578T        2.0   \n",
       "LJP001_HS578T_24H:BRD-K69932463-001-05-6:10   0.0483  HS578T       10.0   \n",
       "LJP001_HS578T_24H:BRD-K85606544-001-04-2:10   0.0007  HS578T       10.0   \n",
       "LJP001_HS578T_24H:BRD-K72636697-001-01-5:10   0.0000  HS578T       10.0   \n",
       "LJP001_HS578T_24H:BRD-K13390322-001-02-2:0.4  0.0000  HS578T        0.4   \n",
       "\n",
       "                                                    pert_id  \n",
       "sig_id                                                       \n",
       "LJP001_HS578T_24H:BRD-K52911425-001-04-9:2    BRD-K52911425  \n",
       "LJP001_HS578T_24H:BRD-K69932463-001-05-6:10   BRD-K69932463  \n",
       "LJP001_HS578T_24H:BRD-K85606544-001-04-2:10   BRD-K85606544  \n",
       "LJP001_HS578T_24H:BRD-K72636697-001-01-5:10   BRD-K72636697  \n",
       "LJP001_HS578T_24H:BRD-K13390322-001-02-2:0.4  BRD-K13390322  "
      ]
     },
     "execution_count": 3,
     "metadata": {},
     "output_type": "execute_result"
    }
   ],
   "source": [
    "## Load signature metadata mongodb\n",
    "client = MongoClient('mongodb://146.203.54.131:27017/')\n",
    "coll = client['L1000FWD']['sigs']\n",
    "cur = coll.find({'SCS_centered_by_batch': {'$lt': 0.05}},  \n",
    "                {'_id':False, \n",
    "                 'sig_id':True, \n",
    "                 'SCS_centered_by_batch':True,\n",
    "                 'pert_id':True,\n",
    "                 'cell_id':True,\n",
    "                 'pert_dose':True,\n",
    "                })\n",
    "\n",
    "sig_meta_df = pd.DataFrame([doc for doc in cur]).set_index('sig_id')\n",
    "sig_meta_df.rename(index=str,columns={'SCS_centered_by_batch':'pvalue'}, inplace=True)\n",
    "print sig_meta_df.shape\n",
    "sig_meta_df.head()"
   ]
  },
  {
   "cell_type": "code",
   "execution_count": 4,
   "metadata": {
    "collapsed": true
   },
   "outputs": [],
   "source": [
    "# sig_meta_df['batch'] = sig_meta_df.index.map(lambda x:x.split(':')[0])\n",
    "# sig_meta_df['time'] = sig_meta_df['batch'].map(lambda x:x.split('_')[2].strip('H'))\n",
    "# sig_meta_df.to_csv('../data/metadata-L1000FWD.tsv', sep='\\t')"
   ]
  },
  {
   "cell_type": "code",
   "execution_count": 4,
   "metadata": {},
   "outputs": [
    {
     "name": "stdout",
     "output_type": "stream",
     "text": [
      "(34502,)\n"
     ]
    },
    {
     "data": {
      "text/plain": [
       "pert_id        sig_id                                   \n",
       "BRD-A00100033  CPC015_PHH_24H:BRD-A00100033-001-04-8:10     0.0203\n",
       "BRD-A00267231  CPC001_PC3_6H:BRD-A00267231-001-01-1:10      0.0007\n",
       "               CPC001_HA1E_24H:BRD-A00267231-001-01-1:10    0.0022\n",
       "               CPC017_ASC_24H:BRD-A00267231-001-01-1:10     0.0126\n",
       "               CPC017_A549_6H:BRD-A00267231-001-01-1:10     0.0228\n",
       "Name: pvalue, dtype: float64"
      ]
     },
     "execution_count": 4,
     "metadata": {},
     "output_type": "execute_result"
    }
   ],
   "source": [
    "# Get the top 50 significant signatures for each pert_id\n",
    "def pick_top_sigs(x):\n",
    "    x = x.sort_values(ascending=True)\n",
    "    n_significants = (x < 0.05).sum()\n",
    "    if n_significants == 0:\n",
    "        return x.head(2)\n",
    "    else:\n",
    "        return x.head(n_significants)\n",
    "\n",
    "# grouped_sorted = sig_meta_df.groupby('pert_id')['pvalue'].apply(pick_top_sigs)\n",
    "\n",
    "grouped_sorted = sig_meta_df.groupby('pert_id')['pvalue'].apply(lambda x: x.sort_values(ascending=True).head(20))\n",
    "\n",
    "print grouped_sorted.shape\n",
    "grouped_sorted.head()"
   ]
  },
  {
   "cell_type": "code",
   "execution_count": 5,
   "metadata": {
    "scrolled": true
   },
   "outputs": [
    {
     "name": "stdout",
     "output_type": "stream",
     "text": [
      "pert_id\n",
      "BRD-K03109492    20\n",
      "BRD-K64890080    20\n",
      "BRD-K59962020    20\n",
      "BRD-K59469039    20\n",
      "BRD-A48237631    20\n",
      "BRD-K59369769    20\n",
      "BRD-K59184148    20\n",
      "BRD-K58772419    20\n",
      "BRD-A11678676    20\n",
      "BRD-A49680073    20\n",
      "BRD-K57080016    20\n",
      "BRD-K57011718    20\n",
      "BRD-K56957086    20\n",
      "BRD-K56700933    20\n",
      "BRD-K56477805    20\n",
      "BRD-K56411643    20\n",
      "BRD-K56343971    20\n",
      "BRD-A50737080    20\n",
      "BRD-K92093830    20\n",
      "BRD-K56301217    20\n",
      "BRD-K55468218    20\n",
      "BRD-K55127134    20\n",
      "BRD-K92241597    20\n",
      "BRD-K92301463    20\n",
      "BRD-K92317137    20\n",
      "BRD-A52530684    20\n",
      "BRD-A52650764    20\n",
      "BRD-K92428232    20\n",
      "BRD-K54256913    20\n",
      "BRD-K54233340    20\n",
      "BRD-K53972329    20\n",
      "BRD-K91623615    20\n",
      "BRD-K60219430    20\n",
      "BRD-K60230970    20\n",
      "BRD-A43331270    20\n",
      "BRD-K64800655    20\n",
      "BRD-K64642496    20\n",
      "BRD-K64634304    20\n",
      "BRD-K64606589    20\n",
      "BRD-K64052750    20\n",
      "BRD-K64024097    20\n",
      "BRD-K90826279    20\n",
      "BRD-K63923597    20\n",
      "BRD-K63828191    20\n",
      "BRD-K63675182    20\n",
      "BRD-A13122391    20\n",
      "BRD-K90999434    20\n",
      "BRD-A13084692    20\n",
      "BRD-K63195589    20\n",
      "BRD-K91509126    20\n",
      "Name: sig_id, dtype: int64\n"
     ]
    },
    {
     "data": {
      "text/plain": [
       "<matplotlib.axes._subplots.AxesSubplot at 0x7f8c422b9b10>"
      ]
     },
     "execution_count": 5,
     "metadata": {},
     "output_type": "execute_result"
    },
    {
     "data": {
      "image/png": "[encoded data removed]",
      "text/plain": [
       "<matplotlib.figure.Figure at 0x7f8c424db650>"
      ]
     },
     "metadata": {},
     "output_type": "display_data"
    }
   ],
   "source": [
    "# filter out pert_id with less than 5 signatures\n",
    "pert_id_counts = grouped_sorted.reset_index().groupby('pert_id')['sig_id'].count()\n",
    "print pert_id_counts.sort_values(ascending=False)[:50]\n",
    "sns.distplot(pert_id_counts)"
   ]
  },
  {
   "cell_type": "code",
   "execution_count": null,
   "metadata": {
    "collapsed": true
   },
   "outputs": [],
   "source": []
  },
  {
   "cell_type": "code",
   "execution_count": 7,
   "metadata": {},
   "outputs": [
    {
     "name": "stdout",
     "output_type": "stream",
     "text": [
      "Number of pert_id to keep: 4944\n"
     ]
    }
   ],
   "source": [
    "pert_ids_kept = pert_id_counts[pert_id_counts > 0].index.tolist()\n",
    "# pert_ids_kept = pert_id_counts[pert_id_counts > 10].index.tolist()\n",
    "print 'Number of pert_id to keep: %d' % len(pert_ids_kept)"
   ]
  },
  {
   "cell_type": "code",
   "execution_count": 8,
   "metadata": {},
   "outputs": [
    {
     "name": "stdout",
     "output_type": "stream",
     "text": [
      "(34502, 3)\n",
      "Number of sig_id to keep: 34502\n"
     ]
    }
   ],
   "source": [
    "grouped_sorted = grouped_sorted[pert_ids_kept].reset_index()\n",
    "print grouped_sorted.shape\n",
    "n_sigs = grouped_sorted.shape[0]\n",
    "print 'Number of sig_id to keep: %d' % n_sigs\n"
   ]
  },
  {
   "cell_type": "code",
   "execution_count": 9,
   "metadata": {},
   "outputs": [
    {
     "data": {
      "text/html": [
       "<div>\n",
       "<style>\n",
       "    .dataframe thead tr:only-child th {\n",
       "        text-align: right;\n",
       "    }\n",
       "\n",
       "    .dataframe thead th {\n",
       "        text-align: left;\n",
       "    }\n",
       "\n",
       "    .dataframe tbody tr th {\n",
       "        vertical-align: top;\n",
       "    }\n",
       "</style>\n",
       "<table border=\"1\" class=\"dataframe\">\n",
       "  <thead>\n",
       "    <tr style=\"text-align: right;\">\n",
       "      <th></th>\n",
       "      <th>pert_id</th>\n",
       "      <th>sig_id</th>\n",
       "      <th>pvalue</th>\n",
       "    </tr>\n",
       "  </thead>\n",
       "  <tbody>\n",
       "    <tr>\n",
       "      <th>0</th>\n",
       "      <td>BRD-A00100033</td>\n",
       "      <td>CPC015_PHH_24H:BRD-A00100033-001-04-8:10</td>\n",
       "      <td>0.0203</td>\n",
       "    </tr>\n",
       "    <tr>\n",
       "      <th>1</th>\n",
       "      <td>BRD-A00267231</td>\n",
       "      <td>CPC001_PC3_6H:BRD-A00267231-001-01-1:10</td>\n",
       "      <td>0.0007</td>\n",
       "    </tr>\n",
       "    <tr>\n",
       "      <th>2</th>\n",
       "      <td>BRD-A00267231</td>\n",
       "      <td>CPC001_HA1E_24H:BRD-A00267231-001-01-1:10</td>\n",
       "      <td>0.0022</td>\n",
       "    </tr>\n",
       "    <tr>\n",
       "      <th>3</th>\n",
       "      <td>BRD-A00267231</td>\n",
       "      <td>CPC017_ASC_24H:BRD-A00267231-001-01-1:10</td>\n",
       "      <td>0.0126</td>\n",
       "    </tr>\n",
       "    <tr>\n",
       "      <th>4</th>\n",
       "      <td>BRD-A00267231</td>\n",
       "      <td>CPC017_A549_6H:BRD-A00267231-001-01-1:10</td>\n",
       "      <td>0.0228</td>\n",
       "    </tr>\n",
       "  </tbody>\n",
       "</table>\n",
       "</div>"
      ],
      "text/plain": [
       "         pert_id                                     sig_id  pvalue\n",
       "0  BRD-A00100033   CPC015_PHH_24H:BRD-A00100033-001-04-8:10  0.0203\n",
       "1  BRD-A00267231    CPC001_PC3_6H:BRD-A00267231-001-01-1:10  0.0007\n",
       "2  BRD-A00267231  CPC001_HA1E_24H:BRD-A00267231-001-01-1:10  0.0022\n",
       "3  BRD-A00267231   CPC017_ASC_24H:BRD-A00267231-001-01-1:10  0.0126\n",
       "4  BRD-A00267231   CPC017_A549_6H:BRD-A00267231-001-01-1:10  0.0228"
      ]
     },
     "execution_count": 9,
     "metadata": {},
     "output_type": "execute_result"
    }
   ],
   "source": [
    "grouped_sorted.head()"
   ]
  },
  {
   "cell_type": "code",
   "execution_count": 10,
   "metadata": {},
   "outputs": [
    {
     "data": {
      "image/png": "[encoded data removed]",
      "text/plain": [
       "<matplotlib.figure.Figure at 0x7f8c424dbc90>"
      ]
     },
     "metadata": {},
     "output_type": "display_data"
    }
   ],
   "source": [
    "plt.hist(grouped_sorted['pvalue']);"
   ]
  },
  {
   "cell_type": "code",
   "execution_count": 11,
   "metadata": {},
   "outputs": [],
   "source": [
    "def retrieve_sig_mat(sig_ids, coll, key):\n",
    "    '''Retrieve signatures matrix from MongoDB'''\n",
    "    # Retrieve signature matrix\n",
    "    sig_mat = np.zeros((len(sig_ids), 978))\n",
    "    for i, sig_id in enumerate(sig_ids): \n",
    "        doc = coll.find_one({'sig_id': sig_id}, {'_id':False, key:True})\n",
    "        sig_mat[i] = doc[key]\n",
    "        if i % 5000 == 0:\n",
    "            print i, len(sig_ids)\n",
    "    return sig_mat"
   ]
  },
  {
   "cell_type": "code",
   "execution_count": 12,
   "metadata": {},
   "outputs": [
    {
     "name": "stdout",
     "output_type": "stream",
     "text": [
      "0 34502\n",
      "5000 34502\n",
      "10000 34502\n",
      "15000 34502\n",
      "20000 34502\n",
      "25000 34502\n",
      "30000 34502\n",
      "(34502, 978)\n"
     ]
    }
   ],
   "source": [
    "## Extract signature matrix\n",
    "mat = retrieve_sig_mat(grouped_sorted['sig_id'], coll, 'CD_center_LM')\n",
    "print mat.shape"
   ]
  },
  {
   "cell_type": "code",
   "execution_count": 18,
   "metadata": {},
   "outputs": [],
   "source": [
    "from scipy.spatial import distance as dist\n",
    "\n",
    "def compute_adjcency_mat(X, metric='cosine'):\n",
    "    adj_mat = dist.squareform(pairwise_distances(X, metric=metric))\n",
    "    adj_mat = 1 - adj_mat\n",
    "    \n",
    "    \n",
    "    # remove 1's on the diagnal\n",
    "#     adj_mat -= np.eye(X.shape[0])\n",
    "    ## convert negative values in adj_mat to 0's\n",
    "    adj_mat[adj_mat<0] = 0\n",
    "    return adj_mat\n",
    "\n",
    "def create_graph_by_threshold(adj_mat, percentile):\n",
    "    thresold = np.percentile(adj_mat, percentile)\n",
    "    adj_mat_ = adj_mat.copy()\n",
    "    adj_mat_[adj_mat<thresold] = 0\n",
    "    G = nx.from_numpy_matrix(dist.squareform(adj_mat_))\n",
    "    return G\n",
    "\n",
    "def create_graph_by_threshold2(adj_mat, cosine_cutoff):\n",
    "    adj_mat_ = adj_mat.copy()\n",
    "    adj_mat_[adj_mat<cosine_cutoff] = 0\n",
    "    G = nx.from_numpy_matrix(dist.squareform(adj_mat))\n",
    "    return G\n",
    "    \n",
    "\n",
    "def create_knn_graph(X, k=30, metric='euclidean', n_jobs=1):\n",
    "    '''Create a graph from a data matrix (sample x features).\n",
    "    '''\n",
    "    adj_mat = neighbors.kneighbors_graph(X, k, mode='connectivity', \n",
    "                                         metric=metric,\n",
    "                                         n_jobs=n_jobs\n",
    "                                        )\n",
    "    G = nx.from_scipy_sparse_matrix(adj_mat)\n",
    "    return G\n"
   ]
  },
  {
   "cell_type": "code",
   "execution_count": 16,
   "metadata": {},
   "outputs": [],
   "source": [
    "def filter_out_small_ccs(G, cutoff=10):\n",
    "    ## Create a new graph only keeping the large connected components\n",
    "    G_new = nx.Graph()\n",
    "    for cc in nx.connected_component_subgraphs(G):\n",
    "        if cc.number_of_nodes() > cutoff:\n",
    "            G_new = nx.compose(G_new, cc)\n",
    "    return G_new"
   ]
  },
  {
   "cell_type": "code",
   "execution_count": 14,
   "metadata": {},
   "outputs": [
    {
     "name": "stdout",
     "output_type": "stream",
     "text": [
      "(595176751,)\n"
     ]
    }
   ],
   "source": [
    "# Compute the pairwise cosine distance and convert to adjacency matrix\n",
    "adj_mat = compute_adjcency_mat(mat)\n",
    "print adj_mat.shape"
   ]
  },
  {
   "cell_type": "code",
   "execution_count": 15,
   "metadata": {},
   "outputs": [
    {
     "data": {
      "image/png": "[encoded data removed]",
      "text/plain": [
       "<matplotlib.figure.Figure at 0x7f8c173df4d0>"
      ]
     },
     "metadata": {},
     "output_type": "display_data"
    }
   ],
   "source": [
    "plt.hist(adj_mat, bins=50, log=True);"
   ]
  },
  {
   "cell_type": "code",
   "execution_count": 20,
   "metadata": {},
   "outputs": [
    {
     "name": "stdout",
     "output_type": "stream",
     "text": [
      "34502 595177\n",
      "16848 594372\n"
     ]
    }
   ],
   "source": [
    "# Create network by applying threshold \n",
    "G = create_graph_by_threshold(adj_mat, 99.9)\n",
    "# G = create_graph_by_threshold2(adj_mat, 0.4)\n",
    "# G = create_graph_by_threshold2(adj_mat, 0.3)\n",
    "# G = create_graph_by_threshold2(adj_mat, 0.35)\n",
    "print G.number_of_nodes(), G.number_of_edges()\n",
    "G_new = filter_out_small_ccs(G)\n",
    "print G_new.number_of_nodes(), G_new.number_of_edges()"
   ]
  },
  {
   "cell_type": "code",
   "execution_count": 21,
   "metadata": {},
   "outputs": [
    {
     "data": {
      "text/plain": [
       "<matplotlib.axes._subplots.AxesSubplot at 0x7f8c173c1b10>"
      ]
     },
     "execution_count": 21,
     "metadata": {},
     "output_type": "execute_result"
    },
    {
     "data": {
      "image/png": "[encoded data removed]",
      "text/plain": [
       "<matplotlib.figure.Figure at 0x7f8c173c38d0>"
      ]
     },
     "metadata": {},
     "output_type": "display_data"
    }
   ],
   "source": [
    "plot_degree_distribution(G_new)"
   ]
  },
  {
   "cell_type": "code",
   "execution_count": 22,
   "metadata": {},
   "outputs": [
    {
     "data": {
      "text/plain": [
       "<networkx.classes.graph.Graph at 0x7f8c173c39d0>"
      ]
     },
     "execution_count": 22,
     "metadata": {},
     "output_type": "execute_result"
    }
   ],
   "source": [
    "# Relabel nodes with sig_ids\n",
    "sig_ids_shared = grouped_sorted['sig_id'].tolist()\n",
    "d_id_sig_id = dict(zip(range(len(sig_ids_shared)), sig_ids_shared))\n",
    "d_id_sig_id = {nid: sig_id for nid, sig_id in d_id_sig_id.items() if G_new.has_node(nid)}\n",
    "nx.relabel_nodes(G_new, d_id_sig_id, copy=False)\n",
    "# print G_new.nodes()[:5]"
   ]
  },
  {
   "cell_type": "code",
   "execution_count": 23,
   "metadata": {
    "scrolled": true
   },
   "outputs": [
    {
     "name": "stdout",
     "output_type": "stream",
     "text": [
      "(16848, 4)\n",
      "Unique pert_ids: 3237\n",
      "Unique cell lines: 68\n"
     ]
    }
   ],
   "source": [
    "# Report G_new stats\n",
    "sig_meta_df_sub = sig_meta_df.loc[list(G_new.nodes())]\n",
    "print sig_meta_df_sub.shape\n",
    "print 'Unique pert_ids:', sig_meta_df_sub['pert_id'].nunique()\n",
    "print 'Unique cell lines:', sig_meta_df_sub['cell_id'].nunique()"
   ]
  },
  {
   "cell_type": "code",
   "execution_count": 24,
   "metadata": {},
   "outputs": [],
   "source": [
    "nx.write_gml(G_new, 'Signature_Graph_CD_center_LM_sig-only_%dnodes.gml' % G_new.number_of_nodes())"
   ]
  },
  {
   "cell_type": "code",
   "execution_count": null,
   "metadata": {},
   "outputs": [],
   "source": []
  },
  {
   "cell_type": "code",
   "execution_count": null,
   "metadata": {},
   "outputs": [],
   "source": []
  },
  {
   "cell_type": "code",
   "execution_count": 27,
   "metadata": {
    "collapsed": true
   },
   "outputs": [],
   "source": [
    "k = 3"
   ]
  },
  {
   "cell_type": "code",
   "execution_count": 28,
   "metadata": {},
   "outputs": [
    {
     "name": "stdout",
     "output_type": "stream",
     "text": [
      "34434 88913\n"
     ]
    }
   ],
   "source": [
    "# Create a graph by kNN\n",
    "G = create_knn_graph(mat, k=k, n_jobs=6)\n",
    "print G.number_of_nodes(), G.number_of_edges()"
   ]
  },
  {
   "cell_type": "code",
   "execution_count": 31,
   "metadata": {
    "collapsed": true
   },
   "outputs": [],
   "source": [
    "# nx.write_gml(G_new, 'Signature_Graph_CD_center_LM_%dnodes_%s.gml' % (G_new.number_of_nodes(), percentile_cutoff))\n",
    "nx.write_gml(G_new, 'Signature_Graph_CD_center_LM_%dnodes_kNN%d.gml' % (G_new.number_of_nodes(), k))"
   ]
  }
 ],
 "metadata": {
  "kernelspec": {
   "display_name": "Python 2",
   "language": "python",
   "name": "python2"
  },
  "language_info": {
   "codemirror_mode": {
    "name": "ipython",
    "version": 2
   },
   "file_extension": ".py",
   "mimetype": "text/x-python",
   "name": "python",
   "nbconvert_exporter": "python",
   "pygments_lexer": "ipython2",
   "version": "2.7.6"
  }
 },
 "nbformat": 4,
 "nbformat_minor": 2
}
