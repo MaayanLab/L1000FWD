{
 "cells": [
  {
   "cell_type": "code",
   "execution_count": 1,
   "metadata": {
    "collapsed": true
   },
   "outputs": [],
   "source": [
    "import os, sys\n",
    "import numpy as np \n",
    "import pandas as pd\n",
    "from pymongo import MongoClient\n"
   ]
  },
  {
   "cell_type": "code",
   "execution_count": 2,
   "metadata": {
    "collapsed": true
   },
   "outputs": [],
   "source": [
    "client = MongoClient('mongodb://146.203.54.131:27017/L1000FWD')\n",
    "coll_sigs = client['L1000FWD']['sigs']\n"
   ]
  },
  {
   "cell_type": "code",
   "execution_count": 4,
   "metadata": {},
   "outputs": [
    {
     "name": "stdout",
     "output_type": "stream",
     "text": [
      "127963\n",
      "(127963, 3)\n"
     ]
    },
    {
     "data": {
      "text/html": [
       "<div>\n",
       "<style>\n",
       "    .dataframe thead tr:only-child th {\n",
       "        text-align: right;\n",
       "    }\n",
       "\n",
       "    .dataframe thead th {\n",
       "        text-align: left;\n",
       "    }\n",
       "\n",
       "    .dataframe tbody tr th {\n",
       "        vertical-align: top;\n",
       "    }\n",
       "</style>\n",
       "<table border=\"1\" class=\"dataframe\">\n",
       "  <thead>\n",
       "    <tr style=\"text-align: right;\">\n",
       "      <th></th>\n",
       "      <th>batch</th>\n",
       "      <th>pert_dose</th>\n",
       "      <th>pert_time</th>\n",
       "    </tr>\n",
       "    <tr>\n",
       "      <th>sig_id</th>\n",
       "      <th></th>\n",
       "      <th></th>\n",
       "      <th></th>\n",
       "    </tr>\n",
       "  </thead>\n",
       "  <tbody>\n",
       "    <tr>\n",
       "      <th>LJP001_HS578T_24H:BRD-K59369769-001-11-2:0.4</th>\n",
       "      <td>LJP001_HS578T_24H</td>\n",
       "      <td>0.40</td>\n",
       "      <td>24.0</td>\n",
       "    </tr>\n",
       "    <tr>\n",
       "      <th>LJP001_HS578T_24H:BRD-K84085265-001-02-1:0.4</th>\n",
       "      <td>LJP001_HS578T_24H</td>\n",
       "      <td>0.40</td>\n",
       "      <td>24.0</td>\n",
       "    </tr>\n",
       "    <tr>\n",
       "      <th>LJP001_HS578T_24H:BRD-K36740062-001-02-5:2</th>\n",
       "      <td>LJP001_HS578T_24H</td>\n",
       "      <td>2.00</td>\n",
       "      <td>24.0</td>\n",
       "    </tr>\n",
       "    <tr>\n",
       "      <th>LJP001_HS578T_24H:BRD-A68739437-001-02-8:0.08</th>\n",
       "      <td>LJP001_HS578T_24H</td>\n",
       "      <td>0.08</td>\n",
       "      <td>24.0</td>\n",
       "    </tr>\n",
       "    <tr>\n",
       "      <th>LJP001_HS578T_24H:BRD-K52911425-001-04-9:2</th>\n",
       "      <td>LJP001_HS578T_24H</td>\n",
       "      <td>2.00</td>\n",
       "      <td>24.0</td>\n",
       "    </tr>\n",
       "  </tbody>\n",
       "</table>\n",
       "</div>"
      ],
      "text/plain": [
       "                                                           batch  pert_dose  \\\n",
       "sig_id                                                                        \n",
       "LJP001_HS578T_24H:BRD-K59369769-001-11-2:0.4   LJP001_HS578T_24H       0.40   \n",
       "LJP001_HS578T_24H:BRD-K84085265-001-02-1:0.4   LJP001_HS578T_24H       0.40   \n",
       "LJP001_HS578T_24H:BRD-K36740062-001-02-5:2     LJP001_HS578T_24H       2.00   \n",
       "LJP001_HS578T_24H:BRD-A68739437-001-02-8:0.08  LJP001_HS578T_24H       0.08   \n",
       "LJP001_HS578T_24H:BRD-K52911425-001-04-9:2     LJP001_HS578T_24H       2.00   \n",
       "\n",
       "                                               pert_time  \n",
       "sig_id                                                    \n",
       "LJP001_HS578T_24H:BRD-K59369769-001-11-2:0.4        24.0  \n",
       "LJP001_HS578T_24H:BRD-K84085265-001-02-1:0.4        24.0  \n",
       "LJP001_HS578T_24H:BRD-K36740062-001-02-5:2          24.0  \n",
       "LJP001_HS578T_24H:BRD-A68739437-001-02-8:0.08       24.0  \n",
       "LJP001_HS578T_24H:BRD-K52911425-001-04-9:2          24.0  "
      ]
     },
     "execution_count": 4,
     "metadata": {},
     "output_type": "execute_result"
    }
   ],
   "source": [
    "cur = coll_sigs.find({}, {'_id':False, 'sig_id':True, 'pert_dose':True, 'pert_time':True, 'batch':True})\n",
    "print cur.count()\n",
    "\n",
    "sig_meta_df = pd.DataFrame([doc for doc in cur]).set_index('sig_id')\n",
    "print sig_meta_df.shape\n",
    "sig_meta_df.head()"
   ]
  },
  {
   "cell_type": "code",
   "execution_count": 5,
   "metadata": {},
   "outputs": [
    {
     "data": {
      "text/plain": [
       "batch        127963\n",
       "pert_dose    127963\n",
       "pert_time    127518\n",
       "dtype: int64"
      ]
     },
     "execution_count": 5,
     "metadata": {},
     "output_type": "execute_result"
    }
   ],
   "source": [
    "sig_meta_df.count()"
   ]
  },
  {
   "cell_type": "code",
   "execution_count": 6,
   "metadata": {},
   "outputs": [
    {
     "data": {
      "text/plain": [
       "array([u'NMH001_NEU.KCL_6H.4H', u'NMH001_NEU.KCL_24H.4H',\n",
       "       u'NMH002_NEU.KCL_24H.4H', u'NMH002_NEU.KCL_6H.4H'], dtype=object)"
      ]
     },
     "execution_count": 6,
     "metadata": {},
     "output_type": "execute_result"
    }
   ],
   "source": [
    "sig_meta_df.loc[sig_meta_df['pert_time'].isnull()]['batch'].unique()"
   ]
  },
  {
   "cell_type": "code",
   "execution_count": 9,
   "metadata": {},
   "outputs": [],
   "source": [
    "# Fill pert_time for sig_ids with missing pert_time\n",
    "sig_meta_df_missing_time = sig_meta_df.loc[sig_meta_df['pert_time'].isnull()]\n",
    "\n",
    "for sig_id, row in sig_meta_df_missing_time.iterrows():\n",
    "    pert_time = row['batch'].split('_')[-1].split('.')[0].strip('H')\n",
    "    pert_time = int(pert_time)\n",
    "    coll_sigs.update_one({'sig_id': sig_id}, {'$set': {'pert_time': pert_time}})    \n",
    "#     print sig_id, pert_time\n"
   ]
  },
  {
   "cell_type": "code",
   "execution_count": 10,
   "metadata": {},
   "outputs": [
    {
     "name": "stdout",
     "output_type": "stream",
     "text": [
      "127963\n",
      "(127963, 2)\n"
     ]
    },
    {
     "data": {
      "text/html": [
       "<div>\n",
       "<style>\n",
       "    .dataframe thead tr:only-child th {\n",
       "        text-align: right;\n",
       "    }\n",
       "\n",
       "    .dataframe thead th {\n",
       "        text-align: left;\n",
       "    }\n",
       "\n",
       "    .dataframe tbody tr th {\n",
       "        vertical-align: top;\n",
       "    }\n",
       "</style>\n",
       "<table border=\"1\" class=\"dataframe\">\n",
       "  <thead>\n",
       "    <tr style=\"text-align: right;\">\n",
       "      <th></th>\n",
       "      <th>SCS_centered_by_batch</th>\n",
       "      <th>mean_cosine_dist_centered_by_batch</th>\n",
       "    </tr>\n",
       "    <tr>\n",
       "      <th>sig_id</th>\n",
       "      <th></th>\n",
       "      <th></th>\n",
       "    </tr>\n",
       "  </thead>\n",
       "  <tbody>\n",
       "    <tr>\n",
       "      <th>LJP001_HS578T_24H:BRD-K59369769-001-11-2:0.4</th>\n",
       "      <td>0.4384</td>\n",
       "      <td>0.996637</td>\n",
       "    </tr>\n",
       "    <tr>\n",
       "      <th>LJP001_HS578T_24H:BRD-K84085265-001-02-1:0.4</th>\n",
       "      <td>0.4384</td>\n",
       "      <td>0.996685</td>\n",
       "    </tr>\n",
       "    <tr>\n",
       "      <th>LJP001_HS578T_24H:BRD-K36740062-001-02-5:2</th>\n",
       "      <td>0.0637</td>\n",
       "      <td>0.958513</td>\n",
       "    </tr>\n",
       "    <tr>\n",
       "      <th>LJP001_HS578T_24H:BRD-A68739437-001-02-8:0.08</th>\n",
       "      <td>0.8908</td>\n",
       "      <td>1.032636</td>\n",
       "    </tr>\n",
       "    <tr>\n",
       "      <th>LJP001_HS578T_24H:BRD-K52911425-001-04-9:2</th>\n",
       "      <td>0.0028</td>\n",
       "      <td>0.909673</td>\n",
       "    </tr>\n",
       "  </tbody>\n",
       "</table>\n",
       "</div>"
      ],
      "text/plain": [
       "                                               SCS_centered_by_batch  \\\n",
       "sig_id                                                                 \n",
       "LJP001_HS578T_24H:BRD-K59369769-001-11-2:0.4                  0.4384   \n",
       "LJP001_HS578T_24H:BRD-K84085265-001-02-1:0.4                  0.4384   \n",
       "LJP001_HS578T_24H:BRD-K36740062-001-02-5:2                    0.0637   \n",
       "LJP001_HS578T_24H:BRD-A68739437-001-02-8:0.08                 0.8908   \n",
       "LJP001_HS578T_24H:BRD-K52911425-001-04-9:2                    0.0028   \n",
       "\n",
       "                                               mean_cosine_dist_centered_by_batch  \n",
       "sig_id                                                                             \n",
       "LJP001_HS578T_24H:BRD-K59369769-001-11-2:0.4                             0.996637  \n",
       "LJP001_HS578T_24H:BRD-K84085265-001-02-1:0.4                             0.996685  \n",
       "LJP001_HS578T_24H:BRD-K36740062-001-02-5:2                               0.958513  \n",
       "LJP001_HS578T_24H:BRD-A68739437-001-02-8:0.08                            1.032636  \n",
       "LJP001_HS578T_24H:BRD-K52911425-001-04-9:2                               0.909673  "
      ]
     },
     "execution_count": 10,
     "metadata": {},
     "output_type": "execute_result"
    }
   ],
   "source": [
    "cur = coll_sigs.find({}, {'_id':False, 'sig_id':True, \n",
    "                          'mean_cosine_dist_centered_by_batch':True, \n",
    "                          'SCS_centered_by_batch':True})\n",
    "print cur.count()\n",
    "\n",
    "sig_meta_df = pd.DataFrame([doc for doc in cur]).set_index('sig_id')\n",
    "print sig_meta_df.shape\n",
    "sig_meta_df.head()"
   ]
  },
  {
   "cell_type": "code",
   "execution_count": 11,
   "metadata": {},
   "outputs": [
    {
     "data": {
      "text/plain": [
       "SCS_centered_by_batch                 127963\n",
       "mean_cosine_dist_centered_by_batch    127176\n",
       "dtype: int64"
      ]
     },
     "execution_count": 11,
     "metadata": {},
     "output_type": "execute_result"
    }
   ],
   "source": [
    "sig_meta_df.count()"
   ]
  },
  {
   "cell_type": "code",
   "execution_count": 12,
   "metadata": {},
   "outputs": [
    {
     "data": {
      "text/html": [
       "<div>\n",
       "<style>\n",
       "    .dataframe thead tr:only-child th {\n",
       "        text-align: right;\n",
       "    }\n",
       "\n",
       "    .dataframe thead th {\n",
       "        text-align: left;\n",
       "    }\n",
       "\n",
       "    .dataframe tbody tr th {\n",
       "        vertical-align: top;\n",
       "    }\n",
       "</style>\n",
       "<table border=\"1\" class=\"dataframe\">\n",
       "  <thead>\n",
       "    <tr style=\"text-align: right;\">\n",
       "      <th></th>\n",
       "      <th>SCS_centered_by_batch</th>\n",
       "      <th>mean_cosine_dist_centered_by_batch</th>\n",
       "    </tr>\n",
       "    <tr>\n",
       "      <th>sig_id</th>\n",
       "      <th></th>\n",
       "      <th></th>\n",
       "    </tr>\n",
       "  </thead>\n",
       "  <tbody>\n",
       "    <tr>\n",
       "      <th>CPC012_A375_6H:BRD-K88710727-001-01-4:10</th>\n",
       "      <td>0.0</td>\n",
       "      <td>NaN</td>\n",
       "    </tr>\n",
       "    <tr>\n",
       "      <th>PRISM001_A375_6H:BRD-K36740062-001-02-5:0.625</th>\n",
       "      <td>0.0</td>\n",
       "      <td>NaN</td>\n",
       "    </tr>\n",
       "    <tr>\n",
       "      <th>PRISM001_A375_6H:BRD-K59369769-001-05-4:5</th>\n",
       "      <td>0.0</td>\n",
       "      <td>NaN</td>\n",
       "    </tr>\n",
       "    <tr>\n",
       "      <th>PRISM001_A375_6H:BRD-K83963101-001-01-0:5</th>\n",
       "      <td>0.0</td>\n",
       "      <td>NaN</td>\n",
       "    </tr>\n",
       "    <tr>\n",
       "      <th>PRISM001_A375_6H:BRD-K83963101-001-01-0:0.312</th>\n",
       "      <td>0.0</td>\n",
       "      <td>NaN</td>\n",
       "    </tr>\n",
       "  </tbody>\n",
       "</table>\n",
       "</div>"
      ],
      "text/plain": [
       "                                               SCS_centered_by_batch  \\\n",
       "sig_id                                                                 \n",
       "CPC012_A375_6H:BRD-K88710727-001-01-4:10                         0.0   \n",
       "PRISM001_A375_6H:BRD-K36740062-001-02-5:0.625                    0.0   \n",
       "PRISM001_A375_6H:BRD-K59369769-001-05-4:5                        0.0   \n",
       "PRISM001_A375_6H:BRD-K83963101-001-01-0:5                        0.0   \n",
       "PRISM001_A375_6H:BRD-K83963101-001-01-0:0.312                    0.0   \n",
       "\n",
       "                                               mean_cosine_dist_centered_by_batch  \n",
       "sig_id                                                                             \n",
       "CPC012_A375_6H:BRD-K88710727-001-01-4:10                                      NaN  \n",
       "PRISM001_A375_6H:BRD-K36740062-001-02-5:0.625                                 NaN  \n",
       "PRISM001_A375_6H:BRD-K59369769-001-05-4:5                                     NaN  \n",
       "PRISM001_A375_6H:BRD-K83963101-001-01-0:5                                     NaN  \n",
       "PRISM001_A375_6H:BRD-K83963101-001-01-0:0.312                                 NaN  "
      ]
     },
     "execution_count": 12,
     "metadata": {},
     "output_type": "execute_result"
    }
   ],
   "source": [
    "sig_meta_df.loc[sig_meta_df['mean_cosine_dist_centered_by_batch'].isnull()].head()"
   ]
  },
  {
   "cell_type": "code",
   "execution_count": 14,
   "metadata": {},
   "outputs": [
    {
     "name": "stdout",
     "output_type": "stream",
     "text": [
      "[u'CDavg_center_LM_det', u'cell_id', u'mean_cosine_dist_centered_by_batch', u'SCS_centered_by_batch', u'distil_id', u'avg_center_LM', u'batch', u'pert_dose', u'pert_desc', u'pert_id', u'CD_center_LM', u'avg_center_LM_det', u'sig_id', u'pert_time', u'CD_nocenter_LM', u'_id', u'CD_center_LM_det', u'CDavg_nocenter_LM_det']\n"
     ]
    }
   ],
   "source": [
    "doc = next(coll_sigs.find())\n",
    "print doc.keys()"
   ]
  },
  {
   "cell_type": "code",
   "execution_count": null,
   "metadata": {
    "collapsed": true
   },
   "outputs": [],
   "source": []
  }
 ],
 "metadata": {
  "kernelspec": {
   "display_name": "Python 2",
   "language": "python",
   "name": "python2"
  },
  "language_info": {
   "codemirror_mode": {
    "name": "ipython",
    "version": 2
   },
   "file_extension": ".py",
   "mimetype": "text/x-python",
   "name": "python",
   "nbconvert_exporter": "python",
   "pygments_lexer": "ipython2",
   "version": "2.7.11"
  }
 },
 "nbformat": 4,
 "nbformat_minor": 2
}
