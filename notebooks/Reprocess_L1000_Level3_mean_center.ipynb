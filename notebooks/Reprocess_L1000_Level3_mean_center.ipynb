{
 "cells": [
  {
   "cell_type": "code",
   "execution_count": 1,
   "metadata": {
    "collapsed": true
   },
   "outputs": [],
   "source": [
    "'''\n",
    "To compute CD signatures for LINCS L1000 level3 data using \n",
    "all profiles in the same batch as controls\n",
    "and add results to mongodb.\n",
    "''' \n",
    "import os, sys, json\n",
    "import h5py\n",
    "from pymongo import MongoClient\n",
    "import geode\n",
    "\n",
    "sys.path.append('/Users/zichen/Documents/bitbucket/maayanlab_utils')\n",
    "from parallel import *\n",
    "from fileIO import file2list\n",
    "\n",
    "\n",
    "sys.path.append('/Users/zichen/Documents/GitHub/l1ktools/python')\n",
    "import cmap.io.gct as gct\n"
   ]
  },
  {
   "cell_type": "code",
   "execution_count": 2,
   "metadata": {
    "collapsed": true
   },
   "outputs": [],
   "source": [
    "import numpy as np\n",
    "import pandas as pd"
   ]
  },
  {
   "cell_type": "markdown",
   "metadata": {},
   "source": [
    "# 0. Load LINCS L1000 level 3 data from gctx file and made function to subset this matrix by probe_ids and sample_ids"
   ]
  },
  {
   "cell_type": "code",
   "execution_count": 3,
   "metadata": {},
   "outputs": [
    {
     "name": "stdout",
     "output_type": "stream",
     "text": [
      "22268 978\n",
      "[u'200814_at', u'222103_at', u'201453_x_at', u'204131_s_at', u'200059_s_at']\n",
      "['200814_at', '222103_at', '201453_x_at', '204131_s_at', '200059_s_at']\n"
     ]
    }
   ],
   "source": [
    "GCTX_FILE = '/Users/zichen/Documents/Zichen_Projects/L1000_DR/data/q2norm_n1328098x22268.gctx'\n",
    "PROBES = json.load(open('/Users/zichen/Documents/bitbucket/lincs_l1000_limma/rid.json', 'rb'))\n",
    "PROBES_LM1000 = file2list('/Users/zichen/Documents/bitbucket/lincs_l1000_limma/rid_lm1000.txt', 0)\n",
    "\n",
    "print len(PROBES), len(PROBES_LM1000)\n",
    "print PROBES[:5]\n",
    "print PROBES_LM1000[:5]"
   ]
  },
  {
   "cell_type": "code",
   "execution_count": 4,
   "metadata": {},
   "outputs": [
    {
     "name": "stdout",
     "output_type": "stream",
     "text": [
      "(1328098, 22268)\n",
      "22268 ['200814_at', '222103_at', '201453_x_at', '204131_s_at', '200059_s_at']\n"
     ]
    }
   ],
   "source": [
    "gctx = h5py.File(GCTX_FILE, 'r')\n",
    "mat = gctx['/0/DATA/0/matrix']\n",
    "print mat.shape\n",
    "\n",
    "gene_ids = list(gctx['/0/META/ROW/id'])\n",
    "print len(gene_ids), gene_ids[:5]"
   ]
  },
  {
   "cell_type": "code",
   "execution_count": 5,
   "metadata": {},
   "outputs": [
    {
     "data": {
      "text/plain": [
       "array(['CPC005_A375_6H_X1_B3_DUO52HI53LO:K06',\n",
       "       'CPC005_A375_6H_X2_B3_DUO52HI53LO:K06',\n",
       "       'CPC005_A375_6H_X3_B3_DUO52HI53LO:K06',\n",
       "       'CPC005_A375_6H_X1_B3_DUO52HI53LO:C19',\n",
       "       'CPC005_A375_6H_X2_B3_DUO52HI53LO:C19'], \n",
       "      dtype='|S46')"
      ]
     },
     "execution_count": 5,
     "metadata": {},
     "output_type": "execute_result"
    }
   ],
   "source": [
    "gctx['/0/META/COL/id'][:5]"
   ]
  },
  {
   "cell_type": "code",
   "execution_count": 6,
   "metadata": {},
   "outputs": [
    {
     "name": "stdout",
     "output_type": "stream",
     "text": [
      "978\n",
      "978\n"
     ]
    }
   ],
   "source": [
    "print np.in1d(PROBES, PROBES_LM1000).sum()\n",
    "print np.in1d(PROBES, PROBES_LM1000)[:978].sum()"
   ]
  },
  {
   "cell_type": "code",
   "execution_count": 7,
   "metadata": {
    "collapsed": true
   },
   "outputs": [],
   "source": [
    "def slice_matrix(gctx, cids, rids):\n",
    "    '''Slice the mat by cids and rids and ensure the mat \n",
    "    is ordered by cids and rids.'''    \n",
    "    all_cids = gctx['/0/META/COL/id']\n",
    "    c_mask = np.in1d(all_cids, cids)\n",
    "    cids_subset = all_cids[c_mask].tolist()\n",
    "    c_indices = np.array([cids_subset.index(id_) \n",
    "                          for id_ in cids])\n",
    "\n",
    "    mat = gctx['/0/DATA/0/matrix']\n",
    "    submat = mat[c_mask, :][c_indices, :]\n",
    "    \n",
    "    all_rids = gctx['/0/META/ROW/id']\n",
    "    r_mask = np.in1d(all_rids, rids)\n",
    "    rids_subset = all_rids[r_mask].tolist()\n",
    "    r_indices = np.array([rids_subset.index(id_) \n",
    "                          for id_ in rids])\n",
    "    submat = submat[:, r_mask][:, r_indices]\n",
    "\n",
    "    return submat"
   ]
  },
  {
   "cell_type": "markdown",
   "metadata": {},
   "source": [
    "# 1. Connect to MongoDB to retrieve all `sig_id`s that are `trt_cp`"
   ]
  },
  {
   "cell_type": "code",
   "execution_count": 8,
   "metadata": {
    "collapsed": true
   },
   "outputs": [],
   "source": [
    "client = MongoClient(\"mongodb://146.203.54.131:27017\")\n",
    "DB = client['LINCS_L1000_limma']\n",
    "COLL_SIG = DB['siginfo'] # to get metadata"
   ]
  },
  {
   "cell_type": "code",
   "execution_count": 9,
   "metadata": {},
   "outputs": [
    {
     "name": "stdout",
     "output_type": "stream",
     "text": [
      "206339\n"
     ]
    }
   ],
   "source": [
    "# Collect pert_ids and batches\n",
    "cur = COLL_SIG.find({'pert_type':'trt_cp'}, \n",
    "                    {'_id':False, 'sig_id':True, 'distil_id':True})\n",
    "print cur.count()\n"
   ]
  },
  {
   "cell_type": "code",
   "execution_count": 10,
   "metadata": {},
   "outputs": [
    {
     "name": "stdout",
     "output_type": "stream",
     "text": [
      "(89419, 6)\n"
     ]
    },
    {
     "data": {
      "text/html": [
       "<div>\n",
       "<style>\n",
       "    .dataframe thead tr:only-child th {\n",
       "        text-align: right;\n",
       "    }\n",
       "\n",
       "    .dataframe thead th {\n",
       "        text-align: left;\n",
       "    }\n",
       "\n",
       "    .dataframe tbody tr th {\n",
       "        vertical-align: top;\n",
       "    }\n",
       "</style>\n",
       "<table border=\"1\" class=\"dataframe\">\n",
       "  <thead>\n",
       "    <tr style=\"text-align: right;\">\n",
       "      <th></th>\n",
       "      <th>cell</th>\n",
       "      <th>dose</th>\n",
       "      <th>pert_id</th>\n",
       "      <th>perturbation</th>\n",
       "      <th>pvalue</th>\n",
       "      <th>time</th>\n",
       "    </tr>\n",
       "    <tr>\n",
       "      <th>sig_id</th>\n",
       "      <th></th>\n",
       "      <th></th>\n",
       "      <th></th>\n",
       "      <th></th>\n",
       "      <th></th>\n",
       "      <th></th>\n",
       "    </tr>\n",
       "  </thead>\n",
       "  <tbody>\n",
       "    <tr>\n",
       "      <th>CPC015_MCF7_6H:BRD-A00546892:10.0</th>\n",
       "      <td>MCF7</td>\n",
       "      <td>10.0</td>\n",
       "      <td>BRD-A00546892</td>\n",
       "      <td>-666</td>\n",
       "      <td>0.0143</td>\n",
       "      <td>6</td>\n",
       "    </tr>\n",
       "    <tr>\n",
       "      <th>CPC004_VCAP_6H:BRD-A00546892:10.0</th>\n",
       "      <td>VCAP</td>\n",
       "      <td>10.0</td>\n",
       "      <td>BRD-A00546892</td>\n",
       "      <td>BIPERIDEN</td>\n",
       "      <td>0.2056</td>\n",
       "      <td>6</td>\n",
       "    </tr>\n",
       "    <tr>\n",
       "      <th>CPC015_ASC_24H:BRD-A00546892:10.0</th>\n",
       "      <td>ASC</td>\n",
       "      <td>10.0</td>\n",
       "      <td>BRD-A00546892</td>\n",
       "      <td>-666</td>\n",
       "      <td>0.2475</td>\n",
       "      <td>24</td>\n",
       "    </tr>\n",
       "    <tr>\n",
       "      <th>CPC004_VCAP_24H:BRD-A00546892:10.0</th>\n",
       "      <td>VCAP</td>\n",
       "      <td>10.0</td>\n",
       "      <td>BRD-A00546892</td>\n",
       "      <td>BIPERIDEN</td>\n",
       "      <td>0.3039</td>\n",
       "      <td>24</td>\n",
       "    </tr>\n",
       "    <tr>\n",
       "      <th>CPC015_PHH_24H:BRD-A00546892:10.0</th>\n",
       "      <td>PHH</td>\n",
       "      <td>10.0</td>\n",
       "      <td>BRD-A00546892</td>\n",
       "      <td>-666</td>\n",
       "      <td>0.3584</td>\n",
       "      <td>24</td>\n",
       "    </tr>\n",
       "  </tbody>\n",
       "</table>\n",
       "</div>"
      ],
      "text/plain": [
       "                                    cell  dose        pert_id perturbation  \\\n",
       "sig_id                                                                       \n",
       "CPC015_MCF7_6H:BRD-A00546892:10.0   MCF7  10.0  BRD-A00546892         -666   \n",
       "CPC004_VCAP_6H:BRD-A00546892:10.0   VCAP  10.0  BRD-A00546892    BIPERIDEN   \n",
       "CPC015_ASC_24H:BRD-A00546892:10.0    ASC  10.0  BRD-A00546892         -666   \n",
       "CPC004_VCAP_24H:BRD-A00546892:10.0  VCAP  10.0  BRD-A00546892    BIPERIDEN   \n",
       "CPC015_PHH_24H:BRD-A00546892:10.0    PHH  10.0  BRD-A00546892         -666   \n",
       "\n",
       "                                    pvalue  time  \n",
       "sig_id                                            \n",
       "CPC015_MCF7_6H:BRD-A00546892:10.0   0.0143     6  \n",
       "CPC004_VCAP_6H:BRD-A00546892:10.0   0.2056     6  \n",
       "CPC015_ASC_24H:BRD-A00546892:10.0   0.2475    24  \n",
       "CPC004_VCAP_24H:BRD-A00546892:10.0  0.3039    24  \n",
       "CPC015_PHH_24H:BRD-A00546892:10.0   0.3584    24  "
      ]
     },
     "execution_count": 10,
     "metadata": {},
     "output_type": "execute_result"
    }
   ],
   "source": [
    "# Load the metadata for the currently visualized L1000 signatures in L1000FWD\n",
    "sig_meta_df = pd.read_csv('../data/metadata-full.tsv', sep='\\t').set_index('sig_id')\n",
    "print sig_meta_df.shape\n",
    "sig_meta_df.head()"
   ]
  },
  {
   "cell_type": "code",
   "execution_count": 11,
   "metadata": {},
   "outputs": [
    {
     "name": "stdout",
     "output_type": "stream",
     "text": [
      "5312\n"
     ]
    }
   ],
   "source": [
    "print sig_meta_df['pert_id'].nunique()\n",
    "pert_id_include = set(sig_meta_df['pert_id'].unique())\n"
   ]
  },
  {
   "cell_type": "code",
   "execution_count": 12,
   "metadata": {},
   "outputs": [
    {
     "name": "stdout",
     "output_type": "stream",
     "text": [
      "(206339, 1)\n",
      "202666\n",
      "(128017, 6)\n"
     ]
    },
    {
     "data": {
      "text/html": [
       "<div>\n",
       "<style>\n",
       "    .dataframe thead tr:only-child th {\n",
       "        text-align: right;\n",
       "    }\n",
       "\n",
       "    .dataframe thead th {\n",
       "        text-align: left;\n",
       "    }\n",
       "\n",
       "    .dataframe tbody tr th {\n",
       "        vertical-align: top;\n",
       "    }\n",
       "</style>\n",
       "<table border=\"1\" class=\"dataframe\">\n",
       "  <thead>\n",
       "    <tr style=\"text-align: right;\">\n",
       "      <th></th>\n",
       "      <th>cell_id</th>\n",
       "      <th>distil_id</th>\n",
       "      <th>pert_desc</th>\n",
       "      <th>pert_dose</th>\n",
       "      <th>pert_id</th>\n",
       "      <th>pert_time</th>\n",
       "    </tr>\n",
       "    <tr>\n",
       "      <th>sig_id</th>\n",
       "      <th></th>\n",
       "      <th></th>\n",
       "      <th></th>\n",
       "      <th></th>\n",
       "      <th></th>\n",
       "      <th></th>\n",
       "    </tr>\n",
       "  </thead>\n",
       "  <tbody>\n",
       "    <tr>\n",
       "      <th>CVD001_HUH7_24H:BRD-K07762753-001-03-6:50</th>\n",
       "      <td>HUH7</td>\n",
       "      <td>[CVD001_HUH7_24H_X1_F1B3_DUO52HI53LO:M03, CVD0...</td>\n",
       "      <td>-666</td>\n",
       "      <td>50.0</td>\n",
       "      <td>BRD-K07762753</td>\n",
       "      <td>24.0</td>\n",
       "    </tr>\n",
       "    <tr>\n",
       "      <th>CPC004_PC3_6H:BRD-K34820100-001-02-1:10</th>\n",
       "      <td>PC3</td>\n",
       "      <td>[CPC004_PC3_6H_X1_B3_DUO52HI53LO:N23, CPC004_P...</td>\n",
       "      <td>TEBUTHIURON</td>\n",
       "      <td>10.0</td>\n",
       "      <td>BRD-K34820100</td>\n",
       "      <td>6.0</td>\n",
       "    </tr>\n",
       "    <tr>\n",
       "      <th>CPC004_PC3_6H:BRD-A22844106-001-16-1:10</th>\n",
       "      <td>PC3</td>\n",
       "      <td>[CPC004_PC3_6H_X1_B3_DUO52HI53LO:I08, CPC004_P...</td>\n",
       "      <td>TENOXICAM</td>\n",
       "      <td>10.0</td>\n",
       "      <td>BRD-A22844106</td>\n",
       "      <td>6.0</td>\n",
       "    </tr>\n",
       "    <tr>\n",
       "      <th>CPC004_PC3_6H:BRD-A55393291-001-05-7:10</th>\n",
       "      <td>PC3</td>\n",
       "      <td>[CPC004_PC3_6H_X1_B3_DUO52HI53LO:D03, CPC004_P...</td>\n",
       "      <td>TESTOSTERONE</td>\n",
       "      <td>10.0</td>\n",
       "      <td>BRD-A55393291</td>\n",
       "      <td>6.0</td>\n",
       "    </tr>\n",
       "    <tr>\n",
       "      <th>CPC004_PC3_6H:BRD-A93255169-001-13-5:10</th>\n",
       "      <td>PC3</td>\n",
       "      <td>[CPC004_PC3_6H_X1_B3_DUO52HI53LO:F12, CPC004_P...</td>\n",
       "      <td>THALIDOMIDE</td>\n",
       "      <td>10.0</td>\n",
       "      <td>BRD-A93255169</td>\n",
       "      <td>6.0</td>\n",
       "    </tr>\n",
       "  </tbody>\n",
       "</table>\n",
       "</div>"
      ],
      "text/plain": [
       "                                          cell_id  \\\n",
       "sig_id                                              \n",
       "CVD001_HUH7_24H:BRD-K07762753-001-03-6:50    HUH7   \n",
       "CPC004_PC3_6H:BRD-K34820100-001-02-1:10       PC3   \n",
       "CPC004_PC3_6H:BRD-A22844106-001-16-1:10       PC3   \n",
       "CPC004_PC3_6H:BRD-A55393291-001-05-7:10       PC3   \n",
       "CPC004_PC3_6H:BRD-A93255169-001-13-5:10       PC3   \n",
       "\n",
       "                                                                                   distil_id  \\\n",
       "sig_id                                                                                         \n",
       "CVD001_HUH7_24H:BRD-K07762753-001-03-6:50  [CVD001_HUH7_24H_X1_F1B3_DUO52HI53LO:M03, CVD0...   \n",
       "CPC004_PC3_6H:BRD-K34820100-001-02-1:10    [CPC004_PC3_6H_X1_B3_DUO52HI53LO:N23, CPC004_P...   \n",
       "CPC004_PC3_6H:BRD-A22844106-001-16-1:10    [CPC004_PC3_6H_X1_B3_DUO52HI53LO:I08, CPC004_P...   \n",
       "CPC004_PC3_6H:BRD-A55393291-001-05-7:10    [CPC004_PC3_6H_X1_B3_DUO52HI53LO:D03, CPC004_P...   \n",
       "CPC004_PC3_6H:BRD-A93255169-001-13-5:10    [CPC004_PC3_6H_X1_B3_DUO52HI53LO:F12, CPC004_P...   \n",
       "\n",
       "                                              pert_desc  pert_dose  \\\n",
       "sig_id                                                               \n",
       "CVD001_HUH7_24H:BRD-K07762753-001-03-6:50          -666       50.0   \n",
       "CPC004_PC3_6H:BRD-K34820100-001-02-1:10     TEBUTHIURON       10.0   \n",
       "CPC004_PC3_6H:BRD-A22844106-001-16-1:10       TENOXICAM       10.0   \n",
       "CPC004_PC3_6H:BRD-A55393291-001-05-7:10    TESTOSTERONE       10.0   \n",
       "CPC004_PC3_6H:BRD-A93255169-001-13-5:10     THALIDOMIDE       10.0   \n",
       "\n",
       "                                                 pert_id  pert_time  \n",
       "sig_id                                                               \n",
       "CVD001_HUH7_24H:BRD-K07762753-001-03-6:50  BRD-K07762753       24.0  \n",
       "CPC004_PC3_6H:BRD-K34820100-001-02-1:10    BRD-K34820100        6.0  \n",
       "CPC004_PC3_6H:BRD-A22844106-001-16-1:10    BRD-A22844106        6.0  \n",
       "CPC004_PC3_6H:BRD-A55393291-001-05-7:10    BRD-A55393291        6.0  \n",
       "CPC004_PC3_6H:BRD-A93255169-001-13-5:10    BRD-A93255169        6.0  "
      ]
     },
     "execution_count": 12,
     "metadata": {},
     "output_type": "execute_result"
    }
   ],
   "source": [
    "# Retrieve sig_meta from the MongoDB\n",
    "cur = COLL_SIG.find({'pert_type':'trt_cp'},\n",
    "                    {'_id':False, \n",
    "                     'sig_id':True, \n",
    "                     'distil_id':True,\n",
    "                    })\n",
    "sig_meta_df_full = pd.DataFrame([doc for doc in cur]).set_index('sig_id')\n",
    "print sig_meta_df_full.shape\n",
    "\n",
    "cur = COLL_SIG.find({'$and': [ \n",
    "                        {'pert_type':'trt_cp'},\n",
    "                        {'distil_nsample': {'$gt': 1}}\n",
    "                    ]}, \n",
    "                    {'_id':False, \n",
    "                     'sig_id':True, \n",
    "                     'distil_id':True,\n",
    "                     'pert_id': True,\n",
    "                     'pert_dose':True,\n",
    "                     'pert_time':True,\n",
    "                     'cell_id':True,\n",
    "                     'pert_desc':True,\n",
    "                    })\n",
    "print cur.count()\n",
    "\n",
    "sig_meta_df = pd.DataFrame([doc for doc in cur if doc['pert_id'] in pert_id_include]).set_index('sig_id')\n",
    "print sig_meta_df.shape\n",
    "sig_meta_df.head()"
   ]
  },
  {
   "cell_type": "code",
   "execution_count": 13,
   "metadata": {},
   "outputs": [
    {
     "name": "stdout",
     "output_type": "stream",
     "text": [
      "654\n",
      "651\n"
     ]
    }
   ],
   "source": [
    "# Get batch info\n",
    "sig_meta_df_full['batch'] = sig_meta_df_full.index.map(lambda x:x.split(':')[0])\n",
    "print sig_meta_df_full['batch'].nunique()\n",
    "\n",
    "sig_meta_df['batch'] = sig_meta_df.index.map(lambda x:x.split(':')[0])\n",
    "print sig_meta_df['batch'].nunique()"
   ]
  },
  {
   "cell_type": "markdown",
   "metadata": {},
   "source": [
    "# 2. Apply normalization for each batch, then compute signatures and insert in to MongoDB\n",
    "\n",
    "The normalization method is described in [Iskar et al PLoS comp Bio, 2010]():\n",
    "\n",
    "```\n",
    "for batch in batches:\n",
    "    1. discard control samples\n",
    "    2. mean center each probe across treatment samples in batch\n",
    "    3. average replicate treatment samples as the signature\n",
    "```"
   ]
  },
  {
   "cell_type": "code",
   "execution_count": 14,
   "metadata": {},
   "outputs": [
    {
     "data": {
      "text/plain": [
       "u'sig_id_1'"
      ]
     },
     "execution_count": 14,
     "metadata": {},
     "output_type": "execute_result"
    }
   ],
   "source": [
    "# Make MongoDB to store those data\n",
    "client_local = MongoClient('mongodb://127.0.0.1:27017')\n",
    "db = client_local['L1000FWD']\n",
    "coll = db['sigs']\n",
    "coll.create_index('sig_id', unique=True)"
   ]
  },
  {
   "cell_type": "code",
   "execution_count": 15,
   "metadata": {
    "collapsed": true
   },
   "outputs": [],
   "source": [
    "from joblib import delayed, Parallel"
   ]
  },
  {
   "cell_type": "code",
   "execution_count": 16,
   "metadata": {
    "collapsed": true
   },
   "outputs": [],
   "source": [
    "def compute_signatures(sig_id, row, distil_ids_sub, mat, mat_centered, PROBES_LM1000):\n",
    "    distil_ids_pert = row['distil_id']\n",
    "    # Make the sample_class\n",
    "    mask_pert = np.in1d(distil_ids_sub, distil_ids_pert)\n",
    "    sample_class = mask_pert.astype(int) + 1\n",
    "    sample_class = list(sample_class)\n",
    "\n",
    "    # Apply CD on the original mat\n",
    "    cd1 = geode.chdir(mat.T, sample_class, PROBES_LM1000, \n",
    "                      calculate_sig=0, sort=False, gamma=0.5)\n",
    "\n",
    "    # Apply CD on the mean centered mat\n",
    "    cd2 = geode.chdir(mat_centered.T, sample_class, PROBES_LM1000, \n",
    "                      calculate_sig=0, sort=False, gamma=0.5)\n",
    "    # Averaging profiles after mean centering\n",
    "    avg_vals = mat_centered[mask_pert].mean(axis=0)\n",
    "\n",
    "    doc = row.to_dict()\n",
    "    doc['sig_id'] = sig_id\n",
    "    doc['CD_nocenter_LM'] = list(np.array([item[0] for item in cd1], dtype=np.float64))\n",
    "    doc['CD_center_LM'] = list(np.array([item[0] for item in cd2], dtype=np.float64))\n",
    "    doc['avg_center_LM'] = list(avg_vals.astype(np.float64))\n",
    "\n",
    "    return doc"
   ]
  },
  {
   "cell_type": "code",
   "execution_count": 21,
   "metadata": {
    "scrolled": true
   },
   "outputs": [
    {
     "name": "stdout",
     "output_type": "stream",
     "text": [
      "Number of sig_ids inserted: 127963\n",
      "(54, 7)\n",
      "0 1\n",
      "\tNMH001_NEU_24H (54, 7) 1023\n",
      "\t(1023, 978)\n"
     ]
    }
   ],
   "source": [
    "# Get all inserted document sig_ids\n",
    "inserted_sig_ids = set(coll.distinct('sig_id'))\n",
    "print 'Number of sig_ids inserted: %d' % len(inserted_sig_ids)\n",
    "\n",
    "sig_ids_left = list(set(sig_meta_df.index) - inserted_sig_ids)\n",
    "\n",
    "# subset the sig_meta_df\n",
    "sig_meta_df_left = sig_meta_df.ix[sig_ids_left]\n",
    "all_batches = sig_meta_df_left['batch'].unique()\n",
    "n_batches = len(all_batches)\n",
    "print sig_meta_df_left.shape\n",
    "\n",
    "for c, batch in enumerate(all_batches):\n",
    "    sig_meta_df_sub = sig_meta_df_left.query('batch == \"%s\"' % batch)\n",
    "    \n",
    "    # all the treatment samples in this batch\n",
    "    distil_ids_sub = reduce(lambda x, y: x + y, \n",
    "                            sig_meta_df_full.query('batch == \"%s\"' % batch)['distil_id'])\n",
    "    print c, n_batches\n",
    "    print '\\t', batch, sig_meta_df_sub.shape, len(distil_ids_sub)\n",
    "    # Slice the matrix\n",
    "    mat = slice_matrix(gctx, distil_ids_sub, PROBES_LM1000)\n",
    "    print '\\t', mat.shape\n",
    "    # Mean center the probes\n",
    "    mat_centered = mat - mat.mean(axis=0)\n",
    "    try:\n",
    "        docs = Parallel(n_jobs=7, backend='multiprocessing', verbose=10)(\\\n",
    "                                  delayed(compute_signatures)(sig_id, row, distil_ids_sub, mat, mat_centered, PROBES_LM1000)\\\n",
    "                                  for sig_id, row in sig_meta_df_sub.iterrows())\n",
    "    except:\n",
    "        pass\n",
    "    else:                     \n",
    "        result = coll.insert_many(docs)\n",
    "\n",
    "\n",
    "    \n"
   ]
  },
  {
   "cell_type": "code",
   "execution_count": 23,
   "metadata": {},
   "outputs": [
    {
     "name": "stdout",
     "output_type": "stream",
     "text": [
      "(128017, 7)\n"
     ]
    }
   ],
   "source": [
    "print sig_meta_df.shape\n",
    "sig_meta_df.to_csv('data/sig_metadata_%d.csv' % sig_meta_df.shape[0])"
   ]
  }
 ],
 "metadata": {
  "kernelspec": {
   "display_name": "Python 2",
   "language": "python",
   "name": "python2"
  },
  "language_info": {
   "codemirror_mode": {
    "name": "ipython",
    "version": 2
   },
   "file_extension": ".py",
   "mimetype": "text/x-python",
   "name": "python",
   "nbconvert_exporter": "python",
   "pygments_lexer": "ipython2",
   "version": "2.7.11"
  }
 },
 "nbformat": 4,
 "nbformat_minor": 2
}
