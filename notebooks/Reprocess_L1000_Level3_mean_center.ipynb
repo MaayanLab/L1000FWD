{
 "cells": [
  {
   "cell_type": "code",
   "execution_count": 1,
   "metadata": {
    "collapsed": true
   },
   "outputs": [],
   "source": [
    "'''\n",
    "To compute CD signatures for LINCS L1000 level3 data using \n",
    "all profiles in the same batch as controls\n",
    "and add results to mongodb.\n",
    "''' \n",
    "import os, sys, json\n",
    "import h5py\n",
    "from pymongo import MongoClient\n",
    "import geode\n",
    "\n",
    "sys.path.append('/Users/zichen/Documents/bitbucket/maayanlab_utils')\n",
    "from parallel import *\n",
    "from fileIO import file2list\n",
    "\n",
    "\n",
    "sys.path.append('/Users/zichen/Documents/GitHub/l1ktools/python')\n",
    "import cmap.io.gct as gct\n"
   ]
  },
  {
   "cell_type": "code",
   "execution_count": 2,
   "metadata": {
    "collapsed": true
   },
   "outputs": [],
   "source": [
    "import numpy as np\n",
    "import pandas as pd"
   ]
  },
  {
   "cell_type": "markdown",
   "metadata": {},
   "source": [
    "# 0. Load LINCS L1000 level 3 data from gctx file and made function to subset this matrix by probe_ids and sample_ids"
   ]
  },
  {
   "cell_type": "code",
   "execution_count": 3,
   "metadata": {},
   "outputs": [
    {
     "name": "stdout",
     "output_type": "stream",
     "text": [
      "22268 978\n",
      "[u'200814_at', u'222103_at', u'201453_x_at', u'204131_s_at', u'200059_s_at']\n",
      "['200814_at', '222103_at', '201453_x_at', '204131_s_at', '200059_s_at']\n"
     ]
    }
   ],
   "source": [
    "GCTX_FILE = '/Users/zichen/Documents/Zichen_Projects/L1000_DR/data/q2norm_n1328098x22268.gctx'\n",
    "PROBES = json.load(open('/Users/zichen/Documents/bitbucket/lincs_l1000_limma/rid.json', 'rb'))\n",
    "PROBES_LM1000 = file2list('/Users/zichen/Documents/bitbucket/lincs_l1000_limma/rid_lm1000.txt', 0)\n",
    "\n",
    "print len(PROBES), len(PROBES_LM1000)\n",
    "print PROBES[:5]\n",
    "print PROBES_LM1000[:5]"
   ]
  },
  {
   "cell_type": "code",
   "execution_count": 4,
   "metadata": {},
   "outputs": [
    {
     "name": "stdout",
     "output_type": "stream",
     "text": [
      "(1328098, 22268)\n",
      "22268 ['200814_at', '222103_at', '201453_x_at', '204131_s_at', '200059_s_at']\n"
     ]
    }
   ],
   "source": [
    "gctx = h5py.File(GCTX_FILE, 'r')\n",
    "mat = gctx['/0/DATA/0/matrix']\n",
    "print mat.shape\n",
    "\n",
    "gene_ids = list(gctx['/0/META/ROW/id'])\n",
    "print len(gene_ids), gene_ids[:5]"
   ]
  },
  {
   "cell_type": "code",
   "execution_count": 5,
   "metadata": {},
   "outputs": [
    {
     "data": {
      "text/plain": [
       "array(['CPC005_A375_6H_X1_B3_DUO52HI53LO:K06',\n",
       "       'CPC005_A375_6H_X2_B3_DUO52HI53LO:K06',\n",
       "       'CPC005_A375_6H_X3_B3_DUO52HI53LO:K06',\n",
       "       'CPC005_A375_6H_X1_B3_DUO52HI53LO:C19',\n",
       "       'CPC005_A375_6H_X2_B3_DUO52HI53LO:C19'], \n",
       "      dtype='|S46')"
      ]
     },
     "execution_count": 5,
     "metadata": {},
     "output_type": "execute_result"
    }
   ],
   "source": [
    "gctx['/0/META/COL/id'][:5]"
   ]
  },
  {
   "cell_type": "code",
   "execution_count": 6,
   "metadata": {},
   "outputs": [
    {
     "name": "stdout",
     "output_type": "stream",
     "text": [
      "978\n",
      "978\n"
     ]
    }
   ],
   "source": [
    "print np.in1d(PROBES, PROBES_LM1000).sum()\n",
    "print np.in1d(PROBES, PROBES_LM1000)[:978].sum()"
   ]
  },
  {
   "cell_type": "code",
   "execution_count": 7,
   "metadata": {
    "collapsed": true
   },
   "outputs": [],
   "source": [
    "def slice_matrix(gctx, cids, rids):\n",
    "    '''Slice the mat by cids and rids and ensure the mat \n",
    "    is ordered by cids and rids.'''    \n",
    "    all_cids = gctx['/0/META/COL/id']\n",
    "    c_mask = np.in1d(all_cids, cids)\n",
    "    cids_subset = all_cids[c_mask].tolist()\n",
    "    c_indices = np.array([cids_subset.index(id_) \n",
    "                          for id_ in cids])\n",
    "\n",
    "    mat = gctx['/0/DATA/0/matrix']\n",
    "    submat = mat[c_mask, :][c_indices, :]\n",
    "    \n",
    "    all_rids = gctx['/0/META/ROW/id']\n",
    "    r_mask = np.in1d(all_rids, rids)\n",
    "    rids_subset = all_rids[r_mask].tolist()\n",
    "    r_indices = np.array([rids_subset.index(id_) \n",
    "                          for id_ in rids])\n",
    "    submat = submat[:, r_mask][:, r_indices]\n",
    "\n",
    "    return submat"
   ]
  },
  {
   "cell_type": "markdown",
   "metadata": {},
   "source": [
    "# 1. Connect to MongoDB to retrieve all `sig_id`s that are `trt_cp`"
   ]
  },
  {
   "cell_type": "code",
   "execution_count": 8,
   "metadata": {
    "collapsed": true
   },
   "outputs": [],
   "source": [
    "client = MongoClient(\"mongodb://146.203.54.131:27017\")\n",
    "DB = client['LINCS_L1000_limma']\n",
    "COLL_SIG = DB['siginfo'] # to get metadata"
   ]
  },
  {
   "cell_type": "code",
   "execution_count": 9,
   "metadata": {},
   "outputs": [
    {
     "name": "stdout",
     "output_type": "stream",
     "text": [
      "206339\n"
     ]
    }
   ],
   "source": [
    "# Collect pert_ids and batches\n",
    "cur = COLL_SIG.find({'pert_type':'trt_cp'}, \n",
    "                    {'_id':False, 'sig_id':True, 'distil_id':True})\n",
    "print cur.count()\n"
   ]
  },
  {
   "cell_type": "code",
   "execution_count": 10,
   "metadata": {},
   "outputs": [
    {
     "name": "stdout",
     "output_type": "stream",
     "text": [
      "(89419, 6)\n"
     ]
    },
    {
     "data": {
      "text/html": [
       "<div>\n",
       "<style>\n",
       "    .dataframe thead tr:only-child th {\n",
       "        text-align: right;\n",
       "    }\n",
       "\n",
       "    .dataframe thead th {\n",
       "        text-align: left;\n",
       "    }\n",
       "\n",
       "    .dataframe tbody tr th {\n",
       "        vertical-align: top;\n",
       "    }\n",
       "</style>\n",
       "<table border=\"1\" class=\"dataframe\">\n",
       "  <thead>\n",
       "    <tr style=\"text-align: right;\">\n",
       "      <th></th>\n",
       "      <th>cell</th>\n",
       "      <th>dose</th>\n",
       "      <th>pert_id</th>\n",
       "      <th>perturbation</th>\n",
       "      <th>pvalue</th>\n",
       "      <th>time</th>\n",
       "    </tr>\n",
       "    <tr>\n",
       "      <th>sig_id</th>\n",
       "      <th></th>\n",
       "      <th></th>\n",
       "      <th></th>\n",
       "      <th></th>\n",
       "      <th></th>\n",
       "      <th></th>\n",
       "    </tr>\n",
       "  </thead>\n",
       "  <tbody>\n",
       "    <tr>\n",
       "      <th>CPC015_MCF7_6H:BRD-A00546892:10.0</th>\n",
       "      <td>MCF7</td>\n",
       "      <td>10.0</td>\n",
       "      <td>BRD-A00546892</td>\n",
       "      <td>-666</td>\n",
       "      <td>0.0143</td>\n",
       "      <td>6</td>\n",
       "    </tr>\n",
       "    <tr>\n",
       "      <th>CPC004_VCAP_6H:BRD-A00546892:10.0</th>\n",
       "      <td>VCAP</td>\n",
       "      <td>10.0</td>\n",
       "      <td>BRD-A00546892</td>\n",
       "      <td>BIPERIDEN</td>\n",
       "      <td>0.2056</td>\n",
       "      <td>6</td>\n",
       "    </tr>\n",
       "    <tr>\n",
       "      <th>CPC015_ASC_24H:BRD-A00546892:10.0</th>\n",
       "      <td>ASC</td>\n",
       "      <td>10.0</td>\n",
       "      <td>BRD-A00546892</td>\n",
       "      <td>-666</td>\n",
       "      <td>0.2475</td>\n",
       "      <td>24</td>\n",
       "    </tr>\n",
       "    <tr>\n",
       "      <th>CPC004_VCAP_24H:BRD-A00546892:10.0</th>\n",
       "      <td>VCAP</td>\n",
       "      <td>10.0</td>\n",
       "      <td>BRD-A00546892</td>\n",
       "      <td>BIPERIDEN</td>\n",
       "      <td>0.3039</td>\n",
       "      <td>24</td>\n",
       "    </tr>\n",
       "    <tr>\n",
       "      <th>CPC015_PHH_24H:BRD-A00546892:10.0</th>\n",
       "      <td>PHH</td>\n",
       "      <td>10.0</td>\n",
       "      <td>BRD-A00546892</td>\n",
       "      <td>-666</td>\n",
       "      <td>0.3584</td>\n",
       "      <td>24</td>\n",
       "    </tr>\n",
       "  </tbody>\n",
       "</table>\n",
       "</div>"
      ],
      "text/plain": [
       "                                    cell  dose        pert_id perturbation  \\\n",
       "sig_id                                                                       \n",
       "CPC015_MCF7_6H:BRD-A00546892:10.0   MCF7  10.0  BRD-A00546892         -666   \n",
       "CPC004_VCAP_6H:BRD-A00546892:10.0   VCAP  10.0  BRD-A00546892    BIPERIDEN   \n",
       "CPC015_ASC_24H:BRD-A00546892:10.0    ASC  10.0  BRD-A00546892         -666   \n",
       "CPC004_VCAP_24H:BRD-A00546892:10.0  VCAP  10.0  BRD-A00546892    BIPERIDEN   \n",
       "CPC015_PHH_24H:BRD-A00546892:10.0    PHH  10.0  BRD-A00546892         -666   \n",
       "\n",
       "                                    pvalue  time  \n",
       "sig_id                                            \n",
       "CPC015_MCF7_6H:BRD-A00546892:10.0   0.0143     6  \n",
       "CPC004_VCAP_6H:BRD-A00546892:10.0   0.2056     6  \n",
       "CPC015_ASC_24H:BRD-A00546892:10.0   0.2475    24  \n",
       "CPC004_VCAP_24H:BRD-A00546892:10.0  0.3039    24  \n",
       "CPC015_PHH_24H:BRD-A00546892:10.0   0.3584    24  "
      ]
     },
     "execution_count": 10,
     "metadata": {},
     "output_type": "execute_result"
    }
   ],
   "source": [
    "# Load the metadata for the currently visualized L1000 signatures in L1000FWD\n",
    "sig_meta_df = pd.read_csv('../data/metadata-full.tsv', sep='\\t').set_index('sig_id')\n",
    "print sig_meta_df.shape\n",
    "sig_meta_df.head()"
   ]
  },
  {
   "cell_type": "code",
   "execution_count": 11,
   "metadata": {},
   "outputs": [
    {
     "name": "stdout",
     "output_type": "stream",
     "text": [
      "5312\n"
     ]
    }
   ],
   "source": [
    "print sig_meta_df['pert_id'].nunique()\n",
    "pert_id_include = set(sig_meta_df['pert_id'].unique())\n"
   ]
  },
  {
   "cell_type": "code",
   "execution_count": 12,
   "metadata": {},
   "outputs": [
    {
     "name": "stdout",
     "output_type": "stream",
     "text": [
      "(206339, 1)\n",
      "202666\n",
      "(128017, 6)\n"
     ]
    },
    {
     "data": {
      "text/html": [
       "<div>\n",
       "<style>\n",
       "    .dataframe thead tr:only-child th {\n",
       "        text-align: right;\n",
       "    }\n",
       "\n",
       "    .dataframe thead th {\n",
       "        text-align: left;\n",
       "    }\n",
       "\n",
       "    .dataframe tbody tr th {\n",
       "        vertical-align: top;\n",
       "    }\n",
       "</style>\n",
       "<table border=\"1\" class=\"dataframe\">\n",
       "  <thead>\n",
       "    <tr style=\"text-align: right;\">\n",
       "      <th></th>\n",
       "      <th>cell_id</th>\n",
       "      <th>distil_id</th>\n",
       "      <th>pert_desc</th>\n",
       "      <th>pert_dose</th>\n",
       "      <th>pert_id</th>\n",
       "      <th>pert_time</th>\n",
       "    </tr>\n",
       "    <tr>\n",
       "      <th>sig_id</th>\n",
       "      <th></th>\n",
       "      <th></th>\n",
       "      <th></th>\n",
       "      <th></th>\n",
       "      <th></th>\n",
       "      <th></th>\n",
       "    </tr>\n",
       "  </thead>\n",
       "  <tbody>\n",
       "    <tr>\n",
       "      <th>CVD001_HUH7_24H:BRD-K07762753-001-03-6:50</th>\n",
       "      <td>HUH7</td>\n",
       "      <td>[CVD001_HUH7_24H_X1_F1B3_DUO52HI53LO:M03, CVD0...</td>\n",
       "      <td>-666</td>\n",
       "      <td>50.0</td>\n",
       "      <td>BRD-K07762753</td>\n",
       "      <td>24.0</td>\n",
       "    </tr>\n",
       "    <tr>\n",
       "      <th>CPC004_PC3_6H:BRD-K34820100-001-02-1:10</th>\n",
       "      <td>PC3</td>\n",
       "      <td>[CPC004_PC3_6H_X1_B3_DUO52HI53LO:N23, CPC004_P...</td>\n",
       "      <td>TEBUTHIURON</td>\n",
       "      <td>10.0</td>\n",
       "      <td>BRD-K34820100</td>\n",
       "      <td>6.0</td>\n",
       "    </tr>\n",
       "    <tr>\n",
       "      <th>CPC004_PC3_6H:BRD-A22844106-001-16-1:10</th>\n",
       "      <td>PC3</td>\n",
       "      <td>[CPC004_PC3_6H_X1_B3_DUO52HI53LO:I08, CPC004_P...</td>\n",
       "      <td>TENOXICAM</td>\n",
       "      <td>10.0</td>\n",
       "      <td>BRD-A22844106</td>\n",
       "      <td>6.0</td>\n",
       "    </tr>\n",
       "    <tr>\n",
       "      <th>CPC004_PC3_6H:BRD-A55393291-001-05-7:10</th>\n",
       "      <td>PC3</td>\n",
       "      <td>[CPC004_PC3_6H_X1_B3_DUO52HI53LO:D03, CPC004_P...</td>\n",
       "      <td>TESTOSTERONE</td>\n",
       "      <td>10.0</td>\n",
       "      <td>BRD-A55393291</td>\n",
       "      <td>6.0</td>\n",
       "    </tr>\n",
       "    <tr>\n",
       "      <th>CPC004_PC3_6H:BRD-A93255169-001-13-5:10</th>\n",
       "      <td>PC3</td>\n",
       "      <td>[CPC004_PC3_6H_X1_B3_DUO52HI53LO:F12, CPC004_P...</td>\n",
       "      <td>THALIDOMIDE</td>\n",
       "      <td>10.0</td>\n",
       "      <td>BRD-A93255169</td>\n",
       "      <td>6.0</td>\n",
       "    </tr>\n",
       "  </tbody>\n",
       "</table>\n",
       "</div>"
      ],
      "text/plain": [
       "                                          cell_id  \\\n",
       "sig_id                                              \n",
       "CVD001_HUH7_24H:BRD-K07762753-001-03-6:50    HUH7   \n",
       "CPC004_PC3_6H:BRD-K34820100-001-02-1:10       PC3   \n",
       "CPC004_PC3_6H:BRD-A22844106-001-16-1:10       PC3   \n",
       "CPC004_PC3_6H:BRD-A55393291-001-05-7:10       PC3   \n",
       "CPC004_PC3_6H:BRD-A93255169-001-13-5:10       PC3   \n",
       "\n",
       "                                                                                   distil_id  \\\n",
       "sig_id                                                                                         \n",
       "CVD001_HUH7_24H:BRD-K07762753-001-03-6:50  [CVD001_HUH7_24H_X1_F1B3_DUO52HI53LO:M03, CVD0...   \n",
       "CPC004_PC3_6H:BRD-K34820100-001-02-1:10    [CPC004_PC3_6H_X1_B3_DUO52HI53LO:N23, CPC004_P...   \n",
       "CPC004_PC3_6H:BRD-A22844106-001-16-1:10    [CPC004_PC3_6H_X1_B3_DUO52HI53LO:I08, CPC004_P...   \n",
       "CPC004_PC3_6H:BRD-A55393291-001-05-7:10    [CPC004_PC3_6H_X1_B3_DUO52HI53LO:D03, CPC004_P...   \n",
       "CPC004_PC3_6H:BRD-A93255169-001-13-5:10    [CPC004_PC3_6H_X1_B3_DUO52HI53LO:F12, CPC004_P...   \n",
       "\n",
       "                                              pert_desc  pert_dose  \\\n",
       "sig_id                                                               \n",
       "CVD001_HUH7_24H:BRD-K07762753-001-03-6:50          -666       50.0   \n",
       "CPC004_PC3_6H:BRD-K34820100-001-02-1:10     TEBUTHIURON       10.0   \n",
       "CPC004_PC3_6H:BRD-A22844106-001-16-1:10       TENOXICAM       10.0   \n",
       "CPC004_PC3_6H:BRD-A55393291-001-05-7:10    TESTOSTERONE       10.0   \n",
       "CPC004_PC3_6H:BRD-A93255169-001-13-5:10     THALIDOMIDE       10.0   \n",
       "\n",
       "                                                 pert_id  pert_time  \n",
       "sig_id                                                               \n",
       "CVD001_HUH7_24H:BRD-K07762753-001-03-6:50  BRD-K07762753       24.0  \n",
       "CPC004_PC3_6H:BRD-K34820100-001-02-1:10    BRD-K34820100        6.0  \n",
       "CPC004_PC3_6H:BRD-A22844106-001-16-1:10    BRD-A22844106        6.0  \n",
       "CPC004_PC3_6H:BRD-A55393291-001-05-7:10    BRD-A55393291        6.0  \n",
       "CPC004_PC3_6H:BRD-A93255169-001-13-5:10    BRD-A93255169        6.0  "
      ]
     },
     "execution_count": 12,
     "metadata": {},
     "output_type": "execute_result"
    }
   ],
   "source": [
    "# Retrieve sig_meta from the MongoDB\n",
    "cur = COLL_SIG.find({'pert_type':'trt_cp'},\n",
    "                    {'_id':False, \n",
    "                     'sig_id':True, \n",
    "                     'distil_id':True,\n",
    "                    })\n",
    "sig_meta_df_full = pd.DataFrame([doc for doc in cur]).set_index('sig_id')\n",
    "print sig_meta_df_full.shape\n",
    "\n",
    "cur = COLL_SIG.find({'$and': [ \n",
    "                        {'pert_type':'trt_cp'},\n",
    "                        {'distil_nsample': {'$gt': 1}}\n",
    "                    ]}, \n",
    "                    {'_id':False, \n",
    "                     'sig_id':True, \n",
    "                     'distil_id':True,\n",
    "                     'pert_id': True,\n",
    "                     'pert_dose':True,\n",
    "                     'pert_time':True,\n",
    "                     'cell_id':True,\n",
    "                     'pert_desc':True,\n",
    "                    })\n",
    "print cur.count()\n",
    "\n",
    "sig_meta_df = pd.DataFrame([doc for doc in cur if doc['pert_id'] in pert_id_include]).set_index('sig_id')\n",
    "print sig_meta_df.shape\n",
    "sig_meta_df.head()"
   ]
  },
  {
   "cell_type": "code",
   "execution_count": 13,
   "metadata": {},
   "outputs": [
    {
     "name": "stdout",
     "output_type": "stream",
     "text": [
      "654\n",
      "651\n"
     ]
    }
   ],
   "source": [
    "# Get batch info\n",
    "sig_meta_df_full['batch'] = sig_meta_df_full.index.map(lambda x:x.split(':')[0])\n",
    "print sig_meta_df_full['batch'].nunique()\n",
    "\n",
    "sig_meta_df['batch'] = sig_meta_df.index.map(lambda x:x.split(':')[0])\n",
    "print sig_meta_df['batch'].nunique()"
   ]
  },
  {
   "cell_type": "markdown",
   "metadata": {},
   "source": [
    "# 2. Apply normalization for each batch, then compute signatures and insert in to MongoDB\n",
    "\n",
    "The normalization method is described in [Iskar et al PLoS comp Bio, 2010]():\n",
    "\n",
    "```\n",
    "for batch in batches:\n",
    "    1. discard control samples\n",
    "    2. mean center each probe across treatment samples in batch\n",
    "    3. average replicate treatment samples as the signature\n",
    "```"
   ]
  },
  {
   "cell_type": "code",
   "execution_count": 14,
   "metadata": {},
   "outputs": [
    {
     "data": {
      "text/plain": [
       "u'sig_id_1'"
      ]
     },
     "execution_count": 14,
     "metadata": {},
     "output_type": "execute_result"
    }
   ],
   "source": [
    "# Make MongoDB to store those data\n",
    "client_local = MongoClient('mongodb://127.0.0.1:27017')\n",
    "db = client_local['L1000FWD']\n",
    "coll = db['sigs']\n",
    "coll.create_index('sig_id', unique=True)"
   ]
  },
  {
   "cell_type": "code",
   "execution_count": 15,
   "metadata": {
    "collapsed": true
   },
   "outputs": [],
   "source": [
    "from joblib import delayed, Parallel"
   ]
  },
  {
   "cell_type": "code",
   "execution_count": 16,
   "metadata": {
    "collapsed": true
   },
   "outputs": [],
   "source": [
    "def compute_signatures(sig_id, row, distil_ids_sub, mat, mat_centered, PROBES_LM1000):\n",
    "    distil_ids_pert = row['distil_id']\n",
    "    # Make the sample_class\n",
    "    mask_pert = np.in1d(distil_ids_sub, distil_ids_pert)\n",
    "    sample_class = mask_pert.astype(int) + 1\n",
    "    sample_class = list(sample_class)\n",
    "\n",
    "    # Apply CD on the original mat\n",
    "    cd1 = geode.chdir(mat.T, sample_class, PROBES_LM1000, \n",
    "                      calculate_sig=0, sort=False, gamma=0.5)\n",
    "\n",
    "    # Apply CD on the mean centered mat\n",
    "    cd2 = geode.chdir(mat_centered.T, sample_class, PROBES_LM1000, \n",
    "                      calculate_sig=0, sort=False, gamma=0.5)\n",
    "    # Averaging profiles after mean centering\n",
    "    avg_vals = mat_centered[mask_pert].mean(axis=0)\n",
    "\n",
    "    doc = row.to_dict()\n",
    "    doc['sig_id'] = sig_id\n",
    "    doc['CD_nocenter_LM'] = list(np.array([item[0] for item in cd1], dtype=np.float64))\n",
    "    doc['CD_center_LM'] = list(np.array([item[0] for item in cd2], dtype=np.float64))\n",
    "    doc['avg_center_LM'] = list(avg_vals.astype(np.float64))\n",
    "\n",
    "    return doc"
   ]
  },
  {
   "cell_type": "code",
   "execution_count": null,
   "metadata": {
    "scrolled": true
   },
   "outputs": [
    {
     "name": "stdout",
     "output_type": "stream",
     "text": [
      "Number of sig_ids inserted: 99420\n",
      "(28597, 7)\n",
      "0 328\n",
      "\tCPC006_HT29_24H (358, 7) 1416\n",
      "\t(1416, 978)\n"
     ]
    },
    {
     "name": "stderr",
     "output_type": "stream",
     "text": [
      "[Parallel(n_jobs=7)]: Done   1 out of 358 | elapsed:    5.0s remaining: 29.8min\n",
      "[Parallel(n_jobs=7)]: Done  36 out of 358 | elapsed:   29.4s remaining:  4.4min\n",
      "[Parallel(n_jobs=7)]: Done  72 out of 358 | elapsed:   55.3s remaining:  3.7min\n",
      "[Parallel(n_jobs=7)]: Done 108 out of 358 | elapsed:  1.4min remaining:  3.2min\n",
      "[Parallel(n_jobs=7)]: Done 144 out of 358 | elapsed:  1.8min remaining:  2.7min\n",
      "[Parallel(n_jobs=7)]: Done 180 out of 358 | elapsed:  2.2min remaining:  2.2min\n",
      "[Parallel(n_jobs=7)]: Done 216 out of 358 | elapsed:  2.7min remaining:  1.8min\n",
      "[Parallel(n_jobs=7)]: Done 252 out of 358 | elapsed:  3.1min remaining:  1.3min\n",
      "[Parallel(n_jobs=7)]: Done 288 out of 358 | elapsed:  3.6min remaining:   52.9s\n",
      "[Parallel(n_jobs=7)]: Done 324 out of 358 | elapsed:  4.1min remaining:   25.6s\n",
      "[Parallel(n_jobs=7)]: Done 358 out of 358 | elapsed:  4.4min finished\n"
     ]
    },
    {
     "name": "stdout",
     "output_type": "stream",
     "text": [
      "1 328\n",
      "\tCPC009_VCAP_6H (363, 7) 1443\n",
      "\t(1443, 978)\n"
     ]
    },
    {
     "name": "stderr",
     "output_type": "stream",
     "text": [
      "[Parallel(n_jobs=7)]: Done   1 out of 363 | elapsed:    4.8s remaining: 29.1min\n",
      "[Parallel(n_jobs=7)]: Done  32 out of 363 | elapsed:   27.2s remaining:  4.7min\n",
      "[Parallel(n_jobs=7)]: Done  69 out of 363 | elapsed:   55.5s remaining:  3.9min\n",
      "[Parallel(n_jobs=7)]: Done 106 out of 363 | elapsed:  1.5min remaining:  3.6min\n",
      "[Parallel(n_jobs=7)]: Done 143 out of 363 | elapsed:  2.0min remaining:  3.1min\n",
      "[Parallel(n_jobs=7)]: Done 180 out of 363 | elapsed:  2.5min remaining:  2.5min\n",
      "[Parallel(n_jobs=7)]: Done 217 out of 363 | elapsed:  3.0min remaining:  2.0min\n",
      "[Parallel(n_jobs=7)]: Done 254 out of 363 | elapsed:  3.6min remaining:  1.5min\n",
      "[Parallel(n_jobs=7)]: Done 291 out of 363 | elapsed:  4.1min remaining:  1.0min\n",
      "[Parallel(n_jobs=7)]: Done 328 out of 363 | elapsed:  4.6min remaining:   29.5s\n",
      "[Parallel(n_jobs=7)]: Done 363 out of 363 | elapsed:  5.1min finished\n"
     ]
    },
    {
     "name": "stdout",
     "output_type": "stream",
     "text": [
      "2 328\n",
      "\tCPC014_VCAP_6H (344, 7) 1746\n",
      "\t(1746, 978)\n"
     ]
    },
    {
     "name": "stderr",
     "output_type": "stream",
     "text": [
      "[Parallel(n_jobs=7)]: Done   1 out of 344 | elapsed:    7.2s remaining: 41.1min\n",
      "[Parallel(n_jobs=7)]: Done  31 out of 344 | elapsed:   41.1s remaining:  6.9min\n",
      "[Parallel(n_jobs=7)]: Done  66 out of 344 | elapsed:  1.4min remaining:  5.8min\n",
      "[Parallel(n_jobs=7)]: Done 101 out of 344 | elapsed:  2.1min remaining:  4.9min\n",
      "[Parallel(n_jobs=7)]: Done 136 out of 344 | elapsed:  2.7min remaining:  4.1min\n",
      "[Parallel(n_jobs=7)]: Done 171 out of 344 | elapsed:  3.4min remaining:  3.4min\n",
      "[Parallel(n_jobs=7)]: Done 206 out of 344 | elapsed:  4.1min remaining:  2.7min\n",
      "[Parallel(n_jobs=7)]: Done 241 out of 344 | elapsed:  4.7min remaining:  2.0min\n",
      "[Parallel(n_jobs=7)]: Done 276 out of 344 | elapsed:  5.3min remaining:  1.3min\n",
      "[Parallel(n_jobs=7)]: Done 311 out of 344 | elapsed:  6.0min remaining:   38.0s\n",
      "[Parallel(n_jobs=7)]: Done 344 out of 344 | elapsed:  6.6min finished\n"
     ]
    },
    {
     "name": "stdout",
     "output_type": "stream",
     "text": [
      "3 328\n",
      "\tDOSBIO002_PC3_24H (26, 7) 950\n",
      "\t(950, 978)\n"
     ]
    },
    {
     "name": "stderr",
     "output_type": "stream",
     "text": [
      "[Parallel(n_jobs=7)]: Done   1 out of  26 | elapsed:    2.6s remaining:  1.1min\n",
      "[Parallel(n_jobs=7)]: Done   4 out of  26 | elapsed:    3.0s remaining:   16.5s\n",
      "[Parallel(n_jobs=7)]: Done   7 out of  26 | elapsed:    3.4s remaining:    9.1s\n",
      "[Parallel(n_jobs=7)]: Done  10 out of  26 | elapsed:    5.3s remaining:    8.6s\n",
      "[Parallel(n_jobs=7)]: Done  13 out of  26 | elapsed:    5.9s remaining:    5.9s\n",
      "[Parallel(n_jobs=7)]: Done  16 out of  26 | elapsed:    8.1s remaining:    5.1s\n",
      "[Parallel(n_jobs=7)]: Done  19 out of  26 | elapsed:    8.7s remaining:    3.2s\n",
      "[Parallel(n_jobs=7)]: Done  22 out of  26 | elapsed:   10.2s remaining:    1.9s\n",
      "[Parallel(n_jobs=7)]: Done  25 out of  26 | elapsed:   10.7s remaining:    0.4s\n",
      "[Parallel(n_jobs=7)]: Done  26 out of  26 | elapsed:   10.7s finished\n"
     ]
    },
    {
     "name": "stdout",
     "output_type": "stream",
     "text": [
      "4 328\n",
      "\tERG004_VCAP_6H (21, 7) 505\n",
      "\t(505, 978)\n"
     ]
    },
    {
     "name": "stderr",
     "output_type": "stream",
     "text": [
      "[Parallel(n_jobs=7)]: Done   5 out of  21 | elapsed:    0.7s remaining:    2.3s\n",
      "[Parallel(n_jobs=7)]: Done   1 out of  21 | elapsed:    1.0s remaining:   20.3s\n",
      "[Parallel(n_jobs=7)]: Done   2 out of  21 | elapsed:    1.2s remaining:   11.6s\n",
      "[Parallel(n_jobs=7)]: Done   8 out of  21 | elapsed:    1.6s remaining:    2.5s\n",
      "[Parallel(n_jobs=7)]: Done  11 out of  21 | elapsed:    1.8s remaining:    1.6s\n",
      "[Parallel(n_jobs=7)]: Done  14 out of  21 | elapsed:    2.3s remaining:    1.2s\n",
      "[Parallel(n_jobs=7)]: Done  17 out of  21 | elapsed:    2.4s remaining:    0.6s\n",
      "[Parallel(n_jobs=7)]: Done  20 out of  21 | elapsed:    2.6s remaining:    0.1s\n",
      "[Parallel(n_jobs=7)]: Done  21 out of  21 | elapsed:    2.6s finished\n"
     ]
    },
    {
     "name": "stdout",
     "output_type": "stream",
     "text": [
      "5 328\n",
      "\tASG001_PC3_24H (76, 7) 1000\n",
      "\t(1000, 978)\n"
     ]
    },
    {
     "name": "stderr",
     "output_type": "stream",
     "text": [
      "[Parallel(n_jobs=7)]: Done   1 out of  76 | elapsed:    2.6s remaining:  3.2min\n",
      "[Parallel(n_jobs=7)]: Done   6 out of  76 | elapsed:    3.2s remaining:   37.7s\n",
      "[Parallel(n_jobs=7)]: Done  14 out of  76 | elapsed:    6.0s remaining:   26.7s\n",
      "[Parallel(n_jobs=7)]: Done  22 out of  76 | elapsed:   10.8s remaining:   26.4s\n",
      "[Parallel(n_jobs=7)]: Done  30 out of  76 | elapsed:   13.9s remaining:   21.3s\n",
      "[Parallel(n_jobs=7)]: Done  38 out of  76 | elapsed:   17.1s remaining:   17.1s\n",
      "[Parallel(n_jobs=7)]: Done  46 out of  76 | elapsed:   20.2s remaining:   13.2s\n",
      "[Parallel(n_jobs=7)]: Done  54 out of  76 | elapsed:   23.7s remaining:    9.7s\n",
      "[Parallel(n_jobs=7)]: Done  62 out of  76 | elapsed:   27.0s remaining:    6.1s\n",
      "[Parallel(n_jobs=7)]: Done  70 out of  76 | elapsed:   30.0s remaining:    2.6s\n",
      "[Parallel(n_jobs=7)]: Done  76 out of  76 | elapsed:   31.4s finished\n"
     ]
    },
    {
     "name": "stdout",
     "output_type": "stream",
     "text": [
      "6 328\n",
      "\tCPC014_HCC515_6H (346, 7) 1078\n",
      "\t(1078, 978)\n"
     ]
    },
    {
     "name": "stderr",
     "output_type": "stream",
     "text": [
      "[Parallel(n_jobs=7)]: Done   1 out of 346 | elapsed:    2.8s remaining: 16.1min\n",
      "[Parallel(n_jobs=7)]: Done  33 out of 346 | elapsed:   17.8s remaining:  2.8min\n",
      "[Parallel(n_jobs=7)]: Done  68 out of 346 | elapsed:   34.7s remaining:  2.4min\n",
      "[Parallel(n_jobs=7)]: Done 103 out of 346 | elapsed:   52.4s remaining:  2.1min\n",
      "[Parallel(n_jobs=7)]: Done 138 out of 346 | elapsed:  1.2min remaining:  1.8min\n",
      "[Parallel(n_jobs=7)]: Done 173 out of 346 | elapsed:  1.5min remaining:  1.5min\n",
      "[Parallel(n_jobs=7)]: Done 208 out of 346 | elapsed:  1.7min remaining:  1.2min\n",
      "[Parallel(n_jobs=7)]: Done 243 out of 346 | elapsed:  2.0min remaining:   51.7s\n",
      "[Parallel(n_jobs=7)]: Done 278 out of 346 | elapsed:  2.3min remaining:   33.9s\n",
      "[Parallel(n_jobs=7)]: Done 313 out of 346 | elapsed:  2.6min remaining:   16.4s\n",
      "[Parallel(n_jobs=7)]: Done 346 out of 346 | elapsed:  2.9min finished\n"
     ]
    },
    {
     "name": "stdout",
     "output_type": "stream",
     "text": [
      "7 328\n",
      "\tMUC.CP005_MCF7_6H (114, 7) 972\n",
      "\t(972, 978)\n"
     ]
    },
    {
     "name": "stderr",
     "output_type": "stream",
     "text": [
      "[Parallel(n_jobs=7)]: Done   1 out of 114 | elapsed:    2.3s remaining:  4.3min\n",
      "[Parallel(n_jobs=7)]: Done   8 out of 114 | elapsed:    4.8s remaining:  1.0min\n",
      "[Parallel(n_jobs=7)]: Done  20 out of 114 | elapsed:    9.2s remaining:   43.1s\n",
      "[Parallel(n_jobs=7)]: Done  32 out of 114 | elapsed:   15.0s remaining:   38.4s\n",
      "[Parallel(n_jobs=7)]: Done  44 out of 114 | elapsed:   19.7s remaining:   31.4s\n",
      "[Parallel(n_jobs=7)]: Done  56 out of 114 | elapsed:   24.5s remaining:   25.4s\n",
      "[Parallel(n_jobs=7)]: Done  68 out of 114 | elapsed:   30.2s remaining:   20.4s\n",
      "[Parallel(n_jobs=7)]: Done  80 out of 114 | elapsed:   34.7s remaining:   14.7s\n",
      "[Parallel(n_jobs=7)]: Done  92 out of 114 | elapsed:   39.5s remaining:    9.4s\n",
      "[Parallel(n_jobs=7)]: Done 104 out of 114 | elapsed:   44.8s remaining:    4.3s\n",
      "[Parallel(n_jobs=7)]: Done 114 out of 114 | elapsed:   47.6s finished\n"
     ]
    },
    {
     "name": "stdout",
     "output_type": "stream",
     "text": [
      "8 328\n",
      "\tCPC013_NPC_24H (346, 7) 1027\n",
      "\t(1027, 978)\n"
     ]
    },
    {
     "name": "stderr",
     "output_type": "stream",
     "text": [
      "[Parallel(n_jobs=7)]: Done   1 out of 346 | elapsed:    2.4s remaining: 13.8min\n",
      "[Parallel(n_jobs=7)]: Done  33 out of 346 | elapsed:   16.0s remaining:  2.5min\n",
      "[Parallel(n_jobs=7)]: Done  68 out of 346 | elapsed:   31.7s remaining:  2.2min\n",
      "[Parallel(n_jobs=7)]: Done 103 out of 346 | elapsed:   47.6s remaining:  1.9min\n",
      "[Parallel(n_jobs=7)]: Done 138 out of 346 | elapsed:  1.1min remaining:  1.6min\n",
      "[Parallel(n_jobs=7)]: Done 173 out of 346 | elapsed:  1.3min remaining:  1.3min\n",
      "[Parallel(n_jobs=7)]: Done 208 out of 346 | elapsed:  1.6min remaining:  1.1min\n",
      "[Parallel(n_jobs=7)]: Done 243 out of 346 | elapsed:  1.9min remaining:   47.8s\n",
      "[Parallel(n_jobs=7)]: Done 278 out of 346 | elapsed:  2.1min remaining:   31.5s\n",
      "[Parallel(n_jobs=7)]: Done 313 out of 346 | elapsed:  2.4min remaining:   15.3s\n",
      "[Parallel(n_jobs=7)]: Done 346 out of 346 | elapsed:  2.6min finished\n"
     ]
    },
    {
     "name": "stdout",
     "output_type": "stream",
     "text": [
      "9 328\n",
      "\tCPC012_ASC_24H (361, 7) 1426\n",
      "\t(1426, 978)\n"
     ]
    },
    {
     "name": "stderr",
     "output_type": "stream",
     "text": [
      "[Parallel(n_jobs=7)]: Done   1 out of 361 | elapsed:    4.8s remaining: 28.9min\n",
      "[Parallel(n_jobs=7)]: Done  30 out of 361 | elapsed:   26.8s remaining:  4.9min\n",
      "[Parallel(n_jobs=7)]: Done  67 out of 361 | elapsed:   55.7s remaining:  4.1min\n",
      "[Parallel(n_jobs=7)]: Done 104 out of 361 | elapsed:  1.4min remaining:  3.4min\n",
      "[Parallel(n_jobs=7)]: Done 141 out of 361 | elapsed:  1.9min remaining:  3.0min\n",
      "[Parallel(n_jobs=7)]: Done 178 out of 361 | elapsed:  2.4min remaining:  2.5min\n",
      "[Parallel(n_jobs=7)]: Done 215 out of 361 | elapsed:  2.9min remaining:  1.9min\n",
      "[Parallel(n_jobs=7)]: Done 252 out of 361 | elapsed:  3.4min remaining:  1.5min\n",
      "[Parallel(n_jobs=7)]: Done 289 out of 361 | elapsed:  3.9min remaining:   57.9s\n",
      "[Parallel(n_jobs=7)]: Done 326 out of 361 | elapsed:  4.4min remaining:   28.1s\n",
      "[Parallel(n_jobs=7)]: Done 361 out of 361 | elapsed:  4.8min finished\n"
     ]
    },
    {
     "name": "stdout",
     "output_type": "stream",
     "text": [
      "10 328\n",
      "\tLJP002_HS578T_6H (308, 7) 1049\n",
      "\t(1049, 978)\n"
     ]
    },
    {
     "name": "stderr",
     "output_type": "stream",
     "text": [
      "[Parallel(n_jobs=7)]: Done   1 out of 308 | elapsed:    2.7s remaining: 14.1min\n",
      "[Parallel(n_jobs=7)]: Done  31 out of 308 | elapsed:   16.2s remaining:  2.4min\n",
      "[Parallel(n_jobs=7)]: Done  62 out of 308 | elapsed:   30.3s remaining:  2.0min\n",
      "[Parallel(n_jobs=7)]: Done  93 out of 308 | elapsed:   45.8s remaining:  1.8min\n",
      "[Parallel(n_jobs=7)]: Done 124 out of 308 | elapsed:   59.7s remaining:  1.5min\n",
      "[Parallel(n_jobs=7)]: Done 155 out of 308 | elapsed:  1.2min remaining:  1.2min\n",
      "[Parallel(n_jobs=7)]: Done 186 out of 308 | elapsed:  1.5min remaining:   59.0s\n",
      "[Parallel(n_jobs=7)]: Done 217 out of 308 | elapsed:  1.7min remaining:   43.7s\n",
      "[Parallel(n_jobs=7)]: Done 248 out of 308 | elapsed:  2.0min remaining:   28.9s\n",
      "[Parallel(n_jobs=7)]: Done 279 out of 308 | elapsed:  2.2min remaining:   13.9s\n",
      "[Parallel(n_jobs=7)]: Done 308 out of 308 | elapsed:  2.4min finished\n"
     ]
    },
    {
     "name": "stdout",
     "output_type": "stream",
     "text": [
      "11 328\n",
      "\tCPC005_VCAP_24H (358, 7) 1771\n",
      "\t(1771, 978)\n"
     ]
    },
    {
     "name": "stderr",
     "output_type": "stream",
     "text": [
      "[Parallel(n_jobs=7)]: Done   1 out of 358 | elapsed:    7.7s remaining: 45.7min\n",
      "[Parallel(n_jobs=7)]: Done  36 out of 358 | elapsed:   50.3s remaining:  7.5min\n",
      "[Parallel(n_jobs=7)]: Done  72 out of 358 | elapsed:  1.5min remaining:  6.2min\n",
      "[Parallel(n_jobs=7)]: Done 108 out of 358 | elapsed:  2.3min remaining:  5.2min\n",
      "[Parallel(n_jobs=7)]: Done 144 out of 358 | elapsed:  3.0min remaining:  4.4min\n",
      "[Parallel(n_jobs=7)]: Done 180 out of 358 | elapsed:  3.7min remaining:  3.6min\n",
      "[Parallel(n_jobs=7)]: Done 216 out of 358 | elapsed:  4.4min remaining:  2.9min\n",
      "[Parallel(n_jobs=7)]: Done 252 out of 358 | elapsed:  5.1min remaining:  2.2min\n",
      "[Parallel(n_jobs=7)]: Done 288 out of 358 | elapsed:  5.9min remaining:  1.4min\n",
      "[Parallel(n_jobs=7)]: Done 324 out of 358 | elapsed:  6.7min remaining:   41.9s\n",
      "[Parallel(n_jobs=7)]: Done 358 out of 358 | elapsed:  7.3min finished\n"
     ]
    },
    {
     "name": "stdout",
     "output_type": "stream",
     "text": [
      "12 328\n",
      "\tCVD001_HUH7_6H (99, 7) 785\n",
      "\t(785, 978)\n"
     ]
    },
    {
     "name": "stderr",
     "output_type": "stream",
     "text": [
      "[Parallel(n_jobs=7)]: Done   1 out of  99 | elapsed:    1.7s remaining:  2.9min\n",
      "[Parallel(n_jobs=7)]: Done  11 out of  99 | elapsed:    4.2s remaining:   33.9s\n",
      "[Parallel(n_jobs=7)]: Done  21 out of  99 | elapsed:    7.4s remaining:   27.4s\n",
      "[Parallel(n_jobs=7)]: Done  31 out of  99 | elapsed:   10.9s remaining:   23.9s\n",
      "[Parallel(n_jobs=7)]: Done  41 out of  99 | elapsed:   13.8s remaining:   19.5s\n",
      "[Parallel(n_jobs=7)]: Done  51 out of  99 | elapsed:   17.1s remaining:   16.1s\n",
      "[Parallel(n_jobs=7)]: Done  61 out of  99 | elapsed:   20.0s remaining:   12.4s\n",
      "[Parallel(n_jobs=7)]: Done  71 out of  99 | elapsed:   22.6s remaining:    8.9s\n",
      "[Parallel(n_jobs=7)]: Done  81 out of  99 | elapsed:   25.3s remaining:    5.6s\n",
      "[Parallel(n_jobs=7)]: Done  91 out of  99 | elapsed:   28.2s remaining:    2.5s\n",
      "[Parallel(n_jobs=7)]: Done  99 out of  99 | elapsed:   29.7s finished\n"
     ]
    },
    {
     "name": "stdout",
     "output_type": "stream",
     "text": [
      "13 328\n",
      "\tCPC006_AGS_6H (359, 7) 721\n",
      "\t(721, 978)\n"
     ]
    },
    {
     "name": "stderr",
     "output_type": "stream",
     "text": [
      "[Parallel(n_jobs=7)]: Done   1 out of 359 | elapsed:    1.3s remaining:  7.7min\n",
      "[Parallel(n_jobs=7)]: Done  37 out of 359 | elapsed:    9.7s remaining:  1.4min\n",
      "[Parallel(n_jobs=7)]: Done  73 out of 359 | elapsed:   18.6s remaining:  1.2min\n",
      "[Parallel(n_jobs=7)]: Done 109 out of 359 | elapsed:   27.6s remaining:  1.1min\n",
      "[Parallel(n_jobs=7)]: Done 145 out of 359 | elapsed:   36.2s remaining:   53.4s\n",
      "[Parallel(n_jobs=7)]: Done 181 out of 359 | elapsed:   44.8s remaining:   44.1s\n",
      "[Parallel(n_jobs=7)]: Done 217 out of 359 | elapsed:   53.8s remaining:   35.2s\n",
      "[Parallel(n_jobs=7)]: Done 253 out of 359 | elapsed:  1.1min remaining:   26.5s\n",
      "[Parallel(n_jobs=7)]: Done 289 out of 359 | elapsed:  1.2min remaining:   17.5s\n",
      "[Parallel(n_jobs=7)]: Done 325 out of 359 | elapsed:  1.3min remaining:    8.5s\n",
      "[Parallel(n_jobs=7)]: Done 359 out of 359 | elapsed:  1.5min finished\n"
     ]
    },
    {
     "name": "stdout",
     "output_type": "stream",
     "text": [
      "14 328\n",
      "\tNMH002_NEU.KCL_6H.4H (168, 7) 684\n",
      "\t(684, 978)\n"
     ]
    },
    {
     "name": "stderr",
     "output_type": "stream",
     "text": [
      "[Parallel(n_jobs=7)]: Done   1 out of 168 | elapsed:    1.3s remaining:  3.7min\n",
      "[Parallel(n_jobs=7)]: Done  17 out of 168 | elapsed:    4.3s remaining:   38.4s\n",
      "[Parallel(n_jobs=7)]: Done  34 out of 168 | elapsed:    7.8s remaining:   30.7s\n",
      "[Parallel(n_jobs=7)]: Done  51 out of 168 | elapsed:   11.9s remaining:   27.4s\n",
      "[Parallel(n_jobs=7)]: Done  68 out of 168 | elapsed:   15.6s remaining:   22.9s\n",
      "[Parallel(n_jobs=7)]: Done  85 out of 168 | elapsed:   19.4s remaining:   19.0s\n",
      "[Parallel(n_jobs=7)]: Done 102 out of 168 | elapsed:   23.6s remaining:   15.3s\n",
      "[Parallel(n_jobs=7)]: Done 119 out of 168 | elapsed:   27.3s remaining:   11.2s\n",
      "[Parallel(n_jobs=7)]: Done 136 out of 168 | elapsed:   30.8s remaining:    7.2s\n",
      "[Parallel(n_jobs=7)]: Done 153 out of 168 | elapsed:   34.3s remaining:    3.4s\n",
      "[Parallel(n_jobs=7)]: Done 168 out of 168 | elapsed:   37.2s finished\n"
     ]
    },
    {
     "name": "stdout",
     "output_type": "stream",
     "text": [
      "15 328\n",
      "\tERG017_VCAP_24H (8, 7) 972\n",
      "\t(972, 978)\n"
     ]
    },
    {
     "name": "stderr",
     "output_type": "stream",
     "text": [
      "[Parallel(n_jobs=7)]: Done   1 out of   8 | elapsed:    2.8s remaining:   19.5s\n",
      "[Parallel(n_jobs=7)]: Done   3 out of   8 | elapsed:    2.9s remaining:    4.9s\n",
      "[Parallel(n_jobs=7)]: Done   2 out of   8 | elapsed:    3.0s remaining:    9.0s\n",
      "[Parallel(n_jobs=7)]: Done   6 out of   8 | elapsed:    3.1s remaining:    1.0s\n",
      "[Parallel(n_jobs=7)]: Done   4 out of   8 | elapsed:    3.1s remaining:    3.1s\n",
      "[Parallel(n_jobs=7)]: Done   5 out of   8 | elapsed:    3.2s remaining:    1.9s\n",
      "[Parallel(n_jobs=7)]: Done   7 out of   8 | elapsed:    3.2s remaining:    0.5s\n",
      "[Parallel(n_jobs=7)]: Done   8 out of   8 | elapsed:    3.7s finished\n"
     ]
    },
    {
     "name": "stdout",
     "output_type": "stream",
     "text": [
      "16 328\n",
      "\tPCLB002_MCF7_24H (131, 7) 1098\n",
      "\t(1098, 978)\n"
     ]
    },
    {
     "name": "stderr",
     "output_type": "stream",
     "text": [
      "[Parallel(n_jobs=7)]: Done   1 out of 131 | elapsed:    2.8s remaining:  6.1min\n",
      "[Parallel(n_jobs=7)]: Done   7 out of 131 | elapsed:    4.2s remaining:  1.2min\n",
      "[Parallel(n_jobs=7)]: Done  21 out of 131 | elapsed:   11.5s remaining:  1.0min\n",
      "[Parallel(n_jobs=7)]: Done  35 out of 131 | elapsed:   18.9s remaining:   51.9s\n",
      "[Parallel(n_jobs=7)]: Done  49 out of 131 | elapsed:   26.1s remaining:   43.6s\n",
      "[Parallel(n_jobs=7)]: Done  63 out of 131 | elapsed:   33.1s remaining:   35.7s\n",
      "[Parallel(n_jobs=7)]: Done  77 out of 131 | elapsed:   39.9s remaining:   28.0s\n",
      "[Parallel(n_jobs=7)]: Done  91 out of 131 | elapsed:   47.1s remaining:   20.7s\n",
      "[Parallel(n_jobs=7)]: Done 105 out of 131 | elapsed:   54.3s remaining:   13.4s\n",
      "[Parallel(n_jobs=7)]: Done 119 out of 131 | elapsed:  1.0min remaining:    6.2s\n",
      "[Parallel(n_jobs=7)]: Done 131 out of 131 | elapsed:  1.1min finished\n"
     ]
    },
    {
     "name": "stdout",
     "output_type": "stream",
     "text": [
      "17 328\n",
      "\tDOS019_VCAP_6H (11, 7) 649\n",
      "\t(649, 978)\n"
     ]
    },
    {
     "name": "stderr",
     "output_type": "stream",
     "text": [
      "[Parallel(n_jobs=7)]: Done   1 out of  11 | elapsed:    1.2s remaining:   12.0s\n",
      "[Parallel(n_jobs=7)]: Done   3 out of  11 | elapsed:    1.4s remaining:    3.7s\n",
      "[Parallel(n_jobs=7)]: Done   7 out of  11 | elapsed:    1.6s remaining:    0.9s\n",
      "[Parallel(n_jobs=7)]: Done   5 out of  11 | elapsed:    1.7s remaining:    2.0s\n",
      "[Parallel(n_jobs=7)]: Done   9 out of  11 | elapsed:    2.1s remaining:    0.5s\n",
      "[Parallel(n_jobs=7)]: Done  11 out of  11 | elapsed:    2.2s finished\n"
     ]
    },
    {
     "name": "stdout",
     "output_type": "stream",
     "text": [
      "18 328\n",
      "\tCPC004_PC3_6H (364, 7) 1768\n",
      "\t(1768, 978)\n"
     ]
    },
    {
     "name": "stderr",
     "output_type": "stream",
     "text": [
      "[Parallel(n_jobs=7)]: Done   1 out of 364 | elapsed:    7.2s remaining: 43.5min\n",
      "[Parallel(n_jobs=7)]: Done  33 out of 364 | elapsed:   40.4s remaining:  6.8min\n",
      "[Parallel(n_jobs=7)]: Done  70 out of 364 | elapsed:  1.3min remaining:  5.7min\n",
      "[Parallel(n_jobs=7)]: Done 107 out of 364 | elapsed:  2.1min remaining:  5.0min\n",
      "[Parallel(n_jobs=7)]: Done 144 out of 364 | elapsed:  2.8min remaining:  4.2min\n",
      "[Parallel(n_jobs=7)]: Done 181 out of 364 | elapsed:  3.5min remaining:  3.5min\n",
      "[Parallel(n_jobs=7)]: Done 218 out of 364 | elapsed:  4.2min remaining:  2.8min\n",
      "[Parallel(n_jobs=7)]: Done 255 out of 364 | elapsed:  4.9min remaining:  2.1min\n",
      "[Parallel(n_jobs=7)]: Done 292 out of 364 | elapsed:  5.6min remaining:  1.4min\n",
      "[Parallel(n_jobs=7)]: Done 329 out of 364 | elapsed:  6.3min remaining:   40.5s\n",
      "[Parallel(n_jobs=7)]: Done 364 out of 364 | elapsed:  7.0min finished\n"
     ]
    },
    {
     "name": "stdout",
     "output_type": "stream",
     "text": [
      "19 328\n",
      "\tHOG003_MCF7_6H (287, 7) 1144\n",
      "\t(1144, 978)\n"
     ]
    },
    {
     "name": "stderr",
     "output_type": "stream",
     "text": [
      "[Parallel(n_jobs=7)]: Done   1 out of 287 | elapsed:    3.0s remaining: 14.1min\n",
      "[Parallel(n_jobs=7)]: Done  28 out of 287 | elapsed:   16.8s remaining:  2.6min\n",
      "[Parallel(n_jobs=7)]: Done  57 out of 287 | elapsed:   35.7s remaining:  2.4min\n",
      "[Parallel(n_jobs=7)]: Done  86 out of 287 | elapsed:   50.3s remaining:  2.0min\n",
      "[Parallel(n_jobs=7)]: Done 115 out of 287 | elapsed:  1.1min remaining:  1.6min\n",
      "[Parallel(n_jobs=7)]: Done 144 out of 287 | elapsed:  1.3min remaining:  1.3min\n",
      "[Parallel(n_jobs=7)]: Done 173 out of 287 | elapsed:  1.6min remaining:  1.1min\n",
      "[Parallel(n_jobs=7)]: Done 202 out of 287 | elapsed:  1.9min remaining:   46.7s\n",
      "[Parallel(n_jobs=7)]: Done 231 out of 287 | elapsed:  2.1min remaining:   30.6s\n",
      "[Parallel(n_jobs=7)]: Done 260 out of 287 | elapsed:  2.4min remaining:   14.7s\n",
      "[Parallel(n_jobs=7)]: Done 287 out of 287 | elapsed:  2.6min finished\n"
     ]
    },
    {
     "name": "stdout",
     "output_type": "stream",
     "text": [
      "20 328\n",
      "\tCPC016_MCF7_24H (362, 7) 1420\n",
      "\t(1420, 978)\n"
     ]
    },
    {
     "name": "stderr",
     "output_type": "stream",
     "text": [
      "[Parallel(n_jobs=7)]: Done   1 out of 362 | elapsed:    5.1s remaining: 30.9min\n",
      "[Parallel(n_jobs=7)]: Done  31 out of 362 | elapsed:   29.2s remaining:  5.2min\n",
      "[Parallel(n_jobs=7)]: Done  68 out of 362 | elapsed:   58.8s remaining:  4.2min\n",
      "[Parallel(n_jobs=7)]: Done 105 out of 362 | elapsed:  1.5min remaining:  3.6min\n",
      "[Parallel(n_jobs=7)]: Done 142 out of 362 | elapsed:  2.0min remaining:  3.1min\n",
      "[Parallel(n_jobs=7)]: Done 179 out of 362 | elapsed:  2.5min remaining:  2.6min\n",
      "[Parallel(n_jobs=7)]: Done 216 out of 362 | elapsed:  3.0min remaining:  2.0min\n",
      "[Parallel(n_jobs=7)]: Done 253 out of 362 | elapsed:  3.5min remaining:  1.5min\n",
      "[Parallel(n_jobs=7)]: Done 290 out of 362 | elapsed:  4.1min remaining:  1.0min\n",
      "[Parallel(n_jobs=7)]: Done 327 out of 362 | elapsed:  4.5min remaining:   29.2s\n",
      "[Parallel(n_jobs=7)]: Done 362 out of 362 | elapsed:  5.0min finished\n"
     ]
    },
    {
     "name": "stdout",
     "output_type": "stream",
     "text": [
      "21 328\n",
      "\tMUC.CP005_MCF7_24H (117, 7) 949\n",
      "\t(949, 978)\n"
     ]
    },
    {
     "name": "stderr",
     "output_type": "stream",
     "text": [
      "[Parallel(n_jobs=7)]: Done   1 out of 117 | elapsed:    2.4s remaining:  4.5min\n",
      "[Parallel(n_jobs=7)]: Done  11 out of 117 | elapsed:    5.8s remaining:   55.6s\n",
      "[Parallel(n_jobs=7)]: Done  23 out of 117 | elapsed:   11.4s remaining:   46.7s\n",
      "[Parallel(n_jobs=7)]: Done  35 out of 117 | elapsed:   15.8s remaining:   36.9s\n",
      "[Parallel(n_jobs=7)]: Done  47 out of 117 | elapsed:   21.8s remaining:   32.5s\n",
      "[Parallel(n_jobs=7)]: Done  59 out of 117 | elapsed:   27.7s remaining:   27.2s\n",
      "[Parallel(n_jobs=7)]: Done  71 out of 117 | elapsed:   32.9s remaining:   21.3s\n",
      "[Parallel(n_jobs=7)]: Done  83 out of 117 | elapsed:   38.3s remaining:   15.7s\n",
      "[Parallel(n_jobs=7)]: Done  95 out of 117 | elapsed:   43.6s remaining:   10.1s\n",
      "[Parallel(n_jobs=7)]: Done 107 out of 117 | elapsed:   49.0s remaining:    4.6s\n",
      "[Parallel(n_jobs=7)]: Done 117 out of 117 | elapsed:   51.8s finished\n"
     ]
    },
    {
     "name": "stdout",
     "output_type": "stream",
     "text": [
      "22 328\n",
      "\tCPC007_HT29_24H (355, 7) 1062\n",
      "\t(1062, 978)\n"
     ]
    },
    {
     "name": "stderr",
     "output_type": "stream",
     "text": [
      "[Parallel(n_jobs=7)]: Done   1 out of 355 | elapsed:    3.3s remaining: 19.2min\n",
      "[Parallel(n_jobs=7)]: Done  33 out of 355 | elapsed:   19.6s remaining:  3.2min\n",
      "[Parallel(n_jobs=7)]: Done  69 out of 355 | elapsed:   37.6s remaining:  2.6min\n",
      "[Parallel(n_jobs=7)]: Done 105 out of 355 | elapsed:   56.5s remaining:  2.2min\n",
      "[Parallel(n_jobs=7)]: Done 141 out of 355 | elapsed:  1.3min remaining:  1.9min\n",
      "[Parallel(n_jobs=7)]: Done 177 out of 355 | elapsed:  1.6min remaining:  1.6min\n",
      "[Parallel(n_jobs=7)]: Done 213 out of 355 | elapsed:  1.9min remaining:  1.3min\n",
      "[Parallel(n_jobs=7)]: Done 249 out of 355 | elapsed:  2.2min remaining:   55.5s\n",
      "[Parallel(n_jobs=7)]: Done 285 out of 355 | elapsed:  2.5min remaining:   36.4s\n",
      "[Parallel(n_jobs=7)]: Done 321 out of 355 | elapsed:  2.8min remaining:   17.6s\n",
      "[Parallel(n_jobs=7)]: Done 355 out of 355 | elapsed:  3.1min finished\n"
     ]
    },
    {
     "name": "stdout",
     "output_type": "stream",
     "text": [
      "23 328\n",
      "\tCPC015_A549_6H (357, 7) 721\n",
      "\t(721, 978)\n"
     ]
    },
    {
     "name": "stderr",
     "output_type": "stream",
     "text": [
      "[Parallel(n_jobs=7)]: Done   1 out of 357 | elapsed:    1.3s remaining:  7.8min\n",
      "[Parallel(n_jobs=7)]: Done  35 out of 357 | elapsed:    9.5s remaining:  1.5min\n",
      "[Parallel(n_jobs=7)]: Done  71 out of 357 | elapsed:   18.8s remaining:  1.3min\n",
      "[Parallel(n_jobs=7)]: Done 107 out of 357 | elapsed:   27.4s remaining:  1.1min\n",
      "[Parallel(n_jobs=7)]: Done 143 out of 357 | elapsed:   35.9s remaining:   53.8s\n",
      "[Parallel(n_jobs=7)]: Done 179 out of 357 | elapsed:   45.4s remaining:   45.2s\n",
      "[Parallel(n_jobs=7)]: Done 215 out of 357 | elapsed:   54.9s remaining:   36.3s\n",
      "[Parallel(n_jobs=7)]: Done 251 out of 357 | elapsed:  1.1min remaining:   26.9s\n",
      "[Parallel(n_jobs=7)]: Done 287 out of 357 | elapsed:  1.2min remaining:   17.8s\n",
      "[Parallel(n_jobs=7)]: Done 323 out of 357 | elapsed:  1.4min remaining:    8.7s\n",
      "[Parallel(n_jobs=7)]: Done 357 out of 357 | elapsed:  1.5min finished\n"
     ]
    },
    {
     "name": "stdout",
     "output_type": "stream",
     "text": [
      "24 328\n",
      "\tNMH001_NEU.KCL_24H.4H (53, 7) 1376\n",
      "\t(1376, 978)\n"
     ]
    },
    {
     "name": "stderr",
     "output_type": "stream",
     "text": [
      "[Parallel(n_jobs=7)]: Done   1 out of  53 | elapsed:    4.8s remaining:  4.1min\n",
      "[Parallel(n_jobs=7)]: Done   7 out of  53 | elapsed:    5.6s remaining:   36.7s\n",
      "[Parallel(n_jobs=7)]: Done  13 out of  53 | elapsed:   11.1s remaining:   34.1s\n",
      "[Parallel(n_jobs=7)]: Done  19 out of  53 | elapsed:   16.8s remaining:   30.1s\n",
      "[Parallel(n_jobs=7)]: Done  25 out of  53 | elapsed:   21.8s remaining:   24.4s\n",
      "[Parallel(n_jobs=7)]: Done  31 out of  53 | elapsed:   27.2s remaining:   19.3s\n",
      "[Parallel(n_jobs=7)]: Done  37 out of  53 | elapsed:   32.5s remaining:   14.1s\n",
      "[Parallel(n_jobs=7)]: Done  43 out of  53 | elapsed:   36.8s remaining:    8.6s\n",
      "[Parallel(n_jobs=7)]: Done  49 out of  53 | elapsed:   38.6s remaining:    3.2s\n",
      "[Parallel(n_jobs=7)]: Done  53 out of  53 | elapsed:   41.2s finished\n"
     ]
    },
    {
     "name": "stdout",
     "output_type": "stream",
     "text": [
      "25 328\n",
      "\tCPC018_ASC_24H (354, 7) 1054\n",
      "\t(1054, 978)\n"
     ]
    },
    {
     "name": "stderr",
     "output_type": "stream",
     "text": [
      "[Parallel(n_jobs=7)]: Done   1 out of 354 | elapsed:    2.8s remaining: 16.7min\n",
      "[Parallel(n_jobs=7)]: Done  32 out of 354 | elapsed:   16.5s remaining:  2.8min\n",
      "[Parallel(n_jobs=7)]: Done  68 out of 354 | elapsed:   33.5s remaining:  2.3min\n",
      "[Parallel(n_jobs=7)]: Done 104 out of 354 | elapsed:   50.4s remaining:  2.0min\n",
      "[Parallel(n_jobs=7)]: Done 140 out of 354 | elapsed:  1.1min remaining:  1.7min\n",
      "[Parallel(n_jobs=7)]: Done 176 out of 354 | elapsed:  1.4min remaining:  1.4min\n",
      "[Parallel(n_jobs=7)]: Done 212 out of 354 | elapsed:  1.7min remaining:  1.1min\n",
      "[Parallel(n_jobs=7)]: Done 248 out of 354 | elapsed:  2.0min remaining:   50.8s\n",
      "[Parallel(n_jobs=7)]: Done 284 out of 354 | elapsed:  2.3min remaining:   33.5s\n",
      "[Parallel(n_jobs=7)]: Done 320 out of 354 | elapsed:  2.5min remaining:   16.2s\n",
      "[Parallel(n_jobs=7)]: Done 354 out of 354 | elapsed:  2.8min finished\n"
     ]
    },
    {
     "name": "stdout",
     "output_type": "stream",
     "text": [
      "26 328\n",
      "\tNMH001_FIBRNPC_6H (52, 7) 704\n",
      "\t(704, 978)\n"
     ]
    },
    {
     "name": "stderr",
     "output_type": "stream",
     "text": [
      "[Parallel(n_jobs=7)]: Done   1 out of  52 | elapsed:    1.6s remaining:  1.4min\n",
      "[Parallel(n_jobs=7)]: Done   6 out of  52 | elapsed:    2.0s remaining:   15.5s\n",
      "[Parallel(n_jobs=7)]: Done  12 out of  52 | elapsed:    3.3s remaining:   11.2s\n",
      "[Parallel(n_jobs=7)]: Done  18 out of  52 | elapsed:    4.8s remaining:    9.1s\n",
      "[Parallel(n_jobs=7)]: Done  24 out of  52 | elapsed:    6.2s remaining:    7.2s\n",
      "[Parallel(n_jobs=7)]: Done  30 out of  52 | elapsed:    8.0s remaining:    5.9s\n",
      "[Parallel(n_jobs=7)]: Done  36 out of  52 | elapsed:    9.2s remaining:    4.1s\n",
      "[Parallel(n_jobs=7)]: Done  42 out of  52 | elapsed:   10.8s remaining:    2.6s\n",
      "[Parallel(n_jobs=7)]: Done  48 out of  52 | elapsed:   12.3s remaining:    1.0s\n",
      "[Parallel(n_jobs=7)]: Done  52 out of  52 | elapsed:   12.7s finished\n"
     ]
    },
    {
     "name": "stdout",
     "output_type": "stream",
     "text": [
      "27 328\n",
      "\tDOS018_VCAP_24H (9, 7) 963\n",
      "\t(963, 978)\n"
     ]
    },
    {
     "name": "stderr",
     "output_type": "stream",
     "text": [
      "[Parallel(n_jobs=7)]: Done   1 out of   9 | elapsed:    2.2s remaining:   17.9s\n",
      "[Parallel(n_jobs=7)]: Done   2 out of   9 | elapsed:    2.6s remaining:    9.0s\n",
      "[Parallel(n_jobs=7)]: Done   4 out of   9 | elapsed:    2.8s remaining:    3.5s\n",
      "[Parallel(n_jobs=7)]: Done   3 out of   9 | elapsed:    2.9s remaining:    5.8s\n",
      "[Parallel(n_jobs=7)]: Done   5 out of   9 | elapsed:    2.9s remaining:    2.4s\n",
      "[Parallel(n_jobs=7)]: Done   7 out of   9 | elapsed:    3.1s remaining:    0.9s\n",
      "[Parallel(n_jobs=7)]: Done   6 out of   9 | elapsed:    3.1s remaining:    1.6s\n",
      "[Parallel(n_jobs=7)]: Done   8 out of   9 | elapsed:    3.7s remaining:    0.5s\n",
      "[Parallel(n_jobs=7)]: Done   9 out of   9 | elapsed:    3.8s finished\n"
     ]
    },
    {
     "name": "stdout",
     "output_type": "stream",
     "text": [
      "28 328\n",
      "\tNMH002_NEU_6H (177, 7) 1048\n",
      "\t(1048, 978)\n"
     ]
    },
    {
     "name": "stderr",
     "output_type": "stream",
     "text": [
      "[Parallel(n_jobs=7)]: Done   1 out of 177 | elapsed:    2.6s remaining:  7.7min\n",
      "[Parallel(n_jobs=7)]: Done  17 out of 177 | elapsed:    9.4s remaining:  1.5min\n",
      "[Parallel(n_jobs=7)]: Done  35 out of 177 | elapsed:   16.9s remaining:  1.1min\n",
      "[Parallel(n_jobs=7)]: Done  53 out of 177 | elapsed:   25.6s remaining:   59.8s\n",
      "[Parallel(n_jobs=7)]: Done  71 out of 177 | elapsed:   34.1s remaining:   51.0s\n",
      "[Parallel(n_jobs=7)]: Done  89 out of 177 | elapsed:   41.2s remaining:   40.7s\n",
      "[Parallel(n_jobs=7)]: Done 107 out of 177 | elapsed:   50.1s remaining:   32.8s\n",
      "[Parallel(n_jobs=7)]: Done 125 out of 177 | elapsed:   57.3s remaining:   23.8s\n",
      "[Parallel(n_jobs=7)]: Done 143 out of 177 | elapsed:  1.1min remaining:   15.7s\n",
      "[Parallel(n_jobs=7)]: Done 161 out of 177 | elapsed:  1.2min remaining:    7.3s\n",
      "[Parallel(n_jobs=7)]: Done 177 out of 177 | elapsed:  1.3min finished\n"
     ]
    },
    {
     "name": "stdout",
     "output_type": "stream",
     "text": [
      "29 328\n",
      "\tCPC006_A549_24H (354, 7) 1059\n",
      "\t(1059, 978)\n"
     ]
    },
    {
     "name": "stderr",
     "output_type": "stream",
     "text": [
      "[Parallel(n_jobs=7)]: Done   1 out of 354 | elapsed:    2.5s remaining: 14.9min\n",
      "[Parallel(n_jobs=7)]: Done  32 out of 354 | elapsed:   16.3s remaining:  2.7min\n",
      "[Parallel(n_jobs=7)]: Done  68 out of 354 | elapsed:   33.1s remaining:  2.3min\n",
      "[Parallel(n_jobs=7)]: Done 104 out of 354 | elapsed:   49.6s remaining:  2.0min\n",
      "[Parallel(n_jobs=7)]: Done 140 out of 354 | elapsed:  1.1min remaining:  1.7min\n",
      "[Parallel(n_jobs=7)]: Done 176 out of 354 | elapsed:  1.4min remaining:  1.4min\n",
      "[Parallel(n_jobs=7)]: Done 212 out of 354 | elapsed:  1.7min remaining:  1.1min\n",
      "[Parallel(n_jobs=7)]: Done 248 out of 354 | elapsed:  2.0min remaining:   51.0s\n",
      "[Parallel(n_jobs=7)]: Done 284 out of 354 | elapsed:  2.3min remaining:   33.7s\n",
      "[Parallel(n_jobs=7)]: Done 320 out of 354 | elapsed:  2.6min remaining:   16.4s\n",
      "[Parallel(n_jobs=7)]: Done 354 out of 354 | elapsed:  2.8min finished\n"
     ]
    },
    {
     "name": "stdout",
     "output_type": "stream",
     "text": [
      "30 328\n",
      "\tNMH002_NPC_6H (170, 7) 1031\n",
      "\t(1031, 978)\n"
     ]
    },
    {
     "name": "stderr",
     "output_type": "stream",
     "text": [
      "[Parallel(n_jobs=7)]: Done   1 out of 170 | elapsed:    2.8s remaining:  8.0min\n",
      "[Parallel(n_jobs=7)]: Done  10 out of 170 | elapsed:    6.2s remaining:  1.7min\n",
      "[Parallel(n_jobs=7)]: Done  28 out of 170 | elapsed:   13.7s remaining:  1.2min\n",
      "[Parallel(n_jobs=7)]: Done  46 out of 170 | elapsed:   22.9s remaining:  1.0min\n",
      "[Parallel(n_jobs=7)]: Done  64 out of 170 | elapsed:   31.8s remaining:   52.6s\n",
      "[Parallel(n_jobs=7)]: Done  82 out of 170 | elapsed:   39.8s remaining:   42.8s\n",
      "[Parallel(n_jobs=7)]: Done 100 out of 170 | elapsed:   48.1s remaining:   33.6s\n",
      "[Parallel(n_jobs=7)]: Done 118 out of 170 | elapsed:   57.2s remaining:   25.2s\n",
      "[Parallel(n_jobs=7)]: Done 136 out of 170 | elapsed:  1.1min remaining:   16.3s\n",
      "[Parallel(n_jobs=7)]: Done 154 out of 170 | elapsed:  1.2min remaining:    7.7s\n",
      "[Parallel(n_jobs=7)]: Done 170 out of 170 | elapsed:  1.3min finished\n"
     ]
    },
    {
     "name": "stdout",
     "output_type": "stream",
     "text": [
      "31 328\n",
      "\tDOS020_VCAP_6H (11, 7) 953\n",
      "\t(953, 978)\n"
     ]
    },
    {
     "name": "stderr",
     "output_type": "stream",
     "text": [
      "[Parallel(n_jobs=7)]: Done   1 out of  11 | elapsed:    2.5s remaining:   25.3s\n",
      "[Parallel(n_jobs=7)]: Done   3 out of  11 | elapsed:    2.8s remaining:    7.4s\n",
      "[Parallel(n_jobs=7)]: Done   5 out of  11 | elapsed:    3.0s remaining:    3.6s\n",
      "[Parallel(n_jobs=7)]: Done   7 out of  11 | elapsed:    3.1s remaining:    1.8s\n",
      "[Parallel(n_jobs=7)]: Done   9 out of  11 | elapsed:    4.0s remaining:    0.9s\n",
      "[Parallel(n_jobs=7)]: Done  11 out of  11 | elapsed:    4.4s finished\n"
     ]
    },
    {
     "name": "stdout",
     "output_type": "stream",
     "text": [
      "32 328\n",
      "\tCPC009_HA1E_6H (362, 7) 1076\n",
      "\t(1076, 978)\n"
     ]
    },
    {
     "name": "stderr",
     "output_type": "stream",
     "text": [
      "[Parallel(n_jobs=7)]: Done   1 out of 362 | elapsed:    2.7s remaining: 15.9min\n",
      "[Parallel(n_jobs=7)]: Done  31 out of 362 | elapsed:   16.5s remaining:  2.9min\n",
      "[Parallel(n_jobs=7)]: Done  68 out of 362 | elapsed:   33.9s remaining:  2.4min\n",
      "[Parallel(n_jobs=7)]: Done 105 out of 362 | elapsed:   52.0s remaining:  2.1min\n",
      "[Parallel(n_jobs=7)]: Done 142 out of 362 | elapsed:  1.2min remaining:  1.8min\n",
      "[Parallel(n_jobs=7)]: Done 179 out of 362 | elapsed:  1.5min remaining:  1.5min\n",
      "[Parallel(n_jobs=7)]: Done 216 out of 362 | elapsed:  1.8min remaining:  1.2min\n",
      "[Parallel(n_jobs=7)]: Done 253 out of 362 | elapsed:  2.1min remaining:   53.8s\n",
      "[Parallel(n_jobs=7)]: Done 290 out of 362 | elapsed:  2.4min remaining:   35.5s\n",
      "[Parallel(n_jobs=7)]: Done 327 out of 362 | elapsed:  2.7min remaining:   17.3s\n",
      "[Parallel(n_jobs=7)]: Done 362 out of 362 | elapsed:  3.0min finished\n"
     ]
    },
    {
     "name": "stdout",
     "output_type": "stream",
     "text": [
      "33 328\n",
      "\tCPC005_A549_24H (363, 7) 1068\n",
      "\t(1068, 978)\n"
     ]
    },
    {
     "name": "stderr",
     "output_type": "stream",
     "text": [
      "[Parallel(n_jobs=7)]: Done   1 out of 363 | elapsed:    2.9s remaining: 17.7min\n",
      "[Parallel(n_jobs=7)]: Done  32 out of 363 | elapsed:   16.9s remaining:  2.9min\n",
      "[Parallel(n_jobs=7)]: Done  69 out of 363 | elapsed:   34.0s remaining:  2.4min\n",
      "[Parallel(n_jobs=7)]: Done 106 out of 363 | elapsed:   53.0s remaining:  2.1min\n",
      "[Parallel(n_jobs=7)]: Done 143 out of 363 | elapsed:  1.2min remaining:  1.8min\n",
      "[Parallel(n_jobs=7)]: Done 180 out of 363 | elapsed:  1.5min remaining:  1.5min\n",
      "[Parallel(n_jobs=7)]: Done 217 out of 363 | elapsed:  1.8min remaining:  1.2min\n",
      "[Parallel(n_jobs=7)]: Done 254 out of 363 | elapsed:  2.1min remaining:   53.6s\n",
      "[Parallel(n_jobs=7)]: Done 291 out of 363 | elapsed:  2.4min remaining:   35.3s\n",
      "[Parallel(n_jobs=7)]: Done 328 out of 363 | elapsed:  2.7min remaining:   17.1s\n",
      "[Parallel(n_jobs=7)]: Done 363 out of 363 | elapsed:  2.9min finished\n"
     ]
    },
    {
     "name": "stdout",
     "output_type": "stream",
     "text": [
      "34 328\n",
      "\tCPC020_HT29_6H (330, 7) 1441\n",
      "\t(1441, 978)\n"
     ]
    },
    {
     "name": "stderr",
     "output_type": "stream",
     "text": [
      "[Parallel(n_jobs=7)]: Done   1 out of 330 | elapsed:    5.3s remaining: 29.1min\n",
      "[Parallel(n_jobs=7)]: Done  26 out of 330 | elapsed:   19.9s remaining:  3.9min\n",
      "[Parallel(n_jobs=7)]: Done  60 out of 330 | elapsed:   48.2s remaining:  3.6min\n",
      "[Parallel(n_jobs=7)]: Done  94 out of 330 | elapsed:  1.3min remaining:  3.2min\n",
      "[Parallel(n_jobs=7)]: Done 128 out of 330 | elapsed:  1.8min remaining:  2.8min\n",
      "[Parallel(n_jobs=7)]: Done 162 out of 330 | elapsed:  2.2min remaining:  2.3min\n",
      "[Parallel(n_jobs=7)]: Done 196 out of 330 | elapsed:  2.7min remaining:  1.9min\n",
      "[Parallel(n_jobs=7)]: Done 230 out of 330 | elapsed:  3.2min remaining:  1.4min\n",
      "[Parallel(n_jobs=7)]: Done 264 out of 330 | elapsed:  3.7min remaining:   54.8s\n",
      "[Parallel(n_jobs=7)]: Done 298 out of 330 | elapsed:  4.1min remaining:   26.6s\n",
      "[Parallel(n_jobs=7)]: Done 330 out of 330 | elapsed:  4.5min finished\n"
     ]
    },
    {
     "name": "stdout",
     "output_type": "stream",
     "text": [
      "35 328\n",
      "\tCPC007_MCF7_6H (355, 7) 1410\n",
      "\t(1410, 978)\n"
     ]
    },
    {
     "name": "stderr",
     "output_type": "stream",
     "text": [
      "[Parallel(n_jobs=7)]: Done   1 out of 355 | elapsed:    4.9s remaining: 28.8min\n",
      "[Parallel(n_jobs=7)]: Done  33 out of 355 | elapsed:   28.6s remaining:  4.6min\n",
      "[Parallel(n_jobs=7)]: Done  69 out of 355 | elapsed:   57.4s remaining:  4.0min\n",
      "[Parallel(n_jobs=7)]: Done 105 out of 355 | elapsed:  1.4min remaining:  3.4min\n",
      "[Parallel(n_jobs=7)]: Done 141 out of 355 | elapsed:  2.0min remaining:  3.0min\n",
      "[Parallel(n_jobs=7)]: Done 177 out of 355 | elapsed:  2.5min remaining:  2.5min\n",
      "[Parallel(n_jobs=7)]: Done 213 out of 355 | elapsed:  3.0min remaining:  2.0min\n",
      "[Parallel(n_jobs=7)]: Done 249 out of 355 | elapsed:  3.5min remaining:  1.5min\n",
      "[Parallel(n_jobs=7)]: Done 285 out of 355 | elapsed:  4.0min remaining:   58.6s\n",
      "[Parallel(n_jobs=7)]: Done 321 out of 355 | elapsed:  4.5min remaining:   28.4s\n",
      "[Parallel(n_jobs=7)]: Done 355 out of 355 | elapsed:  4.9min finished\n"
     ]
    },
    {
     "name": "stdout",
     "output_type": "stream",
     "text": [
      "36 328\n",
      "\tCPC008_MCF7_24H (356, 7) 720\n",
      "\t(720, 978)\n"
     ]
    },
    {
     "name": "stderr",
     "output_type": "stream",
     "text": [
      "[Parallel(n_jobs=7)]: Done   1 out of 356 | elapsed:    1.4s remaining:  8.3min\n",
      "[Parallel(n_jobs=7)]: Done  34 out of 356 | elapsed:    8.1s remaining:  1.3min\n",
      "[Parallel(n_jobs=7)]: Done  70 out of 356 | elapsed:   16.5s remaining:  1.1min\n",
      "[Parallel(n_jobs=7)]: Done 106 out of 356 | elapsed:   24.6s remaining:   58.1s\n",
      "[Parallel(n_jobs=7)]: Done 142 out of 356 | elapsed:   33.1s remaining:   49.8s\n",
      "[Parallel(n_jobs=7)]: Done 178 out of 356 | elapsed:   41.5s remaining:   41.5s\n",
      "[Parallel(n_jobs=7)]: Done 214 out of 356 | elapsed:   49.7s remaining:   33.0s\n",
      "[Parallel(n_jobs=7)]: Done 250 out of 356 | elapsed:   58.0s remaining:   24.6s\n",
      "[Parallel(n_jobs=7)]: Done 286 out of 356 | elapsed:  1.1min remaining:   16.2s\n",
      "[Parallel(n_jobs=7)]: Done 322 out of 356 | elapsed:  1.2min remaining:    7.8s\n",
      "[Parallel(n_jobs=7)]: Done 356 out of 356 | elapsed:  1.4min finished\n"
     ]
    },
    {
     "name": "stdout",
     "output_type": "stream",
     "text": [
      "37 328\n",
      "\tCPC020_VCAP_24H (328, 7) 1783\n",
      "\t(1783, 978)\n"
     ]
    },
    {
     "name": "stderr",
     "output_type": "stream",
     "text": [
      "[Parallel(n_jobs=7)]: Done   1 out of 328 | elapsed:    7.4s remaining: 40.2min\n",
      "[Parallel(n_jobs=7)]: Done  33 out of 328 | elapsed:   41.6s remaining:  6.2min\n",
      "[Parallel(n_jobs=7)]: Done  66 out of 328 | elapsed:  1.4min remaining:  5.4min\n",
      "[Parallel(n_jobs=7)]: Done  99 out of 328 | elapsed:  2.0min remaining:  4.6min\n",
      "[Parallel(n_jobs=7)]: Done 132 out of 328 | elapsed:  2.6min remaining:  3.9min\n",
      "[Parallel(n_jobs=7)]: Done 165 out of 328 | elapsed:  3.3min remaining:  3.2min\n",
      "[Parallel(n_jobs=7)]: Done 198 out of 328 | elapsed:  3.9min remaining:  2.6min\n",
      "[Parallel(n_jobs=7)]: Done 231 out of 328 | elapsed:  4.6min remaining:  1.9min\n",
      "[Parallel(n_jobs=7)]: Done 264 out of 328 | elapsed:  5.2min remaining:  1.3min\n",
      "[Parallel(n_jobs=7)]: Done 297 out of 328 | elapsed:  5.8min remaining:   36.6s\n",
      "[Parallel(n_jobs=7)]: Done 328 out of 328 | elapsed:  6.4min finished\n"
     ]
    },
    {
     "name": "stdout",
     "output_type": "stream",
     "text": [
      "38 328\n",
      "\tCPC006_RKO_6H (352, 7) 714\n",
      "\t(714, 978)\n"
     ]
    },
    {
     "name": "stderr",
     "output_type": "stream",
     "text": [
      "[Parallel(n_jobs=7)]: Done   1 out of 352 | elapsed:    1.7s remaining: 10.0min\n",
      "[Parallel(n_jobs=7)]: Done  30 out of 352 | elapsed:    8.4s remaining:  1.5min\n",
      "[Parallel(n_jobs=7)]: Done  66 out of 352 | elapsed:   17.4s remaining:  1.3min\n",
      "[Parallel(n_jobs=7)]: Done 102 out of 352 | elapsed:   26.0s remaining:  1.1min\n",
      "[Parallel(n_jobs=7)]: Done 138 out of 352 | elapsed:   34.4s remaining:   53.3s\n",
      "[Parallel(n_jobs=7)]: Done 174 out of 352 | elapsed:   43.0s remaining:   44.0s\n",
      "[Parallel(n_jobs=7)]: Done 210 out of 352 | elapsed:   51.6s remaining:   34.9s\n",
      "[Parallel(n_jobs=7)]: Done 246 out of 352 | elapsed:  1.0min remaining:   25.9s\n",
      "[Parallel(n_jobs=7)]: Done 282 out of 352 | elapsed:  1.1min remaining:   17.0s\n",
      "[Parallel(n_jobs=7)]: Done 318 out of 352 | elapsed:  1.3min remaining:    8.2s\n",
      "[Parallel(n_jobs=7)]: Done 352 out of 352 | elapsed:  1.4min finished\n"
     ]
    },
    {
     "name": "stdout",
     "output_type": "stream",
     "text": [
      "39 328\n",
      "\tHOG001_MCF7_24H (277, 7) 854\n",
      "\t(854, 978)\n"
     ]
    },
    {
     "name": "stderr",
     "output_type": "stream",
     "text": [
      "[Parallel(n_jobs=7)]: Done   1 out of 277 | elapsed:    2.0s remaining:  9.2min\n",
      "[Parallel(n_jobs=7)]: Done  27 out of 277 | elapsed:   10.7s remaining:  1.6min\n",
      "[Parallel(n_jobs=7)]: Done  55 out of 277 | elapsed:   19.9s remaining:  1.3min\n",
      "[Parallel(n_jobs=7)]: Done  83 out of 277 | elapsed:   29.4s remaining:  1.1min\n",
      "[Parallel(n_jobs=7)]: Done 111 out of 277 | elapsed:   38.7s remaining:   57.9s\n",
      "[Parallel(n_jobs=7)]: Done 139 out of 277 | elapsed:   47.9s remaining:   47.6s\n",
      "[Parallel(n_jobs=7)]: Done 167 out of 277 | elapsed:   57.5s remaining:   37.9s\n",
      "[Parallel(n_jobs=7)]: Done 195 out of 277 | elapsed:  1.1min remaining:   28.2s\n",
      "[Parallel(n_jobs=7)]: Done 223 out of 277 | elapsed:  1.3min remaining:   18.6s\n",
      "[Parallel(n_jobs=7)]: Done 251 out of 277 | elapsed:  1.4min remaining:    9.0s\n",
      "[Parallel(n_jobs=7)]: Done 277 out of 277 | elapsed:  1.6min finished\n"
     ]
    },
    {
     "name": "stdout",
     "output_type": "stream",
     "text": [
      "40 328\n",
      "\tNMH002_NEU.KCL_24H.4H (171, 7) 992\n",
      "\t(992, 978)\n"
     ]
    },
    {
     "name": "stderr",
     "output_type": "stream",
     "text": [
      "[Parallel(n_jobs=7)]: Done   1 out of 171 | elapsed:    2.4s remaining:  6.8min\n",
      "[Parallel(n_jobs=7)]: Done  11 out of 171 | elapsed:    5.8s remaining:  1.4min\n",
      "[Parallel(n_jobs=7)]: Done  29 out of 171 | elapsed:   14.6s remaining:  1.2min\n",
      "[Parallel(n_jobs=7)]: Done  47 out of 171 | elapsed:   21.6s remaining:   57.1s\n",
      "[Parallel(n_jobs=7)]: Done  65 out of 171 | elapsed:   29.8s remaining:   48.7s\n",
      "[Parallel(n_jobs=7)]: Done  83 out of 171 | elapsed:   37.0s remaining:   39.3s\n",
      "[Parallel(n_jobs=7)]: Done 101 out of 171 | elapsed:   45.9s remaining:   31.8s\n",
      "[Parallel(n_jobs=7)]: Done 119 out of 171 | elapsed:   52.7s remaining:   23.0s\n",
      "[Parallel(n_jobs=7)]: Done 137 out of 171 | elapsed:  1.0min remaining:   15.0s\n",
      "[Parallel(n_jobs=7)]: Done 155 out of 171 | elapsed:  1.1min remaining:    7.1s\n",
      "[Parallel(n_jobs=7)]: Done 171 out of 171 | elapsed:  1.2min finished\n"
     ]
    },
    {
     "name": "stdout",
     "output_type": "stream",
     "text": [
      "41 328\n",
      "\tMUC.CP003_NKDBA_24H (122, 7) 624\n",
      "\t(624, 978)\n"
     ]
    },
    {
     "name": "stderr",
     "output_type": "stream",
     "text": [
      "[Parallel(n_jobs=7)]: Done   1 out of 122 | elapsed:    1.3s remaining:  2.5min\n",
      "[Parallel(n_jobs=7)]: Done   7 out of 122 | elapsed:    1.4s remaining:   23.2s\n",
      "[Parallel(n_jobs=7)]: Done  20 out of 122 | elapsed:    4.1s remaining:   20.9s\n",
      "[Parallel(n_jobs=7)]: Done  33 out of 122 | elapsed:    6.4s remaining:   17.3s\n",
      "[Parallel(n_jobs=7)]: Done  46 out of 122 | elapsed:    8.9s remaining:   14.7s\n",
      "[Parallel(n_jobs=7)]: Done  59 out of 122 | elapsed:   11.7s remaining:   12.5s\n",
      "[Parallel(n_jobs=7)]: Done  72 out of 122 | elapsed:   14.1s remaining:    9.8s\n",
      "[Parallel(n_jobs=7)]: Done  85 out of 122 | elapsed:   16.4s remaining:    7.1s\n",
      "[Parallel(n_jobs=7)]: Done  98 out of 122 | elapsed:   18.8s remaining:    4.6s\n",
      "[Parallel(n_jobs=7)]: Done 111 out of 122 | elapsed:   21.1s remaining:    2.1s\n",
      "[Parallel(n_jobs=7)]: Done 122 out of 122 | elapsed:   22.6s finished\n"
     ]
    },
    {
     "name": "stdout",
     "output_type": "stream",
     "text": [
      "42 328\n",
      "\tMUC.CP004_MCF7_24H (114, 7) 955\n",
      "\t(955, 978)\n"
     ]
    },
    {
     "name": "stderr",
     "output_type": "stream",
     "text": [
      "[Parallel(n_jobs=7)]: Done   1 out of 114 | elapsed:    2.4s remaining:  4.5min\n",
      "[Parallel(n_jobs=7)]: Done   8 out of 114 | elapsed:    4.7s remaining:  1.0min\n",
      "[Parallel(n_jobs=7)]: Done  20 out of 114 | elapsed:    9.3s remaining:   43.5s\n",
      "[Parallel(n_jobs=7)]: Done  32 out of 114 | elapsed:   14.1s remaining:   36.1s\n",
      "[Parallel(n_jobs=7)]: Done  44 out of 114 | elapsed:   19.2s remaining:   30.6s\n",
      "[Parallel(n_jobs=7)]: Done  56 out of 114 | elapsed:   23.7s remaining:   24.6s\n",
      "[Parallel(n_jobs=7)]: Done  68 out of 114 | elapsed:   28.7s remaining:   19.4s\n",
      "[Parallel(n_jobs=7)]: Done  80 out of 114 | elapsed:   33.4s remaining:   14.2s\n",
      "[Parallel(n_jobs=7)]: Done  92 out of 114 | elapsed:   38.1s remaining:    9.1s\n",
      "[Parallel(n_jobs=7)]: Done 104 out of 114 | elapsed:   43.2s remaining:    4.2s\n",
      "[Parallel(n_jobs=7)]: Done 114 out of 114 | elapsed:   46.3s finished\n"
     ]
    },
    {
     "name": "stdout",
     "output_type": "stream",
     "text": [
      "43 328\n",
      "\tCPC010_PC3_6H (356, 7) 1768\n",
      "\t(1768, 978)\n"
     ]
    },
    {
     "name": "stderr",
     "output_type": "stream",
     "text": [
      "[Parallel(n_jobs=7)]: Done   1 out of 356 | elapsed:    7.5s remaining: 44.4min\n",
      "[Parallel(n_jobs=7)]: Done  34 out of 356 | elapsed:   41.2s remaining:  6.5min\n",
      "[Parallel(n_jobs=7)]: Done  70 out of 356 | elapsed:  1.4min remaining:  5.8min\n",
      "[Parallel(n_jobs=7)]: Done 106 out of 356 | elapsed:  2.2min remaining:  5.1min\n",
      "[Parallel(n_jobs=7)]: Done 142 out of 356 | elapsed:  2.9min remaining:  4.3min\n",
      "[Parallel(n_jobs=7)]: Done 178 out of 356 | elapsed:  3.5min remaining:  3.5min\n",
      "[Parallel(n_jobs=7)]: Done 214 out of 356 | elapsed:  4.2min remaining:  2.8min\n",
      "[Parallel(n_jobs=7)]: Done 250 out of 356 | elapsed:  4.9min remaining:  2.1min\n",
      "[Parallel(n_jobs=7)]: Done 286 out of 356 | elapsed:  5.5min remaining:  1.3min\n",
      "[Parallel(n_jobs=7)]: Done 322 out of 356 | elapsed:  6.2min remaining:   39.0s\n",
      "[Parallel(n_jobs=7)]: Done 356 out of 356 | elapsed:  6.7min finished\n"
     ]
    },
    {
     "name": "stdout",
     "output_type": "stream",
     "text": [
      "44 328\n",
      "\tCPC006_VCAP_6H (363, 7) 1442\n",
      "\t(1442, 978)\n"
     ]
    },
    {
     "name": "stderr",
     "output_type": "stream",
     "text": [
      "[Parallel(n_jobs=7)]: Done   1 out of 363 | elapsed:    4.5s remaining: 27.0min\n",
      "[Parallel(n_jobs=7)]: Done  32 out of 363 | elapsed:   26.8s remaining:  4.6min\n",
      "[Parallel(n_jobs=7)]: Done  69 out of 363 | elapsed:   54.9s remaining:  3.9min\n",
      "[Parallel(n_jobs=7)]: Done 106 out of 363 | elapsed:  1.4min remaining:  3.5min\n",
      "[Parallel(n_jobs=7)]: Done 143 out of 363 | elapsed:  1.9min remaining:  2.9min\n",
      "[Parallel(n_jobs=7)]: Done 180 out of 363 | elapsed:  2.3min remaining:  2.4min\n",
      "[Parallel(n_jobs=7)]: Done 217 out of 363 | elapsed:  2.8min remaining:  1.9min\n",
      "[Parallel(n_jobs=7)]: Done 254 out of 363 | elapsed:  3.3min remaining:  1.4min\n",
      "[Parallel(n_jobs=7)]: Done 291 out of 363 | elapsed:  3.8min remaining:   55.7s\n",
      "[Parallel(n_jobs=7)]: Done 328 out of 363 | elapsed:  4.3min remaining:   27.3s\n",
      "[Parallel(n_jobs=7)]: Done 363 out of 363 | elapsed:  4.7min finished\n"
     ]
    },
    {
     "name": "stdout",
     "output_type": "stream",
     "text": [
      "45 328\n",
      "\tPCLB002_HEPG2_24H (132, 7) 1086\n",
      "\t(1086, 978)\n"
     ]
    },
    {
     "name": "stderr",
     "output_type": "stream",
     "text": [
      "[Parallel(n_jobs=7)]: Done   1 out of 132 | elapsed:    3.4s remaining:  7.4min\n",
      "[Parallel(n_jobs=7)]: Done   8 out of 132 | elapsed:    7.1s remaining:  1.8min\n",
      "[Parallel(n_jobs=7)]: Done  22 out of 132 | elapsed:   14.5s remaining:  1.2min\n",
      "[Parallel(n_jobs=7)]: Done  36 out of 132 | elapsed:   21.9s remaining:   58.3s\n",
      "[Parallel(n_jobs=7)]: Done  50 out of 132 | elapsed:   29.3s remaining:   48.0s\n",
      "[Parallel(n_jobs=7)]: Done  64 out of 132 | elapsed:   36.4s remaining:   38.7s\n",
      "[Parallel(n_jobs=7)]: Done  78 out of 132 | elapsed:   44.3s remaining:   30.6s\n",
      "[Parallel(n_jobs=7)]: Done  92 out of 132 | elapsed:   51.3s remaining:   22.3s\n",
      "[Parallel(n_jobs=7)]: Done 106 out of 132 | elapsed:   58.8s remaining:   14.4s\n",
      "[Parallel(n_jobs=7)]: Done 120 out of 132 | elapsed:  1.1min remaining:    6.6s\n",
      "[Parallel(n_jobs=7)]: Done 132 out of 132 | elapsed:  1.2min finished\n"
     ]
    },
    {
     "name": "stdout",
     "output_type": "stream",
     "text": [
      "46 328\n",
      "\tCPC011_VCAP_6H (354, 7) 1749\n",
      "\t(1749, 978)\n"
     ]
    },
    {
     "name": "stderr",
     "output_type": "stream",
     "text": [
      "[Parallel(n_jobs=7)]: Done   1 out of 354 | elapsed:    7.6s remaining: 44.6min\n",
      "[Parallel(n_jobs=7)]: Done  32 out of 354 | elapsed:   41.9s remaining:  7.0min\n",
      "[Parallel(n_jobs=7)]: Done  68 out of 354 | elapsed:  1.4min remaining:  5.9min\n",
      "[Parallel(n_jobs=7)]: Done 104 out of 354 | elapsed:  2.1min remaining:  5.1min\n",
      "[Parallel(n_jobs=7)]: Done 140 out of 354 | elapsed:  2.8min remaining:  4.3min\n",
      "[Parallel(n_jobs=7)]: Done 176 out of 354 | elapsed:  3.6min remaining:  3.6min\n",
      "[Parallel(n_jobs=7)]: Done 212 out of 354 | elapsed:  4.3min remaining:  2.9min\n",
      "[Parallel(n_jobs=7)]: Done 248 out of 354 | elapsed:  5.0min remaining:  2.2min\n",
      "[Parallel(n_jobs=7)]: Done 284 out of 354 | elapsed:  5.7min remaining:  1.4min\n",
      "[Parallel(n_jobs=7)]: Done 320 out of 354 | elapsed:  6.4min remaining:   41.0s\n",
      "[Parallel(n_jobs=7)]: Done 354 out of 354 | elapsed:  7.1min finished\n"
     ]
    },
    {
     "name": "stdout",
     "output_type": "stream",
     "text": [
      "47 328\n",
      "\tPCLB002_HT29_24H (131, 7) 1097\n",
      "\t(1097, 978)\n"
     ]
    },
    {
     "name": "stderr",
     "output_type": "stream",
     "text": [
      "[Parallel(n_jobs=7)]: Done   1 out of 131 | elapsed:    3.1s remaining:  6.7min\n",
      "[Parallel(n_jobs=7)]: Done   7 out of 131 | elapsed:    3.9s remaining:  1.1min\n",
      "[Parallel(n_jobs=7)]: Done  21 out of 131 | elapsed:   11.6s remaining:  1.0min\n",
      "[Parallel(n_jobs=7)]: Done  35 out of 131 | elapsed:   19.2s remaining:   52.7s\n"
     ]
    }
   ],
   "source": [
    "# Get all inserted document sig_ids\n",
    "inserted_sig_ids = set(coll.distinct('sig_id'))\n",
    "print 'Number of sig_ids inserted: %d' % len(inserted_sig_ids)\n",
    "\n",
    "sig_ids_left = list(set(sig_meta_df.index) - inserted_sig_ids)\n",
    "\n",
    "# subset the sig_meta_df\n",
    "sig_meta_df_left = sig_meta_df.ix[sig_ids_left]\n",
    "all_batches = sig_meta_df_left['batch'].unique()\n",
    "n_batches = len(all_batches)\n",
    "print sig_meta_df_left.shape\n",
    "\n",
    "for c, batch in enumerate(all_batches):\n",
    "    sig_meta_df_sub = sig_meta_df_left.query('batch == \"%s\"' % batch)\n",
    "    \n",
    "    # all the treatment samples in this batch\n",
    "    distil_ids_sub = reduce(lambda x, y: x + y, \n",
    "                            sig_meta_df_full.query('batch == \"%s\"' % batch)['distil_id'])\n",
    "    print c, n_batches\n",
    "    print '\\t', batch, sig_meta_df_sub.shape, len(distil_ids_sub)\n",
    "    # Slice the matrix\n",
    "    mat = slice_matrix(gctx, distil_ids_sub, PROBES_LM1000)\n",
    "    print '\\t', mat.shape\n",
    "    # Mean center the probes\n",
    "    mat_centered = mat - mat.mean(axis=0)\n",
    "\n",
    "    docs = Parallel(n_jobs=7, backend='multiprocessing', verbose=10)(\\\n",
    "                              delayed(compute_signatures)(sig_id, row, distil_ids_sub, mat, mat_centered, PROBES_LM1000)\\\n",
    "                              for sig_id, row in sig_meta_df_sub.iterrows())\n",
    "                              \n",
    "    result = coll.insert_many(docs)\n",
    "\n",
    "\n",
    "    \n"
   ]
  }
 ],
 "metadata": {
  "kernelspec": {
   "display_name": "Python 2",
   "language": "python",
   "name": "python2"
  },
  "language_info": {
   "codemirror_mode": {
    "name": "ipython",
    "version": 2
   },
   "file_extension": ".py",
   "mimetype": "text/x-python",
   "name": "python",
   "nbconvert_exporter": "python",
   "pygments_lexer": "ipython2",
   "version": "2.7.11"
  }
 },
 "nbformat": 4,
 "nbformat_minor": 2
}
