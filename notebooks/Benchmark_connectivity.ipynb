{
 "cells": [
  {
   "cell_type": "markdown",
   "metadata": {},
   "source": [
    "# Use different metrics to benchmark signature connectivity metrics\n",
    "\n",
    "The gold standard is the drug MoA from Corsello et al.: https://www.nature.com/nm/journal/v23/n4/full/nm.4306.html"
   ]
  },
  {
   "cell_type": "code",
   "execution_count": 1,
   "metadata": {
    "collapsed": true
   },
   "outputs": [],
   "source": [
    "import os, sys, json\n",
    "from itertools import combinations\n",
    "import h5py\n",
    "from pymongo import MongoClient\n",
    "import numpy as np\n",
    "import pandas as pd\n",
    "from scipy import stats\n",
    "from scipy.spatial import distance\n",
    "np.random.seed(10)"
   ]
  },
  {
   "cell_type": "code",
   "execution_count": 2,
   "metadata": {},
   "outputs": [
    {
     "name": "stderr",
     "output_type": "stream",
     "text": [
      "/usr/local/lib/python2.7/site-packages/matplotlib/__init__.py:913: UserWarning: axes.color_cycle is deprecated and replaced with axes.prop_cycle; please use the latter.\n",
      "  warnings.warn(self.msg_depr % (key, alt_key))\n"
     ]
    }
   ],
   "source": [
    "import matplotlib.pyplot as plt\n",
    "%matplotlib inline\n",
    "from matplotlib import rcParams\n",
    "rcParams['pdf.fonttype'] = 42 ## Output Type 3 (Type3) or Type 42 (TrueType)\n",
    "rcParams['font.sans-serif'] = 'Arial'\n",
    "\n",
    "import seaborn as sns\n",
    "sns.set_context('talk', font_scale=1.5)\n"
   ]
  },
  {
   "cell_type": "code",
   "execution_count": 3,
   "metadata": {},
   "outputs": [],
   "source": [
    "from joblib import delayed, Parallel"
   ]
  },
  {
   "cell_type": "markdown",
   "metadata": {},
   "source": [
    "# Implement connectivity metrics \n",
    "\n",
    "Connectivity Metrics between a pair of signatures:\n",
    "\n",
    "`sig1` and `sig2` are 1-D `np.array` with same orders of genes\n"
   ]
  },
  {
   "cell_type": "code",
   "execution_count": 29,
   "metadata": {
    "collapsed": true
   },
   "outputs": [],
   "source": [
    "def _gesa_enrichment_score(ranks_s):\n",
    "    '''Calculate enrichment score from a rank ordered boolean array.\n",
    "    ranks_s: np.array([0., 1., 0., 0.])\n",
    "        - 1.: hits\n",
    "        - 0.: misses\n",
    "    '''\n",
    "    n_hits = ranks_s.sum()\n",
    "    n_misses = ranks_s.shape[0] - n_hits\n",
    "    \n",
    "    p_hit = np.cumsum(ranks_s) / n_hits\n",
    "    p_miss = np.cumsum(1 - ranks_s) / n_misses\n",
    "    p_diff = np.absolute(p_hit - p_miss)\n",
    "    idx = np.argmax(p_diff)\n",
    "    es = p_hit[idx] - p_miss[idx]\n",
    "    return es\n",
    "    \n",
    "def gsea_score(sig1, sig2, n_sig=100):\n",
    "    '''GSEA-based Kolmogorov-Smirnov statsitics.\n",
    "    n_sig: number of top ranked genes to be treated as significant\n",
    "    '''\n",
    "    # number of genes\n",
    "    n = len(sig1)\n",
    "    # rank genes in sig1 (0: most down gene, 977: most up genes)\n",
    "    ranks1 = stats.rankdata(sig1) - 1 \n",
    "    # identify top up/down genes in sig1\n",
    "    sig1_down = ranks1 < n_sig\n",
    "    sig1_up = ranks1 > (n-1-n_sig)\n",
    "    # argsort sig2\n",
    "    sig2_srt_idx = sig2.argsort()\n",
    "    # Compute ES: sig1 as query, sig2 as ref rank\n",
    "    es_up1 = _gesa_enrichment_score( sig1_up[sig2_srt_idx].astype(float) )\n",
    "    es_down1 = _gesa_enrichment_score( sig1_down[sig2_srt_idx].astype(float) )\n",
    "    \n",
    "    # rank genes in sig2\n",
    "    ranks2 = stats.rankdata(sig2) - 1\n",
    "    # identify top up/down genes in sig2\n",
    "    sig2_down = ranks2 < n_sig\n",
    "    sig2_up = ranks2 > (n-1-n_sig)\n",
    "    # argsort sig1\n",
    "    sig1_srt_idx = sig1.argsort()\n",
    "    # Compute ES: sig2 as query, sig1 as ref rank\n",
    "    es_up2 = _gesa_enrichment_score( sig2_up[sig1_srt_idx].astype(float) )\n",
    "    es_down2 = _gesa_enrichment_score( sig2_down[sig1_srt_idx].astype(float) )\n",
    "    \n",
    "#     print es_up1, es_down1\n",
    "#     print es_up2, es_down2\n",
    "    \n",
    "    # es_up is using up gene set to find hits in a list ascending ordered, \n",
    "    # therefore, the desirable sign should be negative\n",
    "    score = (es_down1 - es_up1 + es_down2 - es_up2) / 4. \n",
    "    return score\n",
    "\n",
    "def cosine_sim(sig1, sig2):\n",
    "    '''Cosine similarity'''\n",
    "    return 1 - distance.cosine(sig1, sig2)\n",
    "\n",
    "def correlation(sig1, sig2):\n",
    "    '''Pearson correlation'''\n",
    "    return 1 - distance.correlation(sig1, sig2)\n",
    "\n",
    "def pscore(mat, func, n_jobs=1, **kwargs):\n",
    "    '''mat is a signature by gene matrix, apply func to all pairwise signatures.\n",
    "    Similar to pdist\n",
    "    '''\n",
    "    n = mat.shape[0]\n",
    "    n_scores = n * (n-1) / 2\n",
    "    scores = np.zeros(n_scores)\n",
    "    c = 0\n",
    "    if n_jobs == 1:\n",
    "        for i, j in combinations(range(n), 2):\n",
    "            scores[c] = func(mat[i], mat[j])\n",
    "            c += 1\n",
    "    else:\n",
    "        scores = Parallel(n_jobs=n_jobs, backend='multiprocessing', verbose=10)(\n",
    "            delayed(func)(mat[i], mat[j], **kwargs) for i, j in combinations(range(n), 2))\n",
    "        scores = np.array(scores)\n",
    "    return scores"
   ]
  },
  {
   "cell_type": "markdown",
   "metadata": {},
   "source": [
    "## Check the metrics with random data"
   ]
  },
  {
   "cell_type": "code",
   "execution_count": 4,
   "metadata": {
    "collapsed": true
   },
   "outputs": [],
   "source": [
    "sig1 = np.random.randn(978)\n",
    "sig2 = np.random.randn(978)\n",
    "sig3 = sig1 + 1."
   ]
  },
  {
   "cell_type": "code",
   "execution_count": 5,
   "metadata": {},
   "outputs": [
    {
     "data": {
      "text/plain": [
       "0.12504310344827588"
      ]
     },
     "execution_count": 5,
     "metadata": {},
     "output_type": "execute_result"
    }
   ],
   "source": [
    "gsea_score(sig1, sig2, n_sig=50)"
   ]
  },
  {
   "cell_type": "code",
   "execution_count": 6,
   "metadata": {},
   "outputs": [
    {
     "name": "stdout",
     "output_type": "stream",
     "text": [
      "1.0\n",
      "0.677393930887\n",
      "1.0\n",
      "1.0\n"
     ]
    }
   ],
   "source": [
    "print gsea_score(sig1, sig3, n_sig=50)\n",
    "print cosine_sim(sig1, sig3)\n",
    "print cosine_sim(sig1, sig1 * 2)\n",
    "print correlation(sig1, sig3)"
   ]
  },
  {
   "cell_type": "code",
   "execution_count": 7,
   "metadata": {
    "collapsed": true
   },
   "outputs": [],
   "source": [
    "n_sigs = [10, 20, 50, 100]\n",
    "\n",
    "all_scores = np.zeros((1000, 6))\n",
    "for i in range(1000):\n",
    "    sig_n = np.random.randn(978)\n",
    "    \n",
    "    es_10 = gsea_score(sig1, sig_n, n_sig=10)\n",
    "    es_20 = gsea_score(sig1, sig_n, n_sig=20)\n",
    "    es_50 = gsea_score(sig1, sig_n, n_sig=50)\n",
    "    es_100 = gsea_score(sig1, sig_n, n_sig=100)\n",
    "    \n",
    "    cos = cosine_sim(sig1, sig_n)\n",
    "    corr = correlation(sig1, sig_n)\n",
    "    \n",
    "    all_scores[i] = [es_10, es_20, es_50, es_100, cos, corr]\n",
    "    \n",
    "    "
   ]
  },
  {
   "cell_type": "code",
   "execution_count": 8,
   "metadata": {
    "collapsed": true
   },
   "outputs": [],
   "source": [
    "all_scores_df = pd.DataFrame(all_scores, \n",
    "                             columns=['ES_10', 'ES_20', 'ES_50', 'ES_100', 'cosine', 'correlation'])\n"
   ]
  },
  {
   "cell_type": "code",
   "execution_count": 9,
   "metadata": {},
   "outputs": [
    {
     "name": "stderr",
     "output_type": "stream",
     "text": [
      "/usr/local/lib/python2.7/site-packages/seaborn/categorical.py:1791: UserWarning: The violinplot API has been changed. Attempting to adjust your arguments for the new API (which might not work). Please update your code. See the version 0.6 release notes for more info.\n",
      "  warnings.warn(msg, UserWarning)\n",
      "/usr/local/lib/python2.7/site-packages/matplotlib/__init__.py:938: UserWarning: axes.color_cycle is deprecated and replaced with axes.prop_cycle; please use the latter.\n",
      "  warnings.warn(self.msg_depr % (key, alt_key))\n"
     ]
    },
    {
     "data": {
      "text/plain": [
       "<matplotlib.axes._subplots.AxesSubplot at 0x10d71e150>"
      ]
     },
     "execution_count": 9,
     "metadata": {},
     "output_type": "execute_result"
    },
    {
     "data": {
      "image/png": "[encoded data removed]",
      "text/plain": [
       "<matplotlib.figure.Figure at 0x10d71e590>"
      ]
     },
     "metadata": {},
     "output_type": "display_data"
    }
   ],
   "source": [
    "sns.violinplot(all_scores_df)"
   ]
  },
  {
   "cell_type": "code",
   "execution_count": 10,
   "metadata": {
    "collapsed": true
   },
   "outputs": [],
   "source": [
    "del all_scores_df"
   ]
  },
  {
   "cell_type": "markdown",
   "metadata": {},
   "source": [
    "# Read gold standard of drug MoAs"
   ]
  },
  {
   "cell_type": "code",
   "execution_count": 14,
   "metadata": {},
   "outputs": [
    {
     "name": "stdout",
     "output_type": "stream",
     "text": [
      "(5628, 5)\n"
     ]
    },
    {
     "data": {
      "text/html": [
       "<div>\n",
       "<style>\n",
       "    .dataframe thead tr:only-child th {\n",
       "        text-align: right;\n",
       "    }\n",
       "\n",
       "    .dataframe thead th {\n",
       "        text-align: left;\n",
       "    }\n",
       "\n",
       "    .dataframe tbody tr th {\n",
       "        vertical-align: top;\n",
       "    }\n",
       "</style>\n",
       "<table border=\"1\" class=\"dataframe\">\n",
       "  <thead>\n",
       "    <tr style=\"text-align: right;\">\n",
       "      <th></th>\n",
       "      <th>Name</th>\n",
       "      <th>MOA</th>\n",
       "      <th>Target</th>\n",
       "      <th>Id</th>\n",
       "      <th>Phase</th>\n",
       "    </tr>\n",
       "  </thead>\n",
       "  <tbody>\n",
       "    <tr>\n",
       "      <th>0</th>\n",
       "      <td>A-317491</td>\n",
       "      <td>purinergic receptor antagonist</td>\n",
       "      <td>P2RX3</td>\n",
       "      <td>BRD-K38019854-323-01-4, BRD-K38019854-001-01-6</td>\n",
       "      <td>Preclinical</td>\n",
       "    </tr>\n",
       "    <tr>\n",
       "      <th>1</th>\n",
       "      <td>A-33903</td>\n",
       "      <td>NaN</td>\n",
       "      <td>NaN</td>\n",
       "      <td>BRD-A40302156-001-01-9</td>\n",
       "      <td>Phase 2</td>\n",
       "    </tr>\n",
       "    <tr>\n",
       "      <th>2</th>\n",
       "      <td>A-366</td>\n",
       "      <td>histone lysine methyltransferase inhibitor</td>\n",
       "      <td>EHMT1, EHMT2</td>\n",
       "      <td>BRD-K06182768-001-02-3, BRD-K06182768-001-01-5...</td>\n",
       "      <td>Preclinical</td>\n",
       "    </tr>\n",
       "    <tr>\n",
       "      <th>3</th>\n",
       "      <td>A-674563</td>\n",
       "      <td>AKT inhibitor</td>\n",
       "      <td>AKT1, PKIA, PRKACA</td>\n",
       "      <td>BRD-K78177893-001-02-4</td>\n",
       "      <td>Preclinical</td>\n",
       "    </tr>\n",
       "    <tr>\n",
       "      <th>4</th>\n",
       "      <td>A-7</td>\n",
       "      <td>calmodulin antagonist</td>\n",
       "      <td>NaN</td>\n",
       "      <td>BRD-K03301001-003-02-5</td>\n",
       "      <td>Preclinical</td>\n",
       "    </tr>\n",
       "  </tbody>\n",
       "</table>\n",
       "</div>"
      ],
      "text/plain": [
       "       Name                                         MOA              Target  \\\n",
       "0  A-317491              purinergic receptor antagonist               P2RX3   \n",
       "1   A-33903                                         NaN                 NaN   \n",
       "2     A-366  histone lysine methyltransferase inhibitor        EHMT1, EHMT2   \n",
       "3  A-674563                               AKT inhibitor  AKT1, PKIA, PRKACA   \n",
       "4       A-7                       calmodulin antagonist                 NaN   \n",
       "\n",
       "                                                  Id        Phase  \n",
       "0     BRD-K38019854-323-01-4, BRD-K38019854-001-01-6  Preclinical  \n",
       "1                             BRD-A40302156-001-01-9      Phase 2  \n",
       "2  BRD-K06182768-001-02-3, BRD-K06182768-001-01-5...  Preclinical  \n",
       "3                             BRD-K78177893-001-02-4  Preclinical  \n",
       "4                             BRD-K03301001-003-02-5  Preclinical  "
      ]
     },
     "execution_count": 14,
     "metadata": {},
     "output_type": "execute_result"
    }
   ],
   "source": [
    "drug_moa_df = pd.read_csv('../../Repurposing_Hub_export.txt', sep='\\t')\n",
    "print drug_moa_df.shape\n",
    "drug_moa_df.head()"
   ]
  },
  {
   "cell_type": "code",
   "execution_count": 15,
   "metadata": {},
   "outputs": [
    {
     "data": {
      "text/plain": [
       "1    5179\n",
       "2     359\n",
       "3      75\n",
       "4      11\n",
       "5       4\n",
       "Name: pert_id_count, dtype: int64"
      ]
     },
     "execution_count": 15,
     "metadata": {},
     "output_type": "execute_result"
    }
   ],
   "source": [
    "drug_moa_df['pert_ids'] = drug_moa_df['Id']\\\n",
    "    .map(lambda x: ','.join(set(['-'.join(item.split('-')[0:2]) for item in x.split(', ')])))\n",
    "\n",
    "drug_moa_df['pert_id_count'] = drug_moa_df['pert_ids']\\\n",
    "    .map(lambda x: len(x.split(',')))\n",
    "\n",
    "drug_moa_df['pert_id_count'].value_counts()"
   ]
  },
  {
   "cell_type": "code",
   "execution_count": 16,
   "metadata": {},
   "outputs": [
    {
     "data": {
      "text/html": [
       "<div>\n",
       "<style>\n",
       "    .dataframe thead tr:only-child th {\n",
       "        text-align: right;\n",
       "    }\n",
       "\n",
       "    .dataframe thead th {\n",
       "        text-align: left;\n",
       "    }\n",
       "\n",
       "    .dataframe tbody tr th {\n",
       "        vertical-align: top;\n",
       "    }\n",
       "</style>\n",
       "<table border=\"1\" class=\"dataframe\">\n",
       "  <thead>\n",
       "    <tr style=\"text-align: right;\">\n",
       "      <th></th>\n",
       "      <th>Name</th>\n",
       "      <th>MOA</th>\n",
       "      <th>Target</th>\n",
       "      <th>Id</th>\n",
       "      <th>Phase</th>\n",
       "      <th>pert_ids</th>\n",
       "      <th>pert_id_count</th>\n",
       "    </tr>\n",
       "  </thead>\n",
       "  <tbody>\n",
       "    <tr>\n",
       "      <th>7</th>\n",
       "      <td>abacavir</td>\n",
       "      <td>nucleoside reverse transcriptase inhibitor</td>\n",
       "      <td>NaN</td>\n",
       "      <td>BRD-A95032015-065-01-2, BRD-K17443395-065-01-4</td>\n",
       "      <td>Launched</td>\n",
       "      <td>BRD-A95032015,BRD-K17443395</td>\n",
       "      <td>2</td>\n",
       "    </tr>\n",
       "    <tr>\n",
       "      <th>13</th>\n",
       "      <td>abiraterone-acetate</td>\n",
       "      <td>androgen biosynthesis inhibitor</td>\n",
       "      <td>CYP17A1</td>\n",
       "      <td>BRD-K24048528-001-01-7, BRD-K16133773-001-01-9</td>\n",
       "      <td>Launched</td>\n",
       "      <td>BRD-K24048528,BRD-K16133773</td>\n",
       "      <td>2</td>\n",
       "    </tr>\n",
       "    <tr>\n",
       "      <th>26</th>\n",
       "      <td>acadesine</td>\n",
       "      <td>AMPK activator</td>\n",
       "      <td>NaN</td>\n",
       "      <td>BRD-K53448858-001-07-0, BRD-K04797704-001-01-9</td>\n",
       "      <td>Phase 3</td>\n",
       "      <td>BRD-K53448858,BRD-K04797704</td>\n",
       "      <td>2</td>\n",
       "    </tr>\n",
       "    <tr>\n",
       "      <th>30</th>\n",
       "      <td>acarbose</td>\n",
       "      <td>glucosidase inhibitor</td>\n",
       "      <td>AMY2A, GAA, MGAM, SI</td>\n",
       "      <td>BRD-A16444946-001-09-7, BRD-K01621533-001-01-1...</td>\n",
       "      <td>Launched</td>\n",
       "      <td>BRD-K01621533,BRD-K44276885,BRD-A16444946</td>\n",
       "      <td>3</td>\n",
       "    </tr>\n",
       "    <tr>\n",
       "      <th>34</th>\n",
       "      <td>aceclidine</td>\n",
       "      <td>acetylcholine receptor agonist</td>\n",
       "      <td>CHRM1, CHRM2, CHRM3, CHRM4, CHRM5</td>\n",
       "      <td>BRD-A32673558-003-03-9, BRD-A32673558-001-02-5...</td>\n",
       "      <td>Launched</td>\n",
       "      <td>BRD-K68075732,BRD-A80567352,BRD-A32673558</td>\n",
       "      <td>3</td>\n",
       "    </tr>\n",
       "  </tbody>\n",
       "</table>\n",
       "</div>"
      ],
      "text/plain": [
       "                   Name                                         MOA  \\\n",
       "7              abacavir  nucleoside reverse transcriptase inhibitor   \n",
       "13  abiraterone-acetate             androgen biosynthesis inhibitor   \n",
       "26            acadesine                              AMPK activator   \n",
       "30             acarbose                       glucosidase inhibitor   \n",
       "34           aceclidine              acetylcholine receptor agonist   \n",
       "\n",
       "                               Target  \\\n",
       "7                                 NaN   \n",
       "13                            CYP17A1   \n",
       "26                                NaN   \n",
       "30               AMY2A, GAA, MGAM, SI   \n",
       "34  CHRM1, CHRM2, CHRM3, CHRM4, CHRM5   \n",
       "\n",
       "                                                   Id     Phase  \\\n",
       "7      BRD-A95032015-065-01-2, BRD-K17443395-065-01-4  Launched   \n",
       "13     BRD-K24048528-001-01-7, BRD-K16133773-001-01-9  Launched   \n",
       "26     BRD-K53448858-001-07-0, BRD-K04797704-001-01-9   Phase 3   \n",
       "30  BRD-A16444946-001-09-7, BRD-K01621533-001-01-1...  Launched   \n",
       "34  BRD-A32673558-003-03-9, BRD-A32673558-001-02-5...  Launched   \n",
       "\n",
       "                                     pert_ids  pert_id_count  \n",
       "7                 BRD-A95032015,BRD-K17443395              2  \n",
       "13                BRD-K24048528,BRD-K16133773              2  \n",
       "26                BRD-K53448858,BRD-K04797704              2  \n",
       "30  BRD-K01621533,BRD-K44276885,BRD-A16444946              3  \n",
       "34  BRD-K68075732,BRD-A80567352,BRD-A32673558              3  "
      ]
     },
     "execution_count": 16,
     "metadata": {},
     "output_type": "execute_result"
    }
   ],
   "source": [
    "drug_moa_df.query('pert_id_count > 1').head()"
   ]
  },
  {
   "cell_type": "code",
   "execution_count": 17,
   "metadata": {},
   "outputs": [
    {
     "name": "stdout",
     "output_type": "stream",
     "text": [
      "Name 5628\n",
      "MOA 1262\n",
      "Target 2149\n",
      "Id 5628\n",
      "Phase 8\n",
      "pert_ids 5620\n",
      "pert_id_count 5\n"
     ]
    }
   ],
   "source": [
    "for col in drug_moa_df.columns:\n",
    "    print col, drug_moa_df[col].nunique()"
   ]
  },
  {
   "cell_type": "code",
   "execution_count": 18,
   "metadata": {},
   "outputs": [
    {
     "data": {
      "text/plain": [
       "Name             5628\n",
       "MOA              5086\n",
       "Target           4020\n",
       "Id               5628\n",
       "Phase            5627\n",
       "pert_ids         5628\n",
       "pert_id_count    5628\n",
       "dtype: int64"
      ]
     },
     "execution_count": 18,
     "metadata": {},
     "output_type": "execute_result"
    }
   ],
   "source": [
    "drug_moa_df.count()"
   ]
  },
  {
   "cell_type": "code",
   "execution_count": 19,
   "metadata": {
    "collapsed": true
   },
   "outputs": [],
   "source": [
    "drug_moa_df.set_index('Name', inplace=True)"
   ]
  },
  {
   "cell_type": "code",
   "execution_count": 20,
   "metadata": {},
   "outputs": [
    {
     "name": "stdout",
     "output_type": "stream",
     "text": [
      "6172\n"
     ]
    }
   ],
   "source": [
    "# A dict from pert_id to name\n",
    "d_pert_name = {}\n",
    "for name, row in drug_moa_df.iterrows():\n",
    "    for pert_id in row['pert_ids'].split(','):\n",
    "        d_pert_name[pert_id] = name\n",
    "print len(d_pert_name)"
   ]
  },
  {
   "cell_type": "markdown",
   "metadata": {},
   "source": [
    "# Load signature data and metadata from MongoDB\n",
    "\n",
    "1. **chdirLm**: CD signatures created by Qiaonan\n",
    "2. **CD_nocenter_LM**: CD signatures of treatment samples vs other treatment samples in the batch as controls\n",
    "3. **CD_center_LM**: Same with 2., but perform CD after mean centering\n",
    "4. **avg_center_LM**: Mean center treatment samples in the batch, then use the mean differences as signature"
   ]
  },
  {
   "cell_type": "code",
   "execution_count": 5,
   "metadata": {
    "collapsed": true
   },
   "outputs": [],
   "source": [
    "def retrieve_signature_meta_df(coll, query):\n",
    "    cur = coll.find(query, \n",
    "                    {'sig_id':True,\n",
    "                     'pert_id':True,\n",
    "                     '_id':False\n",
    "                    })\n",
    "    meta_df = pd.DataFrame([doc for doc in cur]).set_index('sig_id')\n",
    "    print meta_df.shape\n",
    "    \n",
    "    meta_df['batch'] = meta_df.index.map(lambda x: x.split(':')[0])\n",
    "    meta_df['batch_prefix'] = meta_df['batch'].map(lambda x:x.split('_')[0])\n",
    "    meta_df['cell_id'] = meta_df['batch'].map(lambda x:x.split('_')[1])\n",
    "    meta_df['time'] = meta_df['batch'].map(lambda x:x.split('_')[2])\n",
    "    return meta_df"
   ]
  },
  {
   "cell_type": "code",
   "execution_count": 6,
   "metadata": {},
   "outputs": [
    {
     "name": "stdout",
     "output_type": "stream",
     "text": [
      "(117126, 1)\n",
      "(117126, 5)\n"
     ]
    },
    {
     "data": {
      "text/html": [
       "<div>\n",
       "<style>\n",
       "    .dataframe thead tr:only-child th {\n",
       "        text-align: right;\n",
       "    }\n",
       "\n",
       "    .dataframe thead th {\n",
       "        text-align: left;\n",
       "    }\n",
       "\n",
       "    .dataframe tbody tr th {\n",
       "        vertical-align: top;\n",
       "    }\n",
       "</style>\n",
       "<table border=\"1\" class=\"dataframe\">\n",
       "  <thead>\n",
       "    <tr style=\"text-align: right;\">\n",
       "      <th></th>\n",
       "      <th>pert_id</th>\n",
       "      <th>batch</th>\n",
       "      <th>batch_prefix</th>\n",
       "      <th>cell_id</th>\n",
       "      <th>time</th>\n",
       "    </tr>\n",
       "    <tr>\n",
       "      <th>sig_id</th>\n",
       "      <th></th>\n",
       "      <th></th>\n",
       "      <th></th>\n",
       "      <th></th>\n",
       "      <th></th>\n",
       "    </tr>\n",
       "  </thead>\n",
       "  <tbody>\n",
       "    <tr>\n",
       "      <th>CPC001_HA1E_24H:BRD-A82329351:10.0</th>\n",
       "      <td>BRD-A82329351</td>\n",
       "      <td>CPC001_HA1E_24H</td>\n",
       "      <td>CPC001</td>\n",
       "      <td>HA1E</td>\n",
       "      <td>24H</td>\n",
       "    </tr>\n",
       "    <tr>\n",
       "      <th>CPC001_HA1E_24H:BRD-K02607075:10.0</th>\n",
       "      <td>BRD-K02607075</td>\n",
       "      <td>CPC001_HA1E_24H</td>\n",
       "      <td>CPC001</td>\n",
       "      <td>HA1E</td>\n",
       "      <td>24H</td>\n",
       "    </tr>\n",
       "    <tr>\n",
       "      <th>CPC001_HA1E_24H:BRD-A49906757:10.0</th>\n",
       "      <td>BRD-A49906757</td>\n",
       "      <td>CPC001_HA1E_24H</td>\n",
       "      <td>CPC001</td>\n",
       "      <td>HA1E</td>\n",
       "      <td>24H</td>\n",
       "    </tr>\n",
       "    <tr>\n",
       "      <th>CPC001_HA1E_24H:BRD-K85242180:10.0</th>\n",
       "      <td>BRD-K85242180</td>\n",
       "      <td>CPC001_HA1E_24H</td>\n",
       "      <td>CPC001</td>\n",
       "      <td>HA1E</td>\n",
       "      <td>24H</td>\n",
       "    </tr>\n",
       "    <tr>\n",
       "      <th>CPC001_HA1E_24H:BRD-K78844995:10.0</th>\n",
       "      <td>BRD-K78844995</td>\n",
       "      <td>CPC001_HA1E_24H</td>\n",
       "      <td>CPC001</td>\n",
       "      <td>HA1E</td>\n",
       "      <td>24H</td>\n",
       "    </tr>\n",
       "  </tbody>\n",
       "</table>\n",
       "</div>"
      ],
      "text/plain": [
       "                                          pert_id            batch  \\\n",
       "sig_id                                                               \n",
       "CPC001_HA1E_24H:BRD-A82329351:10.0  BRD-A82329351  CPC001_HA1E_24H   \n",
       "CPC001_HA1E_24H:BRD-K02607075:10.0  BRD-K02607075  CPC001_HA1E_24H   \n",
       "CPC001_HA1E_24H:BRD-A49906757:10.0  BRD-A49906757  CPC001_HA1E_24H   \n",
       "CPC001_HA1E_24H:BRD-K85242180:10.0  BRD-K85242180  CPC001_HA1E_24H   \n",
       "CPC001_HA1E_24H:BRD-K78844995:10.0  BRD-K78844995  CPC001_HA1E_24H   \n",
       "\n",
       "                                   batch_prefix cell_id time  \n",
       "sig_id                                                        \n",
       "CPC001_HA1E_24H:BRD-A82329351:10.0       CPC001    HA1E  24H  \n",
       "CPC001_HA1E_24H:BRD-K02607075:10.0       CPC001    HA1E  24H  \n",
       "CPC001_HA1E_24H:BRD-A49906757:10.0       CPC001    HA1E  24H  \n",
       "CPC001_HA1E_24H:BRD-K85242180:10.0       CPC001    HA1E  24H  \n",
       "CPC001_HA1E_24H:BRD-K78844995:10.0       CPC001    HA1E  24H  "
      ]
     },
     "execution_count": 6,
     "metadata": {},
     "output_type": "execute_result"
    }
   ],
   "source": [
    "# CD signatures produced by Qiaonan \n",
    "client = MongoClient('mongodb://146.203.54.131:27017/')\n",
    "coll = client['L1000CDS2']['cpcd-gse70138']\n",
    "\n",
    "meta_df = retrieve_signature_meta_df(coll, {'pert_type': 'trt_cp'})\n",
    "print meta_df.shape\n",
    "meta_df.head()"
   ]
  },
  {
   "cell_type": "code",
   "execution_count": 86,
   "metadata": {},
   "outputs": [
    {
     "data": {
      "text/plain": [
       "[u'trt_poscon', u'trt_cp']"
      ]
     },
     "execution_count": 86,
     "metadata": {},
     "output_type": "execute_result"
    }
   ],
   "source": [
    "# coll = client['L1000CDS2']['cpcd-gse70138']\n",
    "# coll.distinct('pert_type')"
   ]
  },
  {
   "cell_type": "code",
   "execution_count": 7,
   "metadata": {
    "collapsed": true
   },
   "outputs": [],
   "source": [
    "coll_fwd = client['L1000FWD']['sigs']"
   ]
  },
  {
   "cell_type": "code",
   "execution_count": 8,
   "metadata": {},
   "outputs": [
    {
     "name": "stdout",
     "output_type": "stream",
     "text": [
      "(127963, 1)\n",
      "(127963, 5)\n"
     ]
    },
    {
     "data": {
      "text/html": [
       "<div>\n",
       "<style>\n",
       "    .dataframe thead tr:only-child th {\n",
       "        text-align: right;\n",
       "    }\n",
       "\n",
       "    .dataframe thead th {\n",
       "        text-align: left;\n",
       "    }\n",
       "\n",
       "    .dataframe tbody tr th {\n",
       "        vertical-align: top;\n",
       "    }\n",
       "</style>\n",
       "<table border=\"1\" class=\"dataframe\">\n",
       "  <thead>\n",
       "    <tr style=\"text-align: right;\">\n",
       "      <th></th>\n",
       "      <th>pert_id</th>\n",
       "      <th>batch</th>\n",
       "      <th>batch_prefix</th>\n",
       "      <th>cell_id</th>\n",
       "      <th>time</th>\n",
       "    </tr>\n",
       "    <tr>\n",
       "      <th>sig_id</th>\n",
       "      <th></th>\n",
       "      <th></th>\n",
       "      <th></th>\n",
       "      <th></th>\n",
       "      <th></th>\n",
       "    </tr>\n",
       "  </thead>\n",
       "  <tbody>\n",
       "    <tr>\n",
       "      <th>CVD001_HUH7_24H:BRD-K07762753-001-03-6:50</th>\n",
       "      <td>BRD-K07762753</td>\n",
       "      <td>CVD001_HUH7_24H</td>\n",
       "      <td>CVD001</td>\n",
       "      <td>HUH7</td>\n",
       "      <td>24H</td>\n",
       "    </tr>\n",
       "    <tr>\n",
       "      <th>CVD001_HUH7_24H:BRD-A04706586-236-01-7:10</th>\n",
       "      <td>BRD-A04706586</td>\n",
       "      <td>CVD001_HUH7_24H</td>\n",
       "      <td>CVD001</td>\n",
       "      <td>HUH7</td>\n",
       "      <td>24H</td>\n",
       "    </tr>\n",
       "    <tr>\n",
       "      <th>CVD001_HUH7_24H:BRD-A04706586-236-01-7:2.5</th>\n",
       "      <td>BRD-A04706586</td>\n",
       "      <td>CVD001_HUH7_24H</td>\n",
       "      <td>CVD001</td>\n",
       "      <td>HUH7</td>\n",
       "      <td>24H</td>\n",
       "    </tr>\n",
       "    <tr>\n",
       "      <th>CVD001_HUH7_24H:BRD-A49680073-001-01-9:10</th>\n",
       "      <td>BRD-A49680073</td>\n",
       "      <td>CVD001_HUH7_24H</td>\n",
       "      <td>CVD001</td>\n",
       "      <td>HUH7</td>\n",
       "      <td>24H</td>\n",
       "    </tr>\n",
       "    <tr>\n",
       "      <th>CVD001_HUH7_24H:BRD-A49680073-001-01-9:2.5</th>\n",
       "      <td>BRD-A49680073</td>\n",
       "      <td>CVD001_HUH7_24H</td>\n",
       "      <td>CVD001</td>\n",
       "      <td>HUH7</td>\n",
       "      <td>24H</td>\n",
       "    </tr>\n",
       "  </tbody>\n",
       "</table>\n",
       "</div>"
      ],
      "text/plain": [
       "                                                  pert_id            batch  \\\n",
       "sig_id                                                                       \n",
       "CVD001_HUH7_24H:BRD-K07762753-001-03-6:50   BRD-K07762753  CVD001_HUH7_24H   \n",
       "CVD001_HUH7_24H:BRD-A04706586-236-01-7:10   BRD-A04706586  CVD001_HUH7_24H   \n",
       "CVD001_HUH7_24H:BRD-A04706586-236-01-7:2.5  BRD-A04706586  CVD001_HUH7_24H   \n",
       "CVD001_HUH7_24H:BRD-A49680073-001-01-9:10   BRD-A49680073  CVD001_HUH7_24H   \n",
       "CVD001_HUH7_24H:BRD-A49680073-001-01-9:2.5  BRD-A49680073  CVD001_HUH7_24H   \n",
       "\n",
       "                                           batch_prefix cell_id time  \n",
       "sig_id                                                                \n",
       "CVD001_HUH7_24H:BRD-K07762753-001-03-6:50        CVD001    HUH7  24H  \n",
       "CVD001_HUH7_24H:BRD-A04706586-236-01-7:10        CVD001    HUH7  24H  \n",
       "CVD001_HUH7_24H:BRD-A04706586-236-01-7:2.5       CVD001    HUH7  24H  \n",
       "CVD001_HUH7_24H:BRD-A49680073-001-01-9:10        CVD001    HUH7  24H  \n",
       "CVD001_HUH7_24H:BRD-A49680073-001-01-9:2.5       CVD001    HUH7  24H  "
      ]
     },
     "execution_count": 8,
     "metadata": {},
     "output_type": "execute_result"
    }
   ],
   "source": [
    "meta_df_fwd = retrieve_signature_meta_df(coll_fwd, {})\n",
    "print meta_df_fwd.shape\n",
    "meta_df_fwd.head()"
   ]
  },
  {
   "cell_type": "code",
   "execution_count": 9,
   "metadata": {},
   "outputs": [
    {
     "name": "stdout",
     "output_type": "stream",
     "text": [
      "371 650\n"
     ]
    }
   ],
   "source": [
    "print meta_df['batch'].nunique(), meta_df_fwd['batch'].nunique()"
   ]
  },
  {
   "cell_type": "code",
   "execution_count": 10,
   "metadata": {
    "scrolled": true
   },
   "outputs": [
    {
     "name": "stdout",
     "output_type": "stream",
     "text": [
      "28 123\n",
      "23\n"
     ]
    }
   ],
   "source": [
    "print meta_df['batch_prefix'].nunique(), meta_df_fwd['batch_prefix'].nunique()\n",
    "shared_batch_prefix = set(meta_df['batch_prefix'].unique()) & set(meta_df_fwd['batch_prefix'].unique())\n",
    "print len(shared_batch_prefix)\n"
   ]
  },
  {
   "cell_type": "code",
   "execution_count": 11,
   "metadata": {},
   "outputs": [
    {
     "name": "stdout",
     "output_type": "stream",
     "text": [
      "5907 5242\n",
      "5236\n"
     ]
    }
   ],
   "source": [
    "print meta_df['pert_id'].nunique(), meta_df_fwd['pert_id'].nunique()\n",
    "shared_pert_ids = set(meta_df['pert_id'].unique()) & set(meta_df_fwd['pert_id'].unique())\n",
    "print len(shared_pert_ids)"
   ]
  },
  {
   "cell_type": "code",
   "execution_count": 12,
   "metadata": {},
   "outputs": [
    {
     "name": "stdout",
     "output_type": "stream",
     "text": [
      "(105514, 5)\n",
      "(104790, 5)\n"
     ]
    }
   ],
   "source": [
    "# Subset the two meta_df to keep only shared pert_id and batch_prefix\n",
    "meta_df = meta_df.loc[meta_df['batch_prefix'].isin(shared_batch_prefix) & meta_df['pert_id'].isin(shared_pert_ids)]\n",
    "print meta_df.shape\n",
    "\n",
    "meta_df_fwd = meta_df_fwd.loc[meta_df_fwd['batch_prefix'].isin(shared_batch_prefix) & meta_df_fwd['pert_id'].isin(shared_pert_ids)]\n",
    "print meta_df_fwd.shape"
   ]
  },
  {
   "cell_type": "markdown",
   "metadata": {},
   "source": [
    "## Signature connectivity scores of same drug on \n",
    "\n",
    "1. **Same batch**: same (batch_prefix:cell_id)\n",
    "2. **Different batch**: same cell_id, different batch_prefix"
   ]
  },
  {
   "cell_type": "code",
   "execution_count": 27,
   "metadata": {
    "collapsed": true
   },
   "outputs": [],
   "source": [
    "def retrieve_sig_mat(sig_ids, coll, key):\n",
    "    '''Retrieve signatures matrix from MongoDB'''\n",
    "    # Retrieve signature matrix\n",
    "    sig_mat = np.zeros((len(sig_ids), 978))\n",
    "    for i, sig_id in enumerate(sig_ids): \n",
    "        doc = coll.find_one({'sig_id': sig_id}, {'_id':False, key:True})\n",
    "        sig_mat[i] = doc[key]\n",
    "    return sig_mat\n",
    "    \n",
    "def compute_connectivity_scores_same_drug_same_batch(meta_df, coll, key):\n",
    "    '''key is field in the coll that store the signature array'''\n",
    "    res_same_batch = {\n",
    "        'cosine': np.array([]),\n",
    "        'corr': np.array([]),\n",
    "        'ES50': np.array([]),\n",
    "    }\n",
    "    grouped = meta_df.groupby(['batch_prefix', 'cell_id', 'pert_id'])\n",
    "\n",
    "    c = 0\n",
    "    for group, sub_df in grouped:\n",
    "        if sub_df.shape[0] > 1:\n",
    "            sig_ids = sub_df.index.tolist()\n",
    "            sig_mat = retrieve_sig_mat(sig_ids, coll, key)\n",
    "\n",
    "            scores_cosine = pscore(sig_mat, cosine_sim)\n",
    "            scores_corr = pscore(sig_mat, correlation)\n",
    "            scores_es50 = pscore(sig_mat, lambda x, y: gsea_score(x, y, 50))\n",
    "\n",
    "            res_same_batch['cosine'] = np.hstack((res_same_batch['cosine'], scores_cosine))\n",
    "            res_same_batch['corr'] = np.hstack((res_same_batch['corr'], scores_corr))\n",
    "            res_same_batch['ES50'] = np.hstack((res_same_batch['ES50'], scores_es50))\n",
    "        c += 1\n",
    "        if c % 500 == 0:\n",
    "            print c, len(grouped)    \n",
    "    \n",
    "    return res_same_batch\n",
    "\n",
    "def compute_connectivity_scores_same_drug_diff_batch(meta_df, coll, key):\n",
    "    res_diff_batch = {\n",
    "        'cosine': np.array([]),\n",
    "        'corr': np.array([]),\n",
    "        'ES50': np.array([]),\n",
    "    }\n",
    "\n",
    "    grouped = meta_df.groupby(['cell_id', 'pert_id'])\n",
    "\n",
    "    c = 0\n",
    "    for group, sub_df in grouped:\n",
    "        if sub_df.shape[0] > 1 and sub_df['batch_prefix'].nunique() > 1:\n",
    "            sig_ids = sub_df.index.tolist()\n",
    "            # Retrieve signature matrix\n",
    "            sig_mat = retrieve_sig_mat(sig_ids, coll, key)\n",
    "\n",
    "            # Compute scores\n",
    "            scores_cosine = []\n",
    "            scores_corr = []\n",
    "            scores_es50 = []\n",
    "            for i, j in combinations(range(len(sig_ids)), 2):\n",
    "                if sub_df.iloc[i]['batch_prefix'] != sub_df.iloc[j]['batch_prefix']:\n",
    "                    # Not on the same batch\n",
    "                    scores_cosine.append(cosine_sim(sig_mat[i], sig_mat[j]))\n",
    "                    scores_corr.append(correlation(sig_mat[i], sig_mat[j]))\n",
    "                    scores_es50.append(gsea_score(sig_mat[i], sig_mat[j], 50))\n",
    "\n",
    "            res_diff_batch['cosine'] = np.hstack((res_diff_batch['cosine'], np.array(scores_cosine)))\n",
    "            res_diff_batch['corr'] = np.hstack((res_diff_batch['corr'], np.array(scores_corr)))\n",
    "            res_diff_batch['ES50'] = np.hstack((res_diff_batch['ES50'], np.array(scores_es50)))\n",
    "\n",
    "        c += 1\n",
    "        if c % 500 == 0:\n",
    "            print c, len(grouped)    \n",
    "    return res_diff_batch"
   ]
  },
  {
   "cell_type": "code",
   "execution_count": 101,
   "metadata": {
    "scrolled": true
   },
   "outputs": [
    {
     "name": "stdout",
     "output_type": "stream",
     "text": [
      "500 75220\n",
      "1000 75220\n",
      "1500 75220\n",
      "2000 75220\n",
      "2500 75220\n",
      "3000 75220\n",
      "3500 75220\n",
      "4000 75220\n",
      "4500 75220\n",
      "5000 75220\n",
      "5500 75220\n",
      "6000 75220\n",
      "6500 75220\n",
      "7000 75220\n",
      "7500 75220\n",
      "8000 75220\n",
      "8500 75220\n",
      "9000 75220\n",
      "9500 75220\n",
      "10000 75220\n",
      "10500 75220\n",
      "11000 75220\n",
      "11500 75220\n",
      "12000 75220\n",
      "12500 75220\n",
      "13000 75220\n",
      "13500 75220\n",
      "14000 75220\n",
      "14500 75220\n",
      "15000 75220\n",
      "15500 75220\n",
      "16000 75220\n",
      "16500 75220\n",
      "17000 75220\n",
      "17500 75220\n",
      "18000 75220\n",
      "18500 75220\n",
      "19000 75220\n",
      "19500 75220\n",
      "20000 75220\n",
      "20500 75220\n",
      "21000 75220\n",
      "21500 75220\n",
      "22000 75220\n",
      "22500 75220\n",
      "23000 75220\n",
      "23500 75220\n",
      "24000 75220\n",
      "24500 75220\n",
      "25000 75220\n",
      "25500 75220\n",
      "26000 75220\n",
      "26500 75220\n",
      "27000 75220\n",
      "27500 75220\n",
      "28000 75220\n",
      "28500 75220\n",
      "29000 75220\n",
      "29500 75220\n",
      "30000 75220\n",
      "30500 75220\n",
      "31000 75220\n",
      "31500 75220\n",
      "32000 75220\n",
      "32500 75220\n",
      "33000 75220\n",
      "33500 75220\n",
      "34000 75220\n",
      "34500 75220\n",
      "35000 75220\n",
      "35500 75220\n",
      "36000 75220\n",
      "36500 75220\n",
      "37000 75220\n",
      "37500 75220\n",
      "38000 75220\n",
      "38500 75220\n",
      "39000 75220\n",
      "39500 75220\n",
      "40000 75220\n",
      "40500 75220\n",
      "41000 75220\n",
      "41500 75220\n",
      "42000 75220\n",
      "42500 75220\n",
      "43000 75220\n",
      "43500 75220\n",
      "44000 75220\n",
      "44500 75220\n",
      "45000 75220\n",
      "45500 75220\n",
      "46000 75220\n",
      "46500 75220\n",
      "47000 75220\n",
      "47500 75220\n",
      "48000 75220\n",
      "48500 75220\n",
      "49000 75220\n",
      "49500 75220\n",
      "50000 75220\n",
      "50500 75220\n",
      "51000 75220\n",
      "51500 75220\n",
      "52000 75220\n",
      "52500 75220\n",
      "53000 75220\n",
      "53500 75220\n",
      "54000 75220\n",
      "54500 75220\n",
      "55000 75220\n",
      "55500 75220\n",
      "56000 75220\n",
      "56500 75220\n",
      "57000 75220\n",
      "57500 75220\n",
      "58000 75220\n",
      "58500 75220\n",
      "59000 75220\n",
      "59500 75220\n",
      "60000 75220\n",
      "60500 75220\n",
      "61000 75220\n",
      "61500 75220\n",
      "62000 75220\n",
      "62500 75220\n",
      "63000 75220\n",
      "63500 75220\n",
      "64000 75220\n",
      "64500 75220\n",
      "65000 75220\n",
      "65500 75220\n",
      "66000 75220\n",
      "66500 75220\n",
      "67000 75220\n",
      "67500 75220\n",
      "68000 75220\n",
      "68500 75220\n",
      "69000 75220\n",
      "69500 75220\n",
      "70000 75220\n",
      "70500 75220\n",
      "71000 75220\n",
      "71500 75220\n",
      "72000 75220\n",
      "72500 75220\n",
      "73000 75220\n",
      "73500 75220\n",
      "74000 75220\n",
      "74500 75220\n",
      "75000 75220\n",
      "500 68540\n",
      "1000 68540\n",
      "1500 68540\n",
      "2000 68540\n",
      "2500 68540\n",
      "3000 68540\n",
      "3500 68540\n",
      "4000 68540\n",
      "4500 68540\n",
      "5000 68540\n",
      "5500 68540\n",
      "6000 68540\n",
      "6500 68540\n",
      "7000 68540\n",
      "7500 68540\n",
      "8000 68540\n",
      "8500 68540\n",
      "9000 68540\n",
      "9500 68540\n",
      "10000 68540\n",
      "10500 68540\n",
      "11000 68540\n",
      "11500 68540\n",
      "12000 68540\n",
      "12500 68540\n",
      "13000 68540\n",
      "13500 68540\n",
      "14000 68540\n",
      "14500 68540\n",
      "15000 68540\n",
      "15500 68540\n",
      "16000 68540\n",
      "16500 68540\n",
      "17000 68540\n",
      "17500 68540\n",
      "18000 68540\n",
      "18500 68540\n",
      "19000 68540\n",
      "19500 68540\n",
      "20000 68540\n",
      "20500 68540\n",
      "21000 68540\n",
      "21500 68540\n",
      "22000 68540\n",
      "22500 68540\n",
      "23000 68540\n",
      "23500 68540\n",
      "24000 68540\n",
      "24500 68540\n",
      "25000 68540\n",
      "25500 68540\n",
      "26000 68540\n",
      "26500 68540\n",
      "27000 68540\n",
      "27500 68540\n",
      "28000 68540\n",
      "28500 68540\n",
      "29000 68540\n",
      "29500 68540\n",
      "30000 68540\n",
      "30500 68540\n",
      "31000 68540\n",
      "31500 68540\n",
      "32000 68540\n",
      "32500 68540\n",
      "33000 68540\n",
      "33500 68540\n",
      "34000 68540\n",
      "34500 68540\n",
      "35000 68540\n",
      "35500 68540\n",
      "36000 68540\n",
      "36500 68540\n",
      "37000 68540\n",
      "37500 68540\n",
      "38000 68540\n",
      "38500 68540\n",
      "39000 68540\n",
      "39500 68540\n",
      "40000 68540\n",
      "40500 68540\n",
      "41000 68540\n",
      "41500 68540\n",
      "42000 68540\n",
      "42500 68540\n",
      "43000 68540\n",
      "43500 68540\n",
      "44000 68540\n",
      "44500 68540\n",
      "45000 68540\n",
      "45500 68540\n",
      "46000 68540\n",
      "46500 68540\n",
      "47000 68540\n",
      "47500 68540\n",
      "48000 68540\n",
      "48500 68540\n",
      "49000 68540\n",
      "49500 68540\n",
      "50000 68540\n",
      "50500 68540\n",
      "51000 68540\n",
      "51500 68540\n",
      "52000 68540\n",
      "52500 68540\n",
      "53000 68540\n",
      "53500 68540\n",
      "54000 68540\n",
      "54500 68540\n",
      "55000 68540\n",
      "55500 68540\n",
      "56000 68540\n",
      "56500 68540\n",
      "57000 68540\n",
      "57500 68540\n",
      "58000 68540\n",
      "58500 68540\n",
      "59000 68540\n",
      "59500 68540\n",
      "60000 68540\n",
      "60500 68540\n",
      "61000 68540\n",
      "61500 68540\n",
      "62000 68540\n",
      "62500 68540\n",
      "63000 68540\n",
      "63500 68540\n",
      "64000 68540\n",
      "64500 68540\n",
      "65000 68540\n",
      "65500 68540\n",
      "66000 68540\n",
      "66500 68540\n",
      "67000 68540\n",
      "67500 68540\n",
      "68000 68540\n",
      "68500 68540\n"
     ]
    }
   ],
   "source": [
    "# res_same_batch2 = compute_connectivity_scores_same_drug_same_batch(meta_df_fwd, coll_fwd, 'CD_nocenter_LM')\n",
    "# res_diff_batch2 = compute_connectivity_scores_same_drug_diff_batch(meta_df_fwd, coll_fwd, 'CD_nocenter_LM')\n",
    "\n",
    "# res_same_batch2 = compute_connectivity_scores_same_drug_same_batch(meta_df_fwd, coll_fwd, 'CD_center_LM')\n",
    "# res_diff_batch2 = compute_connectivity_scores_same_drug_diff_batch(meta_df_fwd, coll_fwd, 'CD_center_LM')\n",
    "\n",
    "res_same_batch2 = compute_connectivity_scores_same_drug_same_batch(meta_df_fwd, coll_fwd, 'avg_center_LM')\n",
    "res_diff_batch2 = compute_connectivity_scores_same_drug_diff_batch(meta_df_fwd, coll_fwd, 'avg_center_LM')"
   ]
  },
  {
   "cell_type": "code",
   "execution_count": 102,
   "metadata": {},
   "outputs": [
    {
     "name": "stdout",
     "output_type": "stream",
     "text": [
      "(30099, 6)\n"
     ]
    },
    {
     "data": {
      "text/plain": [
       "ES50 same batch      30099\n",
       "corr same batch      30099\n",
       "cosine same batch    30099\n",
       "ES50 diff batch      23186\n",
       "corr diff batch      23186\n",
       "cosine diff batch    23186\n",
       "dtype: int64"
      ]
     },
     "execution_count": 102,
     "metadata": {},
     "output_type": "execute_result"
    }
   ],
   "source": [
    "res_diff_batch2 = pd.DataFrame(res_diff_batch2)\n",
    "res_diff_batch2.columns = res_diff_batch2.columns.map(lambda x: x + ' diff batch')\n",
    "res_same_batch2 = pd.DataFrame(res_same_batch2)\n",
    "res_same_batch2.columns = res_same_batch2.columns.map(lambda x: x + ' same batch')\n",
    "\n",
    "res_scores2 = pd.concat(\n",
    "    [res_same_batch2, res_diff_batch2], \n",
    "    axis=1) \n",
    "print res_scores2.shape\n",
    "res_scores2.count()"
   ]
  },
  {
   "cell_type": "code",
   "execution_count": 104,
   "metadata": {
    "collapsed": true
   },
   "outputs": [],
   "source": [
    "# res_scores2.to_csv('data/same_drug_signature_connectivities_L1000FWD.sigs.CD_nocenter_LM.csv')\n",
    "# res_scores2.to_csv('data/same_drug_signature_connectivities_L1000FWD.sigs.CD_center_LM.csv')\n",
    "res_scores2.to_csv('data/same_drug_signature_connectivities_L1000FWD.sigs.avg_center_LM.csv')\n"
   ]
  },
  {
   "cell_type": "code",
   "execution_count": null,
   "metadata": {
    "collapsed": true
   },
   "outputs": [],
   "source": [
    "res_scores.to_csv('data/same_drug_signature_connectivities_L1000CDS2.cpcd-gse70138.csv')"
   ]
  },
  {
   "cell_type": "code",
   "execution_count": 105,
   "metadata": {},
   "outputs": [
    {
     "name": "stdout",
     "output_type": "stream",
     "text": [
      "(53269, 6)\n",
      "(30099, 6)\n",
      "(30099, 6)\n",
      "(30099, 6)\n"
     ]
    }
   ],
   "source": [
    "# Load results\n",
    "res_scores1 = pd.read_csv('data/same_drug_signature_connectivities_L1000CDS2.cpcd-gse70138.csv')\n",
    "res_scores1.set_index(res_scores1.columns[0], inplace=True)\n",
    "print res_scores1.shape\n",
    "\n",
    "res_scores2 = pd.read_csv('data/same_drug_signature_connectivities_L1000FWD.sigs.CD_nocenter_LM.csv')\n",
    "res_scores2.set_index(res_scores2.columns[0], inplace=True)\n",
    "res_scores2.columns = ['ES50 same batch', 'corr same batch', 'cosine same batch',\n",
    "                       'ES50 diff batch', 'corr diff batch', 'cosine diff batch'\n",
    "                      ]\n",
    "print res_scores2.shape\n",
    "\n",
    "res_scores3 = pd.read_csv('data/same_drug_signature_connectivities_L1000FWD.sigs.CD_center_LM.csv')\n",
    "res_scores3.set_index(res_scores3.columns[0], inplace=True)\n",
    "print res_scores3.shape\n",
    "\n",
    "res_scores4 = pd.read_csv('data/same_drug_signature_connectivities_L1000FWD.sigs.avg_center_LM.csv')\n",
    "res_scores4.set_index(res_scores4.columns[0], inplace=True)\n",
    "print res_scores4.shape\n"
   ]
  },
  {
   "cell_type": "code",
   "execution_count": 106,
   "metadata": {},
   "outputs": [],
   "source": [
    "def density_plot_scores_same_drug(res_scores):\n",
    "    fig = plt.figure(figsize=(14, 5))\n",
    "    ax1 = fig.add_subplot(131)\n",
    "    ax2 = fig.add_subplot(132)\n",
    "    ax3 = fig.add_subplot(133)\n",
    "\n",
    "\n",
    "    for metric, ax in zip(['ES50', 'cosine', 'corr'], [ax1, ax2, ax3]):\n",
    "        ax = sns.distplot(res_scores['%s same batch'%metric], \n",
    "                           hist=False, kde=True, ax=ax,\n",
    "                           label='same batch'\n",
    "                          )\n",
    "        ax = sns.distplot(res_scores['%s diff batch'%metric], \n",
    "                           hist=False, kde=True, ax=ax,\n",
    "                           label='diff batch'\n",
    "                          )\n",
    "        ax.legend(loc='upper left')\n",
    "        ax.set_xlabel(metric)\n",
    "        ax.set_ylabel('Density')\n",
    "        ax.set_xlim([-1, 1])\n",
    "\n",
    "    fig.tight_layout()\n",
    "    \n",
    "    return fig\n",
    "\n"
   ]
  },
  {
   "cell_type": "code",
   "execution_count": 107,
   "metadata": {},
   "outputs": [
    {
     "data": {
      "image/png": "[encoded data removed]",
      "text/plain": [
       "<matplotlib.figure.Figure at 0x10f26e1d0>"
      ]
     },
     "metadata": {},
     "output_type": "display_data"
    }
   ],
   "source": [
    "fig = density_plot_scores_same_drug(res_scores1)"
   ]
  },
  {
   "cell_type": "code",
   "execution_count": 108,
   "metadata": {},
   "outputs": [
    {
     "data": {
      "image/png": "[encoded data removed]",
      "text/plain": [
       "<matplotlib.figure.Figure at 0x11085d250>"
      ]
     },
     "metadata": {},
     "output_type": "display_data"
    }
   ],
   "source": [
    "fig = density_plot_scores_same_drug(res_scores2)"
   ]
  },
  {
   "cell_type": "code",
   "execution_count": 109,
   "metadata": {},
   "outputs": [
    {
     "data": {
      "image/png": "[encoded data removed]",
      "text/plain": [
       "<matplotlib.figure.Figure at 0x1136a1c90>"
      ]
     },
     "metadata": {},
     "output_type": "display_data"
    }
   ],
   "source": [
    "fig = density_plot_scores_same_drug(res_scores3)"
   ]
  },
  {
   "cell_type": "code",
   "execution_count": 110,
   "metadata": {},
   "outputs": [
    {
     "data": {
      "image/png": "[encoded data removed]",
      "text/plain": [
       "<matplotlib.figure.Figure at 0x117d67f50>"
      ]
     },
     "metadata": {},
     "output_type": "display_data"
    }
   ],
   "source": [
    "fig = density_plot_scores_same_drug(res_scores4)"
   ]
  },
  {
   "cell_type": "markdown",
   "metadata": {
    "collapsed": true
   },
   "source": [
    "# Benchmark using MoA regardless of batch effects"
   ]
  },
  {
   "cell_type": "code",
   "execution_count": 21,
   "metadata": {},
   "outputs": [
    {
     "name": "stdout",
     "output_type": "stream",
     "text": [
      "6172 5188\n",
      "1670\n"
     ]
    }
   ],
   "source": [
    "print len(d_pert_name), meta_df['pert_id'].nunique()\n",
    "pert_ids_with_MoAs = set(d_pert_name) & set(meta_df['pert_id'].unique())\n",
    "print len(pert_ids_with_MoAs)"
   ]
  },
  {
   "cell_type": "code",
   "execution_count": 22,
   "metadata": {},
   "outputs": [
    {
     "name": "stdout",
     "output_type": "stream",
     "text": [
      "(42461, 5)\n",
      "(42461, 5)\n"
     ]
    }
   ],
   "source": [
    "meta_df = meta_df.loc[meta_df['pert_id'].isin(pert_ids_with_MoAs)]\n",
    "print meta_df.shape\n",
    "\n",
    "meta_df_fwd = meta_df_fwd.loc[meta_df_fwd['pert_id'].isin(pert_ids_with_MoAs)]\n",
    "print meta_df_fwd.shape"
   ]
  },
  {
   "cell_type": "code",
   "execution_count": 23,
   "metadata": {},
   "outputs": [],
   "source": [
    "meta_df = meta_df.sort_index()\n",
    "meta_df_fwd = meta_df_fwd.sort_index()"
   ]
  },
  {
   "cell_type": "code",
   "execution_count": 32,
   "metadata": {},
   "outputs": [
    {
     "name": "stdout",
     "output_type": "stream",
     "text": [
      "(5000, 5) (5000, 5)\n"
     ]
    }
   ],
   "source": [
    "# sample 10000 sig_ids for this benchmark\n",
    "random_idx = np.random.choice(range(meta_df.shape[0]), 5000, replace=False)\n",
    "meta_df_sample = meta_df.iloc[random_idx]\n",
    "meta_df_fwd_sample = meta_df_fwd.iloc[random_idx]\n",
    "print meta_df_sample.shape, meta_df_fwd_sample.shape"
   ]
  },
  {
   "cell_type": "code",
   "execution_count": 33,
   "metadata": {
    "collapsed": true
   },
   "outputs": [],
   "source": [
    "def compute_pscores(meta_df, coll, key, n_jobs=1):\n",
    "    '''Given a meta_df of signatures, compute the pairwise scores and return a df.'''\n",
    "    sig_ids = meta_df.index.tolist()\n",
    "    sig_mat = retrieve_sig_mat(sig_ids, coll, key)\n",
    "    print 'sig_mat retrieved'\n",
    "\n",
    "    scores_es50 = pscore(sig_mat, gsea_score, n_jobs=n_jobs, n_sig=50)\n",
    "\n",
    "    scores_cosine = pscore(sig_mat, cosine_sim, n_jobs=n_jobs)\n",
    "    scores_corr = pscore(sig_mat, correlation, n_jobs=n_jobs)\n",
    "    \n",
    "    print 'scores computed'\n",
    "    n_scores = len(scores_cosine)\n",
    "    sigs_i = [None] * n_scores\n",
    "    sigs_j = [None] * n_scores\n",
    "    c = 0\n",
    "    for sig_i, sig_j in combinations(sig_ids, 2):\n",
    "        sigs_i[c] = sig_i\n",
    "        sigs_j[c] = sig_j\n",
    "        c += 1\n",
    "\n",
    "    df = pd.DataFrame({\n",
    "        'sig_i': sigs_i, 'sig_j': sigs_j, \n",
    "        'cosine': scores_cosine,\n",
    "        'corr': scores_corr,\n",
    "        'ES50': scores_es50\n",
    "    })\n",
    "    return df"
   ]
  },
  {
   "cell_type": "code",
   "execution_count": null,
   "metadata": {
    "collapsed": true
   },
   "outputs": [],
   "source": []
  },
  {
   "cell_type": "code",
   "execution_count": 31,
   "metadata": {
    "scrolled": true
   },
   "outputs": [
    {
     "name": "stdout",
     "output_type": "stream",
     "text": [
      "sig_mat retrieved\n"
     ]
    },
    {
     "name": "stderr",
     "output_type": "stream",
     "text": [
      "[Parallel(n_jobs=7)]: Done   1 out of  41 | elapsed:    0.0s remaining:    0.1s\n",
      "[Parallel(n_jobs=7)]: Done  24 out of 150 | elapsed:    0.0s remaining:    0.1s\n",
      "[Parallel(n_jobs=7)]: Done 146 out of 494 | elapsed:    0.1s remaining:    0.1s\n",
      "[Parallel(n_jobs=7)]: Done 154 out of 509 | elapsed:    0.1s remaining:    0.1s\n",
      "[Parallel(n_jobs=7)]: Done 199796 out of 499500 | elapsed:  1.7min remaining:  2.5min\n",
      "[Parallel(n_jobs=7)]: Done 249747 out of 499500 | elapsed:  2.2min remaining:  2.2min\n",
      "[Parallel(n_jobs=7)]: Done 299698 out of 499500 | elapsed:  2.5min remaining:  1.7min\n",
      "[Parallel(n_jobs=7)]: Done 349649 out of 499500 | elapsed:  2.8min remaining:  1.2min\n",
      "[Parallel(n_jobs=7)]: Done 399600 out of 499500 | elapsed:  3.0min remaining:   45.7s\n",
      "[Parallel(n_jobs=7)]: Done 449551 out of 499500 | elapsed:  3.3min remaining:   22.1s\n",
      "[Parallel(n_jobs=7)]: Done 499500 out of 499500 | elapsed:  3.6min finished\n",
      "[Parallel(n_jobs=7)]: Done   1 out of  42 | elapsed:    0.0s remaining:    0.2s\n",
      "[Parallel(n_jobs=7)]: Done   2 out of  45 | elapsed:    0.0s remaining:    0.1s\n",
      "[Parallel(n_jobs=7)]: Done   4 out of  50 | elapsed:    0.0s remaining:    0.1s\n",
      "[Parallel(n_jobs=7)]: Done   9 out of  71 | elapsed:    0.0s remaining:    0.1s\n",
      "[Parallel(n_jobs=7)]: Done  10 out of  72 | elapsed:    0.0s remaining:    0.1s\n",
      "[Parallel(n_jobs=7)]: Done  72 out of 238 | elapsed:    0.0s remaining:    0.1s\n",
      "[Parallel(n_jobs=7)]: Done 220 out of 560 | elapsed:    0.1s remaining:    0.1s\n",
      "[Parallel(n_jobs=7)]: Done 241 out of 605 | elapsed:    0.1s remaining:    0.2s\n",
      "[Parallel(n_jobs=7)]: Done 242 out of 606 | elapsed:    0.1s remaining:    0.2s\n",
      "[Parallel(n_jobs=7)]: Done 243 out of 607 | elapsed:    0.1s remaining:    0.2s\n",
      "[Parallel(n_jobs=7)]: Done 268 out of 668 | elapsed:    0.1s remaining:    0.2s\n",
      "[Parallel(n_jobs=7)]: Done 276 out of 688 | elapsed:    0.1s remaining:    0.2s\n",
      "[Parallel(n_jobs=7)]: Done 304 out of 764 | elapsed:    0.1s remaining:    0.2s\n",
      "[Parallel(n_jobs=7)]: Done 306 out of 766 | elapsed:    0.1s remaining:    0.2s\n",
      "[Parallel(n_jobs=7)]: Done 390 out of 982 | elapsed:    0.2s remaining:    0.2s\n",
      "[Parallel(n_jobs=7)]: Done 391 out of 983 | elapsed:    0.2s remaining:    0.2s\n",
      "[Parallel(n_jobs=7)]: Done 402 out of 1006 | elapsed:    0.2s remaining:    0.3s\n",
      "[Parallel(n_jobs=7)]: Done 844 out of 2120 | elapsed:    0.3s remaining:    0.5s\n",
      "[Parallel(n_jobs=7)]: Done 845 out of 2121 | elapsed:    0.3s remaining:    0.5s\n",
      "[Parallel(n_jobs=7)]: Done 861 out of 2161 | elapsed:    0.4s remaining:    0.5s\n",
      "[Parallel(n_jobs=7)]: Done 867 out of 2167 | elapsed:    0.4s remaining:    0.5s\n",
      "[Parallel(n_jobs=7)]: Done 977 out of 2451 | elapsed:    0.4s remaining:    0.6s\n",
      "[Parallel(n_jobs=7)]: Done 978 out of 2452 | elapsed:    0.4s remaining:    0.6s\n",
      "[Parallel(n_jobs=7)]: Done 984 out of 2470 | elapsed:    0.4s remaining:    0.6s\n",
      "[Parallel(n_jobs=7)]: Done 987 out of 2473 | elapsed:    0.4s remaining:    0.6s\n",
      "[Parallel(n_jobs=7)]: Done 989 out of 2475 | elapsed:    0.4s remaining:    0.6s\n",
      "[Parallel(n_jobs=7)]: Done 990 out of 2476 | elapsed:    0.4s remaining:    0.6s\n",
      "[Parallel(n_jobs=7)]: Done 249747 out of 499500 | elapsed:  1.7min remaining:  1.7min\n",
      "[Parallel(n_jobs=7)]: Done 299698 out of 499500 | elapsed:  2.3min remaining:  1.5min\n",
      "[Parallel(n_jobs=7)]: Done 349649 out of 499500 | elapsed:  2.6min remaining:  1.1min\n",
      "[Parallel(n_jobs=7)]: Done 399600 out of 499500 | elapsed:  2.9min remaining:   43.1s\n",
      "[Parallel(n_jobs=7)]: Done 449551 out of 499500 | elapsed:  3.1min remaining:   20.7s\n",
      "[Parallel(n_jobs=7)]: Done 499500 out of 499500 | elapsed:  3.3min finished\n",
      "[Parallel(n_jobs=7)]: Done   1 out of  40 | elapsed:    0.0s remaining:    0.2s\n",
      "[Parallel(n_jobs=7)]: Done   5 out of  57 | elapsed:    0.0s remaining:    0.1s\n",
      "[Parallel(n_jobs=7)]: Done   8 out of  62 | elapsed:    0.0s remaining:    0.1s\n",
      "[Parallel(n_jobs=7)]: Done  14 out of  76 | elapsed:    0.0s remaining:    0.1s\n",
      "[Parallel(n_jobs=7)]: Done  29 out of  97 | elapsed:    0.0s remaining:    0.0s\n",
      "[Parallel(n_jobs=7)]: Done  31 out of  99 | elapsed:    0.0s remaining:    0.0s\n",
      "[Parallel(n_jobs=7)]: Done  48 out of 130 | elapsed:    0.0s remaining:    0.0s\n",
      "[Parallel(n_jobs=7)]: Done  71 out of 244 | elapsed:    0.0s remaining:    0.1s\n",
      "[Parallel(n_jobs=7)]: Done  72 out of 245 | elapsed:    0.0s remaining:    0.1s\n",
      "[Parallel(n_jobs=7)]: Done  73 out of 253 | elapsed:    0.0s remaining:    0.1s\n",
      "[Parallel(n_jobs=7)]: Done  75 out of 255 | elapsed:    0.0s remaining:    0.1s\n",
      "[Parallel(n_jobs=7)]: Done 124 out of 430 | elapsed:    0.1s remaining:    0.1s\n",
      "[Parallel(n_jobs=7)]: Done 205 out of 700 | elapsed:    0.1s remaining:    0.2s\n",
      "[Parallel(n_jobs=7)]: Done 209 out of 704 | elapsed:    0.1s remaining:    0.2s\n",
      "[Parallel(n_jobs=7)]: Done 217 out of 726 | elapsed:    0.1s remaining:    0.2s\n",
      "[Parallel(n_jobs=7)]: Done 1149 out of 2869 | elapsed:    0.4s remaining:    0.6s\n",
      "[Parallel(n_jobs=7)]: Done 249747 out of 499500 | elapsed:  2.0min remaining:  2.0min\n",
      "[Parallel(n_jobs=7)]: Done 299698 out of 499500 | elapsed:  2.4min remaining:  1.6min\n",
      "[Parallel(n_jobs=7)]: Done 349649 out of 499500 | elapsed:  2.6min remaining:  1.1min\n",
      "[Parallel(n_jobs=7)]: Done 399600 out of 499500 | elapsed:  2.9min remaining:   43.3s\n",
      "[Parallel(n_jobs=7)]: Done 449551 out of 499500 | elapsed:  3.1min remaining:   20.8s\n",
      "[Parallel(n_jobs=7)]: Done 499500 out of 499500 | elapsed:  3.3min finished\n"
     ]
    },
    {
     "name": "stdout",
     "output_type": "stream",
     "text": [
      "scores computed\n",
      "(499500, 5)\n"
     ]
    },
    {
     "data": {
      "text/html": [
       "<div>\n",
       "<style>\n",
       "    .dataframe thead tr:only-child th {\n",
       "        text-align: right;\n",
       "    }\n",
       "\n",
       "    .dataframe thead th {\n",
       "        text-align: left;\n",
       "    }\n",
       "\n",
       "    .dataframe tbody tr th {\n",
       "        vertical-align: top;\n",
       "    }\n",
       "</style>\n",
       "<table border=\"1\" class=\"dataframe\">\n",
       "  <thead>\n",
       "    <tr style=\"text-align: right;\">\n",
       "      <th></th>\n",
       "      <th>ES50</th>\n",
       "      <th>corr</th>\n",
       "      <th>cosine</th>\n",
       "      <th>sig_i</th>\n",
       "      <th>sig_j</th>\n",
       "    </tr>\n",
       "  </thead>\n",
       "  <tbody>\n",
       "    <tr>\n",
       "      <th>0</th>\n",
       "      <td>0.077371</td>\n",
       "      <td>0.055764</td>\n",
       "      <td>0.049388</td>\n",
       "      <td>CPC014_VCAP_6H:BRD-K66956375:10.0</td>\n",
       "      <td>CPC006_PL21_6H:BRD-K39503511:80.0</td>\n",
       "    </tr>\n",
       "    <tr>\n",
       "      <th>1</th>\n",
       "      <td>-0.070593</td>\n",
       "      <td>0.007208</td>\n",
       "      <td>0.006479</td>\n",
       "      <td>CPC014_VCAP_6H:BRD-K66956375:10.0</td>\n",
       "      <td>CPC006_MCF7_6H:BRD-A04352665:10.0</td>\n",
       "    </tr>\n",
       "    <tr>\n",
       "      <th>2</th>\n",
       "      <td>0.004472</td>\n",
       "      <td>0.038193</td>\n",
       "      <td>0.038220</td>\n",
       "      <td>CPC014_VCAP_6H:BRD-K66956375:10.0</td>\n",
       "      <td>CPC006_TYKNU_6H:BRD-K67844266:11.1</td>\n",
       "    </tr>\n",
       "    <tr>\n",
       "      <th>3</th>\n",
       "      <td>0.058782</td>\n",
       "      <td>0.101914</td>\n",
       "      <td>0.093393</td>\n",
       "      <td>CPC014_VCAP_6H:BRD-K66956375:10.0</td>\n",
       "      <td>CPC002_VCAP_6H:BRD-K15164005:10.0</td>\n",
       "    </tr>\n",
       "    <tr>\n",
       "      <th>4</th>\n",
       "      <td>0.030744</td>\n",
       "      <td>0.015664</td>\n",
       "      <td>0.021512</td>\n",
       "      <td>CPC014_VCAP_6H:BRD-K66956375:10.0</td>\n",
       "      <td>CPC006_CL34_6H:BRD-K04623885:80.0</td>\n",
       "    </tr>\n",
       "  </tbody>\n",
       "</table>\n",
       "</div>"
      ],
      "text/plain": [
       "       ES50      corr    cosine                              sig_i  \\\n",
       "0  0.077371  0.055764  0.049388  CPC014_VCAP_6H:BRD-K66956375:10.0   \n",
       "1 -0.070593  0.007208  0.006479  CPC014_VCAP_6H:BRD-K66956375:10.0   \n",
       "2  0.004472  0.038193  0.038220  CPC014_VCAP_6H:BRD-K66956375:10.0   \n",
       "3  0.058782  0.101914  0.093393  CPC014_VCAP_6H:BRD-K66956375:10.0   \n",
       "4  0.030744  0.015664  0.021512  CPC014_VCAP_6H:BRD-K66956375:10.0   \n",
       "\n",
       "                                sig_j  \n",
       "0   CPC006_PL21_6H:BRD-K39503511:80.0  \n",
       "1   CPC006_MCF7_6H:BRD-A04352665:10.0  \n",
       "2  CPC006_TYKNU_6H:BRD-K67844266:11.1  \n",
       "3   CPC002_VCAP_6H:BRD-K15164005:10.0  \n",
       "4   CPC006_CL34_6H:BRD-K04623885:80.0  "
      ]
     },
     "execution_count": 31,
     "metadata": {},
     "output_type": "execute_result"
    }
   ],
   "source": [
    "res_scores1 = compute_pscores(meta_df_sample, coll, 'chdirLm')\n",
    "print res_scores1.shape\n",
    "res_scores1.head()"
   ]
  },
  {
   "cell_type": "code",
   "execution_count": null,
   "metadata": {},
   "outputs": [
    {
     "name": "stdout",
     "output_type": "stream",
     "text": [
      "sig_mat retrieved\n"
     ]
    },
    {
     "name": "stderr",
     "output_type": "stream",
     "text": [
      "[Parallel(n_jobs=7)]: Done   1 out of  49 | elapsed:    0.0s remaining:    0.2s\n",
      "[Parallel(n_jobs=7)]: Done   7 out of  68 | elapsed:    0.0s remaining:    0.1s\n",
      "[Parallel(n_jobs=7)]: Done  11 out of  73 | elapsed:    0.0s remaining:    0.1s\n",
      "[Parallel(n_jobs=7)]: Done  25 out of 100 | elapsed:    0.0s remaining:    0.0s\n",
      "[Parallel(n_jobs=7)]: Done  31 out of 120 | elapsed:    0.0s remaining:    0.0s\n",
      "[Parallel(n_jobs=7)]: Done  86 out of 301 | elapsed:    0.0s remaining:    0.1s\n",
      "[Parallel(n_jobs=7)]: Done  87 out of 302 | elapsed:    0.0s remaining:    0.1s\n",
      "[Parallel(n_jobs=7)]: Done  92 out of 321 | elapsed:    0.0s remaining:    0.1s\n",
      "[Parallel(n_jobs=7)]: Done  93 out of 322 | elapsed:    0.0s remaining:    0.1s\n",
      "[Parallel(n_jobs=7)]: Done 101 out of 337 | elapsed:    0.0s remaining:    0.1s\n"
     ]
    }
   ],
   "source": [
    "res_scores1 = compute_pscores(meta_df_sample, coll, 'chdirLm')\n",
    "print res_scores1.shape\n",
    "res_scores1.head()"
   ]
  },
  {
   "cell_type": "code",
   "execution_count": null,
   "metadata": {
    "collapsed": true
   },
   "outputs": [],
   "source": [
    "res_scores2 = compute_pscores(meta_df_fwd_sample, coll, 'chdirLm')\n",
    "print res_scores2.shape"
   ]
  },
  {
   "cell_type": "code",
   "execution_count": 131,
   "metadata": {},
   "outputs": [
    {
     "name": "stdout",
     "output_type": "stream",
     "text": [
      "(10000, 978)\n"
     ]
    }
   ],
   "source": [
    "sig_ids = meta_df_sample.index.tolist()\n",
    "sig_mat = retrieve_sig_mat(sig_ids, coll, 'chdirLm')\n",
    "print sig_mat.shape"
   ]
  },
  {
   "cell_type": "code",
   "execution_count": 139,
   "metadata": {},
   "outputs": [],
   "source": [
    "from sklearn.metrics import pairwise_distances, pairwise"
   ]
  },
  {
   "cell_type": "code",
   "execution_count": 134,
   "metadata": {},
   "outputs": [
    {
     "name": "stdout",
     "output_type": "stream",
     "text": [
      "(10000, 10000)\n"
     ]
    }
   ],
   "source": [
    "D = pairwise_distances(sig_mat, metric='cosine', n_jobs=1)\n",
    "print D.shape"
   ]
  },
  {
   "cell_type": "code",
   "execution_count": 135,
   "metadata": {},
   "outputs": [
    {
     "name": "stdout",
     "output_type": "stream",
     "text": [
      "(10000, 10000)\n"
     ]
    }
   ],
   "source": [
    "D = pairwise_distances(sig_mat, metric='correlation', n_jobs=1)\n",
    "print D.shape"
   ]
  },
  {
   "cell_type": "code",
   "execution_count": 136,
   "metadata": {},
   "outputs": [
    {
     "name": "stdout",
     "output_type": "stream",
     "text": [
      "1 loop, best of 3: 1.93 s per loop\n"
     ]
    }
   ],
   "source": [
    "%%timeit\n",
    "D = pairwise_distances(sig_mat, metric='cosine')"
   ]
  },
  {
   "cell_type": "code",
   "execution_count": 158,
   "metadata": {},
   "outputs": [],
   "source": [
    "D = pairwise.cosine_similarity(sig_mat)"
   ]
  },
  {
   "cell_type": "code",
   "execution_count": 150,
   "metadata": {},
   "outputs": [
    {
     "name": "stdout",
     "output_type": "stream",
     "text": [
      "10 loops, best of 3: 88.4 ms per loop\n"
     ]
    }
   ],
   "source": [
    "%%timeit\n",
    "pscore(sig_mat[:100], cosine_sim)"
   ]
  },
  {
   "cell_type": "code",
   "execution_count": 151,
   "metadata": {},
   "outputs": [
    {
     "name": "stdout",
     "output_type": "stream",
     "text": [
      "1 loop, best of 3: 361 ms per loop\n"
     ]
    }
   ],
   "source": [
    "%%timeit\n",
    "pscore(sig_mat[:200], cosine_sim)"
   ]
  },
  {
   "cell_type": "code",
   "execution_count": 154,
   "metadata": {},
   "outputs": [
    {
     "name": "stdout",
     "output_type": "stream",
     "text": [
      "1 loop, best of 3: 1.43 s per loop\n"
     ]
    }
   ],
   "source": [
    "%%timeit\n",
    "pscore(sig_mat[:400], cosine_sim)"
   ]
  },
  {
   "cell_type": "code",
   "execution_count": 156,
   "metadata": {},
   "outputs": [
    {
     "data": {
      "text/plain": [
       "14.0"
      ]
     },
     "execution_count": 156,
     "metadata": {},
     "output_type": "execute_result"
    }
   ],
   "source": [
    "100 ** 2 * 84 / 1000 /60. # min"
   ]
  },
  {
   "cell_type": "code",
   "execution_count": 159,
   "metadata": {},
   "outputs": [
    {
     "name": "stdout",
     "output_type": "stream",
     "text": [
      "1 loop, best of 3: 1.73 s per loop\n"
     ]
    }
   ],
   "source": [
    "%%timeit\n",
    "pscore(sig_mat[:100], lambda x, y: gsea_score(x, y, 50))"
   ]
  },
  {
   "cell_type": "code",
   "execution_count": 162,
   "metadata": {},
   "outputs": [
    {
     "data": {
      "text/plain": [
       "11.533333333333333"
      ]
     },
     "execution_count": 162,
     "metadata": {},
     "output_type": "execute_result"
    }
   ],
   "source": [
    "20 ** 2 * 1730 / 1000 /60. # min"
   ]
  }
 ],
 "metadata": {
  "kernelspec": {
   "display_name": "Python 2",
   "language": "python",
   "name": "python2"
  },
  "language_info": {
   "codemirror_mode": {
    "name": "ipython",
    "version": 2
   },
   "file_extension": ".py",
   "mimetype": "text/x-python",
   "name": "python",
   "nbconvert_exporter": "python",
   "pygments_lexer": "ipython2",
   "version": "2.7.11"
  }
 },
 "nbformat": 4,
 "nbformat_minor": 2
}
